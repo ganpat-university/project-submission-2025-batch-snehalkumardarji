{
  "cells": [
    {
      "cell_type": "code",
      "execution_count": null,
      "metadata": {
        "colab": {
          "base_uri": "https://localhost:8080/"
        },
        "id": "iUfLec09kTHQ",
        "outputId": "267fef7f-901c-4172-df27-bc59f3db45bb"
      },
      "outputs": [
        {
          "output_type": "stream",
          "name": "stdout",
          "text": [
            "Collecting roboflow\n",
            "  Downloading roboflow-1.1.61-py3-none-any.whl.metadata (9.7 kB)\n",
            "Requirement already satisfied: certifi in /usr/local/lib/python3.11/dist-packages (from roboflow) (2025.1.31)\n",
            "Collecting idna==3.7 (from roboflow)\n",
            "  Downloading idna-3.7-py3-none-any.whl.metadata (9.9 kB)\n",
            "Requirement already satisfied: cycler in /usr/local/lib/python3.11/dist-packages (from roboflow) (0.12.1)\n",
            "Requirement already satisfied: kiwisolver>=1.3.1 in /usr/local/lib/python3.11/dist-packages (from roboflow) (1.4.8)\n",
            "Requirement already satisfied: matplotlib in /usr/local/lib/python3.11/dist-packages (from roboflow) (3.10.0)\n",
            "Requirement already satisfied: numpy>=1.18.5 in /usr/local/lib/python3.11/dist-packages (from roboflow) (2.0.2)\n",
            "Collecting opencv-python-headless==4.10.0.84 (from roboflow)\n",
            "  Downloading opencv_python_headless-4.10.0.84-cp37-abi3-manylinux_2_17_x86_64.manylinux2014_x86_64.whl.metadata (20 kB)\n",
            "Requirement already satisfied: Pillow>=7.1.2 in /usr/local/lib/python3.11/dist-packages (from roboflow) (11.1.0)\n",
            "Collecting pillow-heif>=0.18.0 (from roboflow)\n",
            "  Downloading pillow_heif-0.22.0-cp311-cp311-manylinux_2_17_x86_64.manylinux2014_x86_64.whl.metadata (9.6 kB)\n",
            "Requirement already satisfied: python-dateutil in /usr/local/lib/python3.11/dist-packages (from roboflow) (2.8.2)\n",
            "Collecting python-dotenv (from roboflow)\n",
            "  Downloading python_dotenv-1.1.0-py3-none-any.whl.metadata (24 kB)\n",
            "Requirement already satisfied: requests in /usr/local/lib/python3.11/dist-packages (from roboflow) (2.32.3)\n",
            "Requirement already satisfied: six in /usr/local/lib/python3.11/dist-packages (from roboflow) (1.17.0)\n",
            "Requirement already satisfied: urllib3>=1.26.6 in /usr/local/lib/python3.11/dist-packages (from roboflow) (2.3.0)\n",
            "Requirement already satisfied: tqdm>=4.41.0 in /usr/local/lib/python3.11/dist-packages (from roboflow) (4.67.1)\n",
            "Requirement already satisfied: PyYAML>=5.3.1 in /usr/local/lib/python3.11/dist-packages (from roboflow) (6.0.2)\n",
            "Requirement already satisfied: requests-toolbelt in /usr/local/lib/python3.11/dist-packages (from roboflow) (1.0.0)\n",
            "Collecting filetype (from roboflow)\n",
            "  Downloading filetype-1.2.0-py2.py3-none-any.whl.metadata (6.5 kB)\n",
            "Requirement already satisfied: contourpy>=1.0.1 in /usr/local/lib/python3.11/dist-packages (from matplotlib->roboflow) (1.3.2)\n",
            "Requirement already satisfied: fonttools>=4.22.0 in /usr/local/lib/python3.11/dist-packages (from matplotlib->roboflow) (4.57.0)\n",
            "Requirement already satisfied: packaging>=20.0 in /usr/local/lib/python3.11/dist-packages (from matplotlib->roboflow) (24.2)\n",
            "Requirement already satisfied: pyparsing>=2.3.1 in /usr/local/lib/python3.11/dist-packages (from matplotlib->roboflow) (3.2.3)\n",
            "Requirement already satisfied: charset-normalizer<4,>=2 in /usr/local/lib/python3.11/dist-packages (from requests->roboflow) (3.4.1)\n",
            "Downloading roboflow-1.1.61-py3-none-any.whl (85 kB)\n",
            "\u001b[2K   \u001b[90m━━━━━━━━━━━━━━━━━━━━━━━━━━━━━━━━━━━━━━━━\u001b[0m \u001b[32m85.2/85.2 kB\u001b[0m \u001b[31m5.8 MB/s\u001b[0m eta \u001b[36m0:00:00\u001b[0m\n",
            "\u001b[?25hDownloading idna-3.7-py3-none-any.whl (66 kB)\n",
            "\u001b[2K   \u001b[90m━━━━━━━━━━━━━━━━━━━━━━━━━━━━━━━━━━━━━━━━\u001b[0m \u001b[32m66.8/66.8 kB\u001b[0m \u001b[31m6.8 MB/s\u001b[0m eta \u001b[36m0:00:00\u001b[0m\n",
            "\u001b[?25hDownloading opencv_python_headless-4.10.0.84-cp37-abi3-manylinux_2_17_x86_64.manylinux2014_x86_64.whl (49.9 MB)\n",
            "\u001b[2K   \u001b[90m━━━━━━━━━━━━━━━━━━━━━━━━━━━━━━━━━━━━━━━━\u001b[0m \u001b[32m49.9/49.9 MB\u001b[0m \u001b[31m28.9 MB/s\u001b[0m eta \u001b[36m0:00:00\u001b[0m\n",
            "\u001b[?25hDownloading pillow_heif-0.22.0-cp311-cp311-manylinux_2_17_x86_64.manylinux2014_x86_64.whl (7.8 MB)\n",
            "\u001b[2K   \u001b[90m━━━━━━━━━━━━━━━━━━━━━━━━━━━━━━━━━━━━━━━━\u001b[0m \u001b[32m7.8/7.8 MB\u001b[0m \u001b[31m119.0 MB/s\u001b[0m eta \u001b[36m0:00:00\u001b[0m\n",
            "\u001b[?25hDownloading filetype-1.2.0-py2.py3-none-any.whl (19 kB)\n",
            "Downloading python_dotenv-1.1.0-py3-none-any.whl (20 kB)\n",
            "Installing collected packages: filetype, python-dotenv, pillow-heif, opencv-python-headless, idna, roboflow\n",
            "  Attempting uninstall: opencv-python-headless\n",
            "    Found existing installation: opencv-python-headless 4.11.0.86\n",
            "    Uninstalling opencv-python-headless-4.11.0.86:\n",
            "      Successfully uninstalled opencv-python-headless-4.11.0.86\n",
            "  Attempting uninstall: idna\n",
            "    Found existing installation: idna 3.10\n",
            "    Uninstalling idna-3.10:\n",
            "      Successfully uninstalled idna-3.10\n",
            "Successfully installed filetype-1.2.0 idna-3.7 opencv-python-headless-4.10.0.84 pillow-heif-0.22.0 python-dotenv-1.1.0 roboflow-1.1.61\n",
            "loading Roboflow workspace...\n",
            "loading Roboflow project...\n"
          ]
        },
        {
          "output_type": "stream",
          "name": "stderr",
          "text": [
            "Downloading Dataset Version Zip in Vadasan_segmentation-2 to yolov11:: 100%|██████████| 5976/5976 [00:00<00:00, 16234.74it/s]"
          ]
        },
        {
          "output_type": "stream",
          "name": "stdout",
          "text": [
            "\n"
          ]
        },
        {
          "output_type": "stream",
          "name": "stderr",
          "text": [
            "\n",
            "Extracting Dataset Version Zip to Vadasan_segmentation-2 in yolov11:: 100%|██████████| 182/182 [00:00<00:00, 5469.04it/s]\n"
          ]
        }
      ],
      "source": [
        "!pip install roboflow\n",
        "\n",
        "from roboflow import Roboflow\n",
        "rf = Roboflow(api_key=\"b3gw44KmJJwaCghIa2oc\")\n",
        "project = rf.workspace(\"newdatatreedetection\").project(\"vadasan_segmentation\")\n",
        "version = project.version(2)\n",
        "dataset = version.download(\"yolov8\")"
      ]
    },
    {
      "cell_type": "code",
      "execution_count": null,
      "metadata": {
        "colab": {
          "base_uri": "https://localhost:8080/"
        },
        "id": "8cnDSrKnkxvT",
        "outputId": "d560b1e6-7612-43e6-f38a-bc7cfe15a1e7"
      },
      "outputs": [
        {
          "output_type": "stream",
          "name": "stdout",
          "text": [
            "Collecting ultralytics\n",
            "  Downloading ultralytics-8.3.112-py3-none-any.whl.metadata (37 kB)\n",
            "Requirement already satisfied: roboflow in /usr/local/lib/python3.11/dist-packages (1.1.61)\n",
            "Requirement already satisfied: torch in /usr/local/lib/python3.11/dist-packages (2.6.0+cu124)\n",
            "Requirement already satisfied: torchvision in /usr/local/lib/python3.11/dist-packages (0.21.0+cu124)\n",
            "Requirement already satisfied: numpy<=2.1.1,>=1.23.0 in /usr/local/lib/python3.11/dist-packages (from ultralytics) (2.0.2)\n",
            "Requirement already satisfied: matplotlib>=3.3.0 in /usr/local/lib/python3.11/dist-packages (from ultralytics) (3.10.0)\n",
            "Requirement already satisfied: opencv-python>=4.6.0 in /usr/local/lib/python3.11/dist-packages (from ultralytics) (4.11.0.86)\n",
            "Requirement already satisfied: pillow>=7.1.2 in /usr/local/lib/python3.11/dist-packages (from ultralytics) (11.1.0)\n",
            "Requirement already satisfied: pyyaml>=5.3.1 in /usr/local/lib/python3.11/dist-packages (from ultralytics) (6.0.2)\n",
            "Requirement already satisfied: requests>=2.23.0 in /usr/local/lib/python3.11/dist-packages (from ultralytics) (2.32.3)\n",
            "Requirement already satisfied: scipy>=1.4.1 in /usr/local/lib/python3.11/dist-packages (from ultralytics) (1.14.1)\n",
            "Requirement already satisfied: tqdm>=4.64.0 in /usr/local/lib/python3.11/dist-packages (from ultralytics) (4.67.1)\n",
            "Requirement already satisfied: psutil in /usr/local/lib/python3.11/dist-packages (from ultralytics) (5.9.5)\n",
            "Requirement already satisfied: py-cpuinfo in /usr/local/lib/python3.11/dist-packages (from ultralytics) (9.0.0)\n",
            "Requirement already satisfied: pandas>=1.1.4 in /usr/local/lib/python3.11/dist-packages (from ultralytics) (2.2.2)\n",
            "Requirement already satisfied: seaborn>=0.11.0 in /usr/local/lib/python3.11/dist-packages (from ultralytics) (0.13.2)\n",
            "Collecting ultralytics-thop>=2.0.0 (from ultralytics)\n",
            "  Downloading ultralytics_thop-2.0.14-py3-none-any.whl.metadata (9.4 kB)\n",
            "Requirement already satisfied: certifi in /usr/local/lib/python3.11/dist-packages (from roboflow) (2025.1.31)\n",
            "Requirement already satisfied: idna==3.7 in /usr/local/lib/python3.11/dist-packages (from roboflow) (3.7)\n",
            "Requirement already satisfied: cycler in /usr/local/lib/python3.11/dist-packages (from roboflow) (0.12.1)\n",
            "Requirement already satisfied: kiwisolver>=1.3.1 in /usr/local/lib/python3.11/dist-packages (from roboflow) (1.4.8)\n",
            "Requirement already satisfied: opencv-python-headless==4.10.0.84 in /usr/local/lib/python3.11/dist-packages (from roboflow) (4.10.0.84)\n",
            "Requirement already satisfied: pillow-heif>=0.18.0 in /usr/local/lib/python3.11/dist-packages (from roboflow) (0.22.0)\n",
            "Requirement already satisfied: python-dateutil in /usr/local/lib/python3.11/dist-packages (from roboflow) (2.8.2)\n",
            "Requirement already satisfied: python-dotenv in /usr/local/lib/python3.11/dist-packages (from roboflow) (1.1.0)\n",
            "Requirement already satisfied: six in /usr/local/lib/python3.11/dist-packages (from roboflow) (1.17.0)\n",
            "Requirement already satisfied: urllib3>=1.26.6 in /usr/local/lib/python3.11/dist-packages (from roboflow) (2.3.0)\n",
            "Requirement already satisfied: requests-toolbelt in /usr/local/lib/python3.11/dist-packages (from roboflow) (1.0.0)\n",
            "Requirement already satisfied: filetype in /usr/local/lib/python3.11/dist-packages (from roboflow) (1.2.0)\n",
            "Requirement already satisfied: filelock in /usr/local/lib/python3.11/dist-packages (from torch) (3.18.0)\n",
            "Requirement already satisfied: typing-extensions>=4.10.0 in /usr/local/lib/python3.11/dist-packages (from torch) (4.13.2)\n",
            "Requirement already satisfied: networkx in /usr/local/lib/python3.11/dist-packages (from torch) (3.4.2)\n",
            "Requirement already satisfied: jinja2 in /usr/local/lib/python3.11/dist-packages (from torch) (3.1.6)\n",
            "Requirement already satisfied: fsspec in /usr/local/lib/python3.11/dist-packages (from torch) (2025.3.2)\n",
            "Collecting nvidia-cuda-nvrtc-cu12==12.4.127 (from torch)\n",
            "  Downloading nvidia_cuda_nvrtc_cu12-12.4.127-py3-none-manylinux2014_x86_64.whl.metadata (1.5 kB)\n",
            "Collecting nvidia-cuda-runtime-cu12==12.4.127 (from torch)\n",
            "  Downloading nvidia_cuda_runtime_cu12-12.4.127-py3-none-manylinux2014_x86_64.whl.metadata (1.5 kB)\n",
            "Collecting nvidia-cuda-cupti-cu12==12.4.127 (from torch)\n",
            "  Downloading nvidia_cuda_cupti_cu12-12.4.127-py3-none-manylinux2014_x86_64.whl.metadata (1.6 kB)\n",
            "Collecting nvidia-cudnn-cu12==9.1.0.70 (from torch)\n",
            "  Downloading nvidia_cudnn_cu12-9.1.0.70-py3-none-manylinux2014_x86_64.whl.metadata (1.6 kB)\n",
            "Collecting nvidia-cublas-cu12==12.4.5.8 (from torch)\n",
            "  Downloading nvidia_cublas_cu12-12.4.5.8-py3-none-manylinux2014_x86_64.whl.metadata (1.5 kB)\n",
            "Collecting nvidia-cufft-cu12==11.2.1.3 (from torch)\n",
            "  Downloading nvidia_cufft_cu12-11.2.1.3-py3-none-manylinux2014_x86_64.whl.metadata (1.5 kB)\n",
            "Collecting nvidia-curand-cu12==10.3.5.147 (from torch)\n",
            "  Downloading nvidia_curand_cu12-10.3.5.147-py3-none-manylinux2014_x86_64.whl.metadata (1.5 kB)\n",
            "Collecting nvidia-cusolver-cu12==11.6.1.9 (from torch)\n",
            "  Downloading nvidia_cusolver_cu12-11.6.1.9-py3-none-manylinux2014_x86_64.whl.metadata (1.6 kB)\n",
            "Collecting nvidia-cusparse-cu12==12.3.1.170 (from torch)\n",
            "  Downloading nvidia_cusparse_cu12-12.3.1.170-py3-none-manylinux2014_x86_64.whl.metadata (1.6 kB)\n",
            "Requirement already satisfied: nvidia-cusparselt-cu12==0.6.2 in /usr/local/lib/python3.11/dist-packages (from torch) (0.6.2)\n",
            "Requirement already satisfied: nvidia-nccl-cu12==2.21.5 in /usr/local/lib/python3.11/dist-packages (from torch) (2.21.5)\n",
            "Requirement already satisfied: nvidia-nvtx-cu12==12.4.127 in /usr/local/lib/python3.11/dist-packages (from torch) (12.4.127)\n",
            "Collecting nvidia-nvjitlink-cu12==12.4.127 (from torch)\n",
            "  Downloading nvidia_nvjitlink_cu12-12.4.127-py3-none-manylinux2014_x86_64.whl.metadata (1.5 kB)\n",
            "Requirement already satisfied: triton==3.2.0 in /usr/local/lib/python3.11/dist-packages (from torch) (3.2.0)\n",
            "Requirement already satisfied: sympy==1.13.1 in /usr/local/lib/python3.11/dist-packages (from torch) (1.13.1)\n",
            "Requirement already satisfied: mpmath<1.4,>=1.1.0 in /usr/local/lib/python3.11/dist-packages (from sympy==1.13.1->torch) (1.3.0)\n",
            "Requirement already satisfied: contourpy>=1.0.1 in /usr/local/lib/python3.11/dist-packages (from matplotlib>=3.3.0->ultralytics) (1.3.2)\n",
            "Requirement already satisfied: fonttools>=4.22.0 in /usr/local/lib/python3.11/dist-packages (from matplotlib>=3.3.0->ultralytics) (4.57.0)\n",
            "Requirement already satisfied: packaging>=20.0 in /usr/local/lib/python3.11/dist-packages (from matplotlib>=3.3.0->ultralytics) (24.2)\n",
            "Requirement already satisfied: pyparsing>=2.3.1 in /usr/local/lib/python3.11/dist-packages (from matplotlib>=3.3.0->ultralytics) (3.2.3)\n",
            "Requirement already satisfied: pytz>=2020.1 in /usr/local/lib/python3.11/dist-packages (from pandas>=1.1.4->ultralytics) (2025.2)\n",
            "Requirement already satisfied: tzdata>=2022.7 in /usr/local/lib/python3.11/dist-packages (from pandas>=1.1.4->ultralytics) (2025.2)\n",
            "Requirement already satisfied: charset-normalizer<4,>=2 in /usr/local/lib/python3.11/dist-packages (from requests>=2.23.0->ultralytics) (3.4.1)\n",
            "Requirement already satisfied: MarkupSafe>=2.0 in /usr/local/lib/python3.11/dist-packages (from jinja2->torch) (3.0.2)\n",
            "Downloading ultralytics-8.3.112-py3-none-any.whl (981 kB)\n",
            "\u001b[2K   \u001b[90m━━━━━━━━━━━━━━━━━━━━━━━━━━━━━━━━━━━━━━━━\u001b[0m \u001b[32m981.3/981.3 kB\u001b[0m \u001b[31m23.6 MB/s\u001b[0m eta \u001b[36m0:00:00\u001b[0m\n",
            "\u001b[?25hDownloading nvidia_cublas_cu12-12.4.5.8-py3-none-manylinux2014_x86_64.whl (363.4 MB)\n",
            "\u001b[2K   \u001b[90m━━━━━━━━━━━━━━━━━━━━━━━━━━━━━━━━━━━━━━━━\u001b[0m \u001b[32m363.4/363.4 MB\u001b[0m \u001b[31m2.6 MB/s\u001b[0m eta \u001b[36m0:00:00\u001b[0m\n",
            "\u001b[?25hDownloading nvidia_cuda_cupti_cu12-12.4.127-py3-none-manylinux2014_x86_64.whl (13.8 MB)\n",
            "\u001b[2K   \u001b[90m━━━━━━━━━━━━━━━━━━━━━━━━━━━━━━━━━━━━━━━━\u001b[0m \u001b[32m13.8/13.8 MB\u001b[0m \u001b[31m38.0 MB/s\u001b[0m eta \u001b[36m0:00:00\u001b[0m\n",
            "\u001b[?25hDownloading nvidia_cuda_nvrtc_cu12-12.4.127-py3-none-manylinux2014_x86_64.whl (24.6 MB)\n",
            "\u001b[2K   \u001b[90m━━━━━━━━━━━━━━━━━━━━━━━━━━━━━━━━━━━━━━━━\u001b[0m \u001b[32m24.6/24.6 MB\u001b[0m \u001b[31m37.3 MB/s\u001b[0m eta \u001b[36m0:00:00\u001b[0m\n",
            "\u001b[?25hDownloading nvidia_cuda_runtime_cu12-12.4.127-py3-none-manylinux2014_x86_64.whl (883 kB)\n",
            "\u001b[2K   \u001b[90m━━━━━━━━━━━━━━━━━━━━━━━━━━━━━━━━━━━━━━━━\u001b[0m \u001b[32m883.7/883.7 kB\u001b[0m \u001b[31m17.0 MB/s\u001b[0m eta \u001b[36m0:00:00\u001b[0m\n",
            "\u001b[?25hDownloading nvidia_cudnn_cu12-9.1.0.70-py3-none-manylinux2014_x86_64.whl (664.8 MB)\n",
            "\u001b[2K   \u001b[90m━━━━━━━━━━━━━━━━━━━━━━━━━━━━━━━━━━━━━━━━\u001b[0m \u001b[32m664.8/664.8 MB\u001b[0m \u001b[31m1.4 MB/s\u001b[0m eta \u001b[36m0:00:00\u001b[0m\n",
            "\u001b[?25hDownloading nvidia_cufft_cu12-11.2.1.3-py3-none-manylinux2014_x86_64.whl (211.5 MB)\n",
            "\u001b[2K   \u001b[90m━━━━━━━━━━━━━━━━━━━━━━━━━━━━━━━━━━━━━━━━\u001b[0m \u001b[32m211.5/211.5 MB\u001b[0m \u001b[31m5.5 MB/s\u001b[0m eta \u001b[36m0:00:00\u001b[0m\n",
            "\u001b[?25hDownloading nvidia_curand_cu12-10.3.5.147-py3-none-manylinux2014_x86_64.whl (56.3 MB)\n",
            "\u001b[2K   \u001b[90m━━━━━━━━━━━━━━━━━━━━━━━━━━━━━━━━━━━━━━━━\u001b[0m \u001b[32m56.3/56.3 MB\u001b[0m \u001b[31m13.2 MB/s\u001b[0m eta \u001b[36m0:00:00\u001b[0m\n",
            "\u001b[?25hDownloading nvidia_cusolver_cu12-11.6.1.9-py3-none-manylinux2014_x86_64.whl (127.9 MB)\n",
            "\u001b[2K   \u001b[90m━━━━━━━━━━━━━━━━━━━━━━━━━━━━━━━━━━━━━━━━\u001b[0m \u001b[32m127.9/127.9 MB\u001b[0m \u001b[31m7.3 MB/s\u001b[0m eta \u001b[36m0:00:00\u001b[0m\n",
            "\u001b[?25hDownloading nvidia_cusparse_cu12-12.3.1.170-py3-none-manylinux2014_x86_64.whl (207.5 MB)\n",
            "\u001b[2K   \u001b[90m━━━━━━━━━━━━━━━━━━━━━━━━━━━━━━━━━━━━━━━━\u001b[0m \u001b[32m207.5/207.5 MB\u001b[0m \u001b[31m6.4 MB/s\u001b[0m eta \u001b[36m0:00:00\u001b[0m\n",
            "\u001b[?25hDownloading nvidia_nvjitlink_cu12-12.4.127-py3-none-manylinux2014_x86_64.whl (21.1 MB)\n",
            "\u001b[2K   \u001b[90m━━━━━━━━━━━━━━━━━━━━━━━━━━━━━━━━━━━━━━━━\u001b[0m \u001b[32m21.1/21.1 MB\u001b[0m \u001b[31m106.9 MB/s\u001b[0m eta \u001b[36m0:00:00\u001b[0m\n",
            "\u001b[?25hDownloading ultralytics_thop-2.0.14-py3-none-any.whl (26 kB)\n",
            "Installing collected packages: nvidia-nvjitlink-cu12, nvidia-curand-cu12, nvidia-cufft-cu12, nvidia-cuda-runtime-cu12, nvidia-cuda-nvrtc-cu12, nvidia-cuda-cupti-cu12, nvidia-cublas-cu12, nvidia-cusparse-cu12, nvidia-cudnn-cu12, nvidia-cusolver-cu12, ultralytics-thop, ultralytics\n",
            "  Attempting uninstall: nvidia-nvjitlink-cu12\n",
            "    Found existing installation: nvidia-nvjitlink-cu12 12.5.82\n",
            "    Uninstalling nvidia-nvjitlink-cu12-12.5.82:\n",
            "      Successfully uninstalled nvidia-nvjitlink-cu12-12.5.82\n",
            "  Attempting uninstall: nvidia-curand-cu12\n",
            "    Found existing installation: nvidia-curand-cu12 10.3.6.82\n",
            "    Uninstalling nvidia-curand-cu12-10.3.6.82:\n",
            "      Successfully uninstalled nvidia-curand-cu12-10.3.6.82\n",
            "  Attempting uninstall: nvidia-cufft-cu12\n",
            "    Found existing installation: nvidia-cufft-cu12 11.2.3.61\n",
            "    Uninstalling nvidia-cufft-cu12-11.2.3.61:\n",
            "      Successfully uninstalled nvidia-cufft-cu12-11.2.3.61\n",
            "  Attempting uninstall: nvidia-cuda-runtime-cu12\n",
            "    Found existing installation: nvidia-cuda-runtime-cu12 12.5.82\n",
            "    Uninstalling nvidia-cuda-runtime-cu12-12.5.82:\n",
            "      Successfully uninstalled nvidia-cuda-runtime-cu12-12.5.82\n",
            "  Attempting uninstall: nvidia-cuda-nvrtc-cu12\n",
            "    Found existing installation: nvidia-cuda-nvrtc-cu12 12.5.82\n",
            "    Uninstalling nvidia-cuda-nvrtc-cu12-12.5.82:\n",
            "      Successfully uninstalled nvidia-cuda-nvrtc-cu12-12.5.82\n",
            "  Attempting uninstall: nvidia-cuda-cupti-cu12\n",
            "    Found existing installation: nvidia-cuda-cupti-cu12 12.5.82\n",
            "    Uninstalling nvidia-cuda-cupti-cu12-12.5.82:\n",
            "      Successfully uninstalled nvidia-cuda-cupti-cu12-12.5.82\n",
            "  Attempting uninstall: nvidia-cublas-cu12\n",
            "    Found existing installation: nvidia-cublas-cu12 12.5.3.2\n",
            "    Uninstalling nvidia-cublas-cu12-12.5.3.2:\n",
            "      Successfully uninstalled nvidia-cublas-cu12-12.5.3.2\n",
            "  Attempting uninstall: nvidia-cusparse-cu12\n",
            "    Found existing installation: nvidia-cusparse-cu12 12.5.1.3\n",
            "    Uninstalling nvidia-cusparse-cu12-12.5.1.3:\n",
            "      Successfully uninstalled nvidia-cusparse-cu12-12.5.1.3\n",
            "  Attempting uninstall: nvidia-cudnn-cu12\n",
            "    Found existing installation: nvidia-cudnn-cu12 9.3.0.75\n",
            "    Uninstalling nvidia-cudnn-cu12-9.3.0.75:\n",
            "      Successfully uninstalled nvidia-cudnn-cu12-9.3.0.75\n",
            "  Attempting uninstall: nvidia-cusolver-cu12\n",
            "    Found existing installation: nvidia-cusolver-cu12 11.6.3.83\n",
            "    Uninstalling nvidia-cusolver-cu12-11.6.3.83:\n",
            "      Successfully uninstalled nvidia-cusolver-cu12-11.6.3.83\n",
            "Successfully installed nvidia-cublas-cu12-12.4.5.8 nvidia-cuda-cupti-cu12-12.4.127 nvidia-cuda-nvrtc-cu12-12.4.127 nvidia-cuda-runtime-cu12-12.4.127 nvidia-cudnn-cu12-9.1.0.70 nvidia-cufft-cu12-11.2.1.3 nvidia-curand-cu12-10.3.5.147 nvidia-cusolver-cu12-11.6.1.9 nvidia-cusparse-cu12-12.3.1.170 nvidia-nvjitlink-cu12-12.4.127 ultralytics-8.3.112 ultralytics-thop-2.0.14\n"
          ]
        }
      ],
      "source": [
        "!pip install ultralytics roboflow torch torchvision\n"
      ]
    },
    {
      "cell_type": "code",
      "execution_count": null,
      "metadata": {
        "colab": {
          "base_uri": "https://localhost:8080/"
        },
        "id": "XgzV4tJblS2G",
        "outputId": "96aa1451-588f-4973-c5c3-11442bc262ed"
      },
      "outputs": [
        {
          "output_type": "stream",
          "name": "stdout",
          "text": [
            "Creating new Ultralytics Settings v0.0.6 file ✅ \n",
            "View Ultralytics Settings with 'yolo settings' or at '/root/.config/Ultralytics/settings.json'\n",
            "Update Settings with 'yolo settings key=value', i.e. 'yolo settings runs_dir=path/to/dir'. For help see https://docs.ultralytics.com/quickstart/#ultralytics-settings.\n"
          ]
        }
      ],
      "source": [
        "import torch\n",
        "from ultralytics import YOLO\n",
        "from roboflow import Roboflow"
      ]
    },
    {
      "cell_type": "code",
      "execution_count": null,
      "metadata": {
        "id": "Sma-oE4nlVkx"
      },
      "outputs": [],
      "source": [
        "# Define dataset path\n",
        "data_yaml = f\"{dataset.location}/data.yaml\"  # Path to data.yaml"
      ]
    },
    {
      "cell_type": "code",
      "execution_count": null,
      "metadata": {
        "colab": {
          "base_uri": "https://localhost:8080/"
        },
        "id": "MbAYP2r4lk9e",
        "outputId": "d618705f-057d-46f4-8c63-494aba21f351"
      },
      "outputs": [
        {
          "output_type": "stream",
          "name": "stdout",
          "text": [
            "Downloading https://github.com/ultralytics/assets/releases/download/v8.3.0/yolo11s-seg.pt to 'yolo11s-seg.pt'...\n"
          ]
        },
        {
          "output_type": "stream",
          "name": "stderr",
          "text": [
            "100%|██████████| 19.7M/19.7M [00:00<00:00, 61.4MB/s]\n"
          ]
        }
      ],
      "source": [
        "# Load YOLOv11-seg model (pretrained)\n",
        "model = YOLO(\"yolo8s-seg.pt\")"
      ]
    },
    {
      "cell_type": "code",
      "execution_count": null,
      "metadata": {
        "colab": {
          "base_uri": "https://localhost:8080/"
        },
        "id": "jO-ub9U82uZd",
        "outputId": "95baf876-ebcd-4b4a-eb12-ebcafda23ffa"
      },
      "outputs": [
        {
          "output_type": "stream",
          "name": "stdout",
          "text": [
            "Using device: cuda\n"
          ]
        }
      ],
      "source": [
        "# Check if GPU is available\n",
        "device = \"cuda\" if torch.cuda.is_available() else \"cpu\"\n",
        "print(f\"Using device: {device}\")"
      ]
    },
    {
      "cell_type": "code",
      "execution_count": null,
      "metadata": {
        "id": "NjOpQwBy3NiZ"
      },
      "outputs": [],
      "source": [
        "dataset_path = \"/content/Vadasan_segmentation-2\"  # Update with your dataset path"
      ]
    },
    {
      "cell_type": "code",
      "execution_count": null,
      "metadata": {
        "colab": {
          "base_uri": "https://localhost:8080/"
        },
        "id": "AeiNoJQmlxZf",
        "outputId": "1617ddfa-509c-493b-c432-45d84d6d7af9"
      },
      "outputs": [
        {
          "output_type": "stream",
          "name": "stdout",
          "text": [
            "Ultralytics 8.3.112 🚀 Python-3.11.12 torch-2.6.0+cu124 CUDA:0 (Tesla T4, 15095MiB)\n",
            "\u001b[34m\u001b[1mengine/trainer: \u001b[0mtask=segment, mode=train, model=yolo11s-seg.pt, data=/content/Vadasan_segmentation-2/data.yaml, epochs=200, time=None, patience=100, batch=16, imgsz=640, save=True, save_period=-1, cache=False, device=cuda, workers=4, project=yolov11_tree_segmentation, name=exp1, exist_ok=False, pretrained=True, optimizer=AdamW, verbose=True, seed=0, deterministic=True, single_cls=False, rect=False, cos_lr=False, close_mosaic=10, resume=False, amp=True, fraction=1.0, profile=False, freeze=None, multi_scale=False, overlap_mask=True, mask_ratio=4, dropout=0.0, val=True, split=val, save_json=False, conf=None, iou=0.7, max_det=300, half=False, dnn=False, plots=True, source=None, vid_stride=1, stream_buffer=False, visualize=False, augment=False, agnostic_nms=False, classes=None, retina_masks=False, embed=None, show=False, save_frames=False, save_txt=False, save_conf=False, save_crop=False, show_labels=True, show_conf=True, show_boxes=True, line_width=None, format=torchscript, keras=False, optimize=False, int8=False, dynamic=False, simplify=True, opset=None, workspace=None, nms=False, lr0=0.0001, lrf=0.01, momentum=0.937, weight_decay=0.0005, warmup_epochs=3.0, warmup_momentum=0.8, warmup_bias_lr=0.1, box=7.5, cls=0.5, dfl=1.5, pose=12.0, kobj=1.0, nbs=64, hsv_h=0.015, hsv_s=0.7, hsv_v=0.4, degrees=0.0, translate=0.1, scale=0.5, shear=0.0, perspective=0.0, flipud=0.0, fliplr=0.5, bgr=0.0, mosaic=1.0, mixup=0.0, copy_paste=0.0, copy_paste_mode=flip, auto_augment=randaugment, erasing=0.4, cfg=None, tracker=botsort.yaml, save_dir=yolov11_tree_segmentation/exp1\n",
            "Downloading https://ultralytics.com/assets/Arial.ttf to '/root/.config/Ultralytics/Arial.ttf'...\n"
          ]
        },
        {
          "output_type": "stream",
          "name": "stderr",
          "text": [
            "100%|██████████| 755k/755k [00:00<00:00, 20.0MB/s]"
          ]
        },
        {
          "output_type": "stream",
          "name": "stdout",
          "text": [
            "Overriding model.yaml nc=80 with nc=1\n",
            "\n",
            "                   from  n    params  module                                       arguments                     \n",
            "  0                  -1  1       928  ultralytics.nn.modules.conv.Conv             [3, 32, 3, 2]                 \n",
            "  1                  -1  1     18560  ultralytics.nn.modules.conv.Conv             [32, 64, 3, 2]                \n",
            "  2                  -1  1     26080  ultralytics.nn.modules.block.C3k2            [64, 128, 1, False, 0.25]     \n",
            "  3                  -1  1    147712  ultralytics.nn.modules.conv.Conv             [128, 128, 3, 2]              \n",
            "  4                  -1  1    103360  ultralytics.nn.modules.block.C3k2            [128, 256, 1, False, 0.25]    \n",
            "  5                  -1  1    590336  ultralytics.nn.modules.conv.Conv             [256, 256, 3, 2]              \n",
            "  6                  -1  1    346112  ultralytics.nn.modules.block.C3k2            [256, 256, 1, True]           \n",
            "  7                  -1  1   1180672  ultralytics.nn.modules.conv.Conv             [256, 512, 3, 2]              \n",
            "  8                  -1  1   1380352  ultralytics.nn.modules.block.C3k2            [512, 512, 1, True]           \n",
            "  9                  -1  1    656896  ultralytics.nn.modules.block.SPPF            [512, 512, 5]                 \n",
            " 10                  -1  1    990976  ultralytics.nn.modules.block.C2PSA           [512, 512, 1]                 \n",
            " 11                  -1  1         0  torch.nn.modules.upsampling.Upsample         [None, 2, 'nearest']          \n",
            " 12             [-1, 6]  1         0  ultralytics.nn.modules.conv.Concat           [1]                           \n",
            " 13                  -1  1    443776  ultralytics.nn.modules.block.C3k2            [768, 256, 1, False]          \n",
            " 14                  -1  1         0  torch.nn.modules.upsampling.Upsample         [None, 2, 'nearest']          \n",
            " 15             [-1, 4]  1         0  ultralytics.nn.modules.conv.Concat           [1]                           \n",
            " 16                  -1  1    127680  ultralytics.nn.modules.block.C3k2            [512, 128, 1, False]          \n",
            " 17                  -1  1    147712  ultralytics.nn.modules.conv.Conv             [128, 128, 3, 2]              \n",
            " 18            [-1, 13]  1         0  ultralytics.nn.modules.conv.Concat           [1]                           \n",
            " 19                  -1  1    345472  ultralytics.nn.modules.block.C3k2            [384, 256, 1, False]          \n",
            " 20                  -1  1    590336  ultralytics.nn.modules.conv.Conv             [256, 256, 3, 2]              \n",
            " 21            [-1, 10]  1         0  ultralytics.nn.modules.conv.Concat           [1]                           \n"
          ]
        },
        {
          "output_type": "stream",
          "name": "stderr",
          "text": [
            "\n"
          ]
        },
        {
          "output_type": "stream",
          "name": "stdout",
          "text": [
            " 22                  -1  1   1511424  ultralytics.nn.modules.block.C3k2            [768, 512, 1, True]           \n",
            " 23        [16, 19, 22]  1   1474291  ultralytics.nn.modules.head.Segment          [1, 32, 128, [128, 256, 512]] \n",
            "YOLO11s-seg summary: 203 layers, 10,082,675 parameters, 10,082,659 gradients, 35.6 GFLOPs\n",
            "\n",
            "Transferred 555/561 items from pretrained weights\n",
            "Freezing layer 'model.23.dfl.conv.weight'\n",
            "\u001b[34m\u001b[1mAMP: \u001b[0mrunning Automatic Mixed Precision (AMP) checks...\n",
            "Downloading https://github.com/ultralytics/assets/releases/download/v8.3.0/yolo11n.pt to 'yolo11n.pt'...\n"
          ]
        },
        {
          "output_type": "stream",
          "name": "stderr",
          "text": [
            "100%|██████████| 5.35M/5.35M [00:00<00:00, 109MB/s]\n"
          ]
        },
        {
          "output_type": "stream",
          "name": "stdout",
          "text": [
            "\u001b[34m\u001b[1mAMP: \u001b[0mchecks passed ✅\n",
            "\u001b[34m\u001b[1mtrain: \u001b[0mFast image access ✅ (ping: 0.0±0.0 ms, read: 34.4±7.5 MB/s, size: 75.4 KB)\n"
          ]
        },
        {
          "output_type": "stream",
          "name": "stderr",
          "text": [
            "\u001b[34m\u001b[1mtrain: \u001b[0mScanning /content/Vadasan_segmentation-2/train/labels... 75 images, 0 backgrounds, 0 corrupt: 100%|██████████| 75/75 [00:00<00:00, 246.09it/s]"
          ]
        },
        {
          "output_type": "stream",
          "name": "stdout",
          "text": [
            "\u001b[34m\u001b[1mtrain: \u001b[0mNew cache created: /content/Vadasan_segmentation-2/train/labels.cache\n"
          ]
        },
        {
          "output_type": "stream",
          "name": "stderr",
          "text": [
            "\n"
          ]
        },
        {
          "output_type": "stream",
          "name": "stdout",
          "text": [
            "\u001b[34m\u001b[1malbumentations: \u001b[0mBlur(p=0.01, blur_limit=(3, 7)), MedianBlur(p=0.01, blur_limit=(3, 7)), ToGray(p=0.01, num_output_channels=3, method='weighted_average'), CLAHE(p=0.01, clip_limit=(1.0, 4.0), tile_grid_size=(8, 8))\n",
            "\u001b[34m\u001b[1mval: \u001b[0mFast image access ✅ (ping: 0.0±0.0 ms, read: 56.1±71.7 MB/s, size: 69.3 KB)\n"
          ]
        },
        {
          "output_type": "stream",
          "name": "stderr",
          "text": [
            "\u001b[34m\u001b[1mval: \u001b[0mScanning /content/Vadasan_segmentation-2/valid/labels... 5 images, 0 backgrounds, 0 corrupt: 100%|██████████| 5/5 [00:00<00:00, 107.49it/s]"
          ]
        },
        {
          "output_type": "stream",
          "name": "stdout",
          "text": [
            "\u001b[34m\u001b[1mval: \u001b[0mNew cache created: /content/Vadasan_segmentation-2/valid/labels.cache\n"
          ]
        },
        {
          "output_type": "stream",
          "name": "stderr",
          "text": [
            "\n"
          ]
        },
        {
          "output_type": "stream",
          "name": "stdout",
          "text": [
            "Plotting labels to yolov11_tree_segmentation/exp1/labels.jpg... \n",
            "\u001b[34m\u001b[1moptimizer:\u001b[0m AdamW(lr=0.0001, momentum=0.937) with parameter groups 90 weight(decay=0.0), 101 weight(decay=0.0005), 100 bias(decay=0.0)\n",
            "Image sizes 640 train, 640 val\n",
            "Using 2 dataloader workers\n",
            "Logging results to \u001b[1myolov11_tree_segmentation/exp1\u001b[0m\n",
            "Starting training for 200 epochs...\n",
            "\n",
            "      Epoch    GPU_mem   box_loss   seg_loss   cls_loss   dfl_loss  Instances       Size\n"
          ]
        },
        {
          "output_type": "stream",
          "name": "stderr",
          "text": [
            "      1/200      5.59G      2.264       3.95      3.063      1.827        289        640: 100%|██████████| 5/5 [00:09<00:00,  1.96s/it]\n",
            "                 Class     Images  Instances      Box(P          R      mAP50  mAP50-95)     Mask(P          R      mAP50  mAP50-95): 100%|██████████| 1/1 [00:01<00:00,  1.45s/it]"
          ]
        },
        {
          "output_type": "stream",
          "name": "stdout",
          "text": [
            "                   all          5        154     0.0453      0.442     0.0381     0.0136     0.0497      0.468     0.0447      0.015\n"
          ]
        },
        {
          "output_type": "stream",
          "name": "stderr",
          "text": [
            "\n"
          ]
        },
        {
          "output_type": "stream",
          "name": "stdout",
          "text": [
            "\n",
            "      Epoch    GPU_mem   box_loss   seg_loss   cls_loss   dfl_loss  Instances       Size\n"
          ]
        },
        {
          "output_type": "stream",
          "name": "stderr",
          "text": [
            "      2/200      5.65G          2      3.681      2.677      1.647        316        640: 100%|██████████| 5/5 [00:03<00:00,  1.35it/s]\n",
            "                 Class     Images  Instances      Box(P          R      mAP50  mAP50-95)     Mask(P          R      mAP50  mAP50-95): 100%|██████████| 1/1 [00:00<00:00,  2.41it/s]"
          ]
        },
        {
          "output_type": "stream",
          "name": "stdout",
          "text": [
            "                   all          5        154     0.0886      0.597      0.114     0.0456     0.0794       0.61     0.0957     0.0312\n"
          ]
        },
        {
          "output_type": "stream",
          "name": "stderr",
          "text": [
            "\n"
          ]
        },
        {
          "output_type": "stream",
          "name": "stdout",
          "text": [
            "\n",
            "      Epoch    GPU_mem   box_loss   seg_loss   cls_loss   dfl_loss  Instances       Size\n"
          ]
        },
        {
          "output_type": "stream",
          "name": "stderr",
          "text": [
            "      3/200      5.83G      1.633      2.625      1.773      1.368        214        640: 100%|██████████| 5/5 [00:03<00:00,  1.27it/s]\n",
            "                 Class     Images  Instances      Box(P          R      mAP50  mAP50-95)     Mask(P          R      mAP50  mAP50-95): 100%|██████████| 1/1 [00:00<00:00,  1.62it/s]"
          ]
        },
        {
          "output_type": "stream",
          "name": "stdout",
          "text": [
            "                   all          5        154      0.138      0.286      0.123     0.0491     0.0238     0.0649     0.0129    0.00378\n"
          ]
        },
        {
          "output_type": "stream",
          "name": "stderr",
          "text": [
            "\n"
          ]
        },
        {
          "output_type": "stream",
          "name": "stdout",
          "text": [
            "\n",
            "      Epoch    GPU_mem   box_loss   seg_loss   cls_loss   dfl_loss  Instances       Size\n"
          ]
        },
        {
          "output_type": "stream",
          "name": "stderr",
          "text": [
            "      4/200      5.89G       1.66        2.5      1.476      1.292        307        640: 100%|██████████| 5/5 [00:03<00:00,  1.60it/s]\n",
            "                 Class     Images  Instances      Box(P          R      mAP50  mAP50-95)     Mask(P          R      mAP50  mAP50-95): 100%|██████████| 1/1 [00:00<00:00,  2.73it/s]"
          ]
        },
        {
          "output_type": "stream",
          "name": "stdout",
          "text": [
            "                   all          5        154      0.135      0.182     0.0947      0.048     0.0777    0.00649    0.00168   0.000469\n"
          ]
        },
        {
          "output_type": "stream",
          "name": "stderr",
          "text": [
            "\n"
          ]
        },
        {
          "output_type": "stream",
          "name": "stdout",
          "text": [
            "\n",
            "      Epoch    GPU_mem   box_loss   seg_loss   cls_loss   dfl_loss  Instances       Size\n"
          ]
        },
        {
          "output_type": "stream",
          "name": "stderr",
          "text": [
            "      5/200      6.04G      1.683       2.41      1.326      1.214        424        640: 100%|██████████| 5/5 [00:03<00:00,  1.43it/s]\n",
            "                 Class     Images  Instances      Box(P          R      mAP50  mAP50-95)     Mask(P          R      mAP50  mAP50-95): 100%|██████████| 1/1 [00:00<00:00,  1.97it/s]"
          ]
        },
        {
          "output_type": "stream",
          "name": "stdout",
          "text": [
            "                   all          5        154      0.505      0.422      0.396      0.193    0.00238    0.00649    0.00035   0.000105\n"
          ]
        },
        {
          "output_type": "stream",
          "name": "stderr",
          "text": [
            "\n"
          ]
        },
        {
          "output_type": "stream",
          "name": "stdout",
          "text": [
            "\n",
            "      Epoch    GPU_mem   box_loss   seg_loss   cls_loss   dfl_loss  Instances       Size\n"
          ]
        },
        {
          "output_type": "stream",
          "name": "stderr",
          "text": [
            "      6/200      6.09G      1.618      2.303      1.294      1.203        342        640: 100%|██████████| 5/5 [00:03<00:00,  1.42it/s]\n",
            "                 Class     Images  Instances      Box(P          R      mAP50  mAP50-95)     Mask(P          R      mAP50  mAP50-95): 100%|██████████| 1/1 [00:00<00:00,  2.03it/s]"
          ]
        },
        {
          "output_type": "stream",
          "name": "stdout",
          "text": [
            "                   all          5        154      0.576      0.591      0.556      0.269     0.0569      0.013    0.00427   0.000758\n"
          ]
        },
        {
          "output_type": "stream",
          "name": "stderr",
          "text": [
            "\n"
          ]
        },
        {
          "output_type": "stream",
          "name": "stdout",
          "text": [
            "\n",
            "      Epoch    GPU_mem   box_loss   seg_loss   cls_loss   dfl_loss  Instances       Size\n"
          ]
        },
        {
          "output_type": "stream",
          "name": "stderr",
          "text": [
            "      7/200      6.13G      1.599      2.271      1.281      1.195        448        640: 100%|██████████| 5/5 [00:03<00:00,  1.56it/s]\n",
            "                 Class     Images  Instances      Box(P          R      mAP50  mAP50-95)     Mask(P          R      mAP50  mAP50-95): 100%|██████████| 1/1 [00:00<00:00,  2.50it/s]"
          ]
        },
        {
          "output_type": "stream",
          "name": "stdout",
          "text": [
            "                   all          5        154      0.565      0.649      0.529      0.226     0.0423     0.0455     0.0154    0.00405\n"
          ]
        },
        {
          "output_type": "stream",
          "name": "stderr",
          "text": [
            "\n"
          ]
        },
        {
          "output_type": "stream",
          "name": "stdout",
          "text": [
            "\n",
            "      Epoch    GPU_mem   box_loss   seg_loss   cls_loss   dfl_loss  Instances       Size\n"
          ]
        },
        {
          "output_type": "stream",
          "name": "stderr",
          "text": [
            "      8/200      6.18G      1.602      2.255      1.273      1.178        293        640: 100%|██████████| 5/5 [00:04<00:00,  1.18it/s]\n",
            "                 Class     Images  Instances      Box(P          R      mAP50  mAP50-95)     Mask(P          R      mAP50  mAP50-95): 100%|██████████| 1/1 [00:00<00:00,  1.57it/s]"
          ]
        },
        {
          "output_type": "stream",
          "name": "stdout",
          "text": [
            "                   all          5        154       0.53      0.643      0.564      0.241      0.138     0.0974     0.0309    0.00865\n"
          ]
        },
        {
          "output_type": "stream",
          "name": "stderr",
          "text": [
            "\n"
          ]
        },
        {
          "output_type": "stream",
          "name": "stdout",
          "text": [
            "\n",
            "      Epoch    GPU_mem   box_loss   seg_loss   cls_loss   dfl_loss  Instances       Size\n"
          ]
        },
        {
          "output_type": "stream",
          "name": "stderr",
          "text": [
            "      9/200      6.22G      1.614      2.211      1.197      1.148        322        640: 100%|██████████| 5/5 [00:03<00:00,  1.47it/s]\n",
            "                 Class     Images  Instances      Box(P          R      mAP50  mAP50-95)     Mask(P          R      mAP50  mAP50-95): 100%|██████████| 1/1 [00:00<00:00,  4.01it/s]"
          ]
        },
        {
          "output_type": "stream",
          "name": "stdout",
          "text": [
            "                   all          5        154      0.655      0.604      0.639      0.277      0.271      0.234      0.111     0.0228\n"
          ]
        },
        {
          "output_type": "stream",
          "name": "stderr",
          "text": [
            "\n"
          ]
        },
        {
          "output_type": "stream",
          "name": "stdout",
          "text": [
            "\n",
            "      Epoch    GPU_mem   box_loss   seg_loss   cls_loss   dfl_loss  Instances       Size\n"
          ]
        },
        {
          "output_type": "stream",
          "name": "stderr",
          "text": [
            "     10/200      6.26G      1.547       2.18      1.111      1.138        367        640: 100%|██████████| 5/5 [00:03<00:00,  1.43it/s]\n",
            "                 Class     Images  Instances      Box(P          R      mAP50  mAP50-95)     Mask(P          R      mAP50  mAP50-95): 100%|██████████| 1/1 [00:00<00:00,  2.16it/s]"
          ]
        },
        {
          "output_type": "stream",
          "name": "stdout",
          "text": [
            "                   all          5        154      0.643      0.631      0.637      0.289      0.295      0.286      0.168     0.0399\n"
          ]
        },
        {
          "output_type": "stream",
          "name": "stderr",
          "text": [
            "\n"
          ]
        },
        {
          "output_type": "stream",
          "name": "stdout",
          "text": [
            "\n",
            "      Epoch    GPU_mem   box_loss   seg_loss   cls_loss   dfl_loss  Instances       Size\n"
          ]
        },
        {
          "output_type": "stream",
          "name": "stderr",
          "text": [
            "     11/200      6.31G       1.59      2.162      1.133      1.174        386        640: 100%|██████████| 5/5 [00:03<00:00,  1.42it/s]\n",
            "                 Class     Images  Instances      Box(P          R      mAP50  mAP50-95)     Mask(P          R      mAP50  mAP50-95): 100%|██████████| 1/1 [00:00<00:00,  2.77it/s]"
          ]
        },
        {
          "output_type": "stream",
          "name": "stdout",
          "text": [
            "                   all          5        154      0.577      0.655      0.605      0.284      0.394      0.442       0.32     0.0776\n"
          ]
        },
        {
          "output_type": "stream",
          "name": "stderr",
          "text": [
            "\n"
          ]
        },
        {
          "output_type": "stream",
          "name": "stdout",
          "text": [
            "\n",
            "      Epoch    GPU_mem   box_loss   seg_loss   cls_loss   dfl_loss  Instances       Size\n"
          ]
        },
        {
          "output_type": "stream",
          "name": "stderr",
          "text": [
            "     12/200      6.35G      1.546      2.174      1.107      1.153        279        640: 100%|██████████| 5/5 [00:03<00:00,  1.56it/s]\n",
            "                 Class     Images  Instances      Box(P          R      mAP50  mAP50-95)     Mask(P          R      mAP50  mAP50-95): 100%|██████████| 1/1 [00:00<00:00,  2.42it/s]"
          ]
        },
        {
          "output_type": "stream",
          "name": "stdout",
          "text": [
            "                   all          5        154      0.535      0.708      0.601      0.297      0.468      0.597      0.492       0.14\n"
          ]
        },
        {
          "output_type": "stream",
          "name": "stderr",
          "text": [
            "\n"
          ]
        },
        {
          "output_type": "stream",
          "name": "stdout",
          "text": [
            "\n",
            "      Epoch    GPU_mem   box_loss   seg_loss   cls_loss   dfl_loss  Instances       Size\n"
          ]
        },
        {
          "output_type": "stream",
          "name": "stderr",
          "text": [
            "     13/200      6.39G      1.514      2.166      1.128      1.145        463        640: 100%|██████████| 5/5 [00:04<00:00,  1.05it/s]\n",
            "                 Class     Images  Instances      Box(P          R      mAP50  mAP50-95)     Mask(P          R      mAP50  mAP50-95): 100%|██████████| 1/1 [00:00<00:00,  1.71it/s]"
          ]
        },
        {
          "output_type": "stream",
          "name": "stdout",
          "text": [
            "                   all          5        154      0.509      0.682       0.61      0.301      0.465      0.617      0.545      0.168\n"
          ]
        },
        {
          "output_type": "stream",
          "name": "stderr",
          "text": [
            "\n"
          ]
        },
        {
          "output_type": "stream",
          "name": "stdout",
          "text": [
            "\n",
            "      Epoch    GPU_mem   box_loss   seg_loss   cls_loss   dfl_loss  Instances       Size\n"
          ]
        },
        {
          "output_type": "stream",
          "name": "stderr",
          "text": [
            "     14/200      6.65G      1.556       2.16      1.162      1.172        339        640: 100%|██████████| 5/5 [00:03<00:00,  1.54it/s]\n",
            "                 Class     Images  Instances      Box(P          R      mAP50  mAP50-95)     Mask(P          R      mAP50  mAP50-95): 100%|██████████| 1/1 [00:00<00:00,  2.67it/s]"
          ]
        },
        {
          "output_type": "stream",
          "name": "stdout",
          "text": [
            "                   all          5        154      0.512      0.682      0.642      0.325      0.515      0.628      0.625      0.239\n"
          ]
        },
        {
          "output_type": "stream",
          "name": "stderr",
          "text": [
            "\n"
          ]
        },
        {
          "output_type": "stream",
          "name": "stdout",
          "text": [
            "\n",
            "      Epoch    GPU_mem   box_loss   seg_loss   cls_loss   dfl_loss  Instances       Size\n"
          ]
        },
        {
          "output_type": "stream",
          "name": "stderr",
          "text": [
            "     15/200       6.7G       1.52      2.138      1.104      1.133        417        640: 100%|██████████| 5/5 [00:03<00:00,  1.44it/s]\n",
            "                 Class     Images  Instances      Box(P          R      mAP50  mAP50-95)     Mask(P          R      mAP50  mAP50-95): 100%|██████████| 1/1 [00:00<00:00,  1.97it/s]"
          ]
        },
        {
          "output_type": "stream",
          "name": "stdout",
          "text": [
            "                   all          5        154      0.563      0.669      0.654      0.345      0.574      0.638      0.655      0.306\n"
          ]
        },
        {
          "output_type": "stream",
          "name": "stderr",
          "text": [
            "\n"
          ]
        },
        {
          "output_type": "stream",
          "name": "stdout",
          "text": [
            "\n",
            "      Epoch    GPU_mem   box_loss   seg_loss   cls_loss   dfl_loss  Instances       Size\n"
          ]
        },
        {
          "output_type": "stream",
          "name": "stderr",
          "text": [
            "     16/200      6.74G      1.541      2.145      1.107      1.144        379        640: 100%|██████████| 5/5 [00:03<00:00,  1.53it/s]\n",
            "                 Class     Images  Instances      Box(P          R      mAP50  mAP50-95)     Mask(P          R      mAP50  mAP50-95): 100%|██████████| 1/1 [00:00<00:00,  2.50it/s]"
          ]
        },
        {
          "output_type": "stream",
          "name": "stdout",
          "text": [
            "                   all          5        154      0.573      0.669      0.639      0.334      0.577      0.662      0.632        0.3\n"
          ]
        },
        {
          "output_type": "stream",
          "name": "stderr",
          "text": [
            "\n"
          ]
        },
        {
          "output_type": "stream",
          "name": "stdout",
          "text": [
            "\n",
            "      Epoch    GPU_mem   box_loss   seg_loss   cls_loss   dfl_loss  Instances       Size\n"
          ]
        },
        {
          "output_type": "stream",
          "name": "stderr",
          "text": [
            "     17/200      6.78G      1.485      2.077      1.079      1.121        369        640: 100%|██████████| 5/5 [00:03<00:00,  1.61it/s]\n",
            "                 Class     Images  Instances      Box(P          R      mAP50  mAP50-95)     Mask(P          R      mAP50  mAP50-95): 100%|██████████| 1/1 [00:00<00:00,  3.81it/s]"
          ]
        },
        {
          "output_type": "stream",
          "name": "stdout",
          "text": [
            "                   all          5        154      0.556      0.636      0.648      0.334      0.566      0.656      0.648      0.308\n"
          ]
        },
        {
          "output_type": "stream",
          "name": "stderr",
          "text": [
            "\n"
          ]
        },
        {
          "output_type": "stream",
          "name": "stdout",
          "text": [
            "\n",
            "      Epoch    GPU_mem   box_loss   seg_loss   cls_loss   dfl_loss  Instances       Size\n"
          ]
        },
        {
          "output_type": "stream",
          "name": "stderr",
          "text": [
            "     18/200      6.83G      1.495      2.085      1.097      1.126        312        640: 100%|██████████| 5/5 [00:04<00:00,  1.23it/s]\n",
            "                 Class     Images  Instances      Box(P          R      mAP50  mAP50-95)     Mask(P          R      mAP50  mAP50-95): 100%|██████████| 1/1 [00:00<00:00,  3.03it/s]"
          ]
        },
        {
          "output_type": "stream",
          "name": "stdout",
          "text": [
            "                   all          5        154      0.599       0.63      0.697      0.359      0.615      0.623      0.695      0.333\n"
          ]
        },
        {
          "output_type": "stream",
          "name": "stderr",
          "text": [
            "\n"
          ]
        },
        {
          "output_type": "stream",
          "name": "stdout",
          "text": [
            "\n",
            "      Epoch    GPU_mem   box_loss   seg_loss   cls_loss   dfl_loss  Instances       Size\n"
          ]
        },
        {
          "output_type": "stream",
          "name": "stderr",
          "text": [
            "     19/200      6.87G      1.459      2.063      1.046      1.111        252        640: 100%|██████████| 5/5 [00:03<00:00,  1.54it/s]\n",
            "                 Class     Images  Instances      Box(P          R      mAP50  mAP50-95)     Mask(P          R      mAP50  mAP50-95): 100%|██████████| 1/1 [00:00<00:00,  2.46it/s]"
          ]
        },
        {
          "output_type": "stream",
          "name": "stdout",
          "text": [
            "                   all          5        154      0.699      0.636      0.739      0.378      0.703      0.623      0.728      0.357\n"
          ]
        },
        {
          "output_type": "stream",
          "name": "stderr",
          "text": [
            "\n"
          ]
        },
        {
          "output_type": "stream",
          "name": "stdout",
          "text": [
            "\n",
            "      Epoch    GPU_mem   box_loss   seg_loss   cls_loss   dfl_loss  Instances       Size\n"
          ]
        },
        {
          "output_type": "stream",
          "name": "stderr",
          "text": [
            "     20/200      6.91G      1.448      1.989     0.9884      1.092        357        640: 100%|██████████| 5/5 [00:03<00:00,  1.30it/s]\n",
            "                 Class     Images  Instances      Box(P          R      mAP50  mAP50-95)     Mask(P          R      mAP50  mAP50-95): 100%|██████████| 1/1 [00:00<00:00,  2.28it/s]"
          ]
        },
        {
          "output_type": "stream",
          "name": "stdout",
          "text": [
            "                   all          5        154      0.696      0.708      0.787      0.384      0.618      0.767      0.751      0.339\n"
          ]
        },
        {
          "output_type": "stream",
          "name": "stderr",
          "text": [
            "\n"
          ]
        },
        {
          "output_type": "stream",
          "name": "stdout",
          "text": [
            "\n",
            "      Epoch    GPU_mem   box_loss   seg_loss   cls_loss   dfl_loss  Instances       Size\n"
          ]
        },
        {
          "output_type": "stream",
          "name": "stderr",
          "text": [
            "     21/200      6.96G       1.47      2.092      1.039      1.128        301        640: 100%|██████████| 5/5 [00:03<00:00,  1.61it/s]\n",
            "                 Class     Images  Instances      Box(P          R      mAP50  mAP50-95)     Mask(P          R      mAP50  mAP50-95): 100%|██████████| 1/1 [00:00<00:00,  2.83it/s]"
          ]
        },
        {
          "output_type": "stream",
          "name": "stdout",
          "text": [
            "                   all          5        154      0.649      0.758      0.778      0.378       0.61       0.74      0.736      0.325\n"
          ]
        },
        {
          "output_type": "stream",
          "name": "stderr",
          "text": [
            "\n"
          ]
        },
        {
          "output_type": "stream",
          "name": "stdout",
          "text": [
            "\n",
            "      Epoch    GPU_mem   box_loss   seg_loss   cls_loss   dfl_loss  Instances       Size\n"
          ]
        },
        {
          "output_type": "stream",
          "name": "stderr",
          "text": [
            "     22/200      7.14G      1.429      1.967      0.995      1.072        320        640: 100%|██████████| 5/5 [00:03<00:00,  1.45it/s]\n",
            "                 Class     Images  Instances      Box(P          R      mAP50  mAP50-95)     Mask(P          R      mAP50  mAP50-95): 100%|██████████| 1/1 [00:00<00:00,  2.49it/s]"
          ]
        },
        {
          "output_type": "stream",
          "name": "stdout",
          "text": [
            "                   all          5        154      0.707       0.72      0.784      0.376      0.624      0.734      0.745      0.323\n"
          ]
        },
        {
          "output_type": "stream",
          "name": "stderr",
          "text": [
            "\n"
          ]
        },
        {
          "output_type": "stream",
          "name": "stdout",
          "text": [
            "\n",
            "      Epoch    GPU_mem   box_loss   seg_loss   cls_loss   dfl_loss  Instances       Size\n"
          ]
        },
        {
          "output_type": "stream",
          "name": "stderr",
          "text": [
            "     23/200      7.18G      1.412      1.983     0.9926      1.085        425        640: 100%|██████████| 5/5 [00:03<00:00,  1.29it/s]\n",
            "                 Class     Images  Instances      Box(P          R      mAP50  mAP50-95)     Mask(P          R      mAP50  mAP50-95): 100%|██████████| 1/1 [00:00<00:00,  2.89it/s]"
          ]
        },
        {
          "output_type": "stream",
          "name": "stdout",
          "text": [
            "                   all          5        154      0.742      0.688      0.784      0.381      0.651      0.752      0.765      0.338\n"
          ]
        },
        {
          "output_type": "stream",
          "name": "stderr",
          "text": [
            "\n"
          ]
        },
        {
          "output_type": "stream",
          "name": "stdout",
          "text": [
            "\n",
            "      Epoch    GPU_mem   box_loss   seg_loss   cls_loss   dfl_loss  Instances       Size\n"
          ]
        },
        {
          "output_type": "stream",
          "name": "stderr",
          "text": [
            "     24/200      7.22G      1.459      2.015      1.011      1.103        267        640: 100%|██████████| 5/5 [00:03<00:00,  1.60it/s]\n",
            "                 Class     Images  Instances      Box(P          R      mAP50  mAP50-95)     Mask(P          R      mAP50  mAP50-95): 100%|██████████| 1/1 [00:00<00:00,  3.45it/s]"
          ]
        },
        {
          "output_type": "stream",
          "name": "stdout",
          "text": [
            "                   all          5        154      0.719      0.779      0.792       0.38      0.718      0.744       0.78      0.356\n"
          ]
        },
        {
          "output_type": "stream",
          "name": "stderr",
          "text": [
            "\n"
          ]
        },
        {
          "output_type": "stream",
          "name": "stdout",
          "text": [
            "\n",
            "      Epoch    GPU_mem   box_loss   seg_loss   cls_loss   dfl_loss  Instances       Size\n"
          ]
        },
        {
          "output_type": "stream",
          "name": "stderr",
          "text": [
            "     25/200      7.27G      1.403      1.959     0.9764      1.068        346        640: 100%|██████████| 5/5 [00:03<00:00,  1.46it/s]\n",
            "                 Class     Images  Instances      Box(P          R      mAP50  mAP50-95)     Mask(P          R      mAP50  mAP50-95): 100%|██████████| 1/1 [00:00<00:00,  1.75it/s]"
          ]
        },
        {
          "output_type": "stream",
          "name": "stdout",
          "text": [
            "                   all          5        154      0.715      0.818      0.797      0.379      0.704      0.805       0.79      0.351\n"
          ]
        },
        {
          "output_type": "stream",
          "name": "stderr",
          "text": [
            "\n"
          ]
        },
        {
          "output_type": "stream",
          "name": "stdout",
          "text": [
            "\n",
            "      Epoch    GPU_mem   box_loss   seg_loss   cls_loss   dfl_loss  Instances       Size\n"
          ]
        },
        {
          "output_type": "stream",
          "name": "stderr",
          "text": [
            "     26/200      7.31G      1.442      1.991     0.9569      1.082        372        640: 100%|██████████| 5/5 [00:03<00:00,  1.44it/s]\n",
            "                 Class     Images  Instances      Box(P          R      mAP50  mAP50-95)     Mask(P          R      mAP50  mAP50-95): 100%|██████████| 1/1 [00:00<00:00,  2.89it/s]"
          ]
        },
        {
          "output_type": "stream",
          "name": "stdout",
          "text": [
            "                   all          5        154      0.721      0.788      0.792      0.375       0.71      0.778      0.789       0.35\n"
          ]
        },
        {
          "output_type": "stream",
          "name": "stderr",
          "text": [
            "\n"
          ]
        },
        {
          "output_type": "stream",
          "name": "stdout",
          "text": [
            "\n",
            "      Epoch    GPU_mem   box_loss   seg_loss   cls_loss   dfl_loss  Instances       Size\n"
          ]
        },
        {
          "output_type": "stream",
          "name": "stderr",
          "text": [
            "     27/200      7.36G      1.391      1.955     0.9509      1.069        432        640: 100%|██████████| 5/5 [00:03<00:00,  1.61it/s]\n",
            "                 Class     Images  Instances      Box(P          R      mAP50  mAP50-95)     Mask(P          R      mAP50  mAP50-95): 100%|██████████| 1/1 [00:00<00:00,  3.37it/s]"
          ]
        },
        {
          "output_type": "stream",
          "name": "stdout",
          "text": [
            "                   all          5        154      0.731      0.766       0.79      0.361      0.705       0.74      0.777      0.341\n"
          ]
        },
        {
          "output_type": "stream",
          "name": "stderr",
          "text": [
            "\n"
          ]
        },
        {
          "output_type": "stream",
          "name": "stdout",
          "text": [
            "\n",
            "      Epoch    GPU_mem   box_loss   seg_loss   cls_loss   dfl_loss  Instances       Size\n"
          ]
        },
        {
          "output_type": "stream",
          "name": "stderr",
          "text": [
            "     28/200      6.22G      1.386      1.947     0.9529       1.07        474        640: 100%|██████████| 5/5 [00:03<00:00,  1.25it/s]\n",
            "                 Class     Images  Instances      Box(P          R      mAP50  mAP50-95)     Mask(P          R      mAP50  mAP50-95): 100%|██████████| 1/1 [00:00<00:00,  2.27it/s]"
          ]
        },
        {
          "output_type": "stream",
          "name": "stdout",
          "text": [
            "                   all          5        154      0.683      0.734      0.757      0.355      0.661      0.721      0.735      0.331\n"
          ]
        },
        {
          "output_type": "stream",
          "name": "stderr",
          "text": [
            "\n"
          ]
        },
        {
          "output_type": "stream",
          "name": "stdout",
          "text": [
            "\n",
            "      Epoch    GPU_mem   box_loss   seg_loss   cls_loss   dfl_loss  Instances       Size\n"
          ]
        },
        {
          "output_type": "stream",
          "name": "stderr",
          "text": [
            "     29/200      6.22G      1.416      1.974      0.996      1.096        334        640: 100%|██████████| 5/5 [00:03<00:00,  1.61it/s]\n",
            "                 Class     Images  Instances      Box(P          R      mAP50  mAP50-95)     Mask(P          R      mAP50  mAP50-95): 100%|██████████| 1/1 [00:00<00:00,  3.23it/s]"
          ]
        },
        {
          "output_type": "stream",
          "name": "stdout",
          "text": [
            "                   all          5        154      0.677       0.76       0.75      0.351      0.664      0.747      0.731      0.324\n"
          ]
        },
        {
          "output_type": "stream",
          "name": "stderr",
          "text": [
            "\n"
          ]
        },
        {
          "output_type": "stream",
          "name": "stdout",
          "text": [
            "\n",
            "      Epoch    GPU_mem   box_loss   seg_loss   cls_loss   dfl_loss  Instances       Size\n"
          ]
        },
        {
          "output_type": "stream",
          "name": "stderr",
          "text": [
            "     30/200      6.22G      1.384      1.969      0.982      1.086        349        640: 100%|██████████| 5/5 [00:03<00:00,  1.43it/s]\n",
            "                 Class     Images  Instances      Box(P          R      mAP50  mAP50-95)     Mask(P          R      mAP50  mAP50-95): 100%|██████████| 1/1 [00:00<00:00,  1.74it/s]"
          ]
        },
        {
          "output_type": "stream",
          "name": "stdout",
          "text": [
            "                   all          5        154      0.692      0.758       0.75      0.355      0.669       0.74      0.726      0.324\n"
          ]
        },
        {
          "output_type": "stream",
          "name": "stderr",
          "text": [
            "\n"
          ]
        },
        {
          "output_type": "stream",
          "name": "stdout",
          "text": [
            "\n",
            "      Epoch    GPU_mem   box_loss   seg_loss   cls_loss   dfl_loss  Instances       Size\n"
          ]
        },
        {
          "output_type": "stream",
          "name": "stderr",
          "text": [
            "     31/200      6.22G      1.351      1.897     0.9746      1.075        481        640: 100%|██████████| 5/5 [00:03<00:00,  1.50it/s]\n",
            "                 Class     Images  Instances      Box(P          R      mAP50  mAP50-95)     Mask(P          R      mAP50  mAP50-95): 100%|██████████| 1/1 [00:00<00:00,  2.58it/s]"
          ]
        },
        {
          "output_type": "stream",
          "name": "stdout",
          "text": [
            "                   all          5        154      0.689      0.747      0.749      0.353      0.643      0.753      0.723      0.327\n"
          ]
        },
        {
          "output_type": "stream",
          "name": "stderr",
          "text": [
            "\n"
          ]
        },
        {
          "output_type": "stream",
          "name": "stdout",
          "text": [
            "\n",
            "      Epoch    GPU_mem   box_loss   seg_loss   cls_loss   dfl_loss  Instances       Size\n"
          ]
        },
        {
          "output_type": "stream",
          "name": "stderr",
          "text": [
            "     32/200      6.22G      1.361      1.898     0.9563      1.064        436        640: 100%|██████████| 5/5 [00:03<00:00,  1.51it/s]\n",
            "                 Class     Images  Instances      Box(P          R      mAP50  mAP50-95)     Mask(P          R      mAP50  mAP50-95): 100%|██████████| 1/1 [00:00<00:00,  2.80it/s]"
          ]
        },
        {
          "output_type": "stream",
          "name": "stdout",
          "text": [
            "                   all          5        154      0.697      0.773       0.76      0.366      0.685      0.773      0.735      0.345\n"
          ]
        },
        {
          "output_type": "stream",
          "name": "stderr",
          "text": [
            "\n"
          ]
        },
        {
          "output_type": "stream",
          "name": "stdout",
          "text": [
            "\n",
            "      Epoch    GPU_mem   box_loss   seg_loss   cls_loss   dfl_loss  Instances       Size\n"
          ]
        },
        {
          "output_type": "stream",
          "name": "stderr",
          "text": [
            "     33/200      6.22G      1.352      1.871     0.9552      1.066        285        640: 100%|██████████| 5/5 [00:03<00:00,  1.25it/s]\n",
            "                 Class     Images  Instances      Box(P          R      mAP50  mAP50-95)     Mask(P          R      mAP50  mAP50-95): 100%|██████████| 1/1 [00:00<00:00,  2.72it/s]"
          ]
        },
        {
          "output_type": "stream",
          "name": "stdout",
          "text": [
            "                   all          5        154      0.701      0.776      0.772      0.367      0.711      0.792      0.783      0.349\n"
          ]
        },
        {
          "output_type": "stream",
          "name": "stderr",
          "text": [
            "\n"
          ]
        },
        {
          "output_type": "stream",
          "name": "stdout",
          "text": [
            "\n",
            "      Epoch    GPU_mem   box_loss   seg_loss   cls_loss   dfl_loss  Instances       Size\n"
          ]
        },
        {
          "output_type": "stream",
          "name": "stderr",
          "text": [
            "     34/200      6.22G      1.351      1.914     0.9415      1.059        309        640: 100%|██████████| 5/5 [00:03<00:00,  1.50it/s]\n",
            "                 Class     Images  Instances      Box(P          R      mAP50  mAP50-95)     Mask(P          R      mAP50  mAP50-95): 100%|██████████| 1/1 [00:00<00:00,  3.67it/s]"
          ]
        },
        {
          "output_type": "stream",
          "name": "stdout",
          "text": [
            "                   all          5        154      0.732      0.711      0.782      0.362      0.759      0.737      0.813      0.356\n"
          ]
        },
        {
          "output_type": "stream",
          "name": "stderr",
          "text": [
            "\n"
          ]
        },
        {
          "output_type": "stream",
          "name": "stdout",
          "text": [
            "\n",
            "      Epoch    GPU_mem   box_loss   seg_loss   cls_loss   dfl_loss  Instances       Size\n"
          ]
        },
        {
          "output_type": "stream",
          "name": "stderr",
          "text": [
            "     35/200      6.22G      1.349      1.894     0.9219      1.061        313        640: 100%|██████████| 5/5 [00:03<00:00,  1.29it/s]\n",
            "                 Class     Images  Instances      Box(P          R      mAP50  mAP50-95)     Mask(P          R      mAP50  mAP50-95): 100%|██████████| 1/1 [00:00<00:00,  1.91it/s]"
          ]
        },
        {
          "output_type": "stream",
          "name": "stdout",
          "text": [
            "                   all          5        154      0.708      0.734      0.792      0.361      0.714       0.74      0.801      0.332\n"
          ]
        },
        {
          "output_type": "stream",
          "name": "stderr",
          "text": [
            "\n"
          ]
        },
        {
          "output_type": "stream",
          "name": "stdout",
          "text": [
            "\n",
            "      Epoch    GPU_mem   box_loss   seg_loss   cls_loss   dfl_loss  Instances       Size\n"
          ]
        },
        {
          "output_type": "stream",
          "name": "stderr",
          "text": [
            "     36/200      6.29G      1.332      1.848     0.8835      1.031        430        640: 100%|██████████| 5/5 [00:03<00:00,  1.44it/s]\n",
            "                 Class     Images  Instances      Box(P          R      mAP50  mAP50-95)     Mask(P          R      mAP50  mAP50-95): 100%|██████████| 1/1 [00:00<00:00,  3.16it/s]"
          ]
        },
        {
          "output_type": "stream",
          "name": "stdout",
          "text": [
            "                   all          5        154      0.784      0.688      0.793      0.355      0.731      0.695      0.771      0.322\n"
          ]
        },
        {
          "output_type": "stream",
          "name": "stderr",
          "text": [
            "\n"
          ]
        },
        {
          "output_type": "stream",
          "name": "stdout",
          "text": [
            "\n",
            "      Epoch    GPU_mem   box_loss   seg_loss   cls_loss   dfl_loss  Instances       Size\n"
          ]
        },
        {
          "output_type": "stream",
          "name": "stderr",
          "text": [
            "     37/200      6.33G      1.335      1.869     0.8923      1.054        423        640: 100%|██████████| 5/5 [00:03<00:00,  1.47it/s]\n",
            "                 Class     Images  Instances      Box(P          R      mAP50  mAP50-95)     Mask(P          R      mAP50  mAP50-95): 100%|██████████| 1/1 [00:00<00:00,  2.44it/s]"
          ]
        },
        {
          "output_type": "stream",
          "name": "stdout",
          "text": [
            "                   all          5        154      0.761      0.688      0.789      0.353      0.706      0.727      0.774      0.324\n"
          ]
        },
        {
          "output_type": "stream",
          "name": "stderr",
          "text": [
            "\n"
          ]
        },
        {
          "output_type": "stream",
          "name": "stdout",
          "text": [
            "\n",
            "      Epoch    GPU_mem   box_loss   seg_loss   cls_loss   dfl_loss  Instances       Size\n"
          ]
        },
        {
          "output_type": "stream",
          "name": "stderr",
          "text": [
            "     38/200      6.38G      1.278      1.799     0.8656      1.044        378        640: 100%|██████████| 5/5 [00:03<00:00,  1.33it/s]\n",
            "                 Class     Images  Instances      Box(P          R      mAP50  mAP50-95)     Mask(P          R      mAP50  mAP50-95): 100%|██████████| 1/1 [00:00<00:00,  2.90it/s]"
          ]
        },
        {
          "output_type": "stream",
          "name": "stdout",
          "text": [
            "                   all          5        154      0.739      0.717      0.794      0.357      0.759      0.735      0.826      0.334\n"
          ]
        },
        {
          "output_type": "stream",
          "name": "stderr",
          "text": [
            "\n"
          ]
        },
        {
          "output_type": "stream",
          "name": "stdout",
          "text": [
            "\n",
            "      Epoch    GPU_mem   box_loss   seg_loss   cls_loss   dfl_loss  Instances       Size\n"
          ]
        },
        {
          "output_type": "stream",
          "name": "stderr",
          "text": [
            "     39/200      6.42G      1.339      1.846     0.8694      1.055        408        640: 100%|██████████| 5/5 [00:03<00:00,  1.52it/s]\n",
            "                 Class     Images  Instances      Box(P          R      mAP50  mAP50-95)     Mask(P          R      mAP50  mAP50-95): 100%|██████████| 1/1 [00:00<00:00,  2.91it/s]"
          ]
        },
        {
          "output_type": "stream",
          "name": "stdout",
          "text": [
            "                   all          5        154      0.773      0.707      0.784      0.363      0.798      0.717      0.815      0.341\n"
          ]
        },
        {
          "output_type": "stream",
          "name": "stderr",
          "text": [
            "\n"
          ]
        },
        {
          "output_type": "stream",
          "name": "stdout",
          "text": [
            "\n",
            "      Epoch    GPU_mem   box_loss   seg_loss   cls_loss   dfl_loss  Instances       Size\n"
          ]
        },
        {
          "output_type": "stream",
          "name": "stderr",
          "text": [
            "     40/200      6.46G      1.346      1.914     0.9179       1.07        337        640: 100%|██████████| 5/5 [00:04<00:00,  1.19it/s]\n",
            "                 Class     Images  Instances      Box(P          R      mAP50  mAP50-95)     Mask(P          R      mAP50  mAP50-95): 100%|██████████| 1/1 [00:00<00:00,  2.15it/s]"
          ]
        },
        {
          "output_type": "stream",
          "name": "stdout",
          "text": [
            "                   all          5        154      0.717      0.701      0.765      0.357      0.751      0.734      0.815      0.335\n"
          ]
        },
        {
          "output_type": "stream",
          "name": "stderr",
          "text": [
            "\n"
          ]
        },
        {
          "output_type": "stream",
          "name": "stdout",
          "text": [
            "\n",
            "      Epoch    GPU_mem   box_loss   seg_loss   cls_loss   dfl_loss  Instances       Size\n"
          ]
        },
        {
          "output_type": "stream",
          "name": "stderr",
          "text": [
            "     41/200      6.51G      1.372      1.919     0.8839      1.072        367        640: 100%|██████████| 5/5 [00:03<00:00,  1.46it/s]\n",
            "                 Class     Images  Instances      Box(P          R      mAP50  mAP50-95)     Mask(P          R      mAP50  mAP50-95): 100%|██████████| 1/1 [00:00<00:00,  3.90it/s]"
          ]
        },
        {
          "output_type": "stream",
          "name": "stdout",
          "text": [
            "                   all          5        154      0.764      0.656      0.773      0.359      0.756      0.721      0.813       0.33\n"
          ]
        },
        {
          "output_type": "stream",
          "name": "stderr",
          "text": [
            "\n"
          ]
        },
        {
          "output_type": "stream",
          "name": "stdout",
          "text": [
            "\n",
            "      Epoch    GPU_mem   box_loss   seg_loss   cls_loss   dfl_loss  Instances       Size\n"
          ]
        },
        {
          "output_type": "stream",
          "name": "stderr",
          "text": [
            "     42/200      6.55G       1.34      1.875     0.8892      1.061        414        640: 100%|██████████| 5/5 [00:03<00:00,  1.45it/s]\n",
            "                 Class     Images  Instances      Box(P          R      mAP50  mAP50-95)     Mask(P          R      mAP50  mAP50-95): 100%|██████████| 1/1 [00:00<00:00,  2.04it/s]"
          ]
        },
        {
          "output_type": "stream",
          "name": "stdout",
          "text": [
            "                   all          5        154      0.784      0.662       0.77      0.345      0.775       0.65      0.765      0.316\n"
          ]
        },
        {
          "output_type": "stream",
          "name": "stderr",
          "text": [
            "\n"
          ]
        },
        {
          "output_type": "stream",
          "name": "stdout",
          "text": [
            "\n",
            "      Epoch    GPU_mem   box_loss   seg_loss   cls_loss   dfl_loss  Instances       Size\n"
          ]
        },
        {
          "output_type": "stream",
          "name": "stderr",
          "text": [
            "     43/200      6.59G      1.307       1.88     0.8709      1.036        224        640: 100%|██████████| 5/5 [00:03<00:00,  1.37it/s]\n",
            "                 Class     Images  Instances      Box(P          R      mAP50  mAP50-95)     Mask(P          R      mAP50  mAP50-95): 100%|██████████| 1/1 [00:00<00:00,  3.24it/s]"
          ]
        },
        {
          "output_type": "stream",
          "name": "stdout",
          "text": [
            "                   all          5        154      0.759      0.656      0.769      0.334      0.781       0.61      0.757      0.304\n"
          ]
        },
        {
          "output_type": "stream",
          "name": "stderr",
          "text": [
            "\n"
          ]
        },
        {
          "output_type": "stream",
          "name": "stdout",
          "text": [
            "\n",
            "      Epoch    GPU_mem   box_loss   seg_loss   cls_loss   dfl_loss  Instances       Size\n"
          ]
        },
        {
          "output_type": "stream",
          "name": "stderr",
          "text": [
            "     44/200      6.64G      1.318      1.857     0.8674      1.024        344        640: 100%|██████████| 5/5 [00:03<00:00,  1.50it/s]\n",
            "                 Class     Images  Instances      Box(P          R      mAP50  mAP50-95)     Mask(P          R      mAP50  mAP50-95): 100%|██████████| 1/1 [00:00<00:00,  3.16it/s]"
          ]
        },
        {
          "output_type": "stream",
          "name": "stdout",
          "text": [
            "                   all          5        154      0.727       0.69      0.782      0.357      0.729      0.681      0.804      0.331\n"
          ]
        },
        {
          "output_type": "stream",
          "name": "stderr",
          "text": [
            "\n"
          ]
        },
        {
          "output_type": "stream",
          "name": "stdout",
          "text": [
            "\n",
            "      Epoch    GPU_mem   box_loss   seg_loss   cls_loss   dfl_loss  Instances       Size\n"
          ]
        },
        {
          "output_type": "stream",
          "name": "stderr",
          "text": [
            "     45/200      6.93G      1.316      1.854     0.8787      1.028        274        640: 100%|██████████| 5/5 [00:04<00:00,  1.21it/s]\n",
            "                 Class     Images  Instances      Box(P          R      mAP50  mAP50-95)     Mask(P          R      mAP50  mAP50-95): 100%|██████████| 1/1 [00:00<00:00,  3.01it/s]"
          ]
        },
        {
          "output_type": "stream",
          "name": "stdout",
          "text": [
            "                   all          5        154      0.717      0.724      0.792      0.362      0.673      0.762      0.813      0.348\n"
          ]
        },
        {
          "output_type": "stream",
          "name": "stderr",
          "text": [
            "\n"
          ]
        },
        {
          "output_type": "stream",
          "name": "stdout",
          "text": [
            "\n",
            "      Epoch    GPU_mem   box_loss   seg_loss   cls_loss   dfl_loss  Instances       Size\n"
          ]
        },
        {
          "output_type": "stream",
          "name": "stderr",
          "text": [
            "     46/200      6.97G      1.334      1.821     0.8643      1.042        230        640: 100%|██████████| 5/5 [00:03<00:00,  1.52it/s]\n",
            "                 Class     Images  Instances      Box(P          R      mAP50  mAP50-95)     Mask(P          R      mAP50  mAP50-95): 100%|██████████| 1/1 [00:00<00:00,  2.84it/s]"
          ]
        },
        {
          "output_type": "stream",
          "name": "stdout",
          "text": [
            "                   all          5        154      0.729      0.732      0.772      0.363      0.721      0.727      0.785      0.349\n"
          ]
        },
        {
          "output_type": "stream",
          "name": "stderr",
          "text": [
            "\n"
          ]
        },
        {
          "output_type": "stream",
          "name": "stdout",
          "text": [
            "\n",
            "      Epoch    GPU_mem   box_loss   seg_loss   cls_loss   dfl_loss  Instances       Size\n"
          ]
        },
        {
          "output_type": "stream",
          "name": "stderr",
          "text": [
            "     47/200      7.11G      1.287      1.794     0.8414      1.019        479        640: 100%|██████████| 5/5 [00:03<00:00,  1.38it/s]\n",
            "                 Class     Images  Instances      Box(P          R      mAP50  mAP50-95)     Mask(P          R      mAP50  mAP50-95): 100%|██████████| 1/1 [00:00<00:00,  2.17it/s]"
          ]
        },
        {
          "output_type": "stream",
          "name": "stdout",
          "text": [
            "                   all          5        154      0.723      0.721      0.757      0.359      0.694      0.714      0.766      0.352\n"
          ]
        },
        {
          "output_type": "stream",
          "name": "stderr",
          "text": [
            "\n"
          ]
        },
        {
          "output_type": "stream",
          "name": "stdout",
          "text": [
            "\n",
            "      Epoch    GPU_mem   box_loss   seg_loss   cls_loss   dfl_loss  Instances       Size\n"
          ]
        },
        {
          "output_type": "stream",
          "name": "stderr",
          "text": [
            "     48/200      7.16G      1.255      1.743     0.8343      1.011        349        640: 100%|██████████| 5/5 [00:03<00:00,  1.32it/s]\n",
            "                 Class     Images  Instances      Box(P          R      mAP50  mAP50-95)     Mask(P          R      mAP50  mAP50-95): 100%|██████████| 1/1 [00:00<00:00,  3.04it/s]"
          ]
        },
        {
          "output_type": "stream",
          "name": "stdout",
          "text": [
            "                   all          5        154      0.718      0.693      0.738      0.348      0.718      0.693      0.757      0.343\n"
          ]
        },
        {
          "output_type": "stream",
          "name": "stderr",
          "text": [
            "\n"
          ]
        },
        {
          "output_type": "stream",
          "name": "stdout",
          "text": [
            "\n",
            "      Epoch    GPU_mem   box_loss   seg_loss   cls_loss   dfl_loss  Instances       Size\n"
          ]
        },
        {
          "output_type": "stream",
          "name": "stderr",
          "text": [
            "     49/200       7.2G      1.242      1.771     0.8437      1.022        213        640: 100%|██████████| 5/5 [00:03<00:00,  1.53it/s]\n",
            "                 Class     Images  Instances      Box(P          R      mAP50  mAP50-95)     Mask(P          R      mAP50  mAP50-95): 100%|██████████| 1/1 [00:00<00:00,  2.82it/s]"
          ]
        },
        {
          "output_type": "stream",
          "name": "stdout",
          "text": [
            "                   all          5        154      0.725      0.695      0.733      0.342      0.725      0.695      0.754      0.331\n"
          ]
        },
        {
          "output_type": "stream",
          "name": "stderr",
          "text": [
            "\n"
          ]
        },
        {
          "output_type": "stream",
          "name": "stdout",
          "text": [
            "\n",
            "      Epoch    GPU_mem   box_loss   seg_loss   cls_loss   dfl_loss  Instances       Size\n"
          ]
        },
        {
          "output_type": "stream",
          "name": "stderr",
          "text": [
            "     50/200      7.24G      1.275      1.781      0.857      1.027        282        640: 100%|██████████| 5/5 [00:04<00:00,  1.18it/s]\n",
            "                 Class     Images  Instances      Box(P          R      mAP50  mAP50-95)     Mask(P          R      mAP50  mAP50-95): 100%|██████████| 1/1 [00:00<00:00,  3.17it/s]"
          ]
        },
        {
          "output_type": "stream",
          "name": "stdout",
          "text": [
            "                   all          5        154      0.733      0.688      0.732       0.34      0.726      0.682       0.74      0.324\n"
          ]
        },
        {
          "output_type": "stream",
          "name": "stderr",
          "text": [
            "\n"
          ]
        },
        {
          "output_type": "stream",
          "name": "stdout",
          "text": [
            "\n",
            "      Epoch    GPU_mem   box_loss   seg_loss   cls_loss   dfl_loss  Instances       Size\n"
          ]
        },
        {
          "output_type": "stream",
          "name": "stderr",
          "text": [
            "     51/200      7.29G      1.251      1.775     0.8277      1.021        305        640: 100%|██████████| 5/5 [00:03<00:00,  1.48it/s]\n",
            "                 Class     Images  Instances      Box(P          R      mAP50  mAP50-95)     Mask(P          R      mAP50  mAP50-95): 100%|██████████| 1/1 [00:00<00:00,  3.27it/s]"
          ]
        },
        {
          "output_type": "stream",
          "name": "stdout",
          "text": [
            "                   all          5        154      0.754      0.688      0.716      0.329      0.733      0.676      0.713      0.317\n"
          ]
        },
        {
          "output_type": "stream",
          "name": "stderr",
          "text": [
            "\n"
          ]
        },
        {
          "output_type": "stream",
          "name": "stdout",
          "text": [
            "\n",
            "      Epoch    GPU_mem   box_loss   seg_loss   cls_loss   dfl_loss  Instances       Size\n"
          ]
        },
        {
          "output_type": "stream",
          "name": "stderr",
          "text": [
            "     52/200      7.33G      1.277      1.778      0.837      1.021        361        640: 100%|██████████| 5/5 [00:03<00:00,  1.44it/s]\n",
            "                 Class     Images  Instances      Box(P          R      mAP50  mAP50-95)     Mask(P          R      mAP50  mAP50-95): 100%|██████████| 1/1 [00:00<00:00,  1.83it/s]"
          ]
        },
        {
          "output_type": "stream",
          "name": "stdout",
          "text": [
            "                   all          5        154       0.76      0.659      0.705      0.313      0.696      0.669      0.705        0.3\n"
          ]
        },
        {
          "output_type": "stream",
          "name": "stderr",
          "text": [
            "\n"
          ]
        },
        {
          "output_type": "stream",
          "name": "stdout",
          "text": [
            "\n",
            "      Epoch    GPU_mem   box_loss   seg_loss   cls_loss   dfl_loss  Instances       Size\n"
          ]
        },
        {
          "output_type": "stream",
          "name": "stderr",
          "text": [
            "     53/200      7.38G      1.283      1.793     0.8358      1.028        373        640: 100%|██████████| 5/5 [00:03<00:00,  1.46it/s]\n",
            "                 Class     Images  Instances      Box(P          R      mAP50  mAP50-95)     Mask(P          R      mAP50  mAP50-95): 100%|██████████| 1/1 [00:00<00:00,  2.80it/s]"
          ]
        },
        {
          "output_type": "stream",
          "name": "stdout",
          "text": [
            "                   all          5        154       0.79      0.662      0.711      0.309      0.745      0.669       0.72        0.3\n"
          ]
        },
        {
          "output_type": "stream",
          "name": "stderr",
          "text": [
            "\n"
          ]
        },
        {
          "output_type": "stream",
          "name": "stdout",
          "text": [
            "\n",
            "      Epoch    GPU_mem   box_loss   seg_loss   cls_loss   dfl_loss  Instances       Size\n"
          ]
        },
        {
          "output_type": "stream",
          "name": "stderr",
          "text": [
            "     54/200      6.45G      1.254      1.759     0.7898      1.022        297        640: 100%|██████████| 5/5 [00:03<00:00,  1.65it/s]\n",
            "                 Class     Images  Instances      Box(P          R      mAP50  mAP50-95)     Mask(P          R      mAP50  mAP50-95): 100%|██████████| 1/1 [00:00<00:00,  3.29it/s]"
          ]
        },
        {
          "output_type": "stream",
          "name": "stdout",
          "text": [
            "                   all          5        154      0.782      0.674      0.755      0.322      0.674      0.712      0.735      0.304\n"
          ]
        },
        {
          "output_type": "stream",
          "name": "stderr",
          "text": [
            "\n"
          ]
        },
        {
          "output_type": "stream",
          "name": "stdout",
          "text": [
            "\n",
            "      Epoch    GPU_mem   box_loss   seg_loss   cls_loss   dfl_loss  Instances       Size\n"
          ]
        },
        {
          "output_type": "stream",
          "name": "stderr",
          "text": [
            "     55/200      6.45G      1.214      1.691     0.7909      1.001        485        640: 100%|██████████| 5/5 [00:03<00:00,  1.33it/s]\n",
            "                 Class     Images  Instances      Box(P          R      mAP50  mAP50-95)     Mask(P          R      mAP50  mAP50-95): 100%|██████████| 1/1 [00:00<00:00,  2.69it/s]"
          ]
        },
        {
          "output_type": "stream",
          "name": "stdout",
          "text": [
            "                   all          5        154      0.748      0.694      0.757       0.33      0.731      0.708      0.763      0.311\n"
          ]
        },
        {
          "output_type": "stream",
          "name": "stderr",
          "text": [
            "\n"
          ]
        },
        {
          "output_type": "stream",
          "name": "stdout",
          "text": [
            "\n",
            "      Epoch    GPU_mem   box_loss   seg_loss   cls_loss   dfl_loss  Instances       Size\n"
          ]
        },
        {
          "output_type": "stream",
          "name": "stderr",
          "text": [
            "     56/200      6.66G       1.26      1.752     0.8181      1.009        375        640: 100%|██████████| 5/5 [00:03<00:00,  1.38it/s]\n",
            "                 Class     Images  Instances      Box(P          R      mAP50  mAP50-95)     Mask(P          R      mAP50  mAP50-95): 100%|██████████| 1/1 [00:00<00:00,  2.36it/s]"
          ]
        },
        {
          "output_type": "stream",
          "name": "stdout",
          "text": [
            "                   all          5        154      0.738      0.682      0.758      0.341      0.745      0.688      0.772      0.323\n"
          ]
        },
        {
          "output_type": "stream",
          "name": "stderr",
          "text": [
            "\n"
          ]
        },
        {
          "output_type": "stream",
          "name": "stdout",
          "text": [
            "\n",
            "      Epoch    GPU_mem   box_loss   seg_loss   cls_loss   dfl_loss  Instances       Size\n"
          ]
        },
        {
          "output_type": "stream",
          "name": "stderr",
          "text": [
            "     57/200      6.66G      1.244      1.714     0.7997       1.01        329        640: 100%|██████████| 5/5 [00:04<00:00,  1.20it/s]\n",
            "                 Class     Images  Instances      Box(P          R      mAP50  mAP50-95)     Mask(P          R      mAP50  mAP50-95): 100%|██████████| 1/1 [00:00<00:00,  2.02it/s]"
          ]
        },
        {
          "output_type": "stream",
          "name": "stdout",
          "text": [
            "                   all          5        154       0.69      0.708       0.75      0.339      0.698      0.721       0.76      0.331\n"
          ]
        },
        {
          "output_type": "stream",
          "name": "stderr",
          "text": [
            "\n"
          ]
        },
        {
          "output_type": "stream",
          "name": "stdout",
          "text": [
            "\n",
            "      Epoch    GPU_mem   box_loss   seg_loss   cls_loss   dfl_loss  Instances       Size\n"
          ]
        },
        {
          "output_type": "stream",
          "name": "stderr",
          "text": [
            "     58/200      6.66G       1.25      1.763     0.7984      1.019        323        640: 100%|██████████| 5/5 [00:03<00:00,  1.38it/s]\n",
            "                 Class     Images  Instances      Box(P          R      mAP50  mAP50-95)     Mask(P          R      mAP50  mAP50-95): 100%|██████████| 1/1 [00:00<00:00,  2.73it/s]"
          ]
        },
        {
          "output_type": "stream",
          "name": "stdout",
          "text": [
            "                   all          5        154      0.705      0.695      0.746       0.34      0.718      0.708      0.773      0.334\n"
          ]
        },
        {
          "output_type": "stream",
          "name": "stderr",
          "text": [
            "\n"
          ]
        },
        {
          "output_type": "stream",
          "name": "stdout",
          "text": [
            "\n",
            "      Epoch    GPU_mem   box_loss   seg_loss   cls_loss   dfl_loss  Instances       Size\n"
          ]
        },
        {
          "output_type": "stream",
          "name": "stderr",
          "text": [
            "     59/200      6.66G      1.266      1.733     0.7916      1.016        369        640: 100%|██████████| 5/5 [00:03<00:00,  1.66it/s]\n",
            "                 Class     Images  Instances      Box(P          R      mAP50  mAP50-95)     Mask(P          R      mAP50  mAP50-95): 100%|██████████| 1/1 [00:00<00:00,  2.35it/s]"
          ]
        },
        {
          "output_type": "stream",
          "name": "stdout",
          "text": [
            "                   all          5        154      0.709      0.688      0.746      0.342      0.709      0.688      0.757      0.336\n"
          ]
        },
        {
          "output_type": "stream",
          "name": "stderr",
          "text": [
            "\n"
          ]
        },
        {
          "output_type": "stream",
          "name": "stdout",
          "text": [
            "\n",
            "      Epoch    GPU_mem   box_loss   seg_loss   cls_loss   dfl_loss  Instances       Size\n"
          ]
        },
        {
          "output_type": "stream",
          "name": "stderr",
          "text": [
            "     60/200      6.66G       1.24      1.724      0.777     0.9933        489        640: 100%|██████████| 5/5 [00:03<00:00,  1.34it/s]\n",
            "                 Class     Images  Instances      Box(P          R      mAP50  mAP50-95)     Mask(P          R      mAP50  mAP50-95): 100%|██████████| 1/1 [00:00<00:00,  3.61it/s]"
          ]
        },
        {
          "output_type": "stream",
          "name": "stdout",
          "text": [
            "                   all          5        154      0.683      0.727      0.744      0.334        0.7      0.708      0.761      0.326\n"
          ]
        },
        {
          "output_type": "stream",
          "name": "stderr",
          "text": [
            "\n"
          ]
        },
        {
          "output_type": "stream",
          "name": "stdout",
          "text": [
            "\n",
            "      Epoch    GPU_mem   box_loss   seg_loss   cls_loss   dfl_loss  Instances       Size\n"
          ]
        },
        {
          "output_type": "stream",
          "name": "stderr",
          "text": [
            "     61/200      6.68G      1.223      1.687     0.7646     0.9958        375        640: 100%|██████████| 5/5 [00:03<00:00,  1.54it/s]\n",
            "                 Class     Images  Instances      Box(P          R      mAP50  mAP50-95)     Mask(P          R      mAP50  mAP50-95): 100%|██████████| 1/1 [00:00<00:00,  3.28it/s]"
          ]
        },
        {
          "output_type": "stream",
          "name": "stdout",
          "text": [
            "                   all          5        154      0.703      0.688      0.734      0.321       0.71      0.695      0.753      0.314\n"
          ]
        },
        {
          "output_type": "stream",
          "name": "stderr",
          "text": [
            "\n"
          ]
        },
        {
          "output_type": "stream",
          "name": "stdout",
          "text": [
            "\n",
            "      Epoch    GPU_mem   box_loss   seg_loss   cls_loss   dfl_loss  Instances       Size\n"
          ]
        },
        {
          "output_type": "stream",
          "name": "stderr",
          "text": [
            "     62/200      6.72G      1.203      1.677     0.7862     0.9986        275        640: 100%|██████████| 5/5 [00:04<00:00,  1.20it/s]\n",
            "                 Class     Images  Instances      Box(P          R      mAP50  mAP50-95)     Mask(P          R      mAP50  mAP50-95): 100%|██████████| 1/1 [00:00<00:00,  3.04it/s]"
          ]
        },
        {
          "output_type": "stream",
          "name": "stdout",
          "text": [
            "                   all          5        154      0.716      0.682       0.73      0.316      0.737      0.688       0.75      0.304\n"
          ]
        },
        {
          "output_type": "stream",
          "name": "stderr",
          "text": [
            "\n"
          ]
        },
        {
          "output_type": "stream",
          "name": "stdout",
          "text": [
            "\n",
            "      Epoch    GPU_mem   box_loss   seg_loss   cls_loss   dfl_loss  Instances       Size\n"
          ]
        },
        {
          "output_type": "stream",
          "name": "stderr",
          "text": [
            "     63/200      6.77G      1.219      1.694     0.7638     0.9998        386        640: 100%|██████████| 5/5 [00:03<00:00,  1.54it/s]\n",
            "                 Class     Images  Instances      Box(P          R      mAP50  mAP50-95)     Mask(P          R      mAP50  mAP50-95): 100%|██████████| 1/1 [00:00<00:00,  3.59it/s]"
          ]
        },
        {
          "output_type": "stream",
          "name": "stdout",
          "text": [
            "                   all          5        154      0.772      0.683      0.739      0.319      0.766      0.659      0.743      0.302\n"
          ]
        },
        {
          "output_type": "stream",
          "name": "stderr",
          "text": [
            "\n"
          ]
        },
        {
          "output_type": "stream",
          "name": "stdout",
          "text": [
            "\n",
            "      Epoch    GPU_mem   box_loss   seg_loss   cls_loss   dfl_loss  Instances       Size\n"
          ]
        },
        {
          "output_type": "stream",
          "name": "stderr",
          "text": [
            "     64/200      6.81G      1.224      1.709     0.7891       1.01        284        640: 100%|██████████| 5/5 [00:03<00:00,  1.33it/s]\n",
            "                 Class     Images  Instances      Box(P          R      mAP50  mAP50-95)     Mask(P          R      mAP50  mAP50-95): 100%|██████████| 1/1 [00:00<00:00,  1.75it/s]"
          ]
        },
        {
          "output_type": "stream",
          "name": "stdout",
          "text": [
            "                   all          5        154      0.754      0.678       0.74      0.323      0.688      0.675      0.723      0.307\n"
          ]
        },
        {
          "output_type": "stream",
          "name": "stderr",
          "text": [
            "\n"
          ]
        },
        {
          "output_type": "stream",
          "name": "stdout",
          "text": [
            "\n",
            "      Epoch    GPU_mem   box_loss   seg_loss   cls_loss   dfl_loss  Instances       Size\n"
          ]
        },
        {
          "output_type": "stream",
          "name": "stderr",
          "text": [
            "     65/200      6.86G        1.2      1.672      0.751     0.9905        320        640: 100%|██████████| 5/5 [00:03<00:00,  1.59it/s]\n",
            "                 Class     Images  Instances      Box(P          R      mAP50  mAP50-95)     Mask(P          R      mAP50  mAP50-95): 100%|██████████| 1/1 [00:00<00:00,  4.39it/s]"
          ]
        },
        {
          "output_type": "stream",
          "name": "stdout",
          "text": [
            "                   all          5        154      0.752      0.649      0.709      0.318      0.726      0.649      0.725      0.309\n"
          ]
        },
        {
          "output_type": "stream",
          "name": "stderr",
          "text": [
            "\n"
          ]
        },
        {
          "output_type": "stream",
          "name": "stdout",
          "text": [
            "\n",
            "      Epoch    GPU_mem   box_loss   seg_loss   cls_loss   dfl_loss  Instances       Size\n"
          ]
        },
        {
          "output_type": "stream",
          "name": "stderr",
          "text": [
            "     66/200       6.9G      1.221      1.708      0.778     0.9983        501        640: 100%|██████████| 5/5 [00:03<00:00,  1.52it/s]\n",
            "                 Class     Images  Instances      Box(P          R      mAP50  mAP50-95)     Mask(P          R      mAP50  mAP50-95): 100%|██████████| 1/1 [00:00<00:00,  2.64it/s]"
          ]
        },
        {
          "output_type": "stream",
          "name": "stdout",
          "text": [
            "                   all          5        154      0.739      0.662      0.709      0.318      0.723       0.66      0.716      0.308\n"
          ]
        },
        {
          "output_type": "stream",
          "name": "stderr",
          "text": [
            "\n"
          ]
        },
        {
          "output_type": "stream",
          "name": "stdout",
          "text": [
            "\n",
            "      Epoch    GPU_mem   box_loss   seg_loss   cls_loss   dfl_loss  Instances       Size\n"
          ]
        },
        {
          "output_type": "stream",
          "name": "stderr",
          "text": [
            "     67/200      6.94G      1.211      1.676     0.7779      1.002        451        640: 100%|██████████| 5/5 [00:04<00:00,  1.15it/s]\n",
            "                 Class     Images  Instances      Box(P          R      mAP50  mAP50-95)     Mask(P          R      mAP50  mAP50-95): 100%|██████████| 1/1 [00:00<00:00,  2.72it/s]"
          ]
        },
        {
          "output_type": "stream",
          "name": "stdout",
          "text": [
            "                   all          5        154       0.74      0.649      0.712      0.321      0.726      0.638      0.719      0.309\n"
          ]
        },
        {
          "output_type": "stream",
          "name": "stderr",
          "text": [
            "\n"
          ]
        },
        {
          "output_type": "stream",
          "name": "stdout",
          "text": [
            "\n",
            "      Epoch    GPU_mem   box_loss   seg_loss   cls_loss   dfl_loss  Instances       Size\n"
          ]
        },
        {
          "output_type": "stream",
          "name": "stderr",
          "text": [
            "     68/200      6.99G      1.124      1.608     0.7252     0.9877        367        640: 100%|██████████| 5/5 [00:03<00:00,  1.52it/s]\n",
            "                 Class     Images  Instances      Box(P          R      mAP50  mAP50-95)     Mask(P          R      mAP50  mAP50-95): 100%|██████████| 1/1 [00:00<00:00,  2.29it/s]"
          ]
        },
        {
          "output_type": "stream",
          "name": "stdout",
          "text": [
            "                   all          5        154      0.747      0.651       0.72      0.315      0.765      0.656      0.738      0.307\n"
          ]
        },
        {
          "output_type": "stream",
          "name": "stderr",
          "text": [
            "\n"
          ]
        },
        {
          "output_type": "stream",
          "name": "stdout",
          "text": [
            "\n",
            "      Epoch    GPU_mem   box_loss   seg_loss   cls_loss   dfl_loss  Instances       Size\n"
          ]
        },
        {
          "output_type": "stream",
          "name": "stderr",
          "text": [
            "     69/200      7.03G      1.197      1.694     0.7566      1.004        368        640: 100%|██████████| 5/5 [00:03<00:00,  1.43it/s]\n",
            "                 Class     Images  Instances      Box(P          R      mAP50  mAP50-95)     Mask(P          R      mAP50  mAP50-95): 100%|██████████| 1/1 [00:00<00:00,  2.25it/s]"
          ]
        },
        {
          "output_type": "stream",
          "name": "stdout",
          "text": [
            "                   all          5        154      0.762      0.643      0.724      0.314      0.765      0.643      0.738       0.31\n"
          ]
        },
        {
          "output_type": "stream",
          "name": "stderr",
          "text": [
            "\n"
          ]
        },
        {
          "output_type": "stream",
          "name": "stdout",
          "text": [
            "\n",
            "      Epoch    GPU_mem   box_loss   seg_loss   cls_loss   dfl_loss  Instances       Size\n"
          ]
        },
        {
          "output_type": "stream",
          "name": "stderr",
          "text": [
            "     70/200      7.07G      1.156      1.618     0.7415     0.9896        363        640: 100%|██████████| 5/5 [00:03<00:00,  1.49it/s]\n",
            "                 Class     Images  Instances      Box(P          R      mAP50  mAP50-95)     Mask(P          R      mAP50  mAP50-95): 100%|██████████| 1/1 [00:00<00:00,  3.41it/s]"
          ]
        },
        {
          "output_type": "stream",
          "name": "stdout",
          "text": [
            "                   all          5        154      0.749      0.643      0.723      0.312       0.75      0.643      0.735      0.305\n"
          ]
        },
        {
          "output_type": "stream",
          "name": "stderr",
          "text": [
            "\n"
          ]
        },
        {
          "output_type": "stream",
          "name": "stdout",
          "text": [
            "\n",
            "      Epoch    GPU_mem   box_loss   seg_loss   cls_loss   dfl_loss  Instances       Size\n"
          ]
        },
        {
          "output_type": "stream",
          "name": "stderr",
          "text": [
            "     71/200      7.12G      1.135      1.623      0.728     0.9854        335        640: 100%|██████████| 5/5 [00:03<00:00,  1.52it/s]\n",
            "                 Class     Images  Instances      Box(P          R      mAP50  mAP50-95)     Mask(P          R      mAP50  mAP50-95): 100%|██████████| 1/1 [00:00<00:00,  4.94it/s]"
          ]
        },
        {
          "output_type": "stream",
          "name": "stdout",
          "text": [
            "                   all          5        154      0.757      0.648      0.729      0.313      0.745       0.63      0.732      0.304\n"
          ]
        },
        {
          "output_type": "stream",
          "name": "stderr",
          "text": [
            "\n"
          ]
        },
        {
          "output_type": "stream",
          "name": "stdout",
          "text": [
            "\n",
            "      Epoch    GPU_mem   box_loss   seg_loss   cls_loss   dfl_loss  Instances       Size\n"
          ]
        },
        {
          "output_type": "stream",
          "name": "stderr",
          "text": [
            "     72/200      7.16G      1.161      1.652     0.7498     0.9943        331        640: 100%|██████████| 5/5 [00:04<00:00,  1.19it/s]\n",
            "                 Class     Images  Instances      Box(P          R      mAP50  mAP50-95)     Mask(P          R      mAP50  mAP50-95): 100%|██████████| 1/1 [00:00<00:00,  4.43it/s]"
          ]
        },
        {
          "output_type": "stream",
          "name": "stdout",
          "text": [
            "                   all          5        154       0.73      0.656      0.718      0.305      0.717      0.656      0.715      0.299\n"
          ]
        },
        {
          "output_type": "stream",
          "name": "stderr",
          "text": [
            "\n"
          ]
        },
        {
          "output_type": "stream",
          "name": "stdout",
          "text": [
            "\n",
            "      Epoch    GPU_mem   box_loss   seg_loss   cls_loss   dfl_loss  Instances       Size\n"
          ]
        },
        {
          "output_type": "stream",
          "name": "stderr",
          "text": [
            "     73/200       7.2G      1.134      1.597     0.7253     0.9915        366        640: 100%|██████████| 5/5 [00:03<00:00,  1.40it/s]\n",
            "                 Class     Images  Instances      Box(P          R      mAP50  mAP50-95)     Mask(P          R      mAP50  mAP50-95): 100%|██████████| 1/1 [00:00<00:00,  2.52it/s]"
          ]
        },
        {
          "output_type": "stream",
          "name": "stdout",
          "text": [
            "                   all          5        154      0.703      0.643      0.694      0.304      0.711      0.656      0.718      0.293\n"
          ]
        },
        {
          "output_type": "stream",
          "name": "stderr",
          "text": [
            "\n"
          ]
        },
        {
          "output_type": "stream",
          "name": "stdout",
          "text": [
            "\n",
            "      Epoch    GPU_mem   box_loss   seg_loss   cls_loss   dfl_loss  Instances       Size\n"
          ]
        },
        {
          "output_type": "stream",
          "name": "stderr",
          "text": [
            "     74/200      7.25G      1.171      1.633     0.7424     0.9848        428        640: 100%|██████████| 5/5 [00:03<00:00,  1.27it/s]\n",
            "                 Class     Images  Instances      Box(P          R      mAP50  mAP50-95)     Mask(P          R      mAP50  mAP50-95): 100%|██████████| 1/1 [00:00<00:00,  1.98it/s]"
          ]
        },
        {
          "output_type": "stream",
          "name": "stdout",
          "text": [
            "                   all          5        154      0.705      0.649      0.693      0.304      0.702      0.688      0.733      0.293\n"
          ]
        },
        {
          "output_type": "stream",
          "name": "stderr",
          "text": [
            "\n"
          ]
        },
        {
          "output_type": "stream",
          "name": "stdout",
          "text": [
            "\n",
            "      Epoch    GPU_mem   box_loss   seg_loss   cls_loss   dfl_loss  Instances       Size\n"
          ]
        },
        {
          "output_type": "stream",
          "name": "stderr",
          "text": [
            "     75/200      7.29G      1.201      1.653     0.7525     0.9926        462        640: 100%|██████████| 5/5 [00:03<00:00,  1.56it/s]\n",
            "                 Class     Images  Instances      Box(P          R      mAP50  mAP50-95)     Mask(P          R      mAP50  mAP50-95): 100%|██████████| 1/1 [00:00<00:00,  2.95it/s]"
          ]
        },
        {
          "output_type": "stream",
          "name": "stdout",
          "text": [
            "                   all          5        154      0.721      0.656      0.707      0.302      0.705      0.656      0.729      0.292\n"
          ]
        },
        {
          "output_type": "stream",
          "name": "stderr",
          "text": [
            "\n"
          ]
        },
        {
          "output_type": "stream",
          "name": "stdout",
          "text": [
            "\n",
            "      Epoch    GPU_mem   box_loss   seg_loss   cls_loss   dfl_loss  Instances       Size\n"
          ]
        },
        {
          "output_type": "stream",
          "name": "stderr",
          "text": [
            "     76/200      7.33G      1.189      1.706     0.7573      1.017        353        640: 100%|██████████| 5/5 [00:03<00:00,  1.61it/s]\n",
            "                 Class     Images  Instances      Box(P          R      mAP50  mAP50-95)     Mask(P          R      mAP50  mAP50-95): 100%|██████████| 1/1 [00:00<00:00,  3.09it/s]"
          ]
        },
        {
          "output_type": "stream",
          "name": "stdout",
          "text": [
            "                   all          5        154      0.724      0.636      0.707        0.3      0.677      0.723      0.729      0.297\n"
          ]
        },
        {
          "output_type": "stream",
          "name": "stderr",
          "text": [
            "\n"
          ]
        },
        {
          "output_type": "stream",
          "name": "stdout",
          "text": [
            "\n",
            "      Epoch    GPU_mem   box_loss   seg_loss   cls_loss   dfl_loss  Instances       Size\n"
          ]
        },
        {
          "output_type": "stream",
          "name": "stderr",
          "text": [
            "     77/200      7.38G      1.148      1.606     0.7111     0.9866        378        640: 100%|██████████| 5/5 [00:04<00:00,  1.19it/s]\n",
            "                 Class     Images  Instances      Box(P          R      mAP50  mAP50-95)     Mask(P          R      mAP50  mAP50-95): 100%|██████████| 1/1 [00:00<00:00,  2.74it/s]"
          ]
        },
        {
          "output_type": "stream",
          "name": "stdout",
          "text": [
            "                   all          5        154      0.722      0.639      0.706      0.296      0.727      0.657      0.724      0.297\n"
          ]
        },
        {
          "output_type": "stream",
          "name": "stderr",
          "text": [
            "\n"
          ]
        },
        {
          "output_type": "stream",
          "name": "stdout",
          "text": [
            "\n",
            "      Epoch    GPU_mem   box_loss   seg_loss   cls_loss   dfl_loss  Instances       Size\n"
          ]
        },
        {
          "output_type": "stream",
          "name": "stderr",
          "text": [
            "     78/200      6.16G      1.165      1.622     0.7229     0.9802        485        640: 100%|██████████| 5/5 [00:03<00:00,  1.66it/s]\n",
            "                 Class     Images  Instances      Box(P          R      mAP50  mAP50-95)     Mask(P          R      mAP50  mAP50-95): 100%|██████████| 1/1 [00:00<00:00,  2.75it/s]"
          ]
        },
        {
          "output_type": "stream",
          "name": "stdout",
          "text": [
            "                   all          5        154      0.709      0.649       0.71      0.311      0.686      0.682      0.734      0.306\n"
          ]
        },
        {
          "output_type": "stream",
          "name": "stderr",
          "text": [
            "\n"
          ]
        },
        {
          "output_type": "stream",
          "name": "stdout",
          "text": [
            "\n",
            "      Epoch    GPU_mem   box_loss   seg_loss   cls_loss   dfl_loss  Instances       Size\n"
          ]
        },
        {
          "output_type": "stream",
          "name": "stderr",
          "text": [
            "     79/200      6.16G      1.159       1.64     0.7145     0.9714        404        640: 100%|██████████| 5/5 [00:04<00:00,  1.25it/s]\n",
            "                 Class     Images  Instances      Box(P          R      mAP50  mAP50-95)     Mask(P          R      mAP50  mAP50-95): 100%|██████████| 1/1 [00:00<00:00,  1.79it/s]"
          ]
        },
        {
          "output_type": "stream",
          "name": "stdout",
          "text": [
            "                   all          5        154      0.722      0.656      0.714      0.311       0.73      0.682      0.735      0.305\n"
          ]
        },
        {
          "output_type": "stream",
          "name": "stderr",
          "text": [
            "\n"
          ]
        },
        {
          "output_type": "stream",
          "name": "stdout",
          "text": [
            "\n",
            "      Epoch    GPU_mem   box_loss   seg_loss   cls_loss   dfl_loss  Instances       Size\n"
          ]
        },
        {
          "output_type": "stream",
          "name": "stderr",
          "text": [
            "     80/200      6.16G      1.115      1.594     0.7005     0.9833        322        640: 100%|██████████| 5/5 [00:03<00:00,  1.52it/s]\n",
            "                 Class     Images  Instances      Box(P          R      mAP50  mAP50-95)     Mask(P          R      mAP50  mAP50-95): 100%|██████████| 1/1 [00:00<00:00,  2.44it/s]"
          ]
        },
        {
          "output_type": "stream",
          "name": "stdout",
          "text": [
            "                   all          5        154      0.737      0.643      0.693      0.311      0.711      0.702      0.728      0.302\n"
          ]
        },
        {
          "output_type": "stream",
          "name": "stderr",
          "text": [
            "\n"
          ]
        },
        {
          "output_type": "stream",
          "name": "stdout",
          "text": [
            "\n",
            "      Epoch    GPU_mem   box_loss   seg_loss   cls_loss   dfl_loss  Instances       Size\n"
          ]
        },
        {
          "output_type": "stream",
          "name": "stderr",
          "text": [
            "     81/200      6.16G      1.182      1.665     0.7172     0.9873        396        640: 100%|██████████| 5/5 [00:03<00:00,  1.49it/s]\n",
            "                 Class     Images  Instances      Box(P          R      mAP50  mAP50-95)     Mask(P          R      mAP50  mAP50-95): 100%|██████████| 1/1 [00:00<00:00,  2.97it/s]"
          ]
        },
        {
          "output_type": "stream",
          "name": "stdout",
          "text": [
            "                   all          5        154      0.741      0.632      0.675      0.307      0.709      0.714      0.721      0.302\n"
          ]
        },
        {
          "output_type": "stream",
          "name": "stderr",
          "text": [
            "\n"
          ]
        },
        {
          "output_type": "stream",
          "name": "stdout",
          "text": [
            "\n",
            "      Epoch    GPU_mem   box_loss   seg_loss   cls_loss   dfl_loss  Instances       Size\n"
          ]
        },
        {
          "output_type": "stream",
          "name": "stderr",
          "text": [
            "     82/200      6.16G      1.142      1.584     0.6889     0.9761        319        640: 100%|██████████| 5/5 [00:04<00:00,  1.24it/s]\n",
            "                 Class     Images  Instances      Box(P          R      mAP50  mAP50-95)     Mask(P          R      mAP50  mAP50-95): 100%|██████████| 1/1 [00:00<00:00,  2.75it/s]"
          ]
        },
        {
          "output_type": "stream",
          "name": "stdout",
          "text": [
            "                   all          5        154      0.737       0.63      0.666      0.304      0.753      0.656      0.717      0.303\n"
          ]
        },
        {
          "output_type": "stream",
          "name": "stderr",
          "text": [
            "\n"
          ]
        },
        {
          "output_type": "stream",
          "name": "stdout",
          "text": [
            "\n",
            "      Epoch    GPU_mem   box_loss   seg_loss   cls_loss   dfl_loss  Instances       Size\n"
          ]
        },
        {
          "output_type": "stream",
          "name": "stderr",
          "text": [
            "     83/200      6.16G      1.122      1.546     0.6859     0.9722        307        640: 100%|██████████| 5/5 [00:03<00:00,  1.59it/s]\n",
            "                 Class     Images  Instances      Box(P          R      mAP50  mAP50-95)     Mask(P          R      mAP50  mAP50-95): 100%|██████████| 1/1 [00:00<00:00,  3.24it/s]"
          ]
        },
        {
          "output_type": "stream",
          "name": "stdout",
          "text": [
            "                   all          5        154       0.72      0.617      0.674      0.303      0.698       0.69      0.716      0.303\n"
          ]
        },
        {
          "output_type": "stream",
          "name": "stderr",
          "text": [
            "\n"
          ]
        },
        {
          "output_type": "stream",
          "name": "stdout",
          "text": [
            "\n",
            "      Epoch    GPU_mem   box_loss   seg_loss   cls_loss   dfl_loss  Instances       Size\n"
          ]
        },
        {
          "output_type": "stream",
          "name": "stderr",
          "text": [
            "     84/200      6.16G      1.113      1.553     0.7025     0.9723        375        640: 100%|██████████| 5/5 [00:03<00:00,  1.27it/s]\n",
            "                 Class     Images  Instances      Box(P          R      mAP50  mAP50-95)     Mask(P          R      mAP50  mAP50-95): 100%|██████████| 1/1 [00:00<00:00,  1.49it/s]"
          ]
        },
        {
          "output_type": "stream",
          "name": "stdout",
          "text": [
            "                   all          5        154      0.677      0.669      0.696      0.305      0.697      0.688      0.727      0.299\n"
          ]
        },
        {
          "output_type": "stream",
          "name": "stderr",
          "text": [
            "\n"
          ]
        },
        {
          "output_type": "stream",
          "name": "stdout",
          "text": [
            "\n",
            "      Epoch    GPU_mem   box_loss   seg_loss   cls_loss   dfl_loss  Instances       Size\n"
          ]
        },
        {
          "output_type": "stream",
          "name": "stderr",
          "text": [
            "     85/200      6.18G      1.168      1.671      0.753     0.9984        419        640: 100%|██████████| 5/5 [00:03<00:00,  1.62it/s]\n",
            "                 Class     Images  Instances      Box(P          R      mAP50  mAP50-95)     Mask(P          R      mAP50  mAP50-95): 100%|██████████| 1/1 [00:00<00:00,  3.03it/s]"
          ]
        },
        {
          "output_type": "stream",
          "name": "stdout",
          "text": [
            "                   all          5        154      0.691      0.669      0.714      0.308      0.684      0.688      0.743        0.3\n"
          ]
        },
        {
          "output_type": "stream",
          "name": "stderr",
          "text": [
            "\n"
          ]
        },
        {
          "output_type": "stream",
          "name": "stdout",
          "text": [
            "\n",
            "      Epoch    GPU_mem   box_loss   seg_loss   cls_loss   dfl_loss  Instances       Size\n"
          ]
        },
        {
          "output_type": "stream",
          "name": "stderr",
          "text": [
            "     86/200      6.22G      1.102      1.545      0.692     0.9634        299        640: 100%|██████████| 5/5 [00:03<00:00,  1.53it/s]\n",
            "                 Class     Images  Instances      Box(P          R      mAP50  mAP50-95)     Mask(P          R      mAP50  mAP50-95): 100%|██████████| 1/1 [00:00<00:00,  3.45it/s]"
          ]
        },
        {
          "output_type": "stream",
          "name": "stdout",
          "text": [
            "                   all          5        154      0.688      0.656      0.701       0.31      0.697      0.701      0.749      0.303\n"
          ]
        },
        {
          "output_type": "stream",
          "name": "stderr",
          "text": [
            "\n"
          ]
        },
        {
          "output_type": "stream",
          "name": "stdout",
          "text": [
            "\n",
            "      Epoch    GPU_mem   box_loss   seg_loss   cls_loss   dfl_loss  Instances       Size\n"
          ]
        },
        {
          "output_type": "stream",
          "name": "stderr",
          "text": [
            "     87/200      6.27G      1.088      1.536     0.6789     0.9557        325        640: 100%|██████████| 5/5 [00:03<00:00,  1.27it/s]\n",
            "                 Class     Images  Instances      Box(P          R      mAP50  mAP50-95)     Mask(P          R      mAP50  mAP50-95): 100%|██████████| 1/1 [00:00<00:00,  3.04it/s]"
          ]
        },
        {
          "output_type": "stream",
          "name": "stdout",
          "text": [
            "                   all          5        154      0.737      0.604      0.691       0.31      0.685      0.688      0.736      0.299\n"
          ]
        },
        {
          "output_type": "stream",
          "name": "stderr",
          "text": [
            "\n"
          ]
        },
        {
          "output_type": "stream",
          "name": "stdout",
          "text": [
            "\n",
            "      Epoch    GPU_mem   box_loss   seg_loss   cls_loss   dfl_loss  Instances       Size\n"
          ]
        },
        {
          "output_type": "stream",
          "name": "stderr",
          "text": [
            "     88/200      6.31G      1.107      1.534     0.6843     0.9743        251        640: 100%|██████████| 5/5 [00:03<00:00,  1.36it/s]\n",
            "                 Class     Images  Instances      Box(P          R      mAP50  mAP50-95)     Mask(P          R      mAP50  mAP50-95): 100%|██████████| 1/1 [00:00<00:00,  2.61it/s]"
          ]
        },
        {
          "output_type": "stream",
          "name": "stdout",
          "text": [
            "                   all          5        154      0.725      0.666      0.704      0.306      0.716      0.714      0.743      0.307\n"
          ]
        },
        {
          "output_type": "stream",
          "name": "stderr",
          "text": [
            "\n"
          ]
        },
        {
          "output_type": "stream",
          "name": "stdout",
          "text": [
            "\n",
            "      Epoch    GPU_mem   box_loss   seg_loss   cls_loss   dfl_loss  Instances       Size\n"
          ]
        },
        {
          "output_type": "stream",
          "name": "stderr",
          "text": [
            "     89/200      6.35G      1.114      1.611     0.6999     0.9857        326        640: 100%|██████████| 5/5 [00:03<00:00,  1.26it/s]\n",
            "                 Class     Images  Instances      Box(P          R      mAP50  mAP50-95)     Mask(P          R      mAP50  mAP50-95): 100%|██████████| 1/1 [00:00<00:00,  2.00it/s]"
          ]
        },
        {
          "output_type": "stream",
          "name": "stdout",
          "text": [
            "                   all          5        154      0.708      0.669      0.705      0.307      0.708      0.747       0.75       0.31\n"
          ]
        },
        {
          "output_type": "stream",
          "name": "stderr",
          "text": [
            "\n"
          ]
        },
        {
          "output_type": "stream",
          "name": "stdout",
          "text": [
            "\n",
            "      Epoch    GPU_mem   box_loss   seg_loss   cls_loss   dfl_loss  Instances       Size\n"
          ]
        },
        {
          "output_type": "stream",
          "name": "stderr",
          "text": [
            "     90/200       6.4G      1.101      1.551     0.6718     0.9616        307        640: 100%|██████████| 5/5 [00:03<00:00,  1.57it/s]\n",
            "                 Class     Images  Instances      Box(P          R      mAP50  mAP50-95)     Mask(P          R      mAP50  mAP50-95): 100%|██████████| 1/1 [00:00<00:00,  3.06it/s]"
          ]
        },
        {
          "output_type": "stream",
          "name": "stdout",
          "text": [
            "                   all          5        154      0.712      0.688      0.724      0.309      0.671       0.76      0.742      0.312\n"
          ]
        },
        {
          "output_type": "stream",
          "name": "stderr",
          "text": [
            "\n"
          ]
        },
        {
          "output_type": "stream",
          "name": "stdout",
          "text": [
            "\n",
            "      Epoch    GPU_mem   box_loss   seg_loss   cls_loss   dfl_loss  Instances       Size\n"
          ]
        },
        {
          "output_type": "stream",
          "name": "stderr",
          "text": [
            "     91/200      6.65G      1.109      1.524     0.6698     0.9579        354        640: 100%|██████████| 5/5 [00:03<00:00,  1.46it/s]\n",
            "                 Class     Images  Instances      Box(P          R      mAP50  mAP50-95)     Mask(P          R      mAP50  mAP50-95): 100%|██████████| 1/1 [00:00<00:00,  4.10it/s]"
          ]
        },
        {
          "output_type": "stream",
          "name": "stdout",
          "text": [
            "                   all          5        154      0.687      0.669      0.714      0.311      0.671      0.766       0.74      0.314\n"
          ]
        },
        {
          "output_type": "stream",
          "name": "stderr",
          "text": [
            "\n"
          ]
        },
        {
          "output_type": "stream",
          "name": "stdout",
          "text": [
            "\n",
            "      Epoch    GPU_mem   box_loss   seg_loss   cls_loss   dfl_loss  Instances       Size\n"
          ]
        },
        {
          "output_type": "stream",
          "name": "stderr",
          "text": [
            "     92/200       6.7G      1.125      1.595     0.6907     0.9732        259        640: 100%|██████████| 5/5 [00:03<00:00,  1.29it/s]\n",
            "                 Class     Images  Instances      Box(P          R      mAP50  mAP50-95)     Mask(P          R      mAP50  mAP50-95): 100%|██████████| 1/1 [00:00<00:00,  2.79it/s]"
          ]
        },
        {
          "output_type": "stream",
          "name": "stdout",
          "text": [
            "                   all          5        154      0.735      0.656      0.723      0.312      0.676      0.773      0.759       0.31\n"
          ]
        },
        {
          "output_type": "stream",
          "name": "stderr",
          "text": [
            "\n"
          ]
        },
        {
          "output_type": "stream",
          "name": "stdout",
          "text": [
            "\n",
            "      Epoch    GPU_mem   box_loss   seg_loss   cls_loss   dfl_loss  Instances       Size\n"
          ]
        },
        {
          "output_type": "stream",
          "name": "stderr",
          "text": [
            "     93/200      6.74G      1.113      1.579      0.682      0.964        334        640: 100%|██████████| 5/5 [00:03<00:00,  1.56it/s]\n",
            "                 Class     Images  Instances      Box(P          R      mAP50  mAP50-95)     Mask(P          R      mAP50  mAP50-95): 100%|██████████| 1/1 [00:00<00:00,  3.10it/s]"
          ]
        },
        {
          "output_type": "stream",
          "name": "stdout",
          "text": [
            "                   all          5        154      0.743      0.658       0.72       0.31      0.678      0.773       0.77      0.305\n"
          ]
        },
        {
          "output_type": "stream",
          "name": "stderr",
          "text": [
            "\n"
          ]
        },
        {
          "output_type": "stream",
          "name": "stdout",
          "text": [
            "\n",
            "      Epoch    GPU_mem   box_loss   seg_loss   cls_loss   dfl_loss  Instances       Size\n"
          ]
        },
        {
          "output_type": "stream",
          "name": "stderr",
          "text": [
            "     94/200      6.89G      1.104      1.537     0.6788     0.9583        359        640: 100%|██████████| 5/5 [00:04<00:00,  1.19it/s]\n",
            "                 Class     Images  Instances      Box(P          R      mAP50  mAP50-95)     Mask(P          R      mAP50  mAP50-95): 100%|██████████| 1/1 [00:00<00:00,  2.06it/s]"
          ]
        },
        {
          "output_type": "stream",
          "name": "stdout",
          "text": [
            "                   all          5        154      0.715      0.649      0.712      0.307      0.694      0.721      0.746      0.306\n"
          ]
        },
        {
          "output_type": "stream",
          "name": "stderr",
          "text": [
            "\n"
          ]
        },
        {
          "output_type": "stream",
          "name": "stdout",
          "text": [
            "\n",
            "      Epoch    GPU_mem   box_loss   seg_loss   cls_loss   dfl_loss  Instances       Size\n"
          ]
        },
        {
          "output_type": "stream",
          "name": "stderr",
          "text": [
            "     95/200      6.94G      1.106      1.535     0.6659     0.9648        328        640: 100%|██████████| 5/5 [00:03<00:00,  1.45it/s]\n",
            "                 Class     Images  Instances      Box(P          R      mAP50  mAP50-95)     Mask(P          R      mAP50  mAP50-95): 100%|██████████| 1/1 [00:00<00:00,  2.89it/s]"
          ]
        },
        {
          "output_type": "stream",
          "name": "stdout",
          "text": [
            "                   all          5        154      0.717      0.656      0.714      0.311      0.678      0.779      0.746      0.304\n"
          ]
        },
        {
          "output_type": "stream",
          "name": "stderr",
          "text": [
            "\n"
          ]
        },
        {
          "output_type": "stream",
          "name": "stdout",
          "text": [
            "\n",
            "      Epoch    GPU_mem   box_loss   seg_loss   cls_loss   dfl_loss  Instances       Size\n"
          ]
        },
        {
          "output_type": "stream",
          "name": "stderr",
          "text": [
            "     96/200      6.98G      1.054       1.48     0.6503     0.9429        280        640: 100%|██████████| 5/5 [00:03<00:00,  1.38it/s]\n",
            "                 Class     Images  Instances      Box(P          R      mAP50  mAP50-95)     Mask(P          R      mAP50  mAP50-95): 100%|██████████| 1/1 [00:00<00:00,  2.18it/s]"
          ]
        },
        {
          "output_type": "stream",
          "name": "stdout",
          "text": [
            "                   all          5        154      0.705      0.649      0.681      0.301      0.672       0.76      0.733      0.306\n"
          ]
        },
        {
          "output_type": "stream",
          "name": "stderr",
          "text": [
            "\n"
          ]
        },
        {
          "output_type": "stream",
          "name": "stdout",
          "text": [
            "\n",
            "      Epoch    GPU_mem   box_loss   seg_loss   cls_loss   dfl_loss  Instances       Size\n"
          ]
        },
        {
          "output_type": "stream",
          "name": "stderr",
          "text": [
            "     97/200      7.25G      1.095      1.559     0.6505     0.9599        407        640: 100%|██████████| 5/5 [00:03<00:00,  1.43it/s]\n",
            "                 Class     Images  Instances      Box(P          R      mAP50  mAP50-95)     Mask(P          R      mAP50  mAP50-95): 100%|██████████| 1/1 [00:00<00:00,  2.50it/s]"
          ]
        },
        {
          "output_type": "stream",
          "name": "stdout",
          "text": [
            "                   all          5        154      0.722      0.649      0.673      0.297      0.678      0.727      0.712      0.303\n"
          ]
        },
        {
          "output_type": "stream",
          "name": "stderr",
          "text": [
            "\n"
          ]
        },
        {
          "output_type": "stream",
          "name": "stdout",
          "text": [
            "\n",
            "      Epoch    GPU_mem   box_loss   seg_loss   cls_loss   dfl_loss  Instances       Size\n"
          ]
        },
        {
          "output_type": "stream",
          "name": "stderr",
          "text": [
            "     98/200       7.3G      1.062      1.536      0.665      0.967        320        640: 100%|██████████| 5/5 [00:03<00:00,  1.49it/s]\n",
            "                 Class     Images  Instances      Box(P          R      mAP50  mAP50-95)     Mask(P          R      mAP50  mAP50-95): 100%|██████████| 1/1 [00:00<00:00,  2.43it/s]"
          ]
        },
        {
          "output_type": "stream",
          "name": "stdout",
          "text": [
            "                   all          5        154      0.702      0.643      0.669      0.296      0.716      0.662      0.701      0.302\n"
          ]
        },
        {
          "output_type": "stream",
          "name": "stderr",
          "text": [
            "\n"
          ]
        },
        {
          "output_type": "stream",
          "name": "stdout",
          "text": [
            "\n",
            "      Epoch    GPU_mem   box_loss   seg_loss   cls_loss   dfl_loss  Instances       Size\n"
          ]
        },
        {
          "output_type": "stream",
          "name": "stderr",
          "text": [
            "     99/200      7.34G      1.088      1.504     0.6668     0.9454        558        640: 100%|██████████| 5/5 [00:04<00:00,  1.14it/s]\n",
            "                 Class     Images  Instances      Box(P          R      mAP50  mAP50-95)     Mask(P          R      mAP50  mAP50-95): 100%|██████████| 1/1 [00:00<00:00,  2.65it/s]"
          ]
        },
        {
          "output_type": "stream",
          "name": "stdout",
          "text": [
            "                   all          5        154      0.698      0.644      0.663      0.296      0.725      0.669       0.71      0.305\n"
          ]
        },
        {
          "output_type": "stream",
          "name": "stderr",
          "text": [
            "\n"
          ]
        },
        {
          "output_type": "stream",
          "name": "stdout",
          "text": [
            "\n",
            "      Epoch    GPU_mem   box_loss   seg_loss   cls_loss   dfl_loss  Instances       Size\n"
          ]
        },
        {
          "output_type": "stream",
          "name": "stderr",
          "text": [
            "    100/200      7.38G      1.082      1.559     0.6523     0.9614        341        640: 100%|██████████| 5/5 [00:03<00:00,  1.53it/s]\n",
            "                 Class     Images  Instances      Box(P          R      mAP50  mAP50-95)     Mask(P          R      mAP50  mAP50-95): 100%|██████████| 1/1 [00:00<00:00,  2.99it/s]"
          ]
        },
        {
          "output_type": "stream",
          "name": "stdout",
          "text": [
            "                   all          5        154      0.719      0.636      0.669      0.299      0.752      0.669      0.717      0.301\n"
          ]
        },
        {
          "output_type": "stream",
          "name": "stderr",
          "text": [
            "\n"
          ]
        },
        {
          "output_type": "stream",
          "name": "stdout",
          "text": [
            "\n",
            "      Epoch    GPU_mem   box_loss   seg_loss   cls_loss   dfl_loss  Instances       Size\n"
          ]
        },
        {
          "output_type": "stream",
          "name": "stderr",
          "text": [
            "    101/200      6.16G      1.094       1.54      0.659     0.9594        401        640: 100%|██████████| 5/5 [00:03<00:00,  1.43it/s]\n",
            "                 Class     Images  Instances      Box(P          R      mAP50  mAP50-95)     Mask(P          R      mAP50  mAP50-95): 100%|██████████| 1/1 [00:00<00:00,  1.90it/s]"
          ]
        },
        {
          "output_type": "stream",
          "name": "stdout",
          "text": [
            "                   all          5        154       0.73       0.63      0.671        0.3       0.76      0.656      0.717      0.301\n"
          ]
        },
        {
          "output_type": "stream",
          "name": "stderr",
          "text": [
            "\n"
          ]
        },
        {
          "output_type": "stream",
          "name": "stdout",
          "text": [
            "\n",
            "      Epoch    GPU_mem   box_loss   seg_loss   cls_loss   dfl_loss  Instances       Size\n"
          ]
        },
        {
          "output_type": "stream",
          "name": "stderr",
          "text": [
            "    102/200      6.16G       1.07      1.519     0.6432     0.9519        463        640: 100%|██████████| 5/5 [00:03<00:00,  1.52it/s]\n",
            "                 Class     Images  Instances      Box(P          R      mAP50  mAP50-95)     Mask(P          R      mAP50  mAP50-95): 100%|██████████| 1/1 [00:00<00:00,  5.16it/s]"
          ]
        },
        {
          "output_type": "stream",
          "name": "stdout",
          "text": [
            "                   all          5        154      0.718       0.63      0.664      0.295      0.759      0.662      0.712        0.3\n"
          ]
        },
        {
          "output_type": "stream",
          "name": "stderr",
          "text": [
            "\n"
          ]
        },
        {
          "output_type": "stream",
          "name": "stdout",
          "text": [
            "\n",
            "      Epoch    GPU_mem   box_loss   seg_loss   cls_loss   dfl_loss  Instances       Size\n"
          ]
        },
        {
          "output_type": "stream",
          "name": "stderr",
          "text": [
            "    103/200      6.16G      1.082      1.544     0.6745     0.9656        385        640: 100%|██████████| 5/5 [00:03<00:00,  1.63it/s]\n",
            "                 Class     Images  Instances      Box(P          R      mAP50  mAP50-95)     Mask(P          R      mAP50  mAP50-95): 100%|██████████| 1/1 [00:00<00:00,  3.94it/s]"
          ]
        },
        {
          "output_type": "stream",
          "name": "stdout",
          "text": [
            "                   all          5        154      0.704      0.623      0.666      0.294      0.733      0.649      0.698      0.299\n"
          ]
        },
        {
          "output_type": "stream",
          "name": "stderr",
          "text": [
            "\n"
          ]
        },
        {
          "output_type": "stream",
          "name": "stdout",
          "text": [
            "\n",
            "      Epoch    GPU_mem   box_loss   seg_loss   cls_loss   dfl_loss  Instances       Size\n"
          ]
        },
        {
          "output_type": "stream",
          "name": "stderr",
          "text": [
            "    104/200      6.38G      1.036      1.462     0.6509      0.945        410        640: 100%|██████████| 5/5 [00:04<00:00,  1.13it/s]\n",
            "                 Class     Images  Instances      Box(P          R      mAP50  mAP50-95)     Mask(P          R      mAP50  mAP50-95): 100%|██████████| 1/1 [00:00<00:00,  2.97it/s]"
          ]
        },
        {
          "output_type": "stream",
          "name": "stdout",
          "text": [
            "                   all          5        154      0.633      0.672      0.644      0.292      0.657      0.685      0.668      0.286\n"
          ]
        },
        {
          "output_type": "stream",
          "name": "stderr",
          "text": [
            "\n"
          ]
        },
        {
          "output_type": "stream",
          "name": "stdout",
          "text": [
            "\n",
            "      Epoch    GPU_mem   box_loss   seg_loss   cls_loss   dfl_loss  Instances       Size\n"
          ]
        },
        {
          "output_type": "stream",
          "name": "stderr",
          "text": [
            "    105/200       6.6G      1.103      1.551     0.6626     0.9557        352        640: 100%|██████████| 5/5 [00:03<00:00,  1.53it/s]\n",
            "                 Class     Images  Instances      Box(P          R      mAP50  mAP50-95)     Mask(P          R      mAP50  mAP50-95): 100%|██████████| 1/1 [00:00<00:00,  2.97it/s]"
          ]
        },
        {
          "output_type": "stream",
          "name": "stdout",
          "text": [
            "                   all          5        154      0.644      0.669      0.644       0.29      0.675      0.701      0.673      0.289\n"
          ]
        },
        {
          "output_type": "stream",
          "name": "stderr",
          "text": [
            "\n"
          ]
        },
        {
          "output_type": "stream",
          "name": "stdout",
          "text": [
            "\n",
            "      Epoch    GPU_mem   box_loss   seg_loss   cls_loss   dfl_loss  Instances       Size\n"
          ]
        },
        {
          "output_type": "stream",
          "name": "stderr",
          "text": [
            "    106/200       6.6G      1.066      1.543     0.6578     0.9653        392        640: 100%|██████████| 5/5 [00:03<00:00,  1.30it/s]\n",
            "                 Class     Images  Instances      Box(P          R      mAP50  mAP50-95)     Mask(P          R      mAP50  mAP50-95): 100%|██████████| 1/1 [00:00<00:00,  1.71it/s]"
          ]
        },
        {
          "output_type": "stream",
          "name": "stdout",
          "text": [
            "                   all          5        154      0.653      0.682      0.656      0.292      0.678      0.711      0.677      0.291\n"
          ]
        },
        {
          "output_type": "stream",
          "name": "stderr",
          "text": [
            "\n"
          ]
        },
        {
          "output_type": "stream",
          "name": "stdout",
          "text": [
            "\n",
            "      Epoch    GPU_mem   box_loss   seg_loss   cls_loss   dfl_loss  Instances       Size\n"
          ]
        },
        {
          "output_type": "stream",
          "name": "stderr",
          "text": [
            "    107/200       6.6G      1.064      1.518      0.652     0.9557        422        640: 100%|██████████| 5/5 [00:03<00:00,  1.53it/s]\n",
            "                 Class     Images  Instances      Box(P          R      mAP50  mAP50-95)     Mask(P          R      mAP50  mAP50-95): 100%|██████████| 1/1 [00:00<00:00,  3.78it/s]"
          ]
        },
        {
          "output_type": "stream",
          "name": "stdout",
          "text": [
            "                   all          5        154      0.688      0.687       0.66      0.296      0.713      0.721      0.691      0.296\n"
          ]
        },
        {
          "output_type": "stream",
          "name": "stderr",
          "text": [
            "\n"
          ]
        },
        {
          "output_type": "stream",
          "name": "stdout",
          "text": [
            "\n",
            "      Epoch    GPU_mem   box_loss   seg_loss   cls_loss   dfl_loss  Instances       Size\n"
          ]
        },
        {
          "output_type": "stream",
          "name": "stderr",
          "text": [
            "    108/200      6.63G      1.074      1.508     0.6493     0.9547        270        640: 100%|██████████| 5/5 [00:03<00:00,  1.41it/s]\n",
            "                 Class     Images  Instances      Box(P          R      mAP50  mAP50-95)     Mask(P          R      mAP50  mAP50-95): 100%|██████████| 1/1 [00:00<00:00,  3.33it/s]"
          ]
        },
        {
          "output_type": "stream",
          "name": "stdout",
          "text": [
            "                   all          5        154      0.698       0.69      0.696       0.29      0.702      0.704      0.691      0.286\n"
          ]
        },
        {
          "output_type": "stream",
          "name": "stderr",
          "text": [
            "\n"
          ]
        },
        {
          "output_type": "stream",
          "name": "stdout",
          "text": [
            "\n",
            "      Epoch    GPU_mem   box_loss   seg_loss   cls_loss   dfl_loss  Instances       Size\n"
          ]
        },
        {
          "output_type": "stream",
          "name": "stderr",
          "text": [
            "    109/200      6.67G      1.074       1.52     0.6404     0.9662        284        640: 100%|██████████| 5/5 [00:03<00:00,  1.27it/s]\n",
            "                 Class     Images  Instances      Box(P          R      mAP50  mAP50-95)     Mask(P          R      mAP50  mAP50-95): 100%|██████████| 1/1 [00:00<00:00,  3.96it/s]"
          ]
        },
        {
          "output_type": "stream",
          "name": "stdout",
          "text": [
            "                   all          5        154      0.696      0.669      0.688      0.291      0.693      0.688      0.664      0.285\n"
          ]
        },
        {
          "output_type": "stream",
          "name": "stderr",
          "text": [
            "\n"
          ]
        },
        {
          "output_type": "stream",
          "name": "stdout",
          "text": [
            "\n",
            "      Epoch    GPU_mem   box_loss   seg_loss   cls_loss   dfl_loss  Instances       Size\n"
          ]
        },
        {
          "output_type": "stream",
          "name": "stderr",
          "text": [
            "    110/200      6.96G       1.08      1.535     0.6508     0.9491        366        640: 100%|██████████| 5/5 [00:03<00:00,  1.57it/s]\n",
            "                 Class     Images  Instances      Box(P          R      mAP50  mAP50-95)     Mask(P          R      mAP50  mAP50-95): 100%|██████████| 1/1 [00:00<00:00,  2.83it/s]"
          ]
        },
        {
          "output_type": "stream",
          "name": "stdout",
          "text": [
            "                   all          5        154      0.746      0.643      0.688      0.286      0.684      0.661      0.656      0.279\n"
          ]
        },
        {
          "output_type": "stream",
          "name": "stderr",
          "text": [
            "\n"
          ]
        },
        {
          "output_type": "stream",
          "name": "stdout",
          "text": [
            "\n",
            "      Epoch    GPU_mem   box_loss   seg_loss   cls_loss   dfl_loss  Instances       Size\n"
          ]
        },
        {
          "output_type": "stream",
          "name": "stderr",
          "text": [
            "    111/200      7.01G      1.064      1.542     0.6336     0.9551        391        640: 100%|██████████| 5/5 [00:03<00:00,  1.30it/s]\n",
            "                 Class     Images  Instances      Box(P          R      mAP50  mAP50-95)     Mask(P          R      mAP50  mAP50-95): 100%|██████████| 1/1 [00:00<00:00,  1.66it/s]"
          ]
        },
        {
          "output_type": "stream",
          "name": "stdout",
          "text": [
            "                   all          5        154      0.702      0.682      0.689      0.285      0.702      0.682      0.685      0.283\n"
          ]
        },
        {
          "output_type": "stream",
          "name": "stderr",
          "text": [
            "\n"
          ]
        },
        {
          "output_type": "stream",
          "name": "stdout",
          "text": [
            "\n",
            "      Epoch    GPU_mem   box_loss   seg_loss   cls_loss   dfl_loss  Instances       Size\n"
          ]
        },
        {
          "output_type": "stream",
          "name": "stderr",
          "text": [
            "    112/200      7.05G      1.044      1.479     0.6297     0.9447        364        640: 100%|██████████| 5/5 [00:03<00:00,  1.49it/s]\n",
            "                 Class     Images  Instances      Box(P          R      mAP50  mAP50-95)     Mask(P          R      mAP50  mAP50-95): 100%|██████████| 1/1 [00:00<00:00,  2.72it/s]"
          ]
        },
        {
          "output_type": "stream",
          "name": "stdout",
          "text": [
            "                   all          5        154      0.773      0.641      0.683      0.283      0.731      0.671      0.691      0.279\n"
          ]
        },
        {
          "output_type": "stream",
          "name": "stderr",
          "text": [
            "\n"
          ]
        },
        {
          "output_type": "stream",
          "name": "stdout",
          "text": [
            "\n",
            "      Epoch    GPU_mem   box_loss   seg_loss   cls_loss   dfl_loss  Instances       Size\n"
          ]
        },
        {
          "output_type": "stream",
          "name": "stderr",
          "text": [
            "    113/200      7.09G      1.084      1.534     0.6392     0.9535        352        640: 100%|██████████| 5/5 [00:03<00:00,  1.61it/s]\n",
            "                 Class     Images  Instances      Box(P          R      mAP50  mAP50-95)     Mask(P          R      mAP50  mAP50-95): 100%|██████████| 1/1 [00:00<00:00,  2.92it/s]"
          ]
        },
        {
          "output_type": "stream",
          "name": "stdout",
          "text": [
            "                   all          5        154      0.729      0.656      0.675      0.286       0.71      0.662      0.672      0.276\n"
          ]
        },
        {
          "output_type": "stream",
          "name": "stderr",
          "text": [
            "\n"
          ]
        },
        {
          "output_type": "stream",
          "name": "stdout",
          "text": [
            "\n",
            "      Epoch    GPU_mem   box_loss   seg_loss   cls_loss   dfl_loss  Instances       Size\n"
          ]
        },
        {
          "output_type": "stream",
          "name": "stderr",
          "text": [
            "    114/200      7.14G      1.055      1.466     0.6328     0.9333        352        640: 100%|██████████| 5/5 [00:04<00:00,  1.16it/s]\n",
            "                 Class     Images  Instances      Box(P          R      mAP50  mAP50-95)     Mask(P          R      mAP50  mAP50-95): 100%|██████████| 1/1 [00:00<00:00,  3.22it/s]"
          ]
        },
        {
          "output_type": "stream",
          "name": "stdout",
          "text": [
            "                   all          5        154      0.745      0.662      0.688      0.286      0.727      0.675      0.691       0.28\n"
          ]
        },
        {
          "output_type": "stream",
          "name": "stderr",
          "text": [
            "\n"
          ]
        },
        {
          "output_type": "stream",
          "name": "stdout",
          "text": [
            "\n",
            "      Epoch    GPU_mem   box_loss   seg_loss   cls_loss   dfl_loss  Instances       Size\n"
          ]
        },
        {
          "output_type": "stream",
          "name": "stderr",
          "text": [
            "    115/200      7.18G      1.033      1.487     0.6393     0.9403        364        640: 100%|██████████| 5/5 [00:03<00:00,  1.53it/s]\n",
            "                 Class     Images  Instances      Box(P          R      mAP50  mAP50-95)     Mask(P          R      mAP50  mAP50-95): 100%|██████████| 1/1 [00:00<00:00,  2.25it/s]"
          ]
        },
        {
          "output_type": "stream",
          "name": "stdout",
          "text": [
            "                   all          5        154      0.738      0.662      0.688      0.289      0.739       0.68      0.694      0.281\n"
          ]
        },
        {
          "output_type": "stream",
          "name": "stderr",
          "text": [
            "\n"
          ]
        },
        {
          "output_type": "stream",
          "name": "stdout",
          "text": [
            "\n",
            "      Epoch    GPU_mem   box_loss   seg_loss   cls_loss   dfl_loss  Instances       Size\n"
          ]
        },
        {
          "output_type": "stream",
          "name": "stderr",
          "text": [
            "    116/200      7.22G      1.031      1.472     0.6187     0.9403        462        640: 100%|██████████| 5/5 [00:04<00:00,  1.20it/s]\n",
            "                 Class     Images  Instances      Box(P          R      mAP50  mAP50-95)     Mask(P          R      mAP50  mAP50-95): 100%|██████████| 1/1 [00:00<00:00,  1.86it/s]"
          ]
        },
        {
          "output_type": "stream",
          "name": "stdout",
          "text": [
            "                   all          5        154      0.738      0.662      0.697      0.289      0.705      0.636      0.684      0.284\n"
          ]
        },
        {
          "output_type": "stream",
          "name": "stderr",
          "text": [
            "\n"
          ]
        },
        {
          "output_type": "stream",
          "name": "stdout",
          "text": [
            "\n",
            "      Epoch    GPU_mem   box_loss   seg_loss   cls_loss   dfl_loss  Instances       Size\n"
          ]
        },
        {
          "output_type": "stream",
          "name": "stderr",
          "text": [
            "    117/200      7.27G      1.011      1.435     0.6142     0.9381        282        640: 100%|██████████| 5/5 [00:03<00:00,  1.49it/s]\n",
            "                 Class     Images  Instances      Box(P          R      mAP50  mAP50-95)     Mask(P          R      mAP50  mAP50-95): 100%|██████████| 1/1 [00:00<00:00,  2.59it/s]"
          ]
        },
        {
          "output_type": "stream",
          "name": "stdout",
          "text": [
            "                   all          5        154      0.762      0.602      0.678      0.289      0.624      0.747      0.696      0.293\n"
          ]
        },
        {
          "output_type": "stream",
          "name": "stderr",
          "text": [
            "\n"
          ]
        },
        {
          "output_type": "stream",
          "name": "stdout",
          "text": [
            "\n",
            "      Epoch    GPU_mem   box_loss   seg_loss   cls_loss   dfl_loss  Instances       Size\n"
          ]
        },
        {
          "output_type": "stream",
          "name": "stderr",
          "text": [
            "    118/200      7.31G      1.006      1.443     0.6148     0.9332        375        640: 100%|██████████| 5/5 [00:03<00:00,  1.58it/s]\n",
            "                 Class     Images  Instances      Box(P          R      mAP50  mAP50-95)     Mask(P          R      mAP50  mAP50-95): 100%|██████████| 1/1 [00:00<00:00,  2.61it/s]"
          ]
        },
        {
          "output_type": "stream",
          "name": "stdout",
          "text": [
            "                   all          5        154      0.746      0.591      0.671      0.291      0.657      0.734      0.719        0.3\n"
          ]
        },
        {
          "output_type": "stream",
          "name": "stderr",
          "text": [
            "\n"
          ]
        },
        {
          "output_type": "stream",
          "name": "stdout",
          "text": [
            "\n",
            "      Epoch    GPU_mem   box_loss   seg_loss   cls_loss   dfl_loss  Instances       Size\n"
          ]
        },
        {
          "output_type": "stream",
          "name": "stderr",
          "text": [
            "    119/200      7.35G      1.065      1.484      0.633      0.948        319        640: 100%|██████████| 5/5 [00:03<00:00,  1.29it/s]\n",
            "                 Class     Images  Instances      Box(P          R      mAP50  mAP50-95)     Mask(P          R      mAP50  mAP50-95): 100%|██████████| 1/1 [00:00<00:00,  3.45it/s]"
          ]
        },
        {
          "output_type": "stream",
          "name": "stdout",
          "text": [
            "                   all          5        154      0.747      0.574       0.66      0.296      0.674      0.751      0.728      0.296\n"
          ]
        },
        {
          "output_type": "stream",
          "name": "stderr",
          "text": [
            "\n"
          ]
        },
        {
          "output_type": "stream",
          "name": "stdout",
          "text": [
            "\n",
            "      Epoch    GPU_mem   box_loss   seg_loss   cls_loss   dfl_loss  Instances       Size\n"
          ]
        },
        {
          "output_type": "stream",
          "name": "stderr",
          "text": [
            "    120/200      6.27G      1.021      1.442     0.6023     0.9274        363        640: 100%|██████████| 5/5 [00:03<00:00,  1.56it/s]\n",
            "                 Class     Images  Instances      Box(P          R      mAP50  mAP50-95)     Mask(P          R      mAP50  mAP50-95): 100%|██████████| 1/1 [00:00<00:00,  2.42it/s]"
          ]
        },
        {
          "output_type": "stream",
          "name": "stdout",
          "text": [
            "                   all          5        154      0.633      0.682      0.668      0.301      0.675      0.688       0.71      0.307\n"
          ]
        },
        {
          "output_type": "stream",
          "name": "stderr",
          "text": [
            "\n"
          ]
        },
        {
          "output_type": "stream",
          "name": "stdout",
          "text": [
            "\n",
            "      Epoch    GPU_mem   box_loss   seg_loss   cls_loss   dfl_loss  Instances       Size\n"
          ]
        },
        {
          "output_type": "stream",
          "name": "stderr",
          "text": [
            "    121/200      6.27G      1.031      1.475     0.6266     0.9489        221        640: 100%|██████████| 5/5 [00:04<00:00,  1.20it/s]\n",
            "                 Class     Images  Instances      Box(P          R      mAP50  mAP50-95)     Mask(P          R      mAP50  mAP50-95): 100%|██████████| 1/1 [00:00<00:00,  2.45it/s]"
          ]
        },
        {
          "output_type": "stream",
          "name": "stdout",
          "text": [
            "                   all          5        154      0.759      0.565      0.662      0.301       0.67      0.708      0.715       0.31\n"
          ]
        },
        {
          "output_type": "stream",
          "name": "stderr",
          "text": [
            "\n"
          ]
        },
        {
          "output_type": "stream",
          "name": "stdout",
          "text": [
            "\n",
            "      Epoch    GPU_mem   box_loss   seg_loss   cls_loss   dfl_loss  Instances       Size\n"
          ]
        },
        {
          "output_type": "stream",
          "name": "stderr",
          "text": [
            "    122/200      6.27G      1.027      1.498     0.6146     0.9343        402        640: 100%|██████████| 5/5 [00:03<00:00,  1.43it/s]\n",
            "                 Class     Images  Instances      Box(P          R      mAP50  mAP50-95)     Mask(P          R      mAP50  mAP50-95): 100%|██████████| 1/1 [00:00<00:00,  2.90it/s]"
          ]
        },
        {
          "output_type": "stream",
          "name": "stdout",
          "text": [
            "                   all          5        154       0.76      0.578      0.666        0.3      0.694      0.701      0.723       0.31\n"
          ]
        },
        {
          "output_type": "stream",
          "name": "stderr",
          "text": [
            "\n"
          ]
        },
        {
          "output_type": "stream",
          "name": "stdout",
          "text": [
            "\n",
            "      Epoch    GPU_mem   box_loss   seg_loss   cls_loss   dfl_loss  Instances       Size\n"
          ]
        },
        {
          "output_type": "stream",
          "name": "stderr",
          "text": [
            "    123/200      6.27G      1.051      1.513     0.6323     0.9422        413        640: 100%|██████████| 5/5 [00:03<00:00,  1.54it/s]\n",
            "                 Class     Images  Instances      Box(P          R      mAP50  mAP50-95)     Mask(P          R      mAP50  mAP50-95): 100%|██████████| 1/1 [00:00<00:00,  2.95it/s]"
          ]
        },
        {
          "output_type": "stream",
          "name": "stdout",
          "text": [
            "                   all          5        154      0.776      0.591      0.686      0.302      0.688      0.695      0.698      0.304\n"
          ]
        },
        {
          "output_type": "stream",
          "name": "stderr",
          "text": [
            "\n"
          ]
        },
        {
          "output_type": "stream",
          "name": "stdout",
          "text": [
            "\n",
            "      Epoch    GPU_mem   box_loss   seg_loss   cls_loss   dfl_loss  Instances       Size\n"
          ]
        },
        {
          "output_type": "stream",
          "name": "stderr",
          "text": [
            "    124/200      6.27G      1.025      1.446     0.6053     0.9368        322        640: 100%|██████████| 5/5 [00:03<00:00,  1.37it/s]\n",
            "                 Class     Images  Instances      Box(P          R      mAP50  mAP50-95)     Mask(P          R      mAP50  mAP50-95): 100%|██████████| 1/1 [00:00<00:00,  4.16it/s]"
          ]
        },
        {
          "output_type": "stream",
          "name": "stdout",
          "text": [
            "                   all          5        154      0.755      0.597      0.681      0.298      0.667      0.702      0.699      0.293\n",
            "\u001b[34m\u001b[1mEarlyStopping: \u001b[0mTraining stopped early as no improvement observed in last 100 epochs. Best results observed at epoch 24, best model saved as best.pt.\n",
            "To update EarlyStopping(patience=100) pass a new patience value, i.e. `patience=300` or use `patience=0` to disable EarlyStopping.\n"
          ]
        },
        {
          "output_type": "stream",
          "name": "stderr",
          "text": [
            "\n"
          ]
        },
        {
          "output_type": "stream",
          "name": "stdout",
          "text": [
            "\n",
            "124 epochs completed in 0.201 hours.\n",
            "Optimizer stripped from yolov11_tree_segmentation/exp1/weights/last.pt, 20.5MB\n",
            "Optimizer stripped from yolov11_tree_segmentation/exp1/weights/best.pt, 20.5MB\n",
            "\n",
            "Validating yolov11_tree_segmentation/exp1/weights/best.pt...\n",
            "Ultralytics 8.3.112 🚀 Python-3.11.12 torch-2.6.0+cu124 CUDA:0 (Tesla T4, 15095MiB)\n",
            "YOLO11s-seg summary (fused): 113 layers, 10,067,203 parameters, 0 gradients, 35.3 GFLOPs\n"
          ]
        },
        {
          "output_type": "stream",
          "name": "stderr",
          "text": [
            "\r                 Class     Images  Instances      Box(P          R      mAP50  mAP50-95)     Mask(P          R      mAP50  mAP50-95):   0%|          | 0/1 [00:00<?, ?it/s]"
          ]
        },
        {
          "output_type": "stream",
          "name": "stdout",
          "text": [
            "WARNING ⚠️ Limiting validation plots to first 50 items per image for speed...\n",
            "WARNING ⚠️ Limiting validation plots to first 50 items per image for speed...\n",
            "WARNING ⚠️ Limiting validation plots to first 50 items per image for speed...\n",
            "WARNING ⚠️ Limiting validation plots to first 50 items per image for speed...\n",
            "WARNING ⚠️ Limiting validation plots to first 50 items per image for speed...\n"
          ]
        },
        {
          "output_type": "stream",
          "name": "stderr",
          "text": [
            "                 Class     Images  Instances      Box(P          R      mAP50  mAP50-95)     Mask(P          R      mAP50  mAP50-95): 100%|██████████| 1/1 [00:00<00:00,  6.48it/s]\n"
          ]
        },
        {
          "output_type": "stream",
          "name": "stdout",
          "text": [
            "                   all          5        154      0.722      0.779      0.792       0.38      0.716      0.727       0.78      0.355\n",
            "Speed: 0.3ms preprocess, 9.3ms inference, 0.0ms loss, 1.8ms postprocess per image\n",
            "Results saved to \u001b[1myolov11_tree_segmentation/exp1\u001b[0m\n"
          ]
        },
        {
          "output_type": "execute_result",
          "data": {
            "text/plain": [
              "ultralytics.utils.metrics.SegmentMetrics object with attributes:\n",
              "\n",
              "ap_class_index: array([0])\n",
              "box: ultralytics.utils.metrics.Metric object\n",
              "confusion_matrix: <ultralytics.utils.metrics.ConfusionMatrix object at 0x7affebaf2550>\n",
              "curves: ['Precision-Recall(B)', 'F1-Confidence(B)', 'Precision-Confidence(B)', 'Recall-Confidence(B)', 'Precision-Recall(M)', 'F1-Confidence(M)', 'Precision-Confidence(M)', 'Recall-Confidence(M)']\n",
              "curves_results: [[array([          0,    0.001001,    0.002002,    0.003003,    0.004004,    0.005005,    0.006006,    0.007007,    0.008008,    0.009009,     0.01001,    0.011011,    0.012012,    0.013013,    0.014014,    0.015015,    0.016016,    0.017017,    0.018018,    0.019019,     0.02002,    0.021021,    0.022022,    0.023023,\n",
              "          0.024024,    0.025025,    0.026026,    0.027027,    0.028028,    0.029029,     0.03003,    0.031031,    0.032032,    0.033033,    0.034034,    0.035035,    0.036036,    0.037037,    0.038038,    0.039039,     0.04004,    0.041041,    0.042042,    0.043043,    0.044044,    0.045045,    0.046046,    0.047047,\n",
              "          0.048048,    0.049049,     0.05005,    0.051051,    0.052052,    0.053053,    0.054054,    0.055055,    0.056056,    0.057057,    0.058058,    0.059059,     0.06006,    0.061061,    0.062062,    0.063063,    0.064064,    0.065065,    0.066066,    0.067067,    0.068068,    0.069069,     0.07007,    0.071071,\n",
              "          0.072072,    0.073073,    0.074074,    0.075075,    0.076076,    0.077077,    0.078078,    0.079079,     0.08008,    0.081081,    0.082082,    0.083083,    0.084084,    0.085085,    0.086086,    0.087087,    0.088088,    0.089089,     0.09009,    0.091091,    0.092092,    0.093093,    0.094094,    0.095095,\n",
              "          0.096096,    0.097097,    0.098098,    0.099099,      0.1001,      0.1011,      0.1021,      0.1031,      0.1041,     0.10511,     0.10611,     0.10711,     0.10811,     0.10911,     0.11011,     0.11111,     0.11211,     0.11311,     0.11411,     0.11512,     0.11612,     0.11712,     0.11812,     0.11912,\n",
              "           0.12012,     0.12112,     0.12212,     0.12312,     0.12412,     0.12513,     0.12613,     0.12713,     0.12813,     0.12913,     0.13013,     0.13113,     0.13213,     0.13313,     0.13413,     0.13514,     0.13614,     0.13714,     0.13814,     0.13914,     0.14014,     0.14114,     0.14214,     0.14314,\n",
              "           0.14414,     0.14515,     0.14615,     0.14715,     0.14815,     0.14915,     0.15015,     0.15115,     0.15215,     0.15315,     0.15415,     0.15516,     0.15616,     0.15716,     0.15816,     0.15916,     0.16016,     0.16116,     0.16216,     0.16316,     0.16416,     0.16517,     0.16617,     0.16717,\n",
              "           0.16817,     0.16917,     0.17017,     0.17117,     0.17217,     0.17317,     0.17417,     0.17518,     0.17618,     0.17718,     0.17818,     0.17918,     0.18018,     0.18118,     0.18218,     0.18318,     0.18418,     0.18519,     0.18619,     0.18719,     0.18819,     0.18919,     0.19019,     0.19119,\n",
              "           0.19219,     0.19319,     0.19419,      0.1952,      0.1962,      0.1972,      0.1982,      0.1992,      0.2002,      0.2012,      0.2022,      0.2032,      0.2042,     0.20521,     0.20621,     0.20721,     0.20821,     0.20921,     0.21021,     0.21121,     0.21221,     0.21321,     0.21421,     0.21522,\n",
              "           0.21622,     0.21722,     0.21822,     0.21922,     0.22022,     0.22122,     0.22222,     0.22322,     0.22422,     0.22523,     0.22623,     0.22723,     0.22823,     0.22923,     0.23023,     0.23123,     0.23223,     0.23323,     0.23423,     0.23524,     0.23624,     0.23724,     0.23824,     0.23924,\n",
              "           0.24024,     0.24124,     0.24224,     0.24324,     0.24424,     0.24525,     0.24625,     0.24725,     0.24825,     0.24925,     0.25025,     0.25125,     0.25225,     0.25325,     0.25425,     0.25526,     0.25626,     0.25726,     0.25826,     0.25926,     0.26026,     0.26126,     0.26226,     0.26326,\n",
              "           0.26426,     0.26527,     0.26627,     0.26727,     0.26827,     0.26927,     0.27027,     0.27127,     0.27227,     0.27327,     0.27427,     0.27528,     0.27628,     0.27728,     0.27828,     0.27928,     0.28028,     0.28128,     0.28228,     0.28328,     0.28428,     0.28529,     0.28629,     0.28729,\n",
              "           0.28829,     0.28929,     0.29029,     0.29129,     0.29229,     0.29329,     0.29429,      0.2953,      0.2963,      0.2973,      0.2983,      0.2993,      0.3003,      0.3013,      0.3023,      0.3033,      0.3043,     0.30531,     0.30631,     0.30731,     0.30831,     0.30931,     0.31031,     0.31131,\n",
              "           0.31231,     0.31331,     0.31431,     0.31532,     0.31632,     0.31732,     0.31832,     0.31932,     0.32032,     0.32132,     0.32232,     0.32332,     0.32432,     0.32533,     0.32633,     0.32733,     0.32833,     0.32933,     0.33033,     0.33133,     0.33233,     0.33333,     0.33433,     0.33534,\n",
              "           0.33634,     0.33734,     0.33834,     0.33934,     0.34034,     0.34134,     0.34234,     0.34334,     0.34434,     0.34535,     0.34635,     0.34735,     0.34835,     0.34935,     0.35035,     0.35135,     0.35235,     0.35335,     0.35435,     0.35536,     0.35636,     0.35736,     0.35836,     0.35936,\n",
              "           0.36036,     0.36136,     0.36236,     0.36336,     0.36436,     0.36537,     0.36637,     0.36737,     0.36837,     0.36937,     0.37037,     0.37137,     0.37237,     0.37337,     0.37437,     0.37538,     0.37638,     0.37738,     0.37838,     0.37938,     0.38038,     0.38138,     0.38238,     0.38338,\n",
              "           0.38438,     0.38539,     0.38639,     0.38739,     0.38839,     0.38939,     0.39039,     0.39139,     0.39239,     0.39339,     0.39439,      0.3954,      0.3964,      0.3974,      0.3984,      0.3994,      0.4004,      0.4014,      0.4024,      0.4034,      0.4044,     0.40541,     0.40641,     0.40741,\n",
              "           0.40841,     0.40941,     0.41041,     0.41141,     0.41241,     0.41341,     0.41441,     0.41542,     0.41642,     0.41742,     0.41842,     0.41942,     0.42042,     0.42142,     0.42242,     0.42342,     0.42442,     0.42543,     0.42643,     0.42743,     0.42843,     0.42943,     0.43043,     0.43143,\n",
              "           0.43243,     0.43343,     0.43443,     0.43544,     0.43644,     0.43744,     0.43844,     0.43944,     0.44044,     0.44144,     0.44244,     0.44344,     0.44444,     0.44545,     0.44645,     0.44745,     0.44845,     0.44945,     0.45045,     0.45145,     0.45245,     0.45345,     0.45445,     0.45546,\n",
              "           0.45646,     0.45746,     0.45846,     0.45946,     0.46046,     0.46146,     0.46246,     0.46346,     0.46446,     0.46547,     0.46647,     0.46747,     0.46847,     0.46947,     0.47047,     0.47147,     0.47247,     0.47347,     0.47447,     0.47548,     0.47648,     0.47748,     0.47848,     0.47948,\n",
              "           0.48048,     0.48148,     0.48248,     0.48348,     0.48448,     0.48549,     0.48649,     0.48749,     0.48849,     0.48949,     0.49049,     0.49149,     0.49249,     0.49349,     0.49449,      0.4955,      0.4965,      0.4975,      0.4985,      0.4995,      0.5005,      0.5015,      0.5025,      0.5035,\n",
              "            0.5045,     0.50551,     0.50651,     0.50751,     0.50851,     0.50951,     0.51051,     0.51151,     0.51251,     0.51351,     0.51451,     0.51552,     0.51652,     0.51752,     0.51852,     0.51952,     0.52052,     0.52152,     0.52252,     0.52352,     0.52452,     0.52553,     0.52653,     0.52753,\n",
              "           0.52853,     0.52953,     0.53053,     0.53153,     0.53253,     0.53353,     0.53453,     0.53554,     0.53654,     0.53754,     0.53854,     0.53954,     0.54054,     0.54154,     0.54254,     0.54354,     0.54454,     0.54555,     0.54655,     0.54755,     0.54855,     0.54955,     0.55055,     0.55155,\n",
              "           0.55255,     0.55355,     0.55455,     0.55556,     0.55656,     0.55756,     0.55856,     0.55956,     0.56056,     0.56156,     0.56256,     0.56356,     0.56456,     0.56557,     0.56657,     0.56757,     0.56857,     0.56957,     0.57057,     0.57157,     0.57257,     0.57357,     0.57457,     0.57558,\n",
              "           0.57658,     0.57758,     0.57858,     0.57958,     0.58058,     0.58158,     0.58258,     0.58358,     0.58458,     0.58559,     0.58659,     0.58759,     0.58859,     0.58959,     0.59059,     0.59159,     0.59259,     0.59359,     0.59459,      0.5956,      0.5966,      0.5976,      0.5986,      0.5996,\n",
              "            0.6006,      0.6016,      0.6026,      0.6036,      0.6046,     0.60561,     0.60661,     0.60761,     0.60861,     0.60961,     0.61061,     0.61161,     0.61261,     0.61361,     0.61461,     0.61562,     0.61662,     0.61762,     0.61862,     0.61962,     0.62062,     0.62162,     0.62262,     0.62362,\n",
              "           0.62462,     0.62563,     0.62663,     0.62763,     0.62863,     0.62963,     0.63063,     0.63163,     0.63263,     0.63363,     0.63463,     0.63564,     0.63664,     0.63764,     0.63864,     0.63964,     0.64064,     0.64164,     0.64264,     0.64364,     0.64464,     0.64565,     0.64665,     0.64765,\n",
              "           0.64865,     0.64965,     0.65065,     0.65165,     0.65265,     0.65365,     0.65465,     0.65566,     0.65666,     0.65766,     0.65866,     0.65966,     0.66066,     0.66166,     0.66266,     0.66366,     0.66466,     0.66567,     0.66667,     0.66767,     0.66867,     0.66967,     0.67067,     0.67167,\n",
              "           0.67267,     0.67367,     0.67467,     0.67568,     0.67668,     0.67768,     0.67868,     0.67968,     0.68068,     0.68168,     0.68268,     0.68368,     0.68468,     0.68569,     0.68669,     0.68769,     0.68869,     0.68969,     0.69069,     0.69169,     0.69269,     0.69369,     0.69469,      0.6957,\n",
              "            0.6967,      0.6977,      0.6987,      0.6997,      0.7007,      0.7017,      0.7027,      0.7037,      0.7047,     0.70571,     0.70671,     0.70771,     0.70871,     0.70971,     0.71071,     0.71171,     0.71271,     0.71371,     0.71471,     0.71572,     0.71672,     0.71772,     0.71872,     0.71972,\n",
              "           0.72072,     0.72172,     0.72272,     0.72372,     0.72472,     0.72573,     0.72673,     0.72773,     0.72873,     0.72973,     0.73073,     0.73173,     0.73273,     0.73373,     0.73473,     0.73574,     0.73674,     0.73774,     0.73874,     0.73974,     0.74074,     0.74174,     0.74274,     0.74374,\n",
              "           0.74474,     0.74575,     0.74675,     0.74775,     0.74875,     0.74975,     0.75075,     0.75175,     0.75275,     0.75375,     0.75475,     0.75576,     0.75676,     0.75776,     0.75876,     0.75976,     0.76076,     0.76176,     0.76276,     0.76376,     0.76476,     0.76577,     0.76677,     0.76777,\n",
              "           0.76877,     0.76977,     0.77077,     0.77177,     0.77277,     0.77377,     0.77477,     0.77578,     0.77678,     0.77778,     0.77878,     0.77978,     0.78078,     0.78178,     0.78278,     0.78378,     0.78478,     0.78579,     0.78679,     0.78779,     0.78879,     0.78979,     0.79079,     0.79179,\n",
              "           0.79279,     0.79379,     0.79479,      0.7958,      0.7968,      0.7978,      0.7988,      0.7998,      0.8008,      0.8018,      0.8028,      0.8038,      0.8048,     0.80581,     0.80681,     0.80781,     0.80881,     0.80981,     0.81081,     0.81181,     0.81281,     0.81381,     0.81481,     0.81582,\n",
              "           0.81682,     0.81782,     0.81882,     0.81982,     0.82082,     0.82182,     0.82282,     0.82382,     0.82482,     0.82583,     0.82683,     0.82783,     0.82883,     0.82983,     0.83083,     0.83183,     0.83283,     0.83383,     0.83483,     0.83584,     0.83684,     0.83784,     0.83884,     0.83984,\n",
              "           0.84084,     0.84184,     0.84284,     0.84384,     0.84484,     0.84585,     0.84685,     0.84785,     0.84885,     0.84985,     0.85085,     0.85185,     0.85285,     0.85385,     0.85485,     0.85586,     0.85686,     0.85786,     0.85886,     0.85986,     0.86086,     0.86186,     0.86286,     0.86386,\n",
              "           0.86486,     0.86587,     0.86687,     0.86787,     0.86887,     0.86987,     0.87087,     0.87187,     0.87287,     0.87387,     0.87487,     0.87588,     0.87688,     0.87788,     0.87888,     0.87988,     0.88088,     0.88188,     0.88288,     0.88388,     0.88488,     0.88589,     0.88689,     0.88789,\n",
              "           0.88889,     0.88989,     0.89089,     0.89189,     0.89289,     0.89389,     0.89489,      0.8959,      0.8969,      0.8979,      0.8989,      0.8999,      0.9009,      0.9019,      0.9029,      0.9039,      0.9049,     0.90591,     0.90691,     0.90791,     0.90891,     0.90991,     0.91091,     0.91191,\n",
              "           0.91291,     0.91391,     0.91491,     0.91592,     0.91692,     0.91792,     0.91892,     0.91992,     0.92092,     0.92192,     0.92292,     0.92392,     0.92492,     0.92593,     0.92693,     0.92793,     0.92893,     0.92993,     0.93093,     0.93193,     0.93293,     0.93393,     0.93493,     0.93594,\n",
              "           0.93694,     0.93794,     0.93894,     0.93994,     0.94094,     0.94194,     0.94294,     0.94394,     0.94494,     0.94595,     0.94695,     0.94795,     0.94895,     0.94995,     0.95095,     0.95195,     0.95295,     0.95395,     0.95495,     0.95596,     0.95696,     0.95796,     0.95896,     0.95996,\n",
              "           0.96096,     0.96196,     0.96296,     0.96396,     0.96496,     0.96597,     0.96697,     0.96797,     0.96897,     0.96997,     0.97097,     0.97197,     0.97297,     0.97397,     0.97497,     0.97598,     0.97698,     0.97798,     0.97898,     0.97998,     0.98098,     0.98198,     0.98298,     0.98398,\n",
              "           0.98498,     0.98599,     0.98699,     0.98799,     0.98899,     0.98999,     0.99099,     0.99199,     0.99299,     0.99399,     0.99499,       0.996,       0.997,       0.998,       0.999,           1]), array([[          1,           1,           1,           1,           1,           1,           1,           1,           1,           1,           1,           1,           1,           1,           1,           1,           1,           1,           1,           1,           1,           1,           1,\n",
              "                  1,           1,           1,           1,           1,           1,           1,           1,           1,           1,           1,           1,           1,           1,           1,           1,           1,           1,           1,           1,           1,           1,           1,\n",
              "                  1,           1,           1,           1,           1,           1,           1,           1,           1,           1,           1,           1,           1,           1,           1,           1,           1,           1,           1,           1,           1,           1,           1,\n",
              "                  1,           1,           1,           1,           1,           1,           1,           1,           1,           1,           1,           1,           1,           1,           1,           1,           1,           1,           1,           1,           1,           1,           1,\n",
              "                  1,           1,           1,           1,           1,           1,           1,           1,           1,           1,           1,           1,           1,           1,           1,           1,           1,           1,           1,           1,           1,           1,           1,\n",
              "                  1,           1,           1,           1,           1,           1,           1,           1,           1,           1,           1,           1,           1,           1,           1,           1,           1,           1,           1,           1,           1,           1,           1,\n",
              "                  1,           1,           1,           1,           1,           1,           1,           1,           1,           1,           1,           1,           1,           1,           1,           1,           1,           1,           1,           1,           1,           1,           1,\n",
              "                  1,           1,           1,           1,           1,           1,           1,           1,           1,           1,           1,           1,           1,           1,           1,           1,           1,           1,           1,           1,           1,           1,           1,\n",
              "                  1,           1,           1,           1,           1,           1,           1,           1,           1,           1,           1,           1,           1,           1,           1,           1,           1,           1,           1,           1,           1,           1,           1,\n",
              "                  1,           1,           1,           1,           1,           1,           1,           1,           1,           1,           1,           1,           1,           1,           1,           1,           1,           1,           1,           1,           1,           1,           1,\n",
              "                  1,           1,           1,           1,           1,           1,           1,           1,           1,           1,           1,           1,           1,           1,           1,           1,           1,           1,           1,           1,           1,           1,           1,\n",
              "            0.96078,     0.96078,     0.96078,     0.96078,     0.96078,     0.96078,     0.96078,     0.96078,     0.96078,     0.96078,     0.96078,     0.96078,     0.96078,     0.96078,     0.96078,     0.96078,     0.96078,     0.96078,     0.96078,     0.96078,     0.96078,     0.96078,     0.96078,\n",
              "            0.96078,     0.96078,     0.96078,     0.96078,     0.96078,     0.96078,     0.96078,     0.96078,     0.96078,     0.96078,     0.96078,     0.96078,     0.96078,     0.96078,     0.96078,     0.96078,     0.96078,     0.96078,     0.96078,     0.96078,     0.96078,     0.96078,     0.96078,\n",
              "            0.96078,     0.96078,     0.96078,     0.96078,     0.96078,     0.96078,     0.96078,     0.96078,     0.96078,     0.96078,     0.96078,     0.96078,     0.96078,     0.96078,     0.96078,     0.96078,     0.96078,     0.96078,     0.96078,      0.9434,      0.9434,      0.9434,      0.9434,\n",
              "             0.9434,      0.9434,      0.9434,     0.93333,     0.93333,     0.93333,     0.93333,     0.93333,     0.93333,     0.93333,     0.93333,     0.93333,     0.93333,     0.93333,     0.93333,     0.93333,     0.93333,     0.93333,     0.93333,     0.93333,     0.93333,     0.93333,     0.93333,\n",
              "            0.93333,     0.93333,     0.93333,     0.93333,     0.93333,     0.93333,     0.93333,     0.93333,     0.93333,     0.93333,     0.93333,     0.93333,     0.93333,     0.93333,     0.93333,     0.93333,     0.93333,     0.93333,     0.93333,     0.92188,     0.92188,     0.92188,     0.92188,\n",
              "            0.92188,     0.92188,     0.92188,     0.92188,     0.92188,     0.92188,     0.92188,     0.92188,     0.92188,     0.92188,     0.92188,     0.92188,     0.92188,     0.92188,     0.92188,     0.90909,     0.90909,     0.90909,     0.90909,     0.90909,     0.90909,     0.90909,     0.88732,\n",
              "            0.88732,     0.88732,     0.88732,     0.88732,     0.88732,     0.88732,     0.88732,     0.88732,     0.88732,     0.88732,     0.88732,     0.88732,     0.88732,     0.88732,     0.88732,     0.88732,     0.88732,     0.88732,     0.87013,     0.87013,     0.87013,     0.87013,     0.87013,\n",
              "            0.87013,     0.87013,     0.87013,     0.87013,     0.87013,     0.87013,     0.87013,     0.87013,     0.87013,     0.87013,     0.87013,     0.87013,     0.87013,     0.87013,     0.87013,     0.87013,     0.87013,     0.87013,     0.87013,     0.87013,     0.87013,     0.86585,     0.86585,\n",
              "            0.86585,     0.86585,     0.86585,     0.86585,     0.86585,     0.86585,     0.86585,     0.86585,     0.86585,     0.86585,     0.86585,     0.86585,     0.86585,     0.86585,     0.86585,     0.86585,     0.86585,     0.86585,     0.86585,     0.86585,     0.86585,     0.86585,     0.86585,\n",
              "            0.86585,     0.85882,     0.85882,     0.85882,     0.85882,     0.85882,     0.85882,     0.85882,     0.85882,     0.85882,     0.85882,     0.85882,     0.85882,     0.85882,     0.85714,     0.85714,     0.85714,     0.85714,     0.85714,     0.85714,     0.85714,     0.85714,     0.85714,\n",
              "            0.85714,     0.85714,     0.85714,     0.85714,     0.85714,     0.85714,     0.85714,     0.85714,     0.85714,     0.85714,     0.85714,     0.85714,     0.85714,     0.85714,     0.85714,     0.85714,     0.85714,     0.85714,     0.85714,     0.85714,     0.85714,     0.85714,     0.85714,\n",
              "               0.84,        0.84,        0.84,        0.84,        0.84,        0.84,        0.84,        0.84,        0.84,        0.84,        0.84,        0.84,        0.84,        0.84,        0.84,        0.84,        0.84,        0.84,        0.84,        0.84,        0.84,        0.84,        0.84,\n",
              "               0.84,        0.84,        0.84,        0.84,        0.84,        0.84,        0.84,        0.84,        0.84,        0.84,        0.84,        0.84,        0.84,        0.84,        0.84,        0.84,     0.83654,     0.83654,     0.83654,     0.83654,     0.83654,     0.83654,     0.83654,\n",
              "            0.83654,     0.83654,     0.83654,     0.83654,     0.83654,     0.83654,     0.83654,     0.83654,     0.83654,     0.83654,     0.83654,     0.83654,     0.83654,     0.81579,     0.81579,     0.81579,     0.81579,     0.81579,     0.81579,     0.81579,     0.81579,     0.81579,     0.81579,\n",
              "            0.81579,     0.81579,     0.81579,     0.81579,     0.81579,     0.81579,     0.81579,     0.81579,     0.81579,     0.81579,     0.81579,     0.81579,     0.81579,     0.81579,     0.81579,     0.81579,     0.81579,     0.81579,     0.81579,     0.81579,     0.81579,     0.81579,     0.81579,\n",
              "            0.81579,     0.81579,     0.81579,     0.81579,     0.81579,     0.81579,     0.80992,     0.80992,     0.80992,     0.80992,     0.80992,     0.80992,     0.80992,     0.80992,     0.80992,     0.80992,     0.80992,     0.80992,     0.80992,     0.80992,     0.80992,     0.80992,     0.80992,\n",
              "            0.80992,     0.80992,     0.80992,     0.80992,     0.80992,     0.80992,     0.80992,     0.80992,     0.80992,     0.80992,     0.80992,     0.80992,     0.80992,     0.80992,     0.80992,     0.80488,     0.80488,     0.80488,     0.80488,     0.80488,     0.80488,     0.80488,     0.80469,\n",
              "            0.80469,     0.80469,     0.80469,     0.80469,     0.80469,     0.80469,     0.80469,     0.80469,     0.80469,     0.80469,     0.80469,     0.80469,     0.80469,     0.80469,     0.80469,     0.80469,     0.80469,     0.80469,     0.80469,     0.80469,     0.80469,     0.80469,     0.80469,\n",
              "            0.80469,     0.80469,         0.8,         0.8,         0.8,         0.8,         0.8,         0.8,     0.79104,     0.79104,     0.79104,     0.79104,     0.79104,     0.79104,     0.79104,     0.79104,     0.79104,     0.79104,     0.79104,     0.79104,     0.79104,     0.78832,     0.78832,\n",
              "            0.78832,     0.78832,     0.78832,     0.78832,     0.78832,     0.78832,     0.78832,     0.78832,     0.78832,     0.78832,     0.78832,     0.77305,     0.77305,     0.77305,     0.77305,     0.77305,     0.77305,     0.77305,     0.76923,     0.76923,     0.76923,     0.76923,     0.76923,\n",
              "            0.76923,     0.76027,     0.76027,     0.76027,     0.76027,     0.76027,     0.76027,     0.76027,     0.75333,     0.75333,     0.75333,     0.75333,     0.75333,     0.75333,     0.75333,     0.75333,     0.75333,     0.75333,     0.75333,     0.75333,     0.75333,     0.73006,     0.73006,\n",
              "            0.73006,     0.73006,     0.73006,     0.73006,     0.73006,     0.73006,     0.73006,     0.73006,     0.73006,     0.73006,     0.73006,     0.73006,     0.73006,     0.73006,     0.73006,     0.73006,     0.73006,     0.73006,     0.73006,     0.73006,     0.73006,     0.73006,     0.73006,\n",
              "            0.73006,     0.73006,     0.73006,     0.73006,     0.73006,     0.73006,     0.73006,     0.73006,     0.73006,     0.73006,     0.73006,     0.73006,     0.73006,     0.72289,     0.72289,     0.72289,     0.72289,     0.72289,     0.72289,     0.72289,     0.71176,     0.71176,     0.71176,\n",
              "            0.71176,     0.71176,     0.71176,     0.69886,     0.69886,     0.69886,     0.69886,     0.69886,     0.69886,     0.69886,     0.69886,     0.69886,     0.69886,     0.69886,     0.69886,     0.69886,     0.68508,     0.68508,     0.68508,     0.68508,     0.68508,     0.68508,     0.68508,\n",
              "            0.67021,     0.67021,     0.67021,     0.67021,     0.67021,     0.67021,     0.67021,     0.67021,     0.67021,     0.67021,     0.67021,     0.67021,     0.67021,     0.65803,     0.65803,     0.65803,     0.65803,     0.65803,     0.65803,     0.63366,     0.63366,     0.63366,     0.63366,\n",
              "            0.63366,     0.63366,     0.63366,     0.62019,     0.62019,     0.62019,     0.62019,     0.62019,     0.62019,     0.60465,     0.60465,     0.60465,     0.60465,     0.60465,     0.60465,     0.60465,     0.57456,     0.57456,     0.57456,     0.57456,     0.57456,     0.57456,      0.5523,\n",
              "             0.5523,      0.5523,      0.5523,      0.5523,      0.5523,      0.5523,     0.54065,     0.54065,     0.54065,     0.54065,     0.54065,     0.54065,     0.53175,     0.53175,     0.53175,     0.53175,     0.53175,     0.53175,     0.53175,     0.51136,     0.51136,     0.51136,     0.51136,\n",
              "            0.51136,     0.51136,      0.5037,      0.5037,      0.5037,      0.5037,      0.5037,      0.5037,      0.5037,     0.50368,     0.50368,     0.50368,     0.50368,     0.50368,     0.50368,     0.49286,     0.49286,     0.49286,     0.49286,     0.49286,     0.49286,     0.49286,     0.43849,\n",
              "            0.43849,     0.43849,     0.43849,     0.43849,     0.43849,     0.38462,     0.38462,     0.38462,     0.38462,     0.38462,     0.38462,     0.38462,     0.38315,     0.38315,     0.38315,     0.38315,     0.38315,     0.38315,     0.34135,     0.34135,     0.34135,     0.34135,     0.34135,\n",
              "            0.34135,     0.34135,     0.27553,     0.27553,     0.27553,     0.27553,     0.27553,     0.27553,     0.25806,     0.25806,     0.25806,     0.25806,     0.25806,     0.25806,     0.25806,      0.2535,      0.2535,      0.2535,      0.2535,      0.2535,      0.2535,     0.23211,     0.23211,\n",
              "            0.23211,     0.23211,     0.23211,     0.23211,     0.23211,     0.18398,     0.18398,     0.18398,     0.18398,     0.18398,     0.18398,     0.12364,     0.12364,     0.12364,     0.12364,     0.12364,     0.12364,     0.12364,     0.11314,     0.11314,     0.11314,     0.11314,     0.11314,\n",
              "            0.11314,    0.098001,    0.094938,    0.091876,    0.088813,    0.085751,    0.082688,    0.079626,    0.076563,    0.073501,    0.070438,    0.067376,    0.064313,    0.061251,    0.058188,    0.055126,    0.052063,       0.049,    0.045938,    0.042875,    0.039813,     0.03675,    0.033688,\n",
              "           0.030625,    0.027563,      0.0245,    0.021438,    0.018375,    0.015313,     0.01225,   0.0091876,   0.0061251,   0.0030625,           0]]), 'Recall', 'Precision'], [array([          0,    0.001001,    0.002002,    0.003003,    0.004004,    0.005005,    0.006006,    0.007007,    0.008008,    0.009009,     0.01001,    0.011011,    0.012012,    0.013013,    0.014014,    0.015015,    0.016016,    0.017017,    0.018018,    0.019019,     0.02002,    0.021021,    0.022022,    0.023023,\n",
              "          0.024024,    0.025025,    0.026026,    0.027027,    0.028028,    0.029029,     0.03003,    0.031031,    0.032032,    0.033033,    0.034034,    0.035035,    0.036036,    0.037037,    0.038038,    0.039039,     0.04004,    0.041041,    0.042042,    0.043043,    0.044044,    0.045045,    0.046046,    0.047047,\n",
              "          0.048048,    0.049049,     0.05005,    0.051051,    0.052052,    0.053053,    0.054054,    0.055055,    0.056056,    0.057057,    0.058058,    0.059059,     0.06006,    0.061061,    0.062062,    0.063063,    0.064064,    0.065065,    0.066066,    0.067067,    0.068068,    0.069069,     0.07007,    0.071071,\n",
              "          0.072072,    0.073073,    0.074074,    0.075075,    0.076076,    0.077077,    0.078078,    0.079079,     0.08008,    0.081081,    0.082082,    0.083083,    0.084084,    0.085085,    0.086086,    0.087087,    0.088088,    0.089089,     0.09009,    0.091091,    0.092092,    0.093093,    0.094094,    0.095095,\n",
              "          0.096096,    0.097097,    0.098098,    0.099099,      0.1001,      0.1011,      0.1021,      0.1031,      0.1041,     0.10511,     0.10611,     0.10711,     0.10811,     0.10911,     0.11011,     0.11111,     0.11211,     0.11311,     0.11411,     0.11512,     0.11612,     0.11712,     0.11812,     0.11912,\n",
              "           0.12012,     0.12112,     0.12212,     0.12312,     0.12412,     0.12513,     0.12613,     0.12713,     0.12813,     0.12913,     0.13013,     0.13113,     0.13213,     0.13313,     0.13413,     0.13514,     0.13614,     0.13714,     0.13814,     0.13914,     0.14014,     0.14114,     0.14214,     0.14314,\n",
              "           0.14414,     0.14515,     0.14615,     0.14715,     0.14815,     0.14915,     0.15015,     0.15115,     0.15215,     0.15315,     0.15415,     0.15516,     0.15616,     0.15716,     0.15816,     0.15916,     0.16016,     0.16116,     0.16216,     0.16316,     0.16416,     0.16517,     0.16617,     0.16717,\n",
              "           0.16817,     0.16917,     0.17017,     0.17117,     0.17217,     0.17317,     0.17417,     0.17518,     0.17618,     0.17718,     0.17818,     0.17918,     0.18018,     0.18118,     0.18218,     0.18318,     0.18418,     0.18519,     0.18619,     0.18719,     0.18819,     0.18919,     0.19019,     0.19119,\n",
              "           0.19219,     0.19319,     0.19419,      0.1952,      0.1962,      0.1972,      0.1982,      0.1992,      0.2002,      0.2012,      0.2022,      0.2032,      0.2042,     0.20521,     0.20621,     0.20721,     0.20821,     0.20921,     0.21021,     0.21121,     0.21221,     0.21321,     0.21421,     0.21522,\n",
              "           0.21622,     0.21722,     0.21822,     0.21922,     0.22022,     0.22122,     0.22222,     0.22322,     0.22422,     0.22523,     0.22623,     0.22723,     0.22823,     0.22923,     0.23023,     0.23123,     0.23223,     0.23323,     0.23423,     0.23524,     0.23624,     0.23724,     0.23824,     0.23924,\n",
              "           0.24024,     0.24124,     0.24224,     0.24324,     0.24424,     0.24525,     0.24625,     0.24725,     0.24825,     0.24925,     0.25025,     0.25125,     0.25225,     0.25325,     0.25425,     0.25526,     0.25626,     0.25726,     0.25826,     0.25926,     0.26026,     0.26126,     0.26226,     0.26326,\n",
              "           0.26426,     0.26527,     0.26627,     0.26727,     0.26827,     0.26927,     0.27027,     0.27127,     0.27227,     0.27327,     0.27427,     0.27528,     0.27628,     0.27728,     0.27828,     0.27928,     0.28028,     0.28128,     0.28228,     0.28328,     0.28428,     0.28529,     0.28629,     0.28729,\n",
              "           0.28829,     0.28929,     0.29029,     0.29129,     0.29229,     0.29329,     0.29429,      0.2953,      0.2963,      0.2973,      0.2983,      0.2993,      0.3003,      0.3013,      0.3023,      0.3033,      0.3043,     0.30531,     0.30631,     0.30731,     0.30831,     0.30931,     0.31031,     0.31131,\n",
              "           0.31231,     0.31331,     0.31431,     0.31532,     0.31632,     0.31732,     0.31832,     0.31932,     0.32032,     0.32132,     0.32232,     0.32332,     0.32432,     0.32533,     0.32633,     0.32733,     0.32833,     0.32933,     0.33033,     0.33133,     0.33233,     0.33333,     0.33433,     0.33534,\n",
              "           0.33634,     0.33734,     0.33834,     0.33934,     0.34034,     0.34134,     0.34234,     0.34334,     0.34434,     0.34535,     0.34635,     0.34735,     0.34835,     0.34935,     0.35035,     0.35135,     0.35235,     0.35335,     0.35435,     0.35536,     0.35636,     0.35736,     0.35836,     0.35936,\n",
              "           0.36036,     0.36136,     0.36236,     0.36336,     0.36436,     0.36537,     0.36637,     0.36737,     0.36837,     0.36937,     0.37037,     0.37137,     0.37237,     0.37337,     0.37437,     0.37538,     0.37638,     0.37738,     0.37838,     0.37938,     0.38038,     0.38138,     0.38238,     0.38338,\n",
              "           0.38438,     0.38539,     0.38639,     0.38739,     0.38839,     0.38939,     0.39039,     0.39139,     0.39239,     0.39339,     0.39439,      0.3954,      0.3964,      0.3974,      0.3984,      0.3994,      0.4004,      0.4014,      0.4024,      0.4034,      0.4044,     0.40541,     0.40641,     0.40741,\n",
              "           0.40841,     0.40941,     0.41041,     0.41141,     0.41241,     0.41341,     0.41441,     0.41542,     0.41642,     0.41742,     0.41842,     0.41942,     0.42042,     0.42142,     0.42242,     0.42342,     0.42442,     0.42543,     0.42643,     0.42743,     0.42843,     0.42943,     0.43043,     0.43143,\n",
              "           0.43243,     0.43343,     0.43443,     0.43544,     0.43644,     0.43744,     0.43844,     0.43944,     0.44044,     0.44144,     0.44244,     0.44344,     0.44444,     0.44545,     0.44645,     0.44745,     0.44845,     0.44945,     0.45045,     0.45145,     0.45245,     0.45345,     0.45445,     0.45546,\n",
              "           0.45646,     0.45746,     0.45846,     0.45946,     0.46046,     0.46146,     0.46246,     0.46346,     0.46446,     0.46547,     0.46647,     0.46747,     0.46847,     0.46947,     0.47047,     0.47147,     0.47247,     0.47347,     0.47447,     0.47548,     0.47648,     0.47748,     0.47848,     0.47948,\n",
              "           0.48048,     0.48148,     0.48248,     0.48348,     0.48448,     0.48549,     0.48649,     0.48749,     0.48849,     0.48949,     0.49049,     0.49149,     0.49249,     0.49349,     0.49449,      0.4955,      0.4965,      0.4975,      0.4985,      0.4995,      0.5005,      0.5015,      0.5025,      0.5035,\n",
              "            0.5045,     0.50551,     0.50651,     0.50751,     0.50851,     0.50951,     0.51051,     0.51151,     0.51251,     0.51351,     0.51451,     0.51552,     0.51652,     0.51752,     0.51852,     0.51952,     0.52052,     0.52152,     0.52252,     0.52352,     0.52452,     0.52553,     0.52653,     0.52753,\n",
              "           0.52853,     0.52953,     0.53053,     0.53153,     0.53253,     0.53353,     0.53453,     0.53554,     0.53654,     0.53754,     0.53854,     0.53954,     0.54054,     0.54154,     0.54254,     0.54354,     0.54454,     0.54555,     0.54655,     0.54755,     0.54855,     0.54955,     0.55055,     0.55155,\n",
              "           0.55255,     0.55355,     0.55455,     0.55556,     0.55656,     0.55756,     0.55856,     0.55956,     0.56056,     0.56156,     0.56256,     0.56356,     0.56456,     0.56557,     0.56657,     0.56757,     0.56857,     0.56957,     0.57057,     0.57157,     0.57257,     0.57357,     0.57457,     0.57558,\n",
              "           0.57658,     0.57758,     0.57858,     0.57958,     0.58058,     0.58158,     0.58258,     0.58358,     0.58458,     0.58559,     0.58659,     0.58759,     0.58859,     0.58959,     0.59059,     0.59159,     0.59259,     0.59359,     0.59459,      0.5956,      0.5966,      0.5976,      0.5986,      0.5996,\n",
              "            0.6006,      0.6016,      0.6026,      0.6036,      0.6046,     0.60561,     0.60661,     0.60761,     0.60861,     0.60961,     0.61061,     0.61161,     0.61261,     0.61361,     0.61461,     0.61562,     0.61662,     0.61762,     0.61862,     0.61962,     0.62062,     0.62162,     0.62262,     0.62362,\n",
              "           0.62462,     0.62563,     0.62663,     0.62763,     0.62863,     0.62963,     0.63063,     0.63163,     0.63263,     0.63363,     0.63463,     0.63564,     0.63664,     0.63764,     0.63864,     0.63964,     0.64064,     0.64164,     0.64264,     0.64364,     0.64464,     0.64565,     0.64665,     0.64765,\n",
              "           0.64865,     0.64965,     0.65065,     0.65165,     0.65265,     0.65365,     0.65465,     0.65566,     0.65666,     0.65766,     0.65866,     0.65966,     0.66066,     0.66166,     0.66266,     0.66366,     0.66466,     0.66567,     0.66667,     0.66767,     0.66867,     0.66967,     0.67067,     0.67167,\n",
              "           0.67267,     0.67367,     0.67467,     0.67568,     0.67668,     0.67768,     0.67868,     0.67968,     0.68068,     0.68168,     0.68268,     0.68368,     0.68468,     0.68569,     0.68669,     0.68769,     0.68869,     0.68969,     0.69069,     0.69169,     0.69269,     0.69369,     0.69469,      0.6957,\n",
              "            0.6967,      0.6977,      0.6987,      0.6997,      0.7007,      0.7017,      0.7027,      0.7037,      0.7047,     0.70571,     0.70671,     0.70771,     0.70871,     0.70971,     0.71071,     0.71171,     0.71271,     0.71371,     0.71471,     0.71572,     0.71672,     0.71772,     0.71872,     0.71972,\n",
              "           0.72072,     0.72172,     0.72272,     0.72372,     0.72472,     0.72573,     0.72673,     0.72773,     0.72873,     0.72973,     0.73073,     0.73173,     0.73273,     0.73373,     0.73473,     0.73574,     0.73674,     0.73774,     0.73874,     0.73974,     0.74074,     0.74174,     0.74274,     0.74374,\n",
              "           0.74474,     0.74575,     0.74675,     0.74775,     0.74875,     0.74975,     0.75075,     0.75175,     0.75275,     0.75375,     0.75475,     0.75576,     0.75676,     0.75776,     0.75876,     0.75976,     0.76076,     0.76176,     0.76276,     0.76376,     0.76476,     0.76577,     0.76677,     0.76777,\n",
              "           0.76877,     0.76977,     0.77077,     0.77177,     0.77277,     0.77377,     0.77477,     0.77578,     0.77678,     0.77778,     0.77878,     0.77978,     0.78078,     0.78178,     0.78278,     0.78378,     0.78478,     0.78579,     0.78679,     0.78779,     0.78879,     0.78979,     0.79079,     0.79179,\n",
              "           0.79279,     0.79379,     0.79479,      0.7958,      0.7968,      0.7978,      0.7988,      0.7998,      0.8008,      0.8018,      0.8028,      0.8038,      0.8048,     0.80581,     0.80681,     0.80781,     0.80881,     0.80981,     0.81081,     0.81181,     0.81281,     0.81381,     0.81481,     0.81582,\n",
              "           0.81682,     0.81782,     0.81882,     0.81982,     0.82082,     0.82182,     0.82282,     0.82382,     0.82482,     0.82583,     0.82683,     0.82783,     0.82883,     0.82983,     0.83083,     0.83183,     0.83283,     0.83383,     0.83483,     0.83584,     0.83684,     0.83784,     0.83884,     0.83984,\n",
              "           0.84084,     0.84184,     0.84284,     0.84384,     0.84484,     0.84585,     0.84685,     0.84785,     0.84885,     0.84985,     0.85085,     0.85185,     0.85285,     0.85385,     0.85485,     0.85586,     0.85686,     0.85786,     0.85886,     0.85986,     0.86086,     0.86186,     0.86286,     0.86386,\n",
              "           0.86486,     0.86587,     0.86687,     0.86787,     0.86887,     0.86987,     0.87087,     0.87187,     0.87287,     0.87387,     0.87487,     0.87588,     0.87688,     0.87788,     0.87888,     0.87988,     0.88088,     0.88188,     0.88288,     0.88388,     0.88488,     0.88589,     0.88689,     0.88789,\n",
              "           0.88889,     0.88989,     0.89089,     0.89189,     0.89289,     0.89389,     0.89489,      0.8959,      0.8969,      0.8979,      0.8989,      0.8999,      0.9009,      0.9019,      0.9029,      0.9039,      0.9049,     0.90591,     0.90691,     0.90791,     0.90891,     0.90991,     0.91091,     0.91191,\n",
              "           0.91291,     0.91391,     0.91491,     0.91592,     0.91692,     0.91792,     0.91892,     0.91992,     0.92092,     0.92192,     0.92292,     0.92392,     0.92492,     0.92593,     0.92693,     0.92793,     0.92893,     0.92993,     0.93093,     0.93193,     0.93293,     0.93393,     0.93493,     0.93594,\n",
              "           0.93694,     0.93794,     0.93894,     0.93994,     0.94094,     0.94194,     0.94294,     0.94394,     0.94494,     0.94595,     0.94695,     0.94795,     0.94895,     0.94995,     0.95095,     0.95195,     0.95295,     0.95395,     0.95495,     0.95596,     0.95696,     0.95796,     0.95896,     0.95996,\n",
              "           0.96096,     0.96196,     0.96296,     0.96396,     0.96496,     0.96597,     0.96697,     0.96797,     0.96897,     0.96997,     0.97097,     0.97197,     0.97297,     0.97397,     0.97497,     0.97598,     0.97698,     0.97798,     0.97898,     0.97998,     0.98098,     0.98198,     0.98298,     0.98398,\n",
              "           0.98498,     0.98599,     0.98699,     0.98799,     0.98899,     0.98999,     0.99099,     0.99199,     0.99299,     0.99399,     0.99499,       0.996,       0.997,       0.998,       0.999,           1]), array([[    0.18017,     0.18017,     0.18017,     0.18114,     0.19005,     0.20415,     0.21991,     0.23481,     0.25216,     0.26456,     0.27528,     0.28642,     0.29759,     0.30811,     0.31861,     0.32723,     0.33254,     0.34214,     0.34994,     0.35512,     0.36122,      0.3687,     0.37156,\n",
              "             0.3766,     0.38114,      0.3865,     0.39096,     0.39553,     0.39891,     0.40265,     0.40434,     0.40817,     0.41116,     0.41893,     0.42405,     0.43034,     0.43339,     0.43755,     0.44274,     0.44606,     0.45195,     0.45497,     0.45834,     0.45991,     0.46435,     0.47108,\n",
              "            0.47448,     0.47627,     0.47938,     0.48139,     0.48423,     0.48957,     0.49331,     0.49758,     0.49625,     0.50026,     0.50549,     0.50962,     0.51397,     0.51596,     0.51961,     0.52194,     0.52535,     0.52816,     0.53248,     0.53664,     0.53813,     0.54052,     0.53987,\n",
              "            0.54275,      0.5451,     0.54727,     0.54807,     0.55085,     0.55203,     0.55512,     0.55741,     0.56113,     0.56395,     0.56784,     0.57202,     0.57459,     0.57583,     0.57672,     0.57787,      0.5816,     0.58378,     0.58558,     0.58752,     0.58844,     0.58938,      0.5888,\n",
              "            0.59135,     0.59393,     0.59518,     0.60158,     0.60379,     0.60447,     0.60506,     0.60785,     0.61119,     0.61234,     0.61298,     0.61525,     0.61672,     0.62041,     0.62118,     0.62383,     0.62566,     0.62764,     0.62833,     0.63105,     0.63391,       0.635,     0.63575,\n",
              "            0.63449,     0.63287,     0.63335,     0.63383,     0.63431,     0.63486,     0.63541,     0.63593,     0.63639,     0.63686,     0.63781,     0.64042,     0.64276,     0.64145,     0.63858,     0.63965,     0.64014,     0.64052,      0.6409,     0.64128,     0.64165,     0.64201,     0.64238,\n",
              "            0.64275,      0.6433,     0.64393,     0.64454,     0.64509,     0.64564,     0.64316,     0.64475,     0.64587,     0.65066,     0.65391,      0.6572,     0.65916,      0.6599,     0.65861,     0.65732,     0.65777,     0.66097,     0.66256,     0.66362,     0.66415,     0.66467,      0.6647,\n",
              "             0.6639,     0.66309,     0.66228,     0.66199,     0.66366,     0.66553,     0.66659,      0.6681,     0.67107,     0.66909,     0.67077,      0.6736,     0.67502,     0.67931,     0.68088,     0.68231,     0.68313,     0.68394,      0.6853,      0.6844,     0.68588,     0.68698,     0.68813,\n",
              "            0.68963,     0.69027,      0.6909,     0.69151,     0.69181,     0.69212,     0.69243,     0.69274,     0.69305,     0.69345,     0.69497,     0.69584,     0.69661,     0.69951,     0.70089,     0.70193,     0.70309,     0.70444,     0.70169,     0.70303,     0.70341,      0.7038,     0.70418,\n",
              "            0.70456,     0.70512,     0.70795,     0.71095,     0.71122,     0.71149,     0.71176,     0.71204,     0.71231,     0.71258,     0.71212,     0.71104,     0.70996,     0.71135,     0.71231,     0.71335,     0.71484,     0.71633,     0.71686,      0.7178,     0.71817,     0.71854,     0.71891,\n",
              "            0.71928,     0.71971,     0.72031,     0.72091,     0.72151,      0.7218,     0.72204,     0.72228,     0.72252,     0.72276,       0.723,     0.72324,     0.72348,      0.7238,     0.72427,     0.72474,     0.72521,     0.72568,     0.72716,     0.72948,     0.73103,     0.73189,     0.73153,\n",
              "            0.73118,     0.73082,     0.73046,      0.7301,     0.72974,     0.72939,     0.72903,     0.72867,      0.7305,     0.73261,     0.73359,     0.73456,     0.73554,     0.73651,     0.73607,      0.7349,     0.73373,     0.73297,     0.73262,     0.73227,     0.73193,     0.73158,     0.73123,\n",
              "            0.73088,     0.73054,     0.73019,     0.72984,     0.72949,     0.73009,     0.73097,     0.73252,     0.73404,     0.73457,     0.73509,     0.73561,     0.73621,     0.73691,      0.7376,     0.73851,     0.74002,     0.73716,     0.73906,     0.74341,     0.74395,     0.74449,     0.74504,\n",
              "            0.74534,     0.74484,     0.74433,     0.74383,     0.74332,     0.74282,     0.74231,     0.74181,     0.73815,     0.73824,      0.7387,     0.73916,     0.73963,     0.74008,     0.74037,     0.74066,     0.74095,     0.74124,     0.74153,     0.74182,     0.74211,     0.74312,     0.74506,\n",
              "            0.74592,     0.74677,     0.74636,      0.7457,     0.74503,     0.74437,     0.74371,     0.74304,     0.74341,     0.74379,     0.74416,     0.74454,     0.74492,      0.7453,     0.74805,     0.74849,     0.74892,     0.74936,     0.74979,     0.74721,     0.74659,     0.74723,     0.74787,\n",
              "            0.75009,      0.7464,     0.74532,     0.74423,     0.74314,     0.73884,     0.73734,     0.73584,     0.73415,     0.73207,     0.72988,     0.72748,     0.72698,     0.72742,     0.72786,     0.72829,     0.72873,     0.72976,      0.7315,     0.73184,     0.73217,     0.73251,     0.73285,\n",
              "            0.73318,     0.73352,     0.73386,     0.73422,     0.73459,     0.73495,     0.73531,     0.73567,     0.73604,     0.73901,     0.73967,     0.74033,     0.74101,     0.74283,     0.74071,     0.73788,      0.7356,     0.73703,     0.73917,     0.73939,     0.73849,     0.73758,     0.73667,\n",
              "             0.7358,     0.73609,     0.73638,     0.73667,     0.73695,     0.73724,     0.73753,     0.73782,     0.73811,     0.73995,     0.73963,     0.73818,     0.73672,     0.73756,     0.73884,     0.73757,     0.73597,     0.73522,      0.7378,     0.74114,     0.73669,     0.73365,     0.73391,\n",
              "            0.73418,     0.73445,     0.73472,     0.73499,     0.73525,     0.73552,     0.73579,     0.73606,     0.73407,     0.73133,     0.72731,     0.72764,     0.72796,     0.72829,     0.72862,     0.72895,     0.72927,      0.7296,     0.73009,     0.73097,     0.73185,     0.73177,      0.7301,\n",
              "            0.72843,     0.72828,     0.72881,     0.72934,     0.72987,      0.7304,     0.72672,      0.7252,     0.72426,     0.72333,      0.7224,     0.72146,      0.7203,     0.71913,     0.71795,     0.71656,     0.71472,     0.71371,     0.71271,      0.7117,      0.7107,     0.71134,     0.71216,\n",
              "            0.71095,     0.70975,     0.70855,      0.7026,     0.70138,     0.70016,     0.69893,     0.69688,     0.69442,     0.69302,     0.69203,     0.69103,     0.69004,     0.68905,     0.68921,     0.68958,     0.68996,     0.69033,     0.69071,     0.69108,     0.69146,     0.69234,     0.69323,\n",
              "            0.69394,     0.69294,     0.69194,     0.69094,     0.68994,     0.68893,     0.68792,     0.68691,      0.6859,     0.68489,     0.68337,     0.68083,     0.67229,     0.66938,     0.66982,     0.67025,     0.67069,     0.67113,     0.67156,     0.67135,      0.6706,     0.66986,     0.66911,\n",
              "            0.66837,     0.66762,     0.66688,     0.66961,     0.67015,     0.67068,      0.6712,     0.67173,     0.67331,     0.67199,     0.67067,     0.66934,      0.6628,     0.66146,     0.66012,     0.65886,     0.65975,     0.66063,     0.66122,     0.65941,     0.65761,     0.65563,      0.6529,\n",
              "            0.65054,     0.64944,     0.64834,     0.64724,     0.64613,     0.64503,     0.64392,     0.64281,      0.6417,     0.64058,     0.63867,     0.63587,     0.63158,     0.62975,     0.63106,     0.63178,     0.63211,     0.63244,     0.63277,      0.6331,     0.63342,     0.63375,     0.63408,\n",
              "            0.63468,     0.63534,       0.636,     0.63666,     0.63333,     0.63087,     0.63023,     0.62959,     0.62895,     0.62831,     0.62767,     0.62703,     0.62638,     0.62574,     0.62476,      0.6236,     0.62244,     0.62127,      0.6201,     0.61871,     0.61724,     0.61577,      0.6143,\n",
              "             0.6124,     0.61043,     0.60845,     0.60916,     0.61003,     0.61082,     0.60684,     0.60172,     0.60066,     0.59987,     0.59682,     0.59375,     0.59068,     0.58542,     0.58316,     0.58243,     0.58169,     0.58096,     0.58022,     0.57948,     0.57875,     0.57801,     0.57786,\n",
              "            0.57851,     0.57915,     0.57979,      0.5797,     0.57895,     0.57821,     0.57747,     0.57672,     0.57598,     0.57523,     0.57448,     0.57317,     0.56998,     0.56708,     0.56494,     0.56279,     0.56113,     0.56037,     0.55961,     0.55884,     0.55808,     0.55732,     0.55655,\n",
              "            0.55578,      0.5551,     0.55567,     0.55623,     0.55679,     0.55734,     0.55769,     0.55793,     0.55817,     0.55842,     0.55866,      0.5589,     0.55914,     0.55938,     0.55962,     0.55986,     0.55812,     0.55372,     0.55143,     0.54922,     0.54704,     0.54582,      0.5446,\n",
              "            0.54338,     0.54216,     0.54094,     0.54085,     0.54131,     0.54177,     0.54222,     0.54267,     0.54312,     0.54354,     0.54397,     0.54439,     0.54481,     0.54523,     0.54477,     0.54326,     0.54175,     0.54023,      0.5389,     0.54017,     0.54122,      0.5407,     0.54017,\n",
              "            0.53964,     0.53911,     0.53858,     0.53805,     0.53752,     0.53699,     0.53646,     0.53593,      0.5354,     0.53486,     0.52476,     0.52119,     0.52174,      0.5223,     0.52285,     0.52333,     0.52281,     0.52228,     0.52176,     0.52123,     0.52071,     0.52018,     0.51965,\n",
              "            0.51913,      0.5186,     0.51807,     0.51754,     0.51702,     0.51649,     0.51001,     0.50278,     0.49449,     0.49286,     0.49122,     0.48958,     0.48796,     0.48682,     0.48568,     0.48453,     0.48338,     0.48224,     0.48109,      0.4825,     0.47575,     0.47585,     0.47594,\n",
              "            0.47603,     0.47612,     0.47622,     0.47631,      0.4764,     0.47649,     0.47658,     0.47668,     0.47677,     0.47686,     0.47695,     0.47704,     0.47713,     0.47722,     0.47731,     0.47741,      0.4775,     0.47759,     0.47768,     0.47777,     0.47786,     0.47795,     0.47804,\n",
              "            0.47714,     0.47612,      0.4751,     0.47408,     0.47306,     0.47204,     0.47102,      0.4626,     0.46183,     0.46105,     0.46027,     0.45949,     0.45871,     0.45793,     0.45715,     0.45637,     0.45558,     0.45427,     0.45284,     0.45141,     0.44998,     0.44854,     0.43954,\n",
              "            0.43854,     0.43754,     0.43654,     0.43553,     0.43453,     0.43352,     0.43251,     0.42687,     0.42147,     0.41737,     0.41453,     0.41217,      0.4098,     0.40557,     0.40004,     0.40014,     0.40025,     0.40036,     0.40047,     0.40057,     0.40068,     0.40078,     0.40089,\n",
              "              0.401,      0.4011,     0.40121,     0.40131,     0.40142,     0.40152,     0.40163,     0.40173,     0.40184,     0.40194,     0.40204,     0.40236,     0.40272,     0.40308,     0.40343,     0.40378,     0.40413,     0.40323,     0.40229,     0.40134,      0.4004,     0.39945,      0.3985,\n",
              "            0.39755,      0.3966,      0.3957,     0.39502,     0.39433,     0.39364,     0.39296,     0.39227,     0.39158,     0.39089,      0.3902,     0.38951,     0.38882,     0.38813,     0.38744,     0.36812,     0.36368,     0.36046,     0.35822,     0.35597,     0.35372,     0.35057,     0.34695,\n",
              "            0.34384,      0.3427,     0.34156,     0.34041,     0.33926,     0.33812,     0.33697,     0.33581,     0.32752,     0.32264,     0.31888,     0.31511,     0.31133,     0.30761,      0.3057,     0.30379,     0.30187,     0.29995,     0.29727,     0.29081,      0.2789,     0.27693,     0.27495,\n",
              "            0.27297,     0.27098,     0.26629,     0.25745,     0.25069,     0.23859,     0.23514,     0.23168,     0.22736,     0.22211,     0.21924,     0.21845,     0.21767,     0.21689,      0.2161,     0.21532,     0.21453,     0.21375,     0.21296,     0.21217,     0.21138,      0.2106,     0.20981,\n",
              "            0.20871,     0.20706,     0.20541,     0.20376,     0.20211,     0.20045,      0.1986,     0.18723,     0.17442,     0.16886,     0.16497,     0.16216,     0.15935,     0.15652,     0.15341,     0.15016,      0.1469,     0.13791,     0.12138,     0.11957,     0.11776,     0.11595,     0.11413,\n",
              "             0.1123,     0.11048,    0.096963,    0.095107,    0.093247,    0.091384,    0.089517,    0.087646,    0.085245,     0.08253,    0.079807,    0.077076,    0.074458,    0.072212,     0.06996,    0.067704,    0.065442,    0.063175,    0.061329,    0.059541,    0.057749,    0.055954,    0.054155,\n",
              "           0.052353,    0.050435,     0.04621,    0.041966,     0.03719,    0.028605,    0.024959,     0.02392,     0.02288,    0.021839,    0.020796,    0.019753,    0.018708,    0.017663,    0.016616,    0.015568,    0.014519,    0.013469,           0,           0,           0,           0,           0,\n",
              "                  0,           0,           0,           0,           0,           0,           0,           0,           0,           0,           0,           0,           0,           0,           0,           0,           0,           0,           0,           0,           0,           0,           0,\n",
              "                  0,           0,           0,           0,           0,           0,           0,           0,           0,           0,           0,           0,           0,           0,           0,           0,           0,           0,           0,           0,           0,           0,           0,\n",
              "                  0,           0,           0,           0,           0,           0,           0,           0,           0,           0,           0]]), 'Confidence', 'F1'], [array([          0,    0.001001,    0.002002,    0.003003,    0.004004,    0.005005,    0.006006,    0.007007,    0.008008,    0.009009,     0.01001,    0.011011,    0.012012,    0.013013,    0.014014,    0.015015,    0.016016,    0.017017,    0.018018,    0.019019,     0.02002,    0.021021,    0.022022,    0.023023,\n",
              "          0.024024,    0.025025,    0.026026,    0.027027,    0.028028,    0.029029,     0.03003,    0.031031,    0.032032,    0.033033,    0.034034,    0.035035,    0.036036,    0.037037,    0.038038,    0.039039,     0.04004,    0.041041,    0.042042,    0.043043,    0.044044,    0.045045,    0.046046,    0.047047,\n",
              "          0.048048,    0.049049,     0.05005,    0.051051,    0.052052,    0.053053,    0.054054,    0.055055,    0.056056,    0.057057,    0.058058,    0.059059,     0.06006,    0.061061,    0.062062,    0.063063,    0.064064,    0.065065,    0.066066,    0.067067,    0.068068,    0.069069,     0.07007,    0.071071,\n",
              "          0.072072,    0.073073,    0.074074,    0.075075,    0.076076,    0.077077,    0.078078,    0.079079,     0.08008,    0.081081,    0.082082,    0.083083,    0.084084,    0.085085,    0.086086,    0.087087,    0.088088,    0.089089,     0.09009,    0.091091,    0.092092,    0.093093,    0.094094,    0.095095,\n",
              "          0.096096,    0.097097,    0.098098,    0.099099,      0.1001,      0.1011,      0.1021,      0.1031,      0.1041,     0.10511,     0.10611,     0.10711,     0.10811,     0.10911,     0.11011,     0.11111,     0.11211,     0.11311,     0.11411,     0.11512,     0.11612,     0.11712,     0.11812,     0.11912,\n",
              "           0.12012,     0.12112,     0.12212,     0.12312,     0.12412,     0.12513,     0.12613,     0.12713,     0.12813,     0.12913,     0.13013,     0.13113,     0.13213,     0.13313,     0.13413,     0.13514,     0.13614,     0.13714,     0.13814,     0.13914,     0.14014,     0.14114,     0.14214,     0.14314,\n",
              "           0.14414,     0.14515,     0.14615,     0.14715,     0.14815,     0.14915,     0.15015,     0.15115,     0.15215,     0.15315,     0.15415,     0.15516,     0.15616,     0.15716,     0.15816,     0.15916,     0.16016,     0.16116,     0.16216,     0.16316,     0.16416,     0.16517,     0.16617,     0.16717,\n",
              "           0.16817,     0.16917,     0.17017,     0.17117,     0.17217,     0.17317,     0.17417,     0.17518,     0.17618,     0.17718,     0.17818,     0.17918,     0.18018,     0.18118,     0.18218,     0.18318,     0.18418,     0.18519,     0.18619,     0.18719,     0.18819,     0.18919,     0.19019,     0.19119,\n",
              "           0.19219,     0.19319,     0.19419,      0.1952,      0.1962,      0.1972,      0.1982,      0.1992,      0.2002,      0.2012,      0.2022,      0.2032,      0.2042,     0.20521,     0.20621,     0.20721,     0.20821,     0.20921,     0.21021,     0.21121,     0.21221,     0.21321,     0.21421,     0.21522,\n",
              "           0.21622,     0.21722,     0.21822,     0.21922,     0.22022,     0.22122,     0.22222,     0.22322,     0.22422,     0.22523,     0.22623,     0.22723,     0.22823,     0.22923,     0.23023,     0.23123,     0.23223,     0.23323,     0.23423,     0.23524,     0.23624,     0.23724,     0.23824,     0.23924,\n",
              "           0.24024,     0.24124,     0.24224,     0.24324,     0.24424,     0.24525,     0.24625,     0.24725,     0.24825,     0.24925,     0.25025,     0.25125,     0.25225,     0.25325,     0.25425,     0.25526,     0.25626,     0.25726,     0.25826,     0.25926,     0.26026,     0.26126,     0.26226,     0.26326,\n",
              "           0.26426,     0.26527,     0.26627,     0.26727,     0.26827,     0.26927,     0.27027,     0.27127,     0.27227,     0.27327,     0.27427,     0.27528,     0.27628,     0.27728,     0.27828,     0.27928,     0.28028,     0.28128,     0.28228,     0.28328,     0.28428,     0.28529,     0.28629,     0.28729,\n",
              "           0.28829,     0.28929,     0.29029,     0.29129,     0.29229,     0.29329,     0.29429,      0.2953,      0.2963,      0.2973,      0.2983,      0.2993,      0.3003,      0.3013,      0.3023,      0.3033,      0.3043,     0.30531,     0.30631,     0.30731,     0.30831,     0.30931,     0.31031,     0.31131,\n",
              "           0.31231,     0.31331,     0.31431,     0.31532,     0.31632,     0.31732,     0.31832,     0.31932,     0.32032,     0.32132,     0.32232,     0.32332,     0.32432,     0.32533,     0.32633,     0.32733,     0.32833,     0.32933,     0.33033,     0.33133,     0.33233,     0.33333,     0.33433,     0.33534,\n",
              "           0.33634,     0.33734,     0.33834,     0.33934,     0.34034,     0.34134,     0.34234,     0.34334,     0.34434,     0.34535,     0.34635,     0.34735,     0.34835,     0.34935,     0.35035,     0.35135,     0.35235,     0.35335,     0.35435,     0.35536,     0.35636,     0.35736,     0.35836,     0.35936,\n",
              "           0.36036,     0.36136,     0.36236,     0.36336,     0.36436,     0.36537,     0.36637,     0.36737,     0.36837,     0.36937,     0.37037,     0.37137,     0.37237,     0.37337,     0.37437,     0.37538,     0.37638,     0.37738,     0.37838,     0.37938,     0.38038,     0.38138,     0.38238,     0.38338,\n",
              "           0.38438,     0.38539,     0.38639,     0.38739,     0.38839,     0.38939,     0.39039,     0.39139,     0.39239,     0.39339,     0.39439,      0.3954,      0.3964,      0.3974,      0.3984,      0.3994,      0.4004,      0.4014,      0.4024,      0.4034,      0.4044,     0.40541,     0.40641,     0.40741,\n",
              "           0.40841,     0.40941,     0.41041,     0.41141,     0.41241,     0.41341,     0.41441,     0.41542,     0.41642,     0.41742,     0.41842,     0.41942,     0.42042,     0.42142,     0.42242,     0.42342,     0.42442,     0.42543,     0.42643,     0.42743,     0.42843,     0.42943,     0.43043,     0.43143,\n",
              "           0.43243,     0.43343,     0.43443,     0.43544,     0.43644,     0.43744,     0.43844,     0.43944,     0.44044,     0.44144,     0.44244,     0.44344,     0.44444,     0.44545,     0.44645,     0.44745,     0.44845,     0.44945,     0.45045,     0.45145,     0.45245,     0.45345,     0.45445,     0.45546,\n",
              "           0.45646,     0.45746,     0.45846,     0.45946,     0.46046,     0.46146,     0.46246,     0.46346,     0.46446,     0.46547,     0.46647,     0.46747,     0.46847,     0.46947,     0.47047,     0.47147,     0.47247,     0.47347,     0.47447,     0.47548,     0.47648,     0.47748,     0.47848,     0.47948,\n",
              "           0.48048,     0.48148,     0.48248,     0.48348,     0.48448,     0.48549,     0.48649,     0.48749,     0.48849,     0.48949,     0.49049,     0.49149,     0.49249,     0.49349,     0.49449,      0.4955,      0.4965,      0.4975,      0.4985,      0.4995,      0.5005,      0.5015,      0.5025,      0.5035,\n",
              "            0.5045,     0.50551,     0.50651,     0.50751,     0.50851,     0.50951,     0.51051,     0.51151,     0.51251,     0.51351,     0.51451,     0.51552,     0.51652,     0.51752,     0.51852,     0.51952,     0.52052,     0.52152,     0.52252,     0.52352,     0.52452,     0.52553,     0.52653,     0.52753,\n",
              "           0.52853,     0.52953,     0.53053,     0.53153,     0.53253,     0.53353,     0.53453,     0.53554,     0.53654,     0.53754,     0.53854,     0.53954,     0.54054,     0.54154,     0.54254,     0.54354,     0.54454,     0.54555,     0.54655,     0.54755,     0.54855,     0.54955,     0.55055,     0.55155,\n",
              "           0.55255,     0.55355,     0.55455,     0.55556,     0.55656,     0.55756,     0.55856,     0.55956,     0.56056,     0.56156,     0.56256,     0.56356,     0.56456,     0.56557,     0.56657,     0.56757,     0.56857,     0.56957,     0.57057,     0.57157,     0.57257,     0.57357,     0.57457,     0.57558,\n",
              "           0.57658,     0.57758,     0.57858,     0.57958,     0.58058,     0.58158,     0.58258,     0.58358,     0.58458,     0.58559,     0.58659,     0.58759,     0.58859,     0.58959,     0.59059,     0.59159,     0.59259,     0.59359,     0.59459,      0.5956,      0.5966,      0.5976,      0.5986,      0.5996,\n",
              "            0.6006,      0.6016,      0.6026,      0.6036,      0.6046,     0.60561,     0.60661,     0.60761,     0.60861,     0.60961,     0.61061,     0.61161,     0.61261,     0.61361,     0.61461,     0.61562,     0.61662,     0.61762,     0.61862,     0.61962,     0.62062,     0.62162,     0.62262,     0.62362,\n",
              "           0.62462,     0.62563,     0.62663,     0.62763,     0.62863,     0.62963,     0.63063,     0.63163,     0.63263,     0.63363,     0.63463,     0.63564,     0.63664,     0.63764,     0.63864,     0.63964,     0.64064,     0.64164,     0.64264,     0.64364,     0.64464,     0.64565,     0.64665,     0.64765,\n",
              "           0.64865,     0.64965,     0.65065,     0.65165,     0.65265,     0.65365,     0.65465,     0.65566,     0.65666,     0.65766,     0.65866,     0.65966,     0.66066,     0.66166,     0.66266,     0.66366,     0.66466,     0.66567,     0.66667,     0.66767,     0.66867,     0.66967,     0.67067,     0.67167,\n",
              "           0.67267,     0.67367,     0.67467,     0.67568,     0.67668,     0.67768,     0.67868,     0.67968,     0.68068,     0.68168,     0.68268,     0.68368,     0.68468,     0.68569,     0.68669,     0.68769,     0.68869,     0.68969,     0.69069,     0.69169,     0.69269,     0.69369,     0.69469,      0.6957,\n",
              "            0.6967,      0.6977,      0.6987,      0.6997,      0.7007,      0.7017,      0.7027,      0.7037,      0.7047,     0.70571,     0.70671,     0.70771,     0.70871,     0.70971,     0.71071,     0.71171,     0.71271,     0.71371,     0.71471,     0.71572,     0.71672,     0.71772,     0.71872,     0.71972,\n",
              "           0.72072,     0.72172,     0.72272,     0.72372,     0.72472,     0.72573,     0.72673,     0.72773,     0.72873,     0.72973,     0.73073,     0.73173,     0.73273,     0.73373,     0.73473,     0.73574,     0.73674,     0.73774,     0.73874,     0.73974,     0.74074,     0.74174,     0.74274,     0.74374,\n",
              "           0.74474,     0.74575,     0.74675,     0.74775,     0.74875,     0.74975,     0.75075,     0.75175,     0.75275,     0.75375,     0.75475,     0.75576,     0.75676,     0.75776,     0.75876,     0.75976,     0.76076,     0.76176,     0.76276,     0.76376,     0.76476,     0.76577,     0.76677,     0.76777,\n",
              "           0.76877,     0.76977,     0.77077,     0.77177,     0.77277,     0.77377,     0.77477,     0.77578,     0.77678,     0.77778,     0.77878,     0.77978,     0.78078,     0.78178,     0.78278,     0.78378,     0.78478,     0.78579,     0.78679,     0.78779,     0.78879,     0.78979,     0.79079,     0.79179,\n",
              "           0.79279,     0.79379,     0.79479,      0.7958,      0.7968,      0.7978,      0.7988,      0.7998,      0.8008,      0.8018,      0.8028,      0.8038,      0.8048,     0.80581,     0.80681,     0.80781,     0.80881,     0.80981,     0.81081,     0.81181,     0.81281,     0.81381,     0.81481,     0.81582,\n",
              "           0.81682,     0.81782,     0.81882,     0.81982,     0.82082,     0.82182,     0.82282,     0.82382,     0.82482,     0.82583,     0.82683,     0.82783,     0.82883,     0.82983,     0.83083,     0.83183,     0.83283,     0.83383,     0.83483,     0.83584,     0.83684,     0.83784,     0.83884,     0.83984,\n",
              "           0.84084,     0.84184,     0.84284,     0.84384,     0.84484,     0.84585,     0.84685,     0.84785,     0.84885,     0.84985,     0.85085,     0.85185,     0.85285,     0.85385,     0.85485,     0.85586,     0.85686,     0.85786,     0.85886,     0.85986,     0.86086,     0.86186,     0.86286,     0.86386,\n",
              "           0.86486,     0.86587,     0.86687,     0.86787,     0.86887,     0.86987,     0.87087,     0.87187,     0.87287,     0.87387,     0.87487,     0.87588,     0.87688,     0.87788,     0.87888,     0.87988,     0.88088,     0.88188,     0.88288,     0.88388,     0.88488,     0.88589,     0.88689,     0.88789,\n",
              "           0.88889,     0.88989,     0.89089,     0.89189,     0.89289,     0.89389,     0.89489,      0.8959,      0.8969,      0.8979,      0.8989,      0.8999,      0.9009,      0.9019,      0.9029,      0.9039,      0.9049,     0.90591,     0.90691,     0.90791,     0.90891,     0.90991,     0.91091,     0.91191,\n",
              "           0.91291,     0.91391,     0.91491,     0.91592,     0.91692,     0.91792,     0.91892,     0.91992,     0.92092,     0.92192,     0.92292,     0.92392,     0.92492,     0.92593,     0.92693,     0.92793,     0.92893,     0.92993,     0.93093,     0.93193,     0.93293,     0.93393,     0.93493,     0.93594,\n",
              "           0.93694,     0.93794,     0.93894,     0.93994,     0.94094,     0.94194,     0.94294,     0.94394,     0.94494,     0.94595,     0.94695,     0.94795,     0.94895,     0.94995,     0.95095,     0.95195,     0.95295,     0.95395,     0.95495,     0.95596,     0.95696,     0.95796,     0.95896,     0.95996,\n",
              "           0.96096,     0.96196,     0.96296,     0.96396,     0.96496,     0.96597,     0.96697,     0.96797,     0.96897,     0.96997,     0.97097,     0.97197,     0.97297,     0.97397,     0.97497,     0.97598,     0.97698,     0.97798,     0.97898,     0.97998,     0.98098,     0.98198,     0.98298,     0.98398,\n",
              "           0.98498,     0.98599,     0.98699,     0.98799,     0.98899,     0.98999,     0.99099,     0.99199,     0.99299,     0.99399,     0.99499,       0.996,       0.997,       0.998,       0.999,           1]), array([[   0.099333,    0.099333,    0.099333,    0.099927,     0.10537,     0.11421,     0.12427,     0.13387,     0.14527,     0.15356,     0.16083,     0.16849,     0.17627,     0.18371,     0.19148,     0.19774,     0.20163,     0.20874,     0.21457,     0.21848,     0.22312,     0.22885,     0.23131,\n",
              "            0.23537,     0.23893,     0.24316,      0.2467,     0.25035,     0.25353,     0.25657,     0.25844,     0.26158,     0.26404,     0.27048,     0.27477,     0.28066,     0.28327,     0.28683,     0.29131,     0.29419,     0.29933,     0.30199,     0.30497,     0.30636,     0.31031,     0.31635,\n",
              "            0.31943,     0.32105,     0.32389,     0.32572,     0.32833,     0.33326,     0.33673,     0.34072,     0.34036,     0.34415,     0.34911,     0.35307,     0.35726,     0.35918,     0.36274,     0.36501,     0.36836,     0.37113,     0.37541,     0.37955,     0.38104,     0.38459,      0.3851,\n",
              "            0.38804,     0.39045,     0.39268,     0.39351,     0.39638,     0.39761,     0.40081,     0.40321,     0.40711,     0.41009,     0.41421,     0.41868,     0.42143,     0.42278,     0.42374,     0.42497,     0.42903,      0.4314,     0.43337,      0.4355,     0.43651,     0.43754,     0.43844,\n",
              "            0.44128,     0.44416,     0.44555,     0.45277,     0.45528,     0.45605,     0.45672,     0.45991,     0.46374,     0.46507,     0.46581,     0.46844,     0.47014,     0.47445,     0.47534,     0.47845,     0.48061,     0.48295,     0.48376,     0.48701,     0.49041,     0.49172,     0.49262,\n",
              "            0.49201,     0.49113,     0.49171,     0.49228,     0.49287,     0.49354,      0.4942,     0.49482,     0.49539,     0.49595,     0.49711,     0.50028,     0.50315,     0.50268,     0.50202,     0.50353,     0.50414,     0.50461,     0.50508,     0.50555,     0.50601,     0.50647,     0.50693,\n",
              "            0.50739,     0.50808,     0.50886,     0.50962,     0.51031,       0.511,      0.5101,     0.51211,     0.51352,      0.5196,     0.52376,     0.52799,     0.53053,     0.53164,     0.53091,     0.53018,     0.53116,     0.53534,     0.53744,     0.53883,     0.53952,     0.54022,     0.54048,\n",
              "            0.54003,     0.53958,     0.53913,     0.53923,     0.54144,     0.54394,     0.54536,     0.54737,     0.55192,     0.55082,     0.55369,     0.55755,      0.5595,     0.56543,      0.5676,      0.5696,     0.57073,     0.57186,     0.57377,     0.57549,     0.57758,     0.57915,     0.58078,\n",
              "            0.58292,     0.58384,     0.58474,     0.58561,     0.58605,      0.5865,     0.58694,     0.58738,     0.58783,     0.58841,      0.5906,     0.59186,     0.59297,     0.59719,      0.5992,     0.60071,     0.60242,     0.60456,     0.60369,     0.60568,     0.60625,     0.60682,     0.60739,\n",
              "            0.60796,      0.6088,     0.61303,     0.61753,     0.61794,     0.61835,     0.61877,     0.61918,     0.61959,        0.62,     0.61989,     0.61933,     0.61878,     0.62172,     0.62319,     0.62479,     0.62707,     0.62937,     0.63397,     0.63544,     0.63602,     0.63661,     0.63719,\n",
              "            0.63777,     0.63845,     0.63939,     0.64034,     0.64128,     0.64174,     0.64212,      0.6425,     0.64289,     0.64327,     0.64365,     0.64403,     0.64441,     0.64491,     0.64566,     0.64641,     0.64716,     0.64791,     0.65027,       0.654,     0.65648,     0.65798,     0.65781,\n",
              "            0.65764,     0.65746,     0.65729,     0.65711,     0.65694,     0.65677,     0.65659,     0.65642,      0.6598,     0.66325,     0.66484,     0.66644,     0.66806,     0.66967,     0.66984,     0.66929,     0.66873,     0.66837,      0.6682,     0.66803,     0.66787,      0.6677,     0.66754,\n",
              "            0.66737,      0.6672,     0.66704,     0.66687,     0.66671,     0.66779,     0.66927,     0.67188,     0.67444,     0.67533,     0.67622,      0.6771,     0.67812,     0.67929,     0.68047,     0.68203,      0.6846,     0.68363,      0.6877,     0.69527,     0.69622,     0.69718,     0.69813,\n",
              "            0.69881,     0.69858,     0.69836,     0.69813,      0.6979,     0.69767,     0.69745,     0.69722,     0.69556,     0.69617,       0.697,     0.69782,     0.69864,     0.69945,     0.69997,     0.70049,     0.70101,     0.70154,     0.70206,     0.70258,      0.7031,      0.7049,     0.70841,\n",
              "            0.70996,     0.71151,     0.71152,     0.71123,     0.71094,     0.71065,     0.71036,     0.71006,     0.71074,     0.71143,     0.71213,     0.71282,     0.71351,     0.71421,     0.71928,     0.72008,     0.72089,      0.7217,      0.7225,      0.7217,     0.72216,     0.72336,     0.72456,\n",
              "            0.72976,     0.72821,     0.72775,     0.72729,     0.72683,     0.72499,     0.72435,     0.72371,     0.72298,     0.72208,     0.72113,     0.72009,     0.72032,     0.72118,     0.72204,      0.7229,     0.72376,      0.7258,     0.72925,     0.72992,     0.73059,     0.73126,     0.73193,\n",
              "             0.7326,     0.73327,     0.73395,     0.73468,     0.73541,     0.73614,     0.73686,     0.73759,     0.73832,     0.74432,     0.74567,     0.74701,     0.74841,      0.7531,     0.75225,     0.75112,     0.75105,     0.75404,     0.75851,     0.76004,     0.75968,     0.75932,     0.75897,\n",
              "            0.75864,     0.75926,     0.75988,     0.76049,     0.76111,     0.76173,     0.76234,     0.76296,     0.76358,     0.76752,     0.76881,     0.76825,     0.76769,     0.76995,     0.77274,     0.77251,     0.77191,      0.7726,      0.7783,     0.78792,     0.78631,     0.78537,     0.78599,\n",
              "             0.7866,     0.78722,     0.78784,     0.78845,     0.78907,     0.78968,      0.7903,     0.79092,     0.79032,     0.78934,     0.78796,     0.78873,      0.7895,     0.79027,     0.79104,     0.79181,     0.79259,     0.79336,     0.79453,     0.79661,      0.7987,     0.79978,      0.7992,\n",
              "            0.79863,     0.79934,     0.80062,     0.80189,     0.80317,     0.80445,      0.8034,     0.80288,     0.80256,     0.80224,     0.80192,      0.8016,      0.8012,     0.80079,     0.80038,      0.7999,     0.80485,      0.8045,     0.80416,     0.80381,     0.80347,     0.80634,     0.80972,\n",
              "            0.80932,     0.80891,     0.80851,     0.80648,     0.80606,     0.80564,     0.80522,     0.80451,     0.80366,     0.80317,     0.80282,     0.80247,     0.80213,     0.80178,     0.80258,      0.8036,     0.80462,     0.80565,     0.80667,     0.80769,     0.80872,     0.81115,     0.81357,\n",
              "            0.81576,     0.81543,     0.81509,     0.81476,     0.81442,     0.81409,     0.81375,     0.81341,     0.81307,     0.81273,     0.81222,     0.81135,     0.80841,     0.80785,     0.80913,     0.81041,     0.81168,     0.81296,     0.81424,     0.81468,     0.81442,     0.81417,     0.81392,\n",
              "            0.81366,     0.81341,     0.81316,     0.82191,     0.82351,     0.82511,     0.82672,     0.82832,      0.8362,     0.83579,     0.83538,     0.83498,     0.83294,     0.83251,     0.83209,     0.83179,     0.83463,     0.83747,     0.83994,     0.83939,     0.83883,     0.83823,     0.83738,\n",
              "            0.83665,     0.83631,     0.83596,     0.83562,     0.83527,     0.83493,     0.83457,     0.83422,     0.83387,     0.83352,      0.8329,     0.83201,     0.83061,      0.8323,     0.83687,     0.83941,     0.84058,     0.84175,     0.84291,     0.84408,     0.84525,     0.84642,     0.84759,\n",
              "            0.84972,     0.85211,      0.8545,     0.85688,     0.85618,     0.85548,     0.85529,     0.85511,     0.85492,     0.85474,     0.85455,     0.85437,     0.85418,       0.854,     0.85371,     0.85337,     0.85303,     0.85269,     0.85235,     0.85194,      0.8515,     0.85107,     0.85063,\n",
              "            0.85006,     0.84947,     0.84887,     0.85205,     0.85546,     0.85881,     0.85766,     0.85617,     0.86157,     0.86534,      0.8645,     0.86363,     0.86276,     0.86126,      0.8606,     0.86039,     0.86017,     0.85996,     0.85974,     0.85953,     0.85931,      0.8591,      0.8602,\n",
              "            0.86306,     0.86592,     0.86878,     0.87002,     0.86982,     0.86961,      0.8694,      0.8692,     0.86899,     0.86878,     0.86858,     0.86821,     0.86731,     0.86649,     0.86588,     0.86526,     0.86479,     0.86456,     0.86434,     0.86412,     0.86389,     0.86367,     0.86345,\n",
              "            0.86322,     0.86319,     0.86592,     0.86865,     0.87138,     0.87411,     0.87581,     0.87701,     0.87822,     0.87942,     0.88062,     0.88183,     0.88303,     0.88423,     0.88544,     0.88664,     0.88685,     0.88575,     0.88517,      0.8846,     0.88405,     0.88373,     0.88341,\n",
              "            0.88309,     0.88277,     0.88246,     0.88401,     0.88646,     0.88892,     0.89137,     0.89383,     0.89624,     0.89856,     0.90087,     0.90319,     0.90551,     0.90783,     0.90895,     0.90863,     0.90831,     0.90799,     0.90816,     0.91543,     0.92186,     0.92177,     0.92167,\n",
              "            0.92157,     0.92147,     0.92137,     0.92128,     0.92118,     0.92108,     0.92098,     0.92089,     0.92079,     0.92069,     0.91877,     0.91962,     0.92311,     0.92659,     0.93008,     0.93333,     0.93324,     0.93316,     0.93307,     0.93298,      0.9329,     0.93281,     0.93273,\n",
              "            0.93264,     0.93256,     0.93247,     0.93238,      0.9323,     0.93221,     0.93113,     0.92989,     0.92844,     0.92814,     0.92784,     0.92755,     0.92726,     0.92705,     0.92683,     0.92662,     0.92641,      0.9262,     0.92598,      0.9389,      0.9425,     0.94323,     0.94395,\n",
              "            0.94468,     0.94541,     0.94614,     0.94687,      0.9476,     0.94833,     0.94905,     0.94978,     0.95051,     0.95124,     0.95197,      0.9527,     0.95342,     0.95415,     0.95488,     0.95561,     0.95634,     0.95707,     0.95779,     0.95852,     0.95925,     0.95998,     0.96071,\n",
              "            0.96069,     0.96058,     0.96047,     0.96037,     0.96026,     0.96015,     0.96005,     0.95913,     0.95905,     0.95896,     0.95887,     0.95878,      0.9587,     0.95861,     0.95852,     0.95844,     0.95835,      0.9582,     0.95803,     0.95787,      0.9577,     0.95754,     0.95647,\n",
              "            0.95634,     0.95622,     0.95609,     0.95597,     0.95585,     0.95572,      0.9556,     0.95488,     0.95418,     0.95364,     0.95325,     0.95293,      0.9526,     0.95201,     0.95163,     0.95285,     0.95407,     0.95529,      0.9565,     0.95772,     0.95894,     0.96016,     0.96138,\n",
              "             0.9626,     0.96382,     0.96504,     0.96625,     0.96747,     0.96869,     0.96991,     0.97113,     0.97235,     0.97357,     0.97479,     0.97852,     0.98279,     0.98706,     0.99133,      0.9956,     0.99987,           1,           1,           1,           1,           1,           1,\n",
              "                  1,           1,           1,           1,           1,           1,           1,           1,           1,           1,           1,           1,           1,           1,           1,           1,           1,           1,           1,           1,           1,           1,           1,\n",
              "                  1,           1,           1,           1,           1,           1,           1,           1,           1,           1,           1,           1,           1,           1,           1,           1,           1,           1,           1,           1,           1,           1,           1,\n",
              "                  1,           1,           1,           1,           1,           1,           1,           1,           1,           1,           1,           1,           1,           1,           1,           1,           1,           1,           1,           1,           1,           1,           1,\n",
              "                  1,           1,           1,           1,           1,           1,           1,           1,           1,           1,           1,           1,           1,           1,           1,           1,           1,           1,           1,           1,           1,           1,           1,\n",
              "                  1,           1,           1,           1,           1,           1,           1,           1,           1,           1,           1,           1,           1,           1,           1,           1,           1,           1,           1,           1,           1,           1,           1,\n",
              "                  1,           1,           1,           1,           1,           1,           1,           1,           1,           1,           1,           1,           1,           1,           1,           1,           1,           1,           1,           1,           1,           1,           1,\n",
              "                  1,           1,           1,           1,           1,           1,           1,           1,           1,           1,           1,           1,           1,           1,           1,           1,           1,           1,           1,           1,           1,           1,           1,\n",
              "                  1,           1,           1,           1,           1,           1,           1,           1,           1,           1,           1,           1,           1,           1,           1,           1,           1,           1,           1,           1,           1,           1,           1,\n",
              "                  1,           1,           1,           1,           1,           1,           1,           1,           1,           1,           1]]), 'Confidence', 'Precision'], [array([          0,    0.001001,    0.002002,    0.003003,    0.004004,    0.005005,    0.006006,    0.007007,    0.008008,    0.009009,     0.01001,    0.011011,    0.012012,    0.013013,    0.014014,    0.015015,    0.016016,    0.017017,    0.018018,    0.019019,     0.02002,    0.021021,    0.022022,    0.023023,\n",
              "          0.024024,    0.025025,    0.026026,    0.027027,    0.028028,    0.029029,     0.03003,    0.031031,    0.032032,    0.033033,    0.034034,    0.035035,    0.036036,    0.037037,    0.038038,    0.039039,     0.04004,    0.041041,    0.042042,    0.043043,    0.044044,    0.045045,    0.046046,    0.047047,\n",
              "          0.048048,    0.049049,     0.05005,    0.051051,    0.052052,    0.053053,    0.054054,    0.055055,    0.056056,    0.057057,    0.058058,    0.059059,     0.06006,    0.061061,    0.062062,    0.063063,    0.064064,    0.065065,    0.066066,    0.067067,    0.068068,    0.069069,     0.07007,    0.071071,\n",
              "          0.072072,    0.073073,    0.074074,    0.075075,    0.076076,    0.077077,    0.078078,    0.079079,     0.08008,    0.081081,    0.082082,    0.083083,    0.084084,    0.085085,    0.086086,    0.087087,    0.088088,    0.089089,     0.09009,    0.091091,    0.092092,    0.093093,    0.094094,    0.095095,\n",
              "          0.096096,    0.097097,    0.098098,    0.099099,      0.1001,      0.1011,      0.1021,      0.1031,      0.1041,     0.10511,     0.10611,     0.10711,     0.10811,     0.10911,     0.11011,     0.11111,     0.11211,     0.11311,     0.11411,     0.11512,     0.11612,     0.11712,     0.11812,     0.11912,\n",
              "           0.12012,     0.12112,     0.12212,     0.12312,     0.12412,     0.12513,     0.12613,     0.12713,     0.12813,     0.12913,     0.13013,     0.13113,     0.13213,     0.13313,     0.13413,     0.13514,     0.13614,     0.13714,     0.13814,     0.13914,     0.14014,     0.14114,     0.14214,     0.14314,\n",
              "           0.14414,     0.14515,     0.14615,     0.14715,     0.14815,     0.14915,     0.15015,     0.15115,     0.15215,     0.15315,     0.15415,     0.15516,     0.15616,     0.15716,     0.15816,     0.15916,     0.16016,     0.16116,     0.16216,     0.16316,     0.16416,     0.16517,     0.16617,     0.16717,\n",
              "           0.16817,     0.16917,     0.17017,     0.17117,     0.17217,     0.17317,     0.17417,     0.17518,     0.17618,     0.17718,     0.17818,     0.17918,     0.18018,     0.18118,     0.18218,     0.18318,     0.18418,     0.18519,     0.18619,     0.18719,     0.18819,     0.18919,     0.19019,     0.19119,\n",
              "           0.19219,     0.19319,     0.19419,      0.1952,      0.1962,      0.1972,      0.1982,      0.1992,      0.2002,      0.2012,      0.2022,      0.2032,      0.2042,     0.20521,     0.20621,     0.20721,     0.20821,     0.20921,     0.21021,     0.21121,     0.21221,     0.21321,     0.21421,     0.21522,\n",
              "           0.21622,     0.21722,     0.21822,     0.21922,     0.22022,     0.22122,     0.22222,     0.22322,     0.22422,     0.22523,     0.22623,     0.22723,     0.22823,     0.22923,     0.23023,     0.23123,     0.23223,     0.23323,     0.23423,     0.23524,     0.23624,     0.23724,     0.23824,     0.23924,\n",
              "           0.24024,     0.24124,     0.24224,     0.24324,     0.24424,     0.24525,     0.24625,     0.24725,     0.24825,     0.24925,     0.25025,     0.25125,     0.25225,     0.25325,     0.25425,     0.25526,     0.25626,     0.25726,     0.25826,     0.25926,     0.26026,     0.26126,     0.26226,     0.26326,\n",
              "           0.26426,     0.26527,     0.26627,     0.26727,     0.26827,     0.26927,     0.27027,     0.27127,     0.27227,     0.27327,     0.27427,     0.27528,     0.27628,     0.27728,     0.27828,     0.27928,     0.28028,     0.28128,     0.28228,     0.28328,     0.28428,     0.28529,     0.28629,     0.28729,\n",
              "           0.28829,     0.28929,     0.29029,     0.29129,     0.29229,     0.29329,     0.29429,      0.2953,      0.2963,      0.2973,      0.2983,      0.2993,      0.3003,      0.3013,      0.3023,      0.3033,      0.3043,     0.30531,     0.30631,     0.30731,     0.30831,     0.30931,     0.31031,     0.31131,\n",
              "           0.31231,     0.31331,     0.31431,     0.31532,     0.31632,     0.31732,     0.31832,     0.31932,     0.32032,     0.32132,     0.32232,     0.32332,     0.32432,     0.32533,     0.32633,     0.32733,     0.32833,     0.32933,     0.33033,     0.33133,     0.33233,     0.33333,     0.33433,     0.33534,\n",
              "           0.33634,     0.33734,     0.33834,     0.33934,     0.34034,     0.34134,     0.34234,     0.34334,     0.34434,     0.34535,     0.34635,     0.34735,     0.34835,     0.34935,     0.35035,     0.35135,     0.35235,     0.35335,     0.35435,     0.35536,     0.35636,     0.35736,     0.35836,     0.35936,\n",
              "           0.36036,     0.36136,     0.36236,     0.36336,     0.36436,     0.36537,     0.36637,     0.36737,     0.36837,     0.36937,     0.37037,     0.37137,     0.37237,     0.37337,     0.37437,     0.37538,     0.37638,     0.37738,     0.37838,     0.37938,     0.38038,     0.38138,     0.38238,     0.38338,\n",
              "           0.38438,     0.38539,     0.38639,     0.38739,     0.38839,     0.38939,     0.39039,     0.39139,     0.39239,     0.39339,     0.39439,      0.3954,      0.3964,      0.3974,      0.3984,      0.3994,      0.4004,      0.4014,      0.4024,      0.4034,      0.4044,     0.40541,     0.40641,     0.40741,\n",
              "           0.40841,     0.40941,     0.41041,     0.41141,     0.41241,     0.41341,     0.41441,     0.41542,     0.41642,     0.41742,     0.41842,     0.41942,     0.42042,     0.42142,     0.42242,     0.42342,     0.42442,     0.42543,     0.42643,     0.42743,     0.42843,     0.42943,     0.43043,     0.43143,\n",
              "           0.43243,     0.43343,     0.43443,     0.43544,     0.43644,     0.43744,     0.43844,     0.43944,     0.44044,     0.44144,     0.44244,     0.44344,     0.44444,     0.44545,     0.44645,     0.44745,     0.44845,     0.44945,     0.45045,     0.45145,     0.45245,     0.45345,     0.45445,     0.45546,\n",
              "           0.45646,     0.45746,     0.45846,     0.45946,     0.46046,     0.46146,     0.46246,     0.46346,     0.46446,     0.46547,     0.46647,     0.46747,     0.46847,     0.46947,     0.47047,     0.47147,     0.47247,     0.47347,     0.47447,     0.47548,     0.47648,     0.47748,     0.47848,     0.47948,\n",
              "           0.48048,     0.48148,     0.48248,     0.48348,     0.48448,     0.48549,     0.48649,     0.48749,     0.48849,     0.48949,     0.49049,     0.49149,     0.49249,     0.49349,     0.49449,      0.4955,      0.4965,      0.4975,      0.4985,      0.4995,      0.5005,      0.5015,      0.5025,      0.5035,\n",
              "            0.5045,     0.50551,     0.50651,     0.50751,     0.50851,     0.50951,     0.51051,     0.51151,     0.51251,     0.51351,     0.51451,     0.51552,     0.51652,     0.51752,     0.51852,     0.51952,     0.52052,     0.52152,     0.52252,     0.52352,     0.52452,     0.52553,     0.52653,     0.52753,\n",
              "           0.52853,     0.52953,     0.53053,     0.53153,     0.53253,     0.53353,     0.53453,     0.53554,     0.53654,     0.53754,     0.53854,     0.53954,     0.54054,     0.54154,     0.54254,     0.54354,     0.54454,     0.54555,     0.54655,     0.54755,     0.54855,     0.54955,     0.55055,     0.55155,\n",
              "           0.55255,     0.55355,     0.55455,     0.55556,     0.55656,     0.55756,     0.55856,     0.55956,     0.56056,     0.56156,     0.56256,     0.56356,     0.56456,     0.56557,     0.56657,     0.56757,     0.56857,     0.56957,     0.57057,     0.57157,     0.57257,     0.57357,     0.57457,     0.57558,\n",
              "           0.57658,     0.57758,     0.57858,     0.57958,     0.58058,     0.58158,     0.58258,     0.58358,     0.58458,     0.58559,     0.58659,     0.58759,     0.58859,     0.58959,     0.59059,     0.59159,     0.59259,     0.59359,     0.59459,      0.5956,      0.5966,      0.5976,      0.5986,      0.5996,\n",
              "            0.6006,      0.6016,      0.6026,      0.6036,      0.6046,     0.60561,     0.60661,     0.60761,     0.60861,     0.60961,     0.61061,     0.61161,     0.61261,     0.61361,     0.61461,     0.61562,     0.61662,     0.61762,     0.61862,     0.61962,     0.62062,     0.62162,     0.62262,     0.62362,\n",
              "           0.62462,     0.62563,     0.62663,     0.62763,     0.62863,     0.62963,     0.63063,     0.63163,     0.63263,     0.63363,     0.63463,     0.63564,     0.63664,     0.63764,     0.63864,     0.63964,     0.64064,     0.64164,     0.64264,     0.64364,     0.64464,     0.64565,     0.64665,     0.64765,\n",
              "           0.64865,     0.64965,     0.65065,     0.65165,     0.65265,     0.65365,     0.65465,     0.65566,     0.65666,     0.65766,     0.65866,     0.65966,     0.66066,     0.66166,     0.66266,     0.66366,     0.66466,     0.66567,     0.66667,     0.66767,     0.66867,     0.66967,     0.67067,     0.67167,\n",
              "           0.67267,     0.67367,     0.67467,     0.67568,     0.67668,     0.67768,     0.67868,     0.67968,     0.68068,     0.68168,     0.68268,     0.68368,     0.68468,     0.68569,     0.68669,     0.68769,     0.68869,     0.68969,     0.69069,     0.69169,     0.69269,     0.69369,     0.69469,      0.6957,\n",
              "            0.6967,      0.6977,      0.6987,      0.6997,      0.7007,      0.7017,      0.7027,      0.7037,      0.7047,     0.70571,     0.70671,     0.70771,     0.70871,     0.70971,     0.71071,     0.71171,     0.71271,     0.71371,     0.71471,     0.71572,     0.71672,     0.71772,     0.71872,     0.71972,\n",
              "           0.72072,     0.72172,     0.72272,     0.72372,     0.72472,     0.72573,     0.72673,     0.72773,     0.72873,     0.72973,     0.73073,     0.73173,     0.73273,     0.73373,     0.73473,     0.73574,     0.73674,     0.73774,     0.73874,     0.73974,     0.74074,     0.74174,     0.74274,     0.74374,\n",
              "           0.74474,     0.74575,     0.74675,     0.74775,     0.74875,     0.74975,     0.75075,     0.75175,     0.75275,     0.75375,     0.75475,     0.75576,     0.75676,     0.75776,     0.75876,     0.75976,     0.76076,     0.76176,     0.76276,     0.76376,     0.76476,     0.76577,     0.76677,     0.76777,\n",
              "           0.76877,     0.76977,     0.77077,     0.77177,     0.77277,     0.77377,     0.77477,     0.77578,     0.77678,     0.77778,     0.77878,     0.77978,     0.78078,     0.78178,     0.78278,     0.78378,     0.78478,     0.78579,     0.78679,     0.78779,     0.78879,     0.78979,     0.79079,     0.79179,\n",
              "           0.79279,     0.79379,     0.79479,      0.7958,      0.7968,      0.7978,      0.7988,      0.7998,      0.8008,      0.8018,      0.8028,      0.8038,      0.8048,     0.80581,     0.80681,     0.80781,     0.80881,     0.80981,     0.81081,     0.81181,     0.81281,     0.81381,     0.81481,     0.81582,\n",
              "           0.81682,     0.81782,     0.81882,     0.81982,     0.82082,     0.82182,     0.82282,     0.82382,     0.82482,     0.82583,     0.82683,     0.82783,     0.82883,     0.82983,     0.83083,     0.83183,     0.83283,     0.83383,     0.83483,     0.83584,     0.83684,     0.83784,     0.83884,     0.83984,\n",
              "           0.84084,     0.84184,     0.84284,     0.84384,     0.84484,     0.84585,     0.84685,     0.84785,     0.84885,     0.84985,     0.85085,     0.85185,     0.85285,     0.85385,     0.85485,     0.85586,     0.85686,     0.85786,     0.85886,     0.85986,     0.86086,     0.86186,     0.86286,     0.86386,\n",
              "           0.86486,     0.86587,     0.86687,     0.86787,     0.86887,     0.86987,     0.87087,     0.87187,     0.87287,     0.87387,     0.87487,     0.87588,     0.87688,     0.87788,     0.87888,     0.87988,     0.88088,     0.88188,     0.88288,     0.88388,     0.88488,     0.88589,     0.88689,     0.88789,\n",
              "           0.88889,     0.88989,     0.89089,     0.89189,     0.89289,     0.89389,     0.89489,      0.8959,      0.8969,      0.8979,      0.8989,      0.8999,      0.9009,      0.9019,      0.9029,      0.9039,      0.9049,     0.90591,     0.90691,     0.90791,     0.90891,     0.90991,     0.91091,     0.91191,\n",
              "           0.91291,     0.91391,     0.91491,     0.91592,     0.91692,     0.91792,     0.91892,     0.91992,     0.92092,     0.92192,     0.92292,     0.92392,     0.92492,     0.92593,     0.92693,     0.92793,     0.92893,     0.92993,     0.93093,     0.93193,     0.93293,     0.93393,     0.93493,     0.93594,\n",
              "           0.93694,     0.93794,     0.93894,     0.93994,     0.94094,     0.94194,     0.94294,     0.94394,     0.94494,     0.94595,     0.94695,     0.94795,     0.94895,     0.94995,     0.95095,     0.95195,     0.95295,     0.95395,     0.95495,     0.95596,     0.95696,     0.95796,     0.95896,     0.95996,\n",
              "           0.96096,     0.96196,     0.96296,     0.96396,     0.96496,     0.96597,     0.96697,     0.96797,     0.96897,     0.96997,     0.97097,     0.97197,     0.97297,     0.97397,     0.97497,     0.97598,     0.97698,     0.97798,     0.97898,     0.97998,     0.98098,     0.98198,     0.98298,     0.98398,\n",
              "           0.98498,     0.98599,     0.98699,     0.98799,     0.98899,     0.98999,     0.99099,     0.99199,     0.99299,     0.99399,     0.99499,       0.996,       0.997,       0.998,       0.999,           1]), array([[    0.96753,     0.96753,     0.96753,     0.96753,     0.96753,     0.96104,     0.95455,     0.95455,     0.95455,     0.95455,     0.95455,     0.95455,     0.95455,     0.95455,     0.94805,     0.94805,     0.94805,     0.94805,     0.94805,     0.94805,     0.94805,     0.94805,     0.94378,\n",
              "            0.94156,     0.94156,     0.94156,     0.94156,     0.94156,     0.93506,     0.93506,     0.92857,     0.92857,     0.92857,     0.92857,     0.92857,     0.92208,     0.92208,     0.92208,     0.92208,     0.92208,     0.92208,     0.92208,     0.92208,     0.92208,     0.92208,     0.92208,\n",
              "            0.92208,     0.92208,     0.92208,     0.92208,     0.92208,     0.92208,     0.92208,     0.92208,     0.91558,     0.91558,     0.91558,     0.91558,     0.91558,     0.91558,     0.91558,     0.91558,     0.91558,     0.91558,     0.91558,     0.91558,     0.91558,     0.90909,      0.9026,\n",
              "             0.9026,      0.9026,      0.9026,      0.9026,      0.9026,      0.9026,      0.9026,      0.9026,      0.9026,      0.9026,      0.9026,      0.9026,      0.9026,      0.9026,      0.9026,      0.9026,      0.9026,      0.9026,      0.9026,      0.9026,      0.9026,      0.9026,      0.8961,\n",
              "             0.8961,      0.8961,      0.8961,      0.8961,      0.8961,      0.8961,      0.8961,      0.8961,      0.8961,      0.8961,      0.8961,      0.8961,      0.8961,      0.8961,      0.8961,      0.8961,      0.8961,      0.8961,      0.8961,      0.8961,      0.8961,      0.8961,      0.8961,\n",
              "             0.8931,     0.88961,     0.88961,     0.88961,     0.88961,     0.88961,     0.88961,     0.88961,     0.88961,     0.88961,     0.88961,     0.88961,     0.88961,     0.88607,     0.87719,     0.87662,     0.87662,     0.87662,     0.87662,     0.87662,     0.87662,     0.87662,     0.87662,\n",
              "            0.87662,     0.87662,     0.87662,     0.87662,     0.87662,     0.87662,     0.87013,     0.87013,     0.87013,     0.87013,     0.87013,     0.87013,     0.87013,     0.86975,     0.86721,     0.86468,     0.86364,     0.86364,     0.86364,     0.86364,     0.86364,     0.86364,     0.86306,\n",
              "            0.86149,     0.85993,     0.85836,     0.85714,     0.85714,     0.85714,     0.85714,     0.85714,     0.85583,     0.85203,     0.85065,     0.85065,     0.85065,     0.85065,     0.85065,     0.85065,     0.85065,     0.85065,     0.85065,     0.84416,     0.84416,     0.84416,     0.84416,\n",
              "            0.84416,     0.84416,     0.84416,     0.84416,     0.84416,     0.84416,     0.84416,     0.84416,     0.84416,     0.84416,     0.84416,     0.84416,     0.84416,     0.84416,     0.84416,     0.84416,     0.84416,     0.84384,     0.83766,     0.83766,     0.83766,     0.83766,     0.83766,\n",
              "            0.83766,     0.83766,     0.83766,     0.83766,     0.83766,     0.83766,     0.83766,     0.83766,     0.83766,     0.83766,     0.83659,     0.83462,     0.83265,     0.83117,     0.83117,     0.83117,     0.83117,     0.83117,     0.82468,     0.82468,     0.82468,     0.82468,     0.82468,\n",
              "            0.82468,     0.82468,     0.82468,     0.82468,     0.82468,     0.82468,     0.82468,     0.82468,     0.82468,     0.82468,     0.82468,     0.82468,     0.82468,     0.82468,     0.82468,     0.82468,     0.82468,     0.82468,     0.82468,     0.82468,     0.82468,      0.8245,     0.82387,\n",
              "            0.82323,      0.8226,     0.82197,     0.82133,      0.8207,     0.82006,     0.81943,      0.8188,     0.81818,     0.81818,     0.81818,     0.81818,     0.81818,     0.81818,     0.81682,     0.81477,     0.81272,     0.81139,     0.81078,     0.81018,     0.80957,     0.80897,     0.80836,\n",
              "            0.80776,     0.80715,     0.80655,     0.80594,     0.80534,     0.80519,     0.80519,     0.80519,     0.80519,     0.80519,     0.80519,     0.80519,     0.80519,     0.80519,     0.80519,     0.80519,     0.80519,     0.79979,      0.7987,      0.7987,      0.7987,      0.7987,      0.7987,\n",
              "            0.79851,     0.79765,     0.79679,     0.79593,     0.79507,     0.79421,     0.79335,     0.79249,      0.7863,     0.78571,     0.78571,     0.78571,     0.78571,     0.78571,     0.78571,     0.78571,     0.78571,     0.78571,     0.78571,     0.78571,     0.78571,     0.78571,     0.78571,\n",
              "            0.78571,     0.78571,     0.78479,     0.78368,     0.78257,     0.78146,     0.78035,     0.77924,     0.77922,     0.77922,     0.77922,     0.77922,     0.77922,     0.77922,     0.77922,     0.77922,     0.77922,     0.77922,     0.77922,      0.7746,     0.77273,     0.77273,     0.77273,\n",
              "            0.77157,     0.76553,     0.76375,     0.76198,      0.7602,     0.75323,     0.75081,     0.74839,     0.74567,     0.74234,     0.73884,     0.73503,     0.73377,     0.73377,     0.73377,     0.73377,     0.73377,     0.73377,     0.73377,     0.73377,     0.73377,     0.73377,     0.73377,\n",
              "            0.73377,     0.73377,     0.73377,     0.73377,     0.73377,     0.73377,     0.73377,     0.73377,     0.73377,     0.73377,     0.73377,     0.73377,     0.73377,     0.73284,     0.72951,      0.7251,     0.72078,     0.72078,     0.72078,     0.71984,     0.71844,     0.71704,     0.71564,\n",
              "            0.71429,     0.71429,     0.71429,     0.71429,     0.71429,     0.71429,     0.71429,     0.71429,     0.71429,     0.71429,     0.71259,     0.71037,     0.70815,     0.70779,     0.70779,     0.70564,     0.70322,      0.7013,      0.7013,     0.69961,     0.69295,     0.68831,     0.68831,\n",
              "            0.68831,     0.68831,     0.68831,     0.68831,     0.68831,     0.68831,     0.68831,     0.68831,      0.6853,     0.68126,     0.67532,     0.67532,     0.67532,     0.67532,     0.67532,     0.67532,     0.67532,     0.67532,     0.67532,     0.67532,     0.67532,     0.67441,     0.67199,\n",
              "            0.66957,     0.66883,     0.66883,     0.66883,     0.66883,     0.66883,      0.6634,     0.66122,     0.65989,     0.65856,     0.65723,     0.65589,     0.65424,     0.65258,     0.65092,     0.64895,     0.64274,     0.64134,     0.63994,     0.63854,     0.63713,     0.63636,     0.63557,\n",
              "            0.63391,     0.63225,     0.63058,     0.62242,     0.62076,      0.6191,     0.61743,     0.61465,     0.61133,     0.60943,      0.6081,     0.60677,     0.60544,     0.60411,      0.6039,      0.6039,      0.6039,      0.6039,      0.6039,      0.6039,      0.6039,      0.6039,      0.6039,\n",
              "            0.60378,     0.60245,     0.60112,     0.59979,     0.59846,     0.59713,      0.5958,     0.59446,     0.59313,      0.5918,     0.58981,     0.58649,     0.57541,     0.57143,     0.57143,     0.57143,     0.57143,     0.57143,     0.57143,     0.57091,     0.56996,       0.569,     0.56805,\n",
              "             0.5671,     0.56615,      0.5652,     0.56494,     0.56494,     0.56494,     0.56494,     0.56494,     0.56353,     0.56187,     0.56021,     0.55854,     0.55038,     0.54872,     0.54706,     0.54545,     0.54545,     0.54545,     0.54521,     0.54299,     0.54077,     0.53835,     0.53502,\n",
              "            0.53216,     0.53083,      0.5295,     0.52816,     0.52683,      0.5255,     0.52417,     0.52284,     0.52151,     0.52018,     0.51789,     0.51457,     0.50949,     0.50649,     0.50649,     0.50649,     0.50649,     0.50649,     0.50649,     0.50649,     0.50649,     0.50649,     0.50649,\n",
              "            0.50649,     0.50649,     0.50649,     0.50649,     0.50254,     0.49968,     0.49894,      0.4982,     0.49746,     0.49673,     0.49599,     0.49525,     0.49451,     0.49377,     0.49264,     0.49131,     0.48998,     0.48865,     0.48732,     0.48573,     0.48407,      0.4824,     0.48074,\n",
              "            0.47859,     0.47638,     0.47416,     0.47403,     0.47403,     0.47396,     0.46953,     0.46387,     0.46104,     0.45904,     0.45572,     0.45239,     0.44906,     0.44341,     0.44099,     0.44021,     0.43943,     0.43864,     0.43786,     0.43708,     0.43629,     0.43551,     0.43506,\n",
              "            0.43506,     0.43506,     0.43506,     0.43465,     0.43387,     0.43309,      0.4323,     0.43152,     0.43074,     0.42995,     0.42917,     0.42779,     0.42446,     0.42145,     0.41923,     0.41701,     0.41531,     0.41452,     0.41374,     0.41296,     0.41217,     0.41139,     0.41061,\n",
              "            0.40982,     0.40909,     0.40909,     0.40909,     0.40909,     0.40909,     0.40909,     0.40909,     0.40909,     0.40909,     0.40909,     0.40909,     0.40909,     0.40909,     0.40909,     0.40909,     0.40718,     0.40274,     0.40045,     0.39823,     0.39606,     0.39485,     0.39364,\n",
              "            0.39242,     0.39121,        0.39,     0.38961,     0.38961,     0.38961,     0.38961,     0.38961,     0.38961,     0.38961,     0.38961,     0.38961,     0.38961,     0.38961,     0.38894,     0.38746,     0.38598,      0.3845,     0.38312,     0.38312,     0.38306,     0.38255,     0.38203,\n",
              "            0.38152,     0.38101,      0.3805,     0.37999,     0.37947,     0.37896,     0.37845,     0.37794,     0.37743,     0.37691,     0.36726,     0.36364,     0.36364,     0.36364,     0.36364,      0.3636,     0.36311,     0.36262,     0.36212,     0.36163,     0.36114,     0.36065,     0.36015,\n",
              "            0.35966,     0.35917,     0.35867,     0.35818,     0.35769,     0.35719,     0.35119,     0.34453,     0.33699,     0.33551,     0.33403,     0.33255,      0.3311,     0.33008,     0.32905,     0.32803,     0.32701,     0.32598,     0.32496,     0.32468,     0.31818,     0.31818,     0.31818,\n",
              "            0.31818,     0.31818,     0.31818,     0.31818,     0.31818,     0.31818,     0.31818,     0.31818,     0.31818,     0.31818,     0.31818,     0.31818,     0.31818,     0.31818,     0.31818,     0.31818,     0.31818,     0.31818,     0.31818,     0.31818,     0.31818,     0.31818,     0.31818,\n",
              "            0.31739,      0.3165,     0.31561,     0.31472,     0.31384,     0.31295,     0.31206,     0.30481,     0.30414,     0.30348,     0.30281,     0.30215,     0.30148,     0.30082,     0.30015,     0.29948,     0.29882,     0.29771,     0.29649,     0.29528,     0.29407,     0.29286,     0.28533,\n",
              "             0.2845,     0.28367,     0.28284,     0.28201,     0.28117,     0.28034,     0.27951,     0.27488,     0.27047,     0.26715,     0.26485,     0.26295,     0.26105,     0.25767,     0.25325,     0.25325,     0.25325,     0.25325,     0.25325,     0.25325,     0.25325,     0.25325,     0.25325,\n",
              "            0.25325,     0.25325,     0.25325,     0.25325,     0.25325,     0.25325,     0.25325,     0.25325,     0.25325,     0.25325,     0.25325,     0.25325,     0.25325,     0.25325,     0.25325,     0.25325,     0.25325,     0.25253,     0.25179,     0.25105,     0.25031,     0.24957,     0.24883,\n",
              "            0.24809,     0.24735,     0.24665,     0.24612,     0.24559,     0.24505,     0.24452,     0.24399,     0.24346,     0.24292,     0.24239,     0.24186,     0.24133,     0.24079,     0.24026,     0.22558,     0.22225,     0.21985,     0.21819,     0.21652,     0.21486,     0.21254,     0.20988,\n",
              "            0.20761,     0.20678,     0.20595,     0.20512,     0.20429,     0.20345,     0.20262,     0.20179,     0.19583,     0.19235,     0.18969,     0.18702,     0.18436,     0.18176,     0.18043,      0.1791,     0.17776,     0.17643,     0.17458,     0.17015,     0.16205,     0.16072,     0.15939,\n",
              "            0.15806,     0.15673,      0.1536,     0.14774,     0.14331,     0.13545,     0.13323,     0.13101,     0.12826,     0.12493,     0.12311,     0.12262,     0.12213,     0.12163,     0.12114,     0.12065,     0.12016,     0.11966,     0.11917,     0.11868,     0.11818,     0.11769,      0.1172,\n",
              "            0.11651,     0.11549,     0.11446,     0.11344,     0.11242,     0.11139,     0.11025,     0.10329,    0.095545,    0.092217,    0.089899,    0.088235,    0.086571,    0.084907,    0.083076,    0.081174,    0.079272,    0.074061,    0.064613,    0.063589,    0.062565,    0.061541,    0.060517,\n",
              "           0.059493,    0.058469,    0.050952,    0.049928,    0.048904,     0.04788,    0.046856,    0.045832,     0.04452,    0.043041,    0.041562,    0.040083,    0.038669,    0.037458,    0.036248,    0.035038,    0.033828,    0.032618,    0.031635,    0.030684,    0.029733,    0.028782,    0.027831,\n",
              "            0.02688,     0.02587,    0.023651,    0.021433,    0.018948,     0.01451,    0.012637,    0.012105,    0.011572,     0.01104,    0.010507,   0.0099749,   0.0094424,   0.0089099,   0.0083775,    0.007845,   0.0073125,     0.00678,           0,           0,           0,           0,           0,\n",
              "                  0,           0,           0,           0,           0,           0,           0,           0,           0,           0,           0,           0,           0,           0,           0,           0,           0,           0,           0,           0,           0,           0,           0,\n",
              "                  0,           0,           0,           0,           0,           0,           0,           0,           0,           0,           0,           0,           0,           0,           0,           0,           0,           0,           0,           0,           0,           0,           0,\n",
              "                  0,           0,           0,           0,           0,           0,           0,           0,           0,           0,           0]]), 'Confidence', 'Recall'], [array([          0,    0.001001,    0.002002,    0.003003,    0.004004,    0.005005,    0.006006,    0.007007,    0.008008,    0.009009,     0.01001,    0.011011,    0.012012,    0.013013,    0.014014,    0.015015,    0.016016,    0.017017,    0.018018,    0.019019,     0.02002,    0.021021,    0.022022,    0.023023,\n",
              "          0.024024,    0.025025,    0.026026,    0.027027,    0.028028,    0.029029,     0.03003,    0.031031,    0.032032,    0.033033,    0.034034,    0.035035,    0.036036,    0.037037,    0.038038,    0.039039,     0.04004,    0.041041,    0.042042,    0.043043,    0.044044,    0.045045,    0.046046,    0.047047,\n",
              "          0.048048,    0.049049,     0.05005,    0.051051,    0.052052,    0.053053,    0.054054,    0.055055,    0.056056,    0.057057,    0.058058,    0.059059,     0.06006,    0.061061,    0.062062,    0.063063,    0.064064,    0.065065,    0.066066,    0.067067,    0.068068,    0.069069,     0.07007,    0.071071,\n",
              "          0.072072,    0.073073,    0.074074,    0.075075,    0.076076,    0.077077,    0.078078,    0.079079,     0.08008,    0.081081,    0.082082,    0.083083,    0.084084,    0.085085,    0.086086,    0.087087,    0.088088,    0.089089,     0.09009,    0.091091,    0.092092,    0.093093,    0.094094,    0.095095,\n",
              "          0.096096,    0.097097,    0.098098,    0.099099,      0.1001,      0.1011,      0.1021,      0.1031,      0.1041,     0.10511,     0.10611,     0.10711,     0.10811,     0.10911,     0.11011,     0.11111,     0.11211,     0.11311,     0.11411,     0.11512,     0.11612,     0.11712,     0.11812,     0.11912,\n",
              "           0.12012,     0.12112,     0.12212,     0.12312,     0.12412,     0.12513,     0.12613,     0.12713,     0.12813,     0.12913,     0.13013,     0.13113,     0.13213,     0.13313,     0.13413,     0.13514,     0.13614,     0.13714,     0.13814,     0.13914,     0.14014,     0.14114,     0.14214,     0.14314,\n",
              "           0.14414,     0.14515,     0.14615,     0.14715,     0.14815,     0.14915,     0.15015,     0.15115,     0.15215,     0.15315,     0.15415,     0.15516,     0.15616,     0.15716,     0.15816,     0.15916,     0.16016,     0.16116,     0.16216,     0.16316,     0.16416,     0.16517,     0.16617,     0.16717,\n",
              "           0.16817,     0.16917,     0.17017,     0.17117,     0.17217,     0.17317,     0.17417,     0.17518,     0.17618,     0.17718,     0.17818,     0.17918,     0.18018,     0.18118,     0.18218,     0.18318,     0.18418,     0.18519,     0.18619,     0.18719,     0.18819,     0.18919,     0.19019,     0.19119,\n",
              "           0.19219,     0.19319,     0.19419,      0.1952,      0.1962,      0.1972,      0.1982,      0.1992,      0.2002,      0.2012,      0.2022,      0.2032,      0.2042,     0.20521,     0.20621,     0.20721,     0.20821,     0.20921,     0.21021,     0.21121,     0.21221,     0.21321,     0.21421,     0.21522,\n",
              "           0.21622,     0.21722,     0.21822,     0.21922,     0.22022,     0.22122,     0.22222,     0.22322,     0.22422,     0.22523,     0.22623,     0.22723,     0.22823,     0.22923,     0.23023,     0.23123,     0.23223,     0.23323,     0.23423,     0.23524,     0.23624,     0.23724,     0.23824,     0.23924,\n",
              "           0.24024,     0.24124,     0.24224,     0.24324,     0.24424,     0.24525,     0.24625,     0.24725,     0.24825,     0.24925,     0.25025,     0.25125,     0.25225,     0.25325,     0.25425,     0.25526,     0.25626,     0.25726,     0.25826,     0.25926,     0.26026,     0.26126,     0.26226,     0.26326,\n",
              "           0.26426,     0.26527,     0.26627,     0.26727,     0.26827,     0.26927,     0.27027,     0.27127,     0.27227,     0.27327,     0.27427,     0.27528,     0.27628,     0.27728,     0.27828,     0.27928,     0.28028,     0.28128,     0.28228,     0.28328,     0.28428,     0.28529,     0.28629,     0.28729,\n",
              "           0.28829,     0.28929,     0.29029,     0.29129,     0.29229,     0.29329,     0.29429,      0.2953,      0.2963,      0.2973,      0.2983,      0.2993,      0.3003,      0.3013,      0.3023,      0.3033,      0.3043,     0.30531,     0.30631,     0.30731,     0.30831,     0.30931,     0.31031,     0.31131,\n",
              "           0.31231,     0.31331,     0.31431,     0.31532,     0.31632,     0.31732,     0.31832,     0.31932,     0.32032,     0.32132,     0.32232,     0.32332,     0.32432,     0.32533,     0.32633,     0.32733,     0.32833,     0.32933,     0.33033,     0.33133,     0.33233,     0.33333,     0.33433,     0.33534,\n",
              "           0.33634,     0.33734,     0.33834,     0.33934,     0.34034,     0.34134,     0.34234,     0.34334,     0.34434,     0.34535,     0.34635,     0.34735,     0.34835,     0.34935,     0.35035,     0.35135,     0.35235,     0.35335,     0.35435,     0.35536,     0.35636,     0.35736,     0.35836,     0.35936,\n",
              "           0.36036,     0.36136,     0.36236,     0.36336,     0.36436,     0.36537,     0.36637,     0.36737,     0.36837,     0.36937,     0.37037,     0.37137,     0.37237,     0.37337,     0.37437,     0.37538,     0.37638,     0.37738,     0.37838,     0.37938,     0.38038,     0.38138,     0.38238,     0.38338,\n",
              "           0.38438,     0.38539,     0.38639,     0.38739,     0.38839,     0.38939,     0.39039,     0.39139,     0.39239,     0.39339,     0.39439,      0.3954,      0.3964,      0.3974,      0.3984,      0.3994,      0.4004,      0.4014,      0.4024,      0.4034,      0.4044,     0.40541,     0.40641,     0.40741,\n",
              "           0.40841,     0.40941,     0.41041,     0.41141,     0.41241,     0.41341,     0.41441,     0.41542,     0.41642,     0.41742,     0.41842,     0.41942,     0.42042,     0.42142,     0.42242,     0.42342,     0.42442,     0.42543,     0.42643,     0.42743,     0.42843,     0.42943,     0.43043,     0.43143,\n",
              "           0.43243,     0.43343,     0.43443,     0.43544,     0.43644,     0.43744,     0.43844,     0.43944,     0.44044,     0.44144,     0.44244,     0.44344,     0.44444,     0.44545,     0.44645,     0.44745,     0.44845,     0.44945,     0.45045,     0.45145,     0.45245,     0.45345,     0.45445,     0.45546,\n",
              "           0.45646,     0.45746,     0.45846,     0.45946,     0.46046,     0.46146,     0.46246,     0.46346,     0.46446,     0.46547,     0.46647,     0.46747,     0.46847,     0.46947,     0.47047,     0.47147,     0.47247,     0.47347,     0.47447,     0.47548,     0.47648,     0.47748,     0.47848,     0.47948,\n",
              "           0.48048,     0.48148,     0.48248,     0.48348,     0.48448,     0.48549,     0.48649,     0.48749,     0.48849,     0.48949,     0.49049,     0.49149,     0.49249,     0.49349,     0.49449,      0.4955,      0.4965,      0.4975,      0.4985,      0.4995,      0.5005,      0.5015,      0.5025,      0.5035,\n",
              "            0.5045,     0.50551,     0.50651,     0.50751,     0.50851,     0.50951,     0.51051,     0.51151,     0.51251,     0.51351,     0.51451,     0.51552,     0.51652,     0.51752,     0.51852,     0.51952,     0.52052,     0.52152,     0.52252,     0.52352,     0.52452,     0.52553,     0.52653,     0.52753,\n",
              "           0.52853,     0.52953,     0.53053,     0.53153,     0.53253,     0.53353,     0.53453,     0.53554,     0.53654,     0.53754,     0.53854,     0.53954,     0.54054,     0.54154,     0.54254,     0.54354,     0.54454,     0.54555,     0.54655,     0.54755,     0.54855,     0.54955,     0.55055,     0.55155,\n",
              "           0.55255,     0.55355,     0.55455,     0.55556,     0.55656,     0.55756,     0.55856,     0.55956,     0.56056,     0.56156,     0.56256,     0.56356,     0.56456,     0.56557,     0.56657,     0.56757,     0.56857,     0.56957,     0.57057,     0.57157,     0.57257,     0.57357,     0.57457,     0.57558,\n",
              "           0.57658,     0.57758,     0.57858,     0.57958,     0.58058,     0.58158,     0.58258,     0.58358,     0.58458,     0.58559,     0.58659,     0.58759,     0.58859,     0.58959,     0.59059,     0.59159,     0.59259,     0.59359,     0.59459,      0.5956,      0.5966,      0.5976,      0.5986,      0.5996,\n",
              "            0.6006,      0.6016,      0.6026,      0.6036,      0.6046,     0.60561,     0.60661,     0.60761,     0.60861,     0.60961,     0.61061,     0.61161,     0.61261,     0.61361,     0.61461,     0.61562,     0.61662,     0.61762,     0.61862,     0.61962,     0.62062,     0.62162,     0.62262,     0.62362,\n",
              "           0.62462,     0.62563,     0.62663,     0.62763,     0.62863,     0.62963,     0.63063,     0.63163,     0.63263,     0.63363,     0.63463,     0.63564,     0.63664,     0.63764,     0.63864,     0.63964,     0.64064,     0.64164,     0.64264,     0.64364,     0.64464,     0.64565,     0.64665,     0.64765,\n",
              "           0.64865,     0.64965,     0.65065,     0.65165,     0.65265,     0.65365,     0.65465,     0.65566,     0.65666,     0.65766,     0.65866,     0.65966,     0.66066,     0.66166,     0.66266,     0.66366,     0.66466,     0.66567,     0.66667,     0.66767,     0.66867,     0.66967,     0.67067,     0.67167,\n",
              "           0.67267,     0.67367,     0.67467,     0.67568,     0.67668,     0.67768,     0.67868,     0.67968,     0.68068,     0.68168,     0.68268,     0.68368,     0.68468,     0.68569,     0.68669,     0.68769,     0.68869,     0.68969,     0.69069,     0.69169,     0.69269,     0.69369,     0.69469,      0.6957,\n",
              "            0.6967,      0.6977,      0.6987,      0.6997,      0.7007,      0.7017,      0.7027,      0.7037,      0.7047,     0.70571,     0.70671,     0.70771,     0.70871,     0.70971,     0.71071,     0.71171,     0.71271,     0.71371,     0.71471,     0.71572,     0.71672,     0.71772,     0.71872,     0.71972,\n",
              "           0.72072,     0.72172,     0.72272,     0.72372,     0.72472,     0.72573,     0.72673,     0.72773,     0.72873,     0.72973,     0.73073,     0.73173,     0.73273,     0.73373,     0.73473,     0.73574,     0.73674,     0.73774,     0.73874,     0.73974,     0.74074,     0.74174,     0.74274,     0.74374,\n",
              "           0.74474,     0.74575,     0.74675,     0.74775,     0.74875,     0.74975,     0.75075,     0.75175,     0.75275,     0.75375,     0.75475,     0.75576,     0.75676,     0.75776,     0.75876,     0.75976,     0.76076,     0.76176,     0.76276,     0.76376,     0.76476,     0.76577,     0.76677,     0.76777,\n",
              "           0.76877,     0.76977,     0.77077,     0.77177,     0.77277,     0.77377,     0.77477,     0.77578,     0.77678,     0.77778,     0.77878,     0.77978,     0.78078,     0.78178,     0.78278,     0.78378,     0.78478,     0.78579,     0.78679,     0.78779,     0.78879,     0.78979,     0.79079,     0.79179,\n",
              "           0.79279,     0.79379,     0.79479,      0.7958,      0.7968,      0.7978,      0.7988,      0.7998,      0.8008,      0.8018,      0.8028,      0.8038,      0.8048,     0.80581,     0.80681,     0.80781,     0.80881,     0.80981,     0.81081,     0.81181,     0.81281,     0.81381,     0.81481,     0.81582,\n",
              "           0.81682,     0.81782,     0.81882,     0.81982,     0.82082,     0.82182,     0.82282,     0.82382,     0.82482,     0.82583,     0.82683,     0.82783,     0.82883,     0.82983,     0.83083,     0.83183,     0.83283,     0.83383,     0.83483,     0.83584,     0.83684,     0.83784,     0.83884,     0.83984,\n",
              "           0.84084,     0.84184,     0.84284,     0.84384,     0.84484,     0.84585,     0.84685,     0.84785,     0.84885,     0.84985,     0.85085,     0.85185,     0.85285,     0.85385,     0.85485,     0.85586,     0.85686,     0.85786,     0.85886,     0.85986,     0.86086,     0.86186,     0.86286,     0.86386,\n",
              "           0.86486,     0.86587,     0.86687,     0.86787,     0.86887,     0.86987,     0.87087,     0.87187,     0.87287,     0.87387,     0.87487,     0.87588,     0.87688,     0.87788,     0.87888,     0.87988,     0.88088,     0.88188,     0.88288,     0.88388,     0.88488,     0.88589,     0.88689,     0.88789,\n",
              "           0.88889,     0.88989,     0.89089,     0.89189,     0.89289,     0.89389,     0.89489,      0.8959,      0.8969,      0.8979,      0.8989,      0.8999,      0.9009,      0.9019,      0.9029,      0.9039,      0.9049,     0.90591,     0.90691,     0.90791,     0.90891,     0.90991,     0.91091,     0.91191,\n",
              "           0.91291,     0.91391,     0.91491,     0.91592,     0.91692,     0.91792,     0.91892,     0.91992,     0.92092,     0.92192,     0.92292,     0.92392,     0.92492,     0.92593,     0.92693,     0.92793,     0.92893,     0.92993,     0.93093,     0.93193,     0.93293,     0.93393,     0.93493,     0.93594,\n",
              "           0.93694,     0.93794,     0.93894,     0.93994,     0.94094,     0.94194,     0.94294,     0.94394,     0.94494,     0.94595,     0.94695,     0.94795,     0.94895,     0.94995,     0.95095,     0.95195,     0.95295,     0.95395,     0.95495,     0.95596,     0.95696,     0.95796,     0.95896,     0.95996,\n",
              "           0.96096,     0.96196,     0.96296,     0.96396,     0.96496,     0.96597,     0.96697,     0.96797,     0.96897,     0.96997,     0.97097,     0.97197,     0.97297,     0.97397,     0.97497,     0.97598,     0.97698,     0.97798,     0.97898,     0.97998,     0.98098,     0.98198,     0.98298,     0.98398,\n",
              "           0.98498,     0.98599,     0.98699,     0.98799,     0.98899,     0.98999,     0.99099,     0.99199,     0.99299,     0.99399,     0.99499,       0.996,       0.997,       0.998,       0.999,           1]), array([[          1,           1,           1,           1,           1,           1,           1,           1,           1,           1,           1,           1,           1,           1,           1,           1,           1,           1,           1,           1,           1,           1,           1,\n",
              "                  1,           1,           1,           1,           1,           1,           1,           1,           1,           1,           1,           1,           1,           1,           1,           1,           1,           1,           1,           1,           1,           1,           1,\n",
              "                  1,           1,           1,           1,           1,           1,           1,           1,           1,           1,           1,           1,           1,           1,           1,           1,           1,           1,           1,           1,           1,           1,           1,\n",
              "                  1,           1,           1,           1,           1,           1,           1,           1,           1,           1,           1,           1,           1,           1,           1,           1,           1,           1,           1,           1,           1,           1,           1,\n",
              "                  1,           1,           1,           1,           1,           1,           1,           1,           1,           1,           1,           1,           1,           1,           1,           1,           1,           1,           1,           1,           1,           1,           1,\n",
              "                  1,           1,           1,           1,           1,           1,           1,           1,           1,           1,           1,           1,           1,           1,           1,           1,           1,           1,           1,           1,           1,           1,     0.97436,\n",
              "            0.97436,     0.97436,     0.97436,     0.97436,     0.97436,     0.97436,     0.97436,     0.97436,     0.97436,     0.97436,     0.97436,     0.97436,     0.97436,     0.97436,     0.97436,     0.97436,     0.97436,     0.97436,     0.97436,     0.97436,     0.97436,     0.97436,     0.97436,\n",
              "            0.97436,     0.97436,     0.97436,     0.97436,     0.97436,     0.97436,     0.97436,     0.97436,     0.97436,     0.97436,     0.97436,     0.97436,     0.97436,     0.97436,     0.97436,     0.97436,     0.97436,     0.97436,     0.97436,     0.97436,     0.97436,     0.97436,     0.97436,\n",
              "            0.97436,     0.97436,     0.97436,     0.97436,     0.97436,     0.97436,     0.97436,     0.97436,     0.97436,     0.97436,     0.97436,     0.97436,     0.97436,     0.97436,     0.97436,     0.97436,     0.97436,     0.97436,     0.97436,     0.97436,     0.97436,     0.97436,     0.97436,\n",
              "            0.97436,     0.97436,     0.97436,     0.97436,     0.97436,     0.97436,     0.97436,     0.97436,     0.97436,     0.97436,     0.97436,     0.97436,     0.97436,     0.97436,     0.97436,     0.97436,     0.97436,     0.97436,     0.97436,     0.97436,     0.97436,     0.97436,     0.97436,\n",
              "            0.97436,     0.97436,     0.97436,     0.97436,     0.97436,     0.97436,     0.97436,     0.97436,     0.97436,     0.97436,     0.97436,     0.97436,     0.97436,     0.97436,     0.97436,     0.97436,     0.97436,     0.94118,     0.94118,     0.94118,     0.94118,     0.94118,     0.94118,\n",
              "            0.94118,     0.94118,     0.94118,     0.94118,     0.94118,     0.94118,     0.94118,     0.94118,     0.94118,     0.94118,     0.94118,     0.94118,     0.94118,     0.94118,     0.94118,     0.94118,     0.94118,     0.94118,     0.94118,     0.94118,     0.94118,     0.94118,     0.94118,\n",
              "            0.94118,     0.94118,     0.94118,     0.94118,     0.94118,     0.94118,     0.94118,     0.94118,     0.94118,     0.94118,     0.94118,     0.94118,     0.94118,     0.94118,     0.94118,     0.94118,     0.94118,     0.94118,     0.94118,     0.94118,     0.94118,     0.94118,     0.94118,\n",
              "            0.94118,     0.94118,     0.94118,     0.94118,     0.94118,     0.94118,     0.94118,     0.94118,     0.94118,     0.94118,     0.94118,     0.94118,     0.94118,     0.92453,     0.92453,     0.92453,     0.92453,     0.92453,     0.92453,     0.91228,     0.91228,     0.91228,     0.91228,\n",
              "            0.91228,     0.91228,     0.91228,     0.91228,     0.91228,     0.91228,     0.91228,     0.91228,     0.91228,     0.91228,     0.91228,     0.91228,     0.91228,     0.91228,     0.91228,     0.91228,         0.9,         0.9,         0.9,         0.9,         0.9,         0.9,         0.9,\n",
              "                0.9,         0.9,         0.9,         0.9,         0.9,         0.9,     0.89062,     0.89062,     0.89062,     0.89062,     0.89062,     0.89062,     0.89062,     0.89062,     0.89062,     0.89062,     0.89062,     0.89062,     0.89062,     0.89062,     0.89062,     0.89062,     0.89062,\n",
              "            0.89062,     0.89062,     0.87879,     0.87879,     0.87879,     0.87879,     0.87879,     0.87879,     0.87879,     0.85915,     0.85915,     0.85915,     0.85915,     0.85915,     0.85915,     0.85915,     0.85915,     0.85915,     0.85915,     0.85915,     0.85915,     0.85915,     0.85915,\n",
              "            0.85915,     0.85915,     0.85915,     0.85915,     0.85915,     0.84416,     0.84416,     0.84416,     0.84416,     0.84416,     0.84416,     0.84416,     0.84416,     0.84416,     0.84416,     0.84416,     0.84416,     0.84416,     0.84416,     0.84416,     0.84416,     0.84416,     0.84416,\n",
              "            0.84416,     0.84416,     0.84416,     0.84416,     0.84416,     0.84416,     0.84416,     0.84416,     0.84146,     0.84146,     0.84146,     0.84146,     0.84146,     0.84146,     0.84146,     0.84146,     0.84146,     0.84146,     0.84146,     0.84146,     0.84146,     0.84146,     0.84146,\n",
              "            0.84146,     0.84146,     0.84146,     0.84146,     0.84146,     0.84146,     0.84146,     0.84146,     0.84146,     0.84146,     0.84146,     0.83529,     0.83529,     0.83529,     0.83529,     0.83529,     0.83529,     0.83529,     0.83529,     0.83529,     0.83529,     0.83529,     0.83529,\n",
              "            0.83529,     0.83516,     0.83516,     0.83516,     0.83516,     0.83516,     0.83516,     0.83516,     0.83516,     0.83516,     0.83516,     0.83516,     0.83516,     0.83516,     0.83516,     0.83516,     0.83516,     0.83516,     0.83516,     0.83516,     0.83516,     0.83516,     0.83516,\n",
              "            0.83516,     0.83516,     0.83516,     0.83516,     0.83516,     0.83516,     0.83516,     0.83516,     0.83516,     0.83516,     0.83516,        0.82,        0.82,        0.82,        0.82,        0.82,        0.82,        0.82,        0.82,        0.82,        0.82,        0.82,        0.82,\n",
              "               0.82,        0.82,        0.82,        0.82,        0.82,        0.82,        0.82,        0.82,        0.82,        0.82,        0.82,        0.82,        0.82,        0.82,        0.82,        0.82,        0.82,        0.82,        0.82,        0.82,        0.82,        0.82,        0.82,\n",
              "               0.82,        0.82,        0.82,     0.81553,     0.81553,     0.81553,     0.81553,     0.81553,     0.81553,     0.81553,     0.81553,     0.81553,     0.81553,     0.81553,     0.81553,     0.81553,     0.79825,     0.79825,     0.79825,     0.79825,     0.79825,     0.79825,     0.79825,\n",
              "            0.79825,     0.79825,     0.79825,     0.79825,     0.79825,     0.79825,     0.79825,     0.79825,     0.79825,     0.79825,     0.79825,     0.79825,     0.79825,     0.79825,     0.79825,     0.79825,     0.79825,     0.79825,     0.79825,     0.79825,     0.79825,     0.79825,     0.79825,\n",
              "            0.79825,     0.79825,     0.79825,     0.79825,     0.79825,     0.79825,     0.79825,     0.79825,     0.79825,     0.79825,     0.79825,     0.79825,     0.79825,     0.79825,     0.79825,     0.79825,     0.79339,     0.79339,     0.79339,     0.79339,     0.79339,     0.79339,     0.79339,\n",
              "            0.79339,     0.79339,     0.79339,     0.79339,     0.79339,     0.79339,     0.79339,     0.79339,     0.79339,     0.79339,     0.79339,     0.79339,     0.79339,     0.79339,     0.79339,     0.79339,     0.79339,     0.79339,     0.79339,     0.79339,     0.79339,     0.79339,     0.79339,\n",
              "            0.79339,     0.79339,     0.78906,     0.78906,     0.78906,     0.78906,     0.78906,     0.78906,     0.78906,     0.78906,     0.78906,     0.78906,     0.78906,     0.78906,     0.78906,     0.78906,     0.78906,     0.78906,     0.78906,     0.78906,     0.78906,     0.78906,     0.78906,\n",
              "            0.78906,     0.78906,     0.78906,     0.78906,     0.78906,     0.78906,     0.78906,     0.78906,     0.78906,     0.78906,     0.78906,     0.78906,     0.78462,     0.78462,     0.78462,     0.78462,     0.78462,     0.78462,     0.77612,     0.77612,     0.77612,     0.77612,     0.77612,\n",
              "            0.77612,     0.77612,     0.77612,     0.77612,     0.77612,     0.77612,     0.77612,     0.77612,     0.76978,     0.76978,     0.76978,     0.76978,     0.76978,     0.76978,     0.76978,     0.76978,     0.76978,     0.76978,     0.76978,     0.76978,     0.76978,     0.76978,     0.76978,\n",
              "            0.76978,     0.76978,     0.76978,     0.76978,     0.76978,     0.76596,     0.76596,     0.76596,     0.76596,     0.76596,     0.76596,     0.76389,     0.76389,     0.76389,     0.76389,     0.76389,     0.76389,     0.76389,     0.76389,     0.76389,     0.76389,     0.76389,     0.76389,\n",
              "            0.76389,     0.74667,     0.74667,     0.74667,     0.74667,     0.74667,     0.74667,     0.74667,     0.74667,     0.74667,     0.74667,     0.74667,     0.74667,     0.74667,     0.72393,     0.72393,     0.72393,     0.72393,     0.72393,     0.72393,     0.72393,     0.72393,     0.72393,\n",
              "            0.72393,     0.72393,     0.72393,     0.72393,     0.72393,     0.72393,     0.72393,     0.72393,     0.72393,     0.72393,     0.72393,     0.72393,     0.72393,     0.72393,     0.72393,     0.72393,     0.72393,     0.72393,     0.72393,     0.72393,     0.72393,     0.72393,     0.72393,\n",
              "            0.72393,     0.72393,     0.72393,     0.72393,     0.72393,     0.72393,     0.72393,         0.7,         0.7,         0.7,         0.7,         0.7,         0.7,      0.6875,      0.6875,      0.6875,      0.6875,      0.6875,      0.6875,      0.6875,      0.6875,      0.6875,      0.6875,\n",
              "             0.6875,      0.6875,      0.6875,     0.67403,     0.67403,     0.67403,     0.67403,     0.67403,     0.67403,     0.67403,     0.65957,     0.65957,     0.65957,     0.65957,     0.65957,     0.65957,     0.65957,     0.65957,     0.65957,     0.65957,     0.65957,     0.65957,     0.65957,\n",
              "            0.64767,     0.64767,     0.64767,     0.64767,     0.64767,     0.64767,     0.64286,     0.64286,     0.64286,     0.64286,     0.64286,     0.64286,     0.64286,     0.62871,     0.62871,     0.62871,     0.62871,     0.62871,     0.62871,     0.61538,     0.61538,     0.61538,     0.61538,\n",
              "            0.61538,     0.61538,     0.61538,         0.6,         0.6,         0.6,         0.6,         0.6,         0.6,     0.58824,     0.58824,     0.58824,     0.58824,     0.58824,     0.58824,     0.58824,     0.57456,     0.57456,     0.57456,     0.57456,     0.57456,     0.57456,      0.5523,\n",
              "             0.5523,      0.5523,      0.5523,      0.5523,      0.5523,      0.5523,     0.54065,     0.54065,     0.54065,     0.54065,     0.54065,     0.54065,     0.53386,     0.53386,     0.53386,     0.53386,     0.53386,     0.53386,     0.53386,     0.51136,     0.51136,     0.51136,     0.51136,\n",
              "            0.51136,     0.51136,      0.5037,      0.5037,      0.5037,      0.5037,      0.5037,      0.5037,      0.5037,     0.50368,     0.50368,     0.50368,     0.50368,     0.50368,     0.50368,     0.49286,     0.49286,     0.49286,     0.49286,     0.49286,     0.49286,     0.49286,      0.4513,\n",
              "             0.4513,      0.4513,      0.4513,      0.4513,      0.4513,     0.44586,     0.44586,     0.44586,     0.44586,     0.44586,     0.44586,     0.44586,     0.44479,     0.44479,     0.44479,     0.44479,     0.44479,     0.44479,     0.39011,     0.39011,     0.39011,     0.39011,     0.39011,\n",
              "            0.39011,     0.39011,     0.34375,     0.34375,     0.34375,     0.34375,     0.34375,     0.34375,     0.27746,     0.27746,     0.27746,     0.27746,     0.27746,     0.27746,     0.27746,     0.25986,     0.25986,     0.25986,     0.25986,     0.25986,     0.25986,     0.25524,     0.25524,\n",
              "            0.25524,     0.25524,     0.25524,     0.25524,     0.25524,      0.2337,      0.2337,      0.2337,      0.2337,      0.2337,      0.2337,     0.19196,     0.19196,     0.19196,     0.19196,     0.19196,     0.19196,     0.19196,     0.18648,     0.18648,     0.18648,     0.18648,     0.18648,\n",
              "            0.18648,     0.17182,     0.17182,     0.17182,     0.17182,     0.17182,     0.17182,     0.17182,      0.1712,      0.1712,      0.1712,      0.1712,      0.1712,      0.1712,     0.12698,     0.12698,     0.12698,     0.12698,     0.12698,     0.12698,     0.12698,     0.11617,     0.11617,\n",
              "            0.11617,     0.11617,     0.11617,     0.11617,    0.094342,    0.078619,    0.062895,    0.047171,    0.031447,    0.015724,           0]]), 'Recall', 'Precision'], [array([          0,    0.001001,    0.002002,    0.003003,    0.004004,    0.005005,    0.006006,    0.007007,    0.008008,    0.009009,     0.01001,    0.011011,    0.012012,    0.013013,    0.014014,    0.015015,    0.016016,    0.017017,    0.018018,    0.019019,     0.02002,    0.021021,    0.022022,    0.023023,\n",
              "          0.024024,    0.025025,    0.026026,    0.027027,    0.028028,    0.029029,     0.03003,    0.031031,    0.032032,    0.033033,    0.034034,    0.035035,    0.036036,    0.037037,    0.038038,    0.039039,     0.04004,    0.041041,    0.042042,    0.043043,    0.044044,    0.045045,    0.046046,    0.047047,\n",
              "          0.048048,    0.049049,     0.05005,    0.051051,    0.052052,    0.053053,    0.054054,    0.055055,    0.056056,    0.057057,    0.058058,    0.059059,     0.06006,    0.061061,    0.062062,    0.063063,    0.064064,    0.065065,    0.066066,    0.067067,    0.068068,    0.069069,     0.07007,    0.071071,\n",
              "          0.072072,    0.073073,    0.074074,    0.075075,    0.076076,    0.077077,    0.078078,    0.079079,     0.08008,    0.081081,    0.082082,    0.083083,    0.084084,    0.085085,    0.086086,    0.087087,    0.088088,    0.089089,     0.09009,    0.091091,    0.092092,    0.093093,    0.094094,    0.095095,\n",
              "          0.096096,    0.097097,    0.098098,    0.099099,      0.1001,      0.1011,      0.1021,      0.1031,      0.1041,     0.10511,     0.10611,     0.10711,     0.10811,     0.10911,     0.11011,     0.11111,     0.11211,     0.11311,     0.11411,     0.11512,     0.11612,     0.11712,     0.11812,     0.11912,\n",
              "           0.12012,     0.12112,     0.12212,     0.12312,     0.12412,     0.12513,     0.12613,     0.12713,     0.12813,     0.12913,     0.13013,     0.13113,     0.13213,     0.13313,     0.13413,     0.13514,     0.13614,     0.13714,     0.13814,     0.13914,     0.14014,     0.14114,     0.14214,     0.14314,\n",
              "           0.14414,     0.14515,     0.14615,     0.14715,     0.14815,     0.14915,     0.15015,     0.15115,     0.15215,     0.15315,     0.15415,     0.15516,     0.15616,     0.15716,     0.15816,     0.15916,     0.16016,     0.16116,     0.16216,     0.16316,     0.16416,     0.16517,     0.16617,     0.16717,\n",
              "           0.16817,     0.16917,     0.17017,     0.17117,     0.17217,     0.17317,     0.17417,     0.17518,     0.17618,     0.17718,     0.17818,     0.17918,     0.18018,     0.18118,     0.18218,     0.18318,     0.18418,     0.18519,     0.18619,     0.18719,     0.18819,     0.18919,     0.19019,     0.19119,\n",
              "           0.19219,     0.19319,     0.19419,      0.1952,      0.1962,      0.1972,      0.1982,      0.1992,      0.2002,      0.2012,      0.2022,      0.2032,      0.2042,     0.20521,     0.20621,     0.20721,     0.20821,     0.20921,     0.21021,     0.21121,     0.21221,     0.21321,     0.21421,     0.21522,\n",
              "           0.21622,     0.21722,     0.21822,     0.21922,     0.22022,     0.22122,     0.22222,     0.22322,     0.22422,     0.22523,     0.22623,     0.22723,     0.22823,     0.22923,     0.23023,     0.23123,     0.23223,     0.23323,     0.23423,     0.23524,     0.23624,     0.23724,     0.23824,     0.23924,\n",
              "           0.24024,     0.24124,     0.24224,     0.24324,     0.24424,     0.24525,     0.24625,     0.24725,     0.24825,     0.24925,     0.25025,     0.25125,     0.25225,     0.25325,     0.25425,     0.25526,     0.25626,     0.25726,     0.25826,     0.25926,     0.26026,     0.26126,     0.26226,     0.26326,\n",
              "           0.26426,     0.26527,     0.26627,     0.26727,     0.26827,     0.26927,     0.27027,     0.27127,     0.27227,     0.27327,     0.27427,     0.27528,     0.27628,     0.27728,     0.27828,     0.27928,     0.28028,     0.28128,     0.28228,     0.28328,     0.28428,     0.28529,     0.28629,     0.28729,\n",
              "           0.28829,     0.28929,     0.29029,     0.29129,     0.29229,     0.29329,     0.29429,      0.2953,      0.2963,      0.2973,      0.2983,      0.2993,      0.3003,      0.3013,      0.3023,      0.3033,      0.3043,     0.30531,     0.30631,     0.30731,     0.30831,     0.30931,     0.31031,     0.31131,\n",
              "           0.31231,     0.31331,     0.31431,     0.31532,     0.31632,     0.31732,     0.31832,     0.31932,     0.32032,     0.32132,     0.32232,     0.32332,     0.32432,     0.32533,     0.32633,     0.32733,     0.32833,     0.32933,     0.33033,     0.33133,     0.33233,     0.33333,     0.33433,     0.33534,\n",
              "           0.33634,     0.33734,     0.33834,     0.33934,     0.34034,     0.34134,     0.34234,     0.34334,     0.34434,     0.34535,     0.34635,     0.34735,     0.34835,     0.34935,     0.35035,     0.35135,     0.35235,     0.35335,     0.35435,     0.35536,     0.35636,     0.35736,     0.35836,     0.35936,\n",
              "           0.36036,     0.36136,     0.36236,     0.36336,     0.36436,     0.36537,     0.36637,     0.36737,     0.36837,     0.36937,     0.37037,     0.37137,     0.37237,     0.37337,     0.37437,     0.37538,     0.37638,     0.37738,     0.37838,     0.37938,     0.38038,     0.38138,     0.38238,     0.38338,\n",
              "           0.38438,     0.38539,     0.38639,     0.38739,     0.38839,     0.38939,     0.39039,     0.39139,     0.39239,     0.39339,     0.39439,      0.3954,      0.3964,      0.3974,      0.3984,      0.3994,      0.4004,      0.4014,      0.4024,      0.4034,      0.4044,     0.40541,     0.40641,     0.40741,\n",
              "           0.40841,     0.40941,     0.41041,     0.41141,     0.41241,     0.41341,     0.41441,     0.41542,     0.41642,     0.41742,     0.41842,     0.41942,     0.42042,     0.42142,     0.42242,     0.42342,     0.42442,     0.42543,     0.42643,     0.42743,     0.42843,     0.42943,     0.43043,     0.43143,\n",
              "           0.43243,     0.43343,     0.43443,     0.43544,     0.43644,     0.43744,     0.43844,     0.43944,     0.44044,     0.44144,     0.44244,     0.44344,     0.44444,     0.44545,     0.44645,     0.44745,     0.44845,     0.44945,     0.45045,     0.45145,     0.45245,     0.45345,     0.45445,     0.45546,\n",
              "           0.45646,     0.45746,     0.45846,     0.45946,     0.46046,     0.46146,     0.46246,     0.46346,     0.46446,     0.46547,     0.46647,     0.46747,     0.46847,     0.46947,     0.47047,     0.47147,     0.47247,     0.47347,     0.47447,     0.47548,     0.47648,     0.47748,     0.47848,     0.47948,\n",
              "           0.48048,     0.48148,     0.48248,     0.48348,     0.48448,     0.48549,     0.48649,     0.48749,     0.48849,     0.48949,     0.49049,     0.49149,     0.49249,     0.49349,     0.49449,      0.4955,      0.4965,      0.4975,      0.4985,      0.4995,      0.5005,      0.5015,      0.5025,      0.5035,\n",
              "            0.5045,     0.50551,     0.50651,     0.50751,     0.50851,     0.50951,     0.51051,     0.51151,     0.51251,     0.51351,     0.51451,     0.51552,     0.51652,     0.51752,     0.51852,     0.51952,     0.52052,     0.52152,     0.52252,     0.52352,     0.52452,     0.52553,     0.52653,     0.52753,\n",
              "           0.52853,     0.52953,     0.53053,     0.53153,     0.53253,     0.53353,     0.53453,     0.53554,     0.53654,     0.53754,     0.53854,     0.53954,     0.54054,     0.54154,     0.54254,     0.54354,     0.54454,     0.54555,     0.54655,     0.54755,     0.54855,     0.54955,     0.55055,     0.55155,\n",
              "           0.55255,     0.55355,     0.55455,     0.55556,     0.55656,     0.55756,     0.55856,     0.55956,     0.56056,     0.56156,     0.56256,     0.56356,     0.56456,     0.56557,     0.56657,     0.56757,     0.56857,     0.56957,     0.57057,     0.57157,     0.57257,     0.57357,     0.57457,     0.57558,\n",
              "           0.57658,     0.57758,     0.57858,     0.57958,     0.58058,     0.58158,     0.58258,     0.58358,     0.58458,     0.58559,     0.58659,     0.58759,     0.58859,     0.58959,     0.59059,     0.59159,     0.59259,     0.59359,     0.59459,      0.5956,      0.5966,      0.5976,      0.5986,      0.5996,\n",
              "            0.6006,      0.6016,      0.6026,      0.6036,      0.6046,     0.60561,     0.60661,     0.60761,     0.60861,     0.60961,     0.61061,     0.61161,     0.61261,     0.61361,     0.61461,     0.61562,     0.61662,     0.61762,     0.61862,     0.61962,     0.62062,     0.62162,     0.62262,     0.62362,\n",
              "           0.62462,     0.62563,     0.62663,     0.62763,     0.62863,     0.62963,     0.63063,     0.63163,     0.63263,     0.63363,     0.63463,     0.63564,     0.63664,     0.63764,     0.63864,     0.63964,     0.64064,     0.64164,     0.64264,     0.64364,     0.64464,     0.64565,     0.64665,     0.64765,\n",
              "           0.64865,     0.64965,     0.65065,     0.65165,     0.65265,     0.65365,     0.65465,     0.65566,     0.65666,     0.65766,     0.65866,     0.65966,     0.66066,     0.66166,     0.66266,     0.66366,     0.66466,     0.66567,     0.66667,     0.66767,     0.66867,     0.66967,     0.67067,     0.67167,\n",
              "           0.67267,     0.67367,     0.67467,     0.67568,     0.67668,     0.67768,     0.67868,     0.67968,     0.68068,     0.68168,     0.68268,     0.68368,     0.68468,     0.68569,     0.68669,     0.68769,     0.68869,     0.68969,     0.69069,     0.69169,     0.69269,     0.69369,     0.69469,      0.6957,\n",
              "            0.6967,      0.6977,      0.6987,      0.6997,      0.7007,      0.7017,      0.7027,      0.7037,      0.7047,     0.70571,     0.70671,     0.70771,     0.70871,     0.70971,     0.71071,     0.71171,     0.71271,     0.71371,     0.71471,     0.71572,     0.71672,     0.71772,     0.71872,     0.71972,\n",
              "           0.72072,     0.72172,     0.72272,     0.72372,     0.72472,     0.72573,     0.72673,     0.72773,     0.72873,     0.72973,     0.73073,     0.73173,     0.73273,     0.73373,     0.73473,     0.73574,     0.73674,     0.73774,     0.73874,     0.73974,     0.74074,     0.74174,     0.74274,     0.74374,\n",
              "           0.74474,     0.74575,     0.74675,     0.74775,     0.74875,     0.74975,     0.75075,     0.75175,     0.75275,     0.75375,     0.75475,     0.75576,     0.75676,     0.75776,     0.75876,     0.75976,     0.76076,     0.76176,     0.76276,     0.76376,     0.76476,     0.76577,     0.76677,     0.76777,\n",
              "           0.76877,     0.76977,     0.77077,     0.77177,     0.77277,     0.77377,     0.77477,     0.77578,     0.77678,     0.77778,     0.77878,     0.77978,     0.78078,     0.78178,     0.78278,     0.78378,     0.78478,     0.78579,     0.78679,     0.78779,     0.78879,     0.78979,     0.79079,     0.79179,\n",
              "           0.79279,     0.79379,     0.79479,      0.7958,      0.7968,      0.7978,      0.7988,      0.7998,      0.8008,      0.8018,      0.8028,      0.8038,      0.8048,     0.80581,     0.80681,     0.80781,     0.80881,     0.80981,     0.81081,     0.81181,     0.81281,     0.81381,     0.81481,     0.81582,\n",
              "           0.81682,     0.81782,     0.81882,     0.81982,     0.82082,     0.82182,     0.82282,     0.82382,     0.82482,     0.82583,     0.82683,     0.82783,     0.82883,     0.82983,     0.83083,     0.83183,     0.83283,     0.83383,     0.83483,     0.83584,     0.83684,     0.83784,     0.83884,     0.83984,\n",
              "           0.84084,     0.84184,     0.84284,     0.84384,     0.84484,     0.84585,     0.84685,     0.84785,     0.84885,     0.84985,     0.85085,     0.85185,     0.85285,     0.85385,     0.85485,     0.85586,     0.85686,     0.85786,     0.85886,     0.85986,     0.86086,     0.86186,     0.86286,     0.86386,\n",
              "           0.86486,     0.86587,     0.86687,     0.86787,     0.86887,     0.86987,     0.87087,     0.87187,     0.87287,     0.87387,     0.87487,     0.87588,     0.87688,     0.87788,     0.87888,     0.87988,     0.88088,     0.88188,     0.88288,     0.88388,     0.88488,     0.88589,     0.88689,     0.88789,\n",
              "           0.88889,     0.88989,     0.89089,     0.89189,     0.89289,     0.89389,     0.89489,      0.8959,      0.8969,      0.8979,      0.8989,      0.8999,      0.9009,      0.9019,      0.9029,      0.9039,      0.9049,     0.90591,     0.90691,     0.90791,     0.90891,     0.90991,     0.91091,     0.91191,\n",
              "           0.91291,     0.91391,     0.91491,     0.91592,     0.91692,     0.91792,     0.91892,     0.91992,     0.92092,     0.92192,     0.92292,     0.92392,     0.92492,     0.92593,     0.92693,     0.92793,     0.92893,     0.92993,     0.93093,     0.93193,     0.93293,     0.93393,     0.93493,     0.93594,\n",
              "           0.93694,     0.93794,     0.93894,     0.93994,     0.94094,     0.94194,     0.94294,     0.94394,     0.94494,     0.94595,     0.94695,     0.94795,     0.94895,     0.94995,     0.95095,     0.95195,     0.95295,     0.95395,     0.95495,     0.95596,     0.95696,     0.95796,     0.95896,     0.95996,\n",
              "           0.96096,     0.96196,     0.96296,     0.96396,     0.96496,     0.96597,     0.96697,     0.96797,     0.96897,     0.96997,     0.97097,     0.97197,     0.97297,     0.97397,     0.97497,     0.97598,     0.97698,     0.97798,     0.97898,     0.97998,     0.98098,     0.98198,     0.98298,     0.98398,\n",
              "           0.98498,     0.98599,     0.98699,     0.98799,     0.98899,     0.98999,     0.99099,     0.99199,     0.99299,     0.99399,     0.99499,       0.996,       0.997,       0.998,       0.999,           1]), array([[    0.18501,     0.18501,     0.18501,     0.18601,     0.19515,     0.20967,     0.22589,      0.2412,     0.25902,     0.27176,     0.28277,     0.29122,     0.30164,     0.31231,      0.3208,     0.32947,     0.33482,     0.34449,     0.35234,     0.35755,     0.36369,     0.37123,     0.37411,\n",
              "            0.37919,     0.38377,     0.38917,     0.39365,     0.39826,     0.40168,     0.40545,     0.40717,     0.41103,     0.41404,     0.42186,     0.42702,     0.43337,     0.43645,     0.44063,     0.44586,      0.4492,     0.45513,     0.45818,     0.46157,     0.46315,     0.46762,      0.4744,\n",
              "            0.47783,     0.47962,     0.48276,     0.48478,     0.48764,     0.49302,     0.49679,     0.50109,     0.49977,     0.50381,     0.50907,     0.51324,     0.51761,     0.51961,      0.5233,     0.52564,     0.52908,     0.53191,     0.53626,     0.54044,     0.54194,     0.54824,     0.54763,\n",
              "            0.55056,     0.55294,     0.55514,     0.55596,     0.55878,     0.55998,     0.56311,     0.56543,      0.5692,     0.57206,     0.57601,     0.58025,     0.58285,     0.58412,     0.58502,     0.58618,     0.58997,     0.59218,     0.59401,     0.59597,     0.59691,     0.59786,     0.59733,\n",
              "            0.59564,     0.59823,     0.59949,     0.60158,     0.60379,     0.60447,     0.60506,     0.60785,     0.61119,     0.61234,     0.61298,     0.61525,     0.61672,     0.62041,     0.62118,     0.62383,     0.62566,     0.62764,     0.62833,     0.63105,     0.63391,       0.635,     0.63575,\n",
              "            0.63449,     0.63287,     0.63335,     0.63383,     0.63431,     0.63486,     0.63541,     0.63593,     0.63639,     0.63686,     0.63781,     0.64042,     0.64276,     0.64145,     0.63858,     0.63965,     0.64014,     0.64052,      0.6409,     0.64128,     0.64165,     0.64201,     0.64238,\n",
              "            0.64275,      0.6433,     0.64393,     0.64454,     0.64509,     0.64564,     0.64316,     0.64475,     0.64587,     0.65066,     0.65391,      0.6572,     0.65916,     0.66019,     0.66083,     0.66147,     0.65973,     0.66097,     0.66256,     0.66362,     0.66415,     0.66467,      0.6647,\n",
              "             0.6639,     0.66309,     0.66228,     0.66199,     0.66366,     0.66553,     0.66659,      0.6681,     0.67107,     0.66909,     0.67077,      0.6736,     0.67502,     0.67931,     0.68088,     0.68231,     0.68313,     0.68394,      0.6853,      0.6844,     0.68588,     0.68698,     0.68813,\n",
              "            0.68963,     0.69027,      0.6909,     0.69151,     0.69181,     0.69212,     0.69243,     0.69274,     0.69305,     0.69311,     0.69025,     0.69049,     0.69125,     0.69413,      0.6955,     0.69653,     0.69768,     0.69902,     0.69625,     0.69758,     0.69796,     0.69834,     0.69872,\n",
              "             0.6991,     0.69966,     0.70247,     0.70543,     0.70571,     0.70598,     0.70625,     0.70652,     0.70679,     0.70706,     0.70659,     0.70551,     0.70442,     0.70579,     0.70674,     0.70778,     0.70925,     0.71073,     0.71121,     0.71214,     0.71251,     0.71288,     0.71325,\n",
              "            0.71361,     0.71404,     0.71464,     0.71523,     0.71583,     0.71611,     0.71635,     0.71659,     0.71683,     0.71707,     0.71731,     0.71755,     0.71779,      0.7181,     0.71857,     0.71904,      0.7195,     0.71997,     0.71745,       0.718,     0.71951,     0.72036,        0.72,\n",
              "            0.71964,     0.71928,     0.71892,     0.71856,      0.7182,     0.71784,     0.71747,     0.71711,     0.71891,     0.72098,     0.72194,      0.7229,     0.72386,     0.72482,     0.72436,     0.72318,       0.722,     0.72123,     0.72088,     0.72053,     0.72018,     0.71983,     0.71948,\n",
              "            0.71913,     0.71878,     0.71843,     0.71808,     0.71773,     0.71831,     0.71918,     0.72071,      0.7222,     0.72272,     0.72323,     0.72375,     0.72434,     0.72502,      0.7257,      0.7266,     0.72808,     0.72519,     0.72704,     0.73132,     0.73185,     0.73239,     0.73292,\n",
              "            0.73322,     0.73271,      0.7322,     0.73169,     0.73118,     0.73067,     0.73016,     0.72965,     0.72596,     0.72604,     0.72649,     0.72695,      0.7274,     0.72784,     0.72813,     0.72842,      0.7287,     0.72899,     0.72928,     0.72956,     0.72985,     0.73084,     0.73275,\n",
              "            0.73359,     0.73443,     0.73401,     0.73334,     0.73267,       0.732,     0.73133,     0.73066,     0.73102,     0.73139,     0.73176,     0.73213,     0.73251,     0.73288,     0.73558,     0.73601,     0.73644,     0.73687,      0.7373,     0.73915,     0.74031,     0.74095,     0.74159,\n",
              "            0.74377,     0.74007,     0.73898,     0.73789,     0.73679,     0.73247,     0.73096,     0.72945,     0.72776,     0.72567,     0.72346,     0.72106,     0.72055,     0.72098,     0.72141,     0.72185,     0.72228,      0.7233,     0.72503,     0.72536,     0.72569,     0.72603,     0.72636,\n",
              "            0.72669,     0.72702,     0.72736,     0.72772,     0.72808,     0.72844,      0.7288,     0.72916,     0.72952,     0.73247,     0.73312,     0.73378,     0.73446,     0.73625,     0.73411,     0.73127,     0.72898,     0.73039,     0.73251,     0.73369,     0.73422,     0.73475,     0.73528,\n",
              "             0.7358,     0.73609,     0.73638,     0.73667,     0.73695,     0.73724,     0.73753,     0.73782,     0.73811,     0.73537,     0.73289,     0.73143,     0.72997,      0.7308,     0.73206,     0.73078,     0.72917,     0.72841,     0.72935,      0.7205,     0.71795,      0.7198,     0.72007,\n",
              "            0.72033,     0.72059,     0.72086,     0.72112,     0.72138,     0.72164,     0.72191,     0.72217,     0.72016,     0.71739,     0.71332,     0.71364,     0.71396,     0.71429,     0.71461,     0.71493,     0.71525,     0.71557,     0.71605,     0.71691,     0.71777,     0.71768,     0.71599,\n",
              "             0.7143,     0.71414,     0.71466,     0.71518,      0.7157,     0.71622,     0.71249,     0.71095,     0.71001,     0.70907,     0.70812,     0.70718,       0.706,     0.70482,     0.70363,     0.70222,     0.70028,     0.69926,     0.69825,     0.69723,     0.69621,     0.69682,     0.69761,\n",
              "            0.69639,     0.69517,     0.69395,     0.68794,     0.68671,     0.68547,     0.68423,     0.68216,     0.67967,     0.67825,     0.67725,     0.67624,     0.67524,     0.67423,     0.67438,     0.67475,     0.67512,     0.67549,     0.67585,     0.67622,     0.67659,     0.67746,     0.67832,\n",
              "            0.67902,     0.67801,     0.67699,     0.67598,     0.67496,     0.67395,     0.67293,     0.67191,     0.67088,     0.66986,     0.66833,     0.66575,     0.65712,     0.65416,     0.65459,     0.65502,     0.65545,     0.65587,      0.6563,     0.65608,     0.65532,     0.65457,     0.65382,\n",
              "            0.65306,     0.65231,     0.65155,     0.64652,     0.64704,     0.64755,     0.64806,     0.64857,     0.65171,     0.65236,     0.65301,     0.65366,     0.64716,     0.64581,     0.64445,     0.64317,     0.64404,      0.6449,     0.64547,     0.64364,     0.64181,     0.63981,     0.63705,\n",
              "            0.63466,     0.63355,     0.63244,     0.63132,      0.6302,     0.62908,     0.62796,     0.62684,     0.62572,     0.62459,     0.62265,     0.61982,     0.61548,     0.61361,     0.61488,     0.61558,      0.6159,     0.61622,     0.61654,     0.61686,     0.61718,      0.6175,     0.61782,\n",
              "             0.6184,     0.61905,      0.6197,     0.62034,     0.61697,     0.61448,     0.61383,     0.61318,     0.61253,     0.61188,     0.61123,     0.61058,     0.60993,     0.60928,     0.60829,     0.60712,     0.60594,     0.60476,     0.60358,     0.60217,     0.60068,      0.5992,     0.59771,\n",
              "            0.59578,     0.59379,     0.59178,     0.59247,     0.59331,     0.59409,     0.59005,     0.58488,     0.58374,      0.5829,     0.57981,     0.57671,     0.57359,     0.56828,     0.56599,     0.56524,      0.5645,     0.56376,     0.56301,     0.56226,     0.56152,     0.56077,     0.56061,\n",
              "            0.56124,     0.56186,     0.56248,     0.56237,     0.56162,     0.56087,     0.56012,     0.55936,     0.55861,     0.55786,      0.5571,     0.55577,     0.55254,      0.5496,     0.54744,     0.54526,     0.54358,     0.54281,     0.54204,     0.54127,      0.5405,     0.53972,     0.53895,\n",
              "            0.53817,     0.53748,     0.53803,     0.53857,     0.53911,     0.53965,     0.53998,     0.54022,     0.54045,     0.54069,     0.54092,     0.54116,     0.54139,     0.54162,     0.54186,     0.54209,     0.54031,     0.53586,     0.53355,     0.53131,      0.5291,     0.52787,     0.52663,\n",
              "             0.5254,     0.52416,     0.52293,     0.52282,     0.52327,     0.52371,     0.52415,     0.52458,     0.52501,     0.52542,     0.52583,     0.52624,     0.52665,     0.52705,     0.52658,     0.52505,     0.52352,     0.52198,     0.52063,     0.52186,     0.52287,     0.52234,     0.52181,\n",
              "            0.52127,     0.52073,      0.5202,     0.51966,     0.51912,     0.51859,     0.51805,     0.51751,     0.51697,     0.51644,      0.5062,     0.50257,     0.50311,     0.50365,     0.50418,     0.50464,     0.50411,     0.50358,     0.50304,     0.50251,     0.50198,     0.50145,     0.50091,\n",
              "            0.50038,     0.49985,     0.49931,     0.49878,     0.49824,     0.49771,     0.49115,     0.49276,     0.48496,     0.48332,     0.48167,     0.48002,     0.47839,     0.47724,     0.47609,     0.47494,     0.47379,     0.47263,     0.47147,     0.47285,     0.46604,     0.46613,     0.46622,\n",
              "            0.46632,     0.46641,      0.4665,     0.46659,     0.46668,     0.46677,     0.46686,     0.46695,     0.46704,     0.46713,     0.46722,     0.46731,      0.4674,     0.46748,     0.46757,     0.46766,     0.46775,     0.46784,     0.46793,     0.46802,     0.46811,      0.4682,     0.46828,\n",
              "            0.46738,     0.46635,     0.46533,      0.4643,     0.46328,     0.46225,     0.46122,     0.45275,     0.45197,     0.45118,      0.4504,     0.44962,     0.44883,     0.44805,     0.44726,     0.44647,     0.44568,     0.44436,     0.44292,     0.44148,     0.44004,      0.4386,     0.42954,\n",
              "            0.42853,     0.42752,     0.42651,      0.4255,     0.42449,     0.42348,     0.42246,     0.41679,     0.41136,     0.40723,     0.40437,     0.40199,      0.3996,     0.39534,     0.38978,     0.38988,     0.38999,     0.39009,      0.3902,      0.3903,      0.3904,     0.39051,     0.39061,\n",
              "            0.39071,     0.39082,     0.39092,     0.39102,     0.39113,     0.39123,     0.39133,     0.39143,     0.39153,     0.39163,     0.39173,     0.39204,     0.39239,     0.39274,     0.39309,     0.39343,     0.39377,     0.39286,     0.39191,     0.39096,     0.39001,     0.38906,      0.3881,\n",
              "            0.38715,     0.38619,     0.38529,      0.3846,      0.3839,     0.38321,     0.38252,     0.38183,     0.38114,     0.38044,     0.37975,     0.37905,     0.37836,     0.37766,     0.37697,     0.35753,     0.35305,     0.34981,     0.34756,      0.3453,     0.34303,     0.33986,     0.33621,\n",
              "            0.33309,     0.33194,     0.33079,     0.32963,     0.32848,     0.32732,     0.32617,     0.32501,     0.31666,     0.31175,     0.30797,     0.30417,     0.30036,     0.29662,      0.2947,     0.29277,     0.29084,     0.28891,     0.28621,     0.27971,     0.26773,     0.26574,     0.26375,\n",
              "            0.26175,     0.25975,     0.25503,     0.24613,     0.23933,     0.23859,     0.23514,     0.23168,     0.22736,     0.22211,     0.21924,     0.21845,     0.21767,     0.21689,      0.2161,     0.21532,     0.21453,     0.21375,     0.21296,     0.21217,     0.21138,      0.2106,     0.20981,\n",
              "            0.20871,     0.20706,     0.20541,     0.20376,     0.20211,     0.20045,      0.1986,     0.18723,     0.17442,     0.16886,     0.16497,     0.16216,     0.15935,     0.15652,     0.15341,     0.15016,      0.1469,     0.13791,     0.12138,     0.11957,     0.11776,     0.11595,     0.11413,\n",
              "             0.1123,     0.11048,    0.096963,    0.095107,    0.093247,    0.091384,    0.089517,    0.087646,    0.085245,     0.08253,    0.079807,    0.077076,    0.074458,    0.072212,     0.06996,    0.067704,    0.065442,    0.063175,    0.061329,    0.059541,    0.057749,    0.055954,    0.054155,\n",
              "           0.052353,    0.050435,     0.04621,    0.041966,     0.03719,    0.028605,    0.024959,     0.02392,     0.02288,    0.021839,    0.020796,    0.019753,    0.018708,    0.017663,    0.016616,    0.015568,    0.014519,    0.013469,           0,           0,           0,           0,           0,\n",
              "                  0,           0,           0,           0,           0,           0,           0,           0,           0,           0,           0,           0,           0,           0,           0,           0,           0,           0,           0,           0,           0,           0,           0,\n",
              "                  0,           0,           0,           0,           0,           0,           0,           0,           0,           0,           0,           0,           0,           0,           0,           0,           0,           0,           0,           0,           0,           0,           0,\n",
              "                  0,           0,           0,           0,           0,           0,           0,           0,           0,           0,           0]]), 'Confidence', 'F1'], [array([          0,    0.001001,    0.002002,    0.003003,    0.004004,    0.005005,    0.006006,    0.007007,    0.008008,    0.009009,     0.01001,    0.011011,    0.012012,    0.013013,    0.014014,    0.015015,    0.016016,    0.017017,    0.018018,    0.019019,     0.02002,    0.021021,    0.022022,    0.023023,\n",
              "          0.024024,    0.025025,    0.026026,    0.027027,    0.028028,    0.029029,     0.03003,    0.031031,    0.032032,    0.033033,    0.034034,    0.035035,    0.036036,    0.037037,    0.038038,    0.039039,     0.04004,    0.041041,    0.042042,    0.043043,    0.044044,    0.045045,    0.046046,    0.047047,\n",
              "          0.048048,    0.049049,     0.05005,    0.051051,    0.052052,    0.053053,    0.054054,    0.055055,    0.056056,    0.057057,    0.058058,    0.059059,     0.06006,    0.061061,    0.062062,    0.063063,    0.064064,    0.065065,    0.066066,    0.067067,    0.068068,    0.069069,     0.07007,    0.071071,\n",
              "          0.072072,    0.073073,    0.074074,    0.075075,    0.076076,    0.077077,    0.078078,    0.079079,     0.08008,    0.081081,    0.082082,    0.083083,    0.084084,    0.085085,    0.086086,    0.087087,    0.088088,    0.089089,     0.09009,    0.091091,    0.092092,    0.093093,    0.094094,    0.095095,\n",
              "          0.096096,    0.097097,    0.098098,    0.099099,      0.1001,      0.1011,      0.1021,      0.1031,      0.1041,     0.10511,     0.10611,     0.10711,     0.10811,     0.10911,     0.11011,     0.11111,     0.11211,     0.11311,     0.11411,     0.11512,     0.11612,     0.11712,     0.11812,     0.11912,\n",
              "           0.12012,     0.12112,     0.12212,     0.12312,     0.12412,     0.12513,     0.12613,     0.12713,     0.12813,     0.12913,     0.13013,     0.13113,     0.13213,     0.13313,     0.13413,     0.13514,     0.13614,     0.13714,     0.13814,     0.13914,     0.14014,     0.14114,     0.14214,     0.14314,\n",
              "           0.14414,     0.14515,     0.14615,     0.14715,     0.14815,     0.14915,     0.15015,     0.15115,     0.15215,     0.15315,     0.15415,     0.15516,     0.15616,     0.15716,     0.15816,     0.15916,     0.16016,     0.16116,     0.16216,     0.16316,     0.16416,     0.16517,     0.16617,     0.16717,\n",
              "           0.16817,     0.16917,     0.17017,     0.17117,     0.17217,     0.17317,     0.17417,     0.17518,     0.17618,     0.17718,     0.17818,     0.17918,     0.18018,     0.18118,     0.18218,     0.18318,     0.18418,     0.18519,     0.18619,     0.18719,     0.18819,     0.18919,     0.19019,     0.19119,\n",
              "           0.19219,     0.19319,     0.19419,      0.1952,      0.1962,      0.1972,      0.1982,      0.1992,      0.2002,      0.2012,      0.2022,      0.2032,      0.2042,     0.20521,     0.20621,     0.20721,     0.20821,     0.20921,     0.21021,     0.21121,     0.21221,     0.21321,     0.21421,     0.21522,\n",
              "           0.21622,     0.21722,     0.21822,     0.21922,     0.22022,     0.22122,     0.22222,     0.22322,     0.22422,     0.22523,     0.22623,     0.22723,     0.22823,     0.22923,     0.23023,     0.23123,     0.23223,     0.23323,     0.23423,     0.23524,     0.23624,     0.23724,     0.23824,     0.23924,\n",
              "           0.24024,     0.24124,     0.24224,     0.24324,     0.24424,     0.24525,     0.24625,     0.24725,     0.24825,     0.24925,     0.25025,     0.25125,     0.25225,     0.25325,     0.25425,     0.25526,     0.25626,     0.25726,     0.25826,     0.25926,     0.26026,     0.26126,     0.26226,     0.26326,\n",
              "           0.26426,     0.26527,     0.26627,     0.26727,     0.26827,     0.26927,     0.27027,     0.27127,     0.27227,     0.27327,     0.27427,     0.27528,     0.27628,     0.27728,     0.27828,     0.27928,     0.28028,     0.28128,     0.28228,     0.28328,     0.28428,     0.28529,     0.28629,     0.28729,\n",
              "           0.28829,     0.28929,     0.29029,     0.29129,     0.29229,     0.29329,     0.29429,      0.2953,      0.2963,      0.2973,      0.2983,      0.2993,      0.3003,      0.3013,      0.3023,      0.3033,      0.3043,     0.30531,     0.30631,     0.30731,     0.30831,     0.30931,     0.31031,     0.31131,\n",
              "           0.31231,     0.31331,     0.31431,     0.31532,     0.31632,     0.31732,     0.31832,     0.31932,     0.32032,     0.32132,     0.32232,     0.32332,     0.32432,     0.32533,     0.32633,     0.32733,     0.32833,     0.32933,     0.33033,     0.33133,     0.33233,     0.33333,     0.33433,     0.33534,\n",
              "           0.33634,     0.33734,     0.33834,     0.33934,     0.34034,     0.34134,     0.34234,     0.34334,     0.34434,     0.34535,     0.34635,     0.34735,     0.34835,     0.34935,     0.35035,     0.35135,     0.35235,     0.35335,     0.35435,     0.35536,     0.35636,     0.35736,     0.35836,     0.35936,\n",
              "           0.36036,     0.36136,     0.36236,     0.36336,     0.36436,     0.36537,     0.36637,     0.36737,     0.36837,     0.36937,     0.37037,     0.37137,     0.37237,     0.37337,     0.37437,     0.37538,     0.37638,     0.37738,     0.37838,     0.37938,     0.38038,     0.38138,     0.38238,     0.38338,\n",
              "           0.38438,     0.38539,     0.38639,     0.38739,     0.38839,     0.38939,     0.39039,     0.39139,     0.39239,     0.39339,     0.39439,      0.3954,      0.3964,      0.3974,      0.3984,      0.3994,      0.4004,      0.4014,      0.4024,      0.4034,      0.4044,     0.40541,     0.40641,     0.40741,\n",
              "           0.40841,     0.40941,     0.41041,     0.41141,     0.41241,     0.41341,     0.41441,     0.41542,     0.41642,     0.41742,     0.41842,     0.41942,     0.42042,     0.42142,     0.42242,     0.42342,     0.42442,     0.42543,     0.42643,     0.42743,     0.42843,     0.42943,     0.43043,     0.43143,\n",
              "           0.43243,     0.43343,     0.43443,     0.43544,     0.43644,     0.43744,     0.43844,     0.43944,     0.44044,     0.44144,     0.44244,     0.44344,     0.44444,     0.44545,     0.44645,     0.44745,     0.44845,     0.44945,     0.45045,     0.45145,     0.45245,     0.45345,     0.45445,     0.45546,\n",
              "           0.45646,     0.45746,     0.45846,     0.45946,     0.46046,     0.46146,     0.46246,     0.46346,     0.46446,     0.46547,     0.46647,     0.46747,     0.46847,     0.46947,     0.47047,     0.47147,     0.47247,     0.47347,     0.47447,     0.47548,     0.47648,     0.47748,     0.47848,     0.47948,\n",
              "           0.48048,     0.48148,     0.48248,     0.48348,     0.48448,     0.48549,     0.48649,     0.48749,     0.48849,     0.48949,     0.49049,     0.49149,     0.49249,     0.49349,     0.49449,      0.4955,      0.4965,      0.4975,      0.4985,      0.4995,      0.5005,      0.5015,      0.5025,      0.5035,\n",
              "            0.5045,     0.50551,     0.50651,     0.50751,     0.50851,     0.50951,     0.51051,     0.51151,     0.51251,     0.51351,     0.51451,     0.51552,     0.51652,     0.51752,     0.51852,     0.51952,     0.52052,     0.52152,     0.52252,     0.52352,     0.52452,     0.52553,     0.52653,     0.52753,\n",
              "           0.52853,     0.52953,     0.53053,     0.53153,     0.53253,     0.53353,     0.53453,     0.53554,     0.53654,     0.53754,     0.53854,     0.53954,     0.54054,     0.54154,     0.54254,     0.54354,     0.54454,     0.54555,     0.54655,     0.54755,     0.54855,     0.54955,     0.55055,     0.55155,\n",
              "           0.55255,     0.55355,     0.55455,     0.55556,     0.55656,     0.55756,     0.55856,     0.55956,     0.56056,     0.56156,     0.56256,     0.56356,     0.56456,     0.56557,     0.56657,     0.56757,     0.56857,     0.56957,     0.57057,     0.57157,     0.57257,     0.57357,     0.57457,     0.57558,\n",
              "           0.57658,     0.57758,     0.57858,     0.57958,     0.58058,     0.58158,     0.58258,     0.58358,     0.58458,     0.58559,     0.58659,     0.58759,     0.58859,     0.58959,     0.59059,     0.59159,     0.59259,     0.59359,     0.59459,      0.5956,      0.5966,      0.5976,      0.5986,      0.5996,\n",
              "            0.6006,      0.6016,      0.6026,      0.6036,      0.6046,     0.60561,     0.60661,     0.60761,     0.60861,     0.60961,     0.61061,     0.61161,     0.61261,     0.61361,     0.61461,     0.61562,     0.61662,     0.61762,     0.61862,     0.61962,     0.62062,     0.62162,     0.62262,     0.62362,\n",
              "           0.62462,     0.62563,     0.62663,     0.62763,     0.62863,     0.62963,     0.63063,     0.63163,     0.63263,     0.63363,     0.63463,     0.63564,     0.63664,     0.63764,     0.63864,     0.63964,     0.64064,     0.64164,     0.64264,     0.64364,     0.64464,     0.64565,     0.64665,     0.64765,\n",
              "           0.64865,     0.64965,     0.65065,     0.65165,     0.65265,     0.65365,     0.65465,     0.65566,     0.65666,     0.65766,     0.65866,     0.65966,     0.66066,     0.66166,     0.66266,     0.66366,     0.66466,     0.66567,     0.66667,     0.66767,     0.66867,     0.66967,     0.67067,     0.67167,\n",
              "           0.67267,     0.67367,     0.67467,     0.67568,     0.67668,     0.67768,     0.67868,     0.67968,     0.68068,     0.68168,     0.68268,     0.68368,     0.68468,     0.68569,     0.68669,     0.68769,     0.68869,     0.68969,     0.69069,     0.69169,     0.69269,     0.69369,     0.69469,      0.6957,\n",
              "            0.6967,      0.6977,      0.6987,      0.6997,      0.7007,      0.7017,      0.7027,      0.7037,      0.7047,     0.70571,     0.70671,     0.70771,     0.70871,     0.70971,     0.71071,     0.71171,     0.71271,     0.71371,     0.71471,     0.71572,     0.71672,     0.71772,     0.71872,     0.71972,\n",
              "           0.72072,     0.72172,     0.72272,     0.72372,     0.72472,     0.72573,     0.72673,     0.72773,     0.72873,     0.72973,     0.73073,     0.73173,     0.73273,     0.73373,     0.73473,     0.73574,     0.73674,     0.73774,     0.73874,     0.73974,     0.74074,     0.74174,     0.74274,     0.74374,\n",
              "           0.74474,     0.74575,     0.74675,     0.74775,     0.74875,     0.74975,     0.75075,     0.75175,     0.75275,     0.75375,     0.75475,     0.75576,     0.75676,     0.75776,     0.75876,     0.75976,     0.76076,     0.76176,     0.76276,     0.76376,     0.76476,     0.76577,     0.76677,     0.76777,\n",
              "           0.76877,     0.76977,     0.77077,     0.77177,     0.77277,     0.77377,     0.77477,     0.77578,     0.77678,     0.77778,     0.77878,     0.77978,     0.78078,     0.78178,     0.78278,     0.78378,     0.78478,     0.78579,     0.78679,     0.78779,     0.78879,     0.78979,     0.79079,     0.79179,\n",
              "           0.79279,     0.79379,     0.79479,      0.7958,      0.7968,      0.7978,      0.7988,      0.7998,      0.8008,      0.8018,      0.8028,      0.8038,      0.8048,     0.80581,     0.80681,     0.80781,     0.80881,     0.80981,     0.81081,     0.81181,     0.81281,     0.81381,     0.81481,     0.81582,\n",
              "           0.81682,     0.81782,     0.81882,     0.81982,     0.82082,     0.82182,     0.82282,     0.82382,     0.82482,     0.82583,     0.82683,     0.82783,     0.82883,     0.82983,     0.83083,     0.83183,     0.83283,     0.83383,     0.83483,     0.83584,     0.83684,     0.83784,     0.83884,     0.83984,\n",
              "           0.84084,     0.84184,     0.84284,     0.84384,     0.84484,     0.84585,     0.84685,     0.84785,     0.84885,     0.84985,     0.85085,     0.85185,     0.85285,     0.85385,     0.85485,     0.85586,     0.85686,     0.85786,     0.85886,     0.85986,     0.86086,     0.86186,     0.86286,     0.86386,\n",
              "           0.86486,     0.86587,     0.86687,     0.86787,     0.86887,     0.86987,     0.87087,     0.87187,     0.87287,     0.87387,     0.87487,     0.87588,     0.87688,     0.87788,     0.87888,     0.87988,     0.88088,     0.88188,     0.88288,     0.88388,     0.88488,     0.88589,     0.88689,     0.88789,\n",
              "           0.88889,     0.88989,     0.89089,     0.89189,     0.89289,     0.89389,     0.89489,      0.8959,      0.8969,      0.8979,      0.8989,      0.8999,      0.9009,      0.9019,      0.9029,      0.9039,      0.9049,     0.90591,     0.90691,     0.90791,     0.90891,     0.90991,     0.91091,     0.91191,\n",
              "           0.91291,     0.91391,     0.91491,     0.91592,     0.91692,     0.91792,     0.91892,     0.91992,     0.92092,     0.92192,     0.92292,     0.92392,     0.92492,     0.92593,     0.92693,     0.92793,     0.92893,     0.92993,     0.93093,     0.93193,     0.93293,     0.93393,     0.93493,     0.93594,\n",
              "           0.93694,     0.93794,     0.93894,     0.93994,     0.94094,     0.94194,     0.94294,     0.94394,     0.94494,     0.94595,     0.94695,     0.94795,     0.94895,     0.94995,     0.95095,     0.95195,     0.95295,     0.95395,     0.95495,     0.95596,     0.95696,     0.95796,     0.95896,     0.95996,\n",
              "           0.96096,     0.96196,     0.96296,     0.96396,     0.96496,     0.96597,     0.96697,     0.96797,     0.96897,     0.96997,     0.97097,     0.97197,     0.97297,     0.97397,     0.97497,     0.97598,     0.97698,     0.97798,     0.97898,     0.97998,     0.98098,     0.98198,     0.98298,     0.98398,\n",
              "           0.98498,     0.98599,     0.98699,     0.98799,     0.98899,     0.98999,     0.99099,     0.99199,     0.99299,     0.99399,     0.99499,       0.996,       0.997,       0.998,       0.999,           1]), array([[      0.102,       0.102,       0.102,     0.10261,      0.1082,     0.11729,     0.12765,     0.13751,     0.14922,     0.15774,     0.16521,     0.17131,     0.17867,      0.1862,     0.19279,     0.19909,     0.20301,     0.21017,     0.21604,     0.21998,     0.22464,     0.23042,      0.2329,\n",
              "            0.23699,     0.24057,     0.24484,      0.2484,     0.25207,      0.2553,     0.25835,     0.26024,     0.26341,     0.26588,     0.27237,     0.27669,     0.28264,     0.28526,     0.28885,     0.29336,     0.29626,     0.30144,     0.30412,     0.30712,     0.30852,     0.31249,     0.31858,\n",
              "            0.32168,     0.32331,     0.32617,     0.32801,     0.33064,      0.3356,     0.33911,     0.34312,     0.34277,     0.34659,     0.35159,     0.35558,     0.35979,     0.36173,     0.36531,     0.36759,     0.37097,     0.37376,     0.37807,     0.38224,     0.38374,     0.39009,     0.39064,\n",
              "            0.39362,     0.39607,     0.39833,     0.39917,     0.40209,     0.40333,     0.40658,     0.40901,     0.41297,     0.41599,     0.42017,      0.4247,      0.4275,     0.42886,     0.42983,     0.43109,      0.4352,      0.4376,     0.43961,     0.44176,     0.44279,     0.44384,     0.44479,\n",
              "            0.44448,     0.44737,     0.44878,     0.45277,     0.45528,     0.45605,     0.45672,     0.45991,     0.46374,     0.46507,     0.46581,     0.46844,     0.47014,     0.47445,     0.47534,     0.47845,     0.48061,     0.48295,     0.48376,     0.48701,     0.49041,     0.49172,     0.49262,\n",
              "            0.49201,     0.49113,     0.49171,     0.49228,     0.49287,     0.49354,      0.4942,     0.49482,     0.49539,     0.49595,     0.49711,     0.50028,     0.50315,     0.50268,     0.50202,     0.50353,     0.50414,     0.50461,     0.50508,     0.50555,     0.50601,     0.50647,     0.50693,\n",
              "            0.50739,     0.50808,     0.50886,     0.50962,     0.51031,       0.511,      0.5101,     0.51211,     0.51352,      0.5196,     0.52376,     0.52799,     0.53053,     0.53187,      0.5327,     0.53352,     0.53274,     0.53534,     0.53744,     0.53883,     0.53952,     0.54022,     0.54048,\n",
              "            0.54003,     0.53958,     0.53913,     0.53923,     0.54144,     0.54394,     0.54536,     0.54737,     0.55192,     0.55082,     0.55369,     0.55755,      0.5595,     0.56543,      0.5676,      0.5696,     0.57073,     0.57186,     0.57377,     0.57549,     0.57758,     0.57915,     0.58078,\n",
              "            0.58292,     0.58384,     0.58474,     0.58561,     0.58605,      0.5865,     0.58694,     0.58738,     0.58783,     0.58812,     0.58658,     0.58731,      0.5884,      0.5926,     0.59459,     0.59609,     0.59779,     0.59991,     0.59901,     0.60098,     0.60155,     0.60212,     0.60268,\n",
              "            0.60325,     0.60408,     0.60828,     0.61274,     0.61315,     0.61356,     0.61397,     0.61438,     0.61479,      0.6152,     0.61508,     0.61451,     0.61395,     0.61687,     0.61832,     0.61991,     0.62217,     0.62446,     0.62898,     0.63044,     0.63102,     0.63159,     0.63217,\n",
              "            0.63275,     0.63342,     0.63436,      0.6353,     0.63623,     0.63669,     0.63707,     0.63745,     0.63782,      0.6382,     0.63858,     0.63896,     0.63934,     0.63983,     0.64058,     0.64132,     0.64206,     0.64281,     0.64158,      0.6437,     0.64614,     0.64762,     0.64744,\n",
              "            0.64726,     0.64708,      0.6469,     0.64672,     0.64654,     0.64637,     0.64619,     0.64601,     0.64932,     0.65272,     0.65429,     0.65586,     0.65745,     0.65904,     0.65919,     0.65862,     0.65804,     0.65767,      0.6575,     0.65733,     0.65715,     0.65698,     0.65681,\n",
              "            0.65664,     0.65647,      0.6563,     0.65613,     0.65595,     0.65702,     0.65848,     0.66105,     0.66356,     0.66443,     0.66531,     0.66618,     0.66718,     0.66834,     0.66949,     0.67103,     0.67356,     0.67253,     0.67652,     0.68397,      0.6849,     0.68584,     0.68678,\n",
              "            0.68745,     0.68721,     0.68697,     0.68674,      0.6865,     0.68627,     0.68603,     0.68579,     0.68407,     0.68467,     0.68548,     0.68629,      0.6871,     0.68789,      0.6884,     0.68891,     0.68943,     0.68994,     0.69045,     0.69096,     0.69148,     0.69325,      0.6967,\n",
              "            0.69823,     0.69975,     0.69975,     0.69944,     0.69914,     0.69884,     0.69853,     0.69823,      0.6989,     0.69958,     0.70026,     0.70094,     0.70162,      0.7023,     0.70729,     0.70808,     0.70888,     0.70967,     0.71046,     0.71391,     0.71609,     0.71728,     0.71848,\n",
              "            0.72362,     0.72203,     0.72156,     0.72109,     0.72062,     0.71874,     0.71809,     0.71743,     0.71668,     0.71576,     0.71479,     0.71373,     0.71394,      0.7148,     0.71565,      0.7165,     0.71735,     0.71938,      0.7228,     0.72346,     0.72412,     0.72479,     0.72545,\n",
              "            0.72611,     0.72678,     0.72746,     0.72818,      0.7289,     0.72962,     0.73034,     0.73106,     0.73179,     0.73773,     0.73907,      0.7404,     0.74178,     0.74642,     0.74555,     0.74439,     0.74428,     0.74724,     0.75168,     0.75417,     0.75529,     0.75642,     0.75754,\n",
              "            0.75864,     0.75926,     0.75988,     0.76049,     0.76111,     0.76173,     0.76234,     0.76296,     0.76358,     0.76277,      0.7618,     0.76123,     0.76066,     0.76288,     0.76565,      0.7654,     0.76478,     0.76544,     0.76939,     0.76598,     0.76632,     0.77055,     0.77116,\n",
              "            0.77176,     0.77237,     0.77297,     0.77358,     0.77418,     0.77478,     0.77539,     0.77599,     0.77534,     0.77429,     0.77281,     0.77356,     0.77432,     0.77508,     0.77583,     0.77659,     0.77734,      0.7781,     0.77925,     0.78129,     0.78334,     0.78438,     0.78376,\n",
              "            0.78314,     0.78382,     0.78507,     0.78632,     0.78758,     0.78883,     0.78767,     0.78711,     0.78677,     0.78642,     0.78607,     0.78573,     0.78529,     0.78485,     0.78441,     0.78389,     0.78859,     0.78821,     0.78784,     0.78746,     0.78709,     0.78989,     0.79318,\n",
              "            0.79274,      0.7923,     0.79186,     0.78965,      0.7892,     0.78874,     0.78829,     0.78751,     0.78659,     0.78605,     0.78568,      0.7853,     0.78492,     0.78454,     0.78532,     0.78632,     0.78732,     0.78832,     0.78932,     0.79032,     0.79133,      0.7937,     0.79608,\n",
              "            0.79821,     0.79785,     0.79748,     0.79712,     0.79675,     0.79638,     0.79601,     0.79564,     0.79527,     0.79489,     0.79433,     0.79338,     0.79017,     0.78949,     0.79074,     0.79199,     0.79324,     0.79449,     0.79573,     0.79614,     0.79586,     0.79559,     0.79531,\n",
              "            0.79503,     0.79475,     0.79447,     0.79357,     0.79511,     0.79666,     0.79821,     0.79976,     0.80938,     0.81139,      0.8134,     0.81541,     0.81328,     0.81281,     0.81234,     0.81198,     0.81476,     0.81753,     0.81993,     0.81931,     0.81869,     0.81801,     0.81706,\n",
              "            0.81624,     0.81585,     0.81546,     0.81507,     0.81468,     0.81429,      0.8139,      0.8135,      0.8131,     0.81271,     0.81202,     0.81101,     0.80944,     0.81096,     0.81542,     0.81789,     0.81902,     0.82016,      0.8213,     0.82244,     0.82358,     0.82471,     0.82585,\n",
              "            0.82793,     0.83026,     0.83259,     0.83491,     0.83405,     0.83324,     0.83303,     0.83282,      0.8326,     0.83239,     0.83218,     0.83196,     0.83175,     0.83154,     0.83121,     0.83081,     0.83042,     0.83003,     0.82964,     0.82916,     0.82866,     0.82815,     0.82765,\n",
              "            0.82699,     0.82631,     0.82562,      0.8287,     0.83202,     0.83528,     0.83394,      0.8322,      0.8373,     0.84086,     0.83986,     0.83884,     0.83781,     0.83603,     0.83526,     0.83501,     0.83475,      0.8345,     0.83424,     0.83399,     0.83373,     0.83348,     0.83452,\n",
              "             0.8373,     0.84007,     0.84284,     0.84403,     0.84378,     0.84353,     0.84328,     0.84304,     0.84279,     0.84254,     0.84229,     0.84185,     0.84077,     0.83979,     0.83905,     0.83831,     0.83774,     0.83747,     0.83721,     0.83694,     0.83667,      0.8364,     0.83614,\n",
              "            0.83587,     0.83579,     0.83843,     0.84107,     0.84372,     0.84636,     0.84801,     0.84917,     0.85034,      0.8515,     0.85267,     0.85383,       0.855,     0.85616,     0.85733,     0.85849,     0.85856,     0.85719,     0.85646,     0.85575,     0.85506,     0.85466,     0.85426,\n",
              "            0.85386,     0.85347,     0.85307,     0.85454,     0.85691,     0.85929,     0.86166,     0.86403,     0.86636,      0.8686,     0.87084,     0.87309,     0.87533,     0.87757,     0.87859,     0.87817,     0.87775,     0.87732,     0.87738,      0.8844,     0.89061,     0.89047,     0.89034,\n",
              "             0.8902,     0.89006,     0.88992,     0.88979,     0.88965,     0.88951,     0.88938,     0.88924,      0.8891,     0.88897,     0.88628,     0.88678,     0.89014,      0.8935,     0.89686,     0.89999,     0.89986,     0.89973,     0.89961,     0.89948,     0.89935,     0.89922,     0.89909,\n",
              "            0.89896,     0.89883,      0.8987,     0.89858,     0.89845,     0.89832,      0.8967,     0.91138,     0.91055,     0.91018,     0.90981,     0.90944,     0.90907,     0.90881,     0.90854,     0.90828,     0.90801,     0.90775,     0.90748,     0.92012,     0.92326,     0.92398,     0.92469,\n",
              "             0.9254,     0.92612,     0.92683,     0.92754,     0.92826,     0.92897,     0.92969,      0.9304,     0.93111,     0.93183,     0.93254,     0.93325,     0.93397,     0.93468,     0.93539,     0.93611,     0.93682,     0.93753,     0.93825,     0.93896,     0.93968,     0.94039,      0.9411,\n",
              "            0.94103,     0.94087,     0.94071,     0.94055,     0.94039,     0.94023,     0.94007,      0.9387,     0.93857,     0.93844,     0.93831,     0.93818,     0.93805,     0.93792,     0.93778,     0.93765,     0.93752,      0.9373,     0.93705,      0.9368,     0.93655,      0.9363,      0.9347,\n",
              "            0.93451,     0.93433,     0.93414,     0.93395,     0.93377,     0.93358,      0.9334,     0.93232,     0.93127,     0.93046,     0.92988,     0.92939,     0.92891,     0.92802,     0.92723,     0.92842,      0.9296,     0.93079,     0.93198,     0.93317,     0.93435,     0.93554,     0.93673,\n",
              "            0.93792,      0.9391,     0.94029,     0.94148,     0.94267,     0.94385,     0.94504,     0.94623,     0.94742,      0.9486,     0.94979,     0.95343,     0.95759,     0.96175,     0.96591,     0.97008,     0.97424,     0.97428,     0.97421,     0.97413,     0.97405,     0.97398,      0.9739,\n",
              "            0.97382,     0.97375,     0.97367,     0.97361,     0.97356,      0.9735,     0.97344,     0.97338,     0.97332,     0.97326,     0.97321,     0.97315,     0.97309,     0.97303,     0.97297,     0.97121,     0.97078,     0.97046,     0.97023,        0.97,     0.96978,     0.96944,     0.96905,\n",
              "            0.96872,     0.96859,     0.96846,     0.96833,     0.96821,     0.96808,     0.96795,     0.96782,     0.96684,     0.96623,     0.96576,     0.96527,     0.96477,     0.96427,       0.964,     0.96373,     0.96346,     0.96319,      0.9628,     0.96183,     0.95993,     0.95958,     0.95924,\n",
              "             0.9589,     0.95856,     0.95771,     0.95603,     0.95468,           1,           1,           1,           1,           1,           1,           1,           1,           1,           1,           1,           1,           1,           1,           1,           1,           1,           1,\n",
              "                  1,           1,           1,           1,           1,           1,           1,           1,           1,           1,           1,           1,           1,           1,           1,           1,           1,           1,           1,           1,           1,           1,           1,\n",
              "                  1,           1,           1,           1,           1,           1,           1,           1,           1,           1,           1,           1,           1,           1,           1,           1,           1,           1,           1,           1,           1,           1,           1,\n",
              "                  1,           1,           1,           1,           1,           1,           1,           1,           1,           1,           1,           1,           1,           1,           1,           1,           1,           1,           1,           1,           1,           1,           1,\n",
              "                  1,           1,           1,           1,           1,           1,           1,           1,           1,           1,           1,           1,           1,           1,           1,           1,           1,           1,           1,           1,           1,           1,           1,\n",
              "                  1,           1,           1,           1,           1,           1,           1,           1,           1,           1,           1,           1,           1,           1,           1,           1,           1,           1,           1,           1,           1,           1,           1,\n",
              "                  1,           1,           1,           1,           1,           1,           1,           1,           1,           1,           1]]), 'Confidence', 'Precision'], [array([          0,    0.001001,    0.002002,    0.003003,    0.004004,    0.005005,    0.006006,    0.007007,    0.008008,    0.009009,     0.01001,    0.011011,    0.012012,    0.013013,    0.014014,    0.015015,    0.016016,    0.017017,    0.018018,    0.019019,     0.02002,    0.021021,    0.022022,    0.023023,\n",
              "          0.024024,    0.025025,    0.026026,    0.027027,    0.028028,    0.029029,     0.03003,    0.031031,    0.032032,    0.033033,    0.034034,    0.035035,    0.036036,    0.037037,    0.038038,    0.039039,     0.04004,    0.041041,    0.042042,    0.043043,    0.044044,    0.045045,    0.046046,    0.047047,\n",
              "          0.048048,    0.049049,     0.05005,    0.051051,    0.052052,    0.053053,    0.054054,    0.055055,    0.056056,    0.057057,    0.058058,    0.059059,     0.06006,    0.061061,    0.062062,    0.063063,    0.064064,    0.065065,    0.066066,    0.067067,    0.068068,    0.069069,     0.07007,    0.071071,\n",
              "          0.072072,    0.073073,    0.074074,    0.075075,    0.076076,    0.077077,    0.078078,    0.079079,     0.08008,    0.081081,    0.082082,    0.083083,    0.084084,    0.085085,    0.086086,    0.087087,    0.088088,    0.089089,     0.09009,    0.091091,    0.092092,    0.093093,    0.094094,    0.095095,\n",
              "          0.096096,    0.097097,    0.098098,    0.099099,      0.1001,      0.1011,      0.1021,      0.1031,      0.1041,     0.10511,     0.10611,     0.10711,     0.10811,     0.10911,     0.11011,     0.11111,     0.11211,     0.11311,     0.11411,     0.11512,     0.11612,     0.11712,     0.11812,     0.11912,\n",
              "           0.12012,     0.12112,     0.12212,     0.12312,     0.12412,     0.12513,     0.12613,     0.12713,     0.12813,     0.12913,     0.13013,     0.13113,     0.13213,     0.13313,     0.13413,     0.13514,     0.13614,     0.13714,     0.13814,     0.13914,     0.14014,     0.14114,     0.14214,     0.14314,\n",
              "           0.14414,     0.14515,     0.14615,     0.14715,     0.14815,     0.14915,     0.15015,     0.15115,     0.15215,     0.15315,     0.15415,     0.15516,     0.15616,     0.15716,     0.15816,     0.15916,     0.16016,     0.16116,     0.16216,     0.16316,     0.16416,     0.16517,     0.16617,     0.16717,\n",
              "           0.16817,     0.16917,     0.17017,     0.17117,     0.17217,     0.17317,     0.17417,     0.17518,     0.17618,     0.17718,     0.17818,     0.17918,     0.18018,     0.18118,     0.18218,     0.18318,     0.18418,     0.18519,     0.18619,     0.18719,     0.18819,     0.18919,     0.19019,     0.19119,\n",
              "           0.19219,     0.19319,     0.19419,      0.1952,      0.1962,      0.1972,      0.1982,      0.1992,      0.2002,      0.2012,      0.2022,      0.2032,      0.2042,     0.20521,     0.20621,     0.20721,     0.20821,     0.20921,     0.21021,     0.21121,     0.21221,     0.21321,     0.21421,     0.21522,\n",
              "           0.21622,     0.21722,     0.21822,     0.21922,     0.22022,     0.22122,     0.22222,     0.22322,     0.22422,     0.22523,     0.22623,     0.22723,     0.22823,     0.22923,     0.23023,     0.23123,     0.23223,     0.23323,     0.23423,     0.23524,     0.23624,     0.23724,     0.23824,     0.23924,\n",
              "           0.24024,     0.24124,     0.24224,     0.24324,     0.24424,     0.24525,     0.24625,     0.24725,     0.24825,     0.24925,     0.25025,     0.25125,     0.25225,     0.25325,     0.25425,     0.25526,     0.25626,     0.25726,     0.25826,     0.25926,     0.26026,     0.26126,     0.26226,     0.26326,\n",
              "           0.26426,     0.26527,     0.26627,     0.26727,     0.26827,     0.26927,     0.27027,     0.27127,     0.27227,     0.27327,     0.27427,     0.27528,     0.27628,     0.27728,     0.27828,     0.27928,     0.28028,     0.28128,     0.28228,     0.28328,     0.28428,     0.28529,     0.28629,     0.28729,\n",
              "           0.28829,     0.28929,     0.29029,     0.29129,     0.29229,     0.29329,     0.29429,      0.2953,      0.2963,      0.2973,      0.2983,      0.2993,      0.3003,      0.3013,      0.3023,      0.3033,      0.3043,     0.30531,     0.30631,     0.30731,     0.30831,     0.30931,     0.31031,     0.31131,\n",
              "           0.31231,     0.31331,     0.31431,     0.31532,     0.31632,     0.31732,     0.31832,     0.31932,     0.32032,     0.32132,     0.32232,     0.32332,     0.32432,     0.32533,     0.32633,     0.32733,     0.32833,     0.32933,     0.33033,     0.33133,     0.33233,     0.33333,     0.33433,     0.33534,\n",
              "           0.33634,     0.33734,     0.33834,     0.33934,     0.34034,     0.34134,     0.34234,     0.34334,     0.34434,     0.34535,     0.34635,     0.34735,     0.34835,     0.34935,     0.35035,     0.35135,     0.35235,     0.35335,     0.35435,     0.35536,     0.35636,     0.35736,     0.35836,     0.35936,\n",
              "           0.36036,     0.36136,     0.36236,     0.36336,     0.36436,     0.36537,     0.36637,     0.36737,     0.36837,     0.36937,     0.37037,     0.37137,     0.37237,     0.37337,     0.37437,     0.37538,     0.37638,     0.37738,     0.37838,     0.37938,     0.38038,     0.38138,     0.38238,     0.38338,\n",
              "           0.38438,     0.38539,     0.38639,     0.38739,     0.38839,     0.38939,     0.39039,     0.39139,     0.39239,     0.39339,     0.39439,      0.3954,      0.3964,      0.3974,      0.3984,      0.3994,      0.4004,      0.4014,      0.4024,      0.4034,      0.4044,     0.40541,     0.40641,     0.40741,\n",
              "           0.40841,     0.40941,     0.41041,     0.41141,     0.41241,     0.41341,     0.41441,     0.41542,     0.41642,     0.41742,     0.41842,     0.41942,     0.42042,     0.42142,     0.42242,     0.42342,     0.42442,     0.42543,     0.42643,     0.42743,     0.42843,     0.42943,     0.43043,     0.43143,\n",
              "           0.43243,     0.43343,     0.43443,     0.43544,     0.43644,     0.43744,     0.43844,     0.43944,     0.44044,     0.44144,     0.44244,     0.44344,     0.44444,     0.44545,     0.44645,     0.44745,     0.44845,     0.44945,     0.45045,     0.45145,     0.45245,     0.45345,     0.45445,     0.45546,\n",
              "           0.45646,     0.45746,     0.45846,     0.45946,     0.46046,     0.46146,     0.46246,     0.46346,     0.46446,     0.46547,     0.46647,     0.46747,     0.46847,     0.46947,     0.47047,     0.47147,     0.47247,     0.47347,     0.47447,     0.47548,     0.47648,     0.47748,     0.47848,     0.47948,\n",
              "           0.48048,     0.48148,     0.48248,     0.48348,     0.48448,     0.48549,     0.48649,     0.48749,     0.48849,     0.48949,     0.49049,     0.49149,     0.49249,     0.49349,     0.49449,      0.4955,      0.4965,      0.4975,      0.4985,      0.4995,      0.5005,      0.5015,      0.5025,      0.5035,\n",
              "            0.5045,     0.50551,     0.50651,     0.50751,     0.50851,     0.50951,     0.51051,     0.51151,     0.51251,     0.51351,     0.51451,     0.51552,     0.51652,     0.51752,     0.51852,     0.51952,     0.52052,     0.52152,     0.52252,     0.52352,     0.52452,     0.52553,     0.52653,     0.52753,\n",
              "           0.52853,     0.52953,     0.53053,     0.53153,     0.53253,     0.53353,     0.53453,     0.53554,     0.53654,     0.53754,     0.53854,     0.53954,     0.54054,     0.54154,     0.54254,     0.54354,     0.54454,     0.54555,     0.54655,     0.54755,     0.54855,     0.54955,     0.55055,     0.55155,\n",
              "           0.55255,     0.55355,     0.55455,     0.55556,     0.55656,     0.55756,     0.55856,     0.55956,     0.56056,     0.56156,     0.56256,     0.56356,     0.56456,     0.56557,     0.56657,     0.56757,     0.56857,     0.56957,     0.57057,     0.57157,     0.57257,     0.57357,     0.57457,     0.57558,\n",
              "           0.57658,     0.57758,     0.57858,     0.57958,     0.58058,     0.58158,     0.58258,     0.58358,     0.58458,     0.58559,     0.58659,     0.58759,     0.58859,     0.58959,     0.59059,     0.59159,     0.59259,     0.59359,     0.59459,      0.5956,      0.5966,      0.5976,      0.5986,      0.5996,\n",
              "            0.6006,      0.6016,      0.6026,      0.6036,      0.6046,     0.60561,     0.60661,     0.60761,     0.60861,     0.60961,     0.61061,     0.61161,     0.61261,     0.61361,     0.61461,     0.61562,     0.61662,     0.61762,     0.61862,     0.61962,     0.62062,     0.62162,     0.62262,     0.62362,\n",
              "           0.62462,     0.62563,     0.62663,     0.62763,     0.62863,     0.62963,     0.63063,     0.63163,     0.63263,     0.63363,     0.63463,     0.63564,     0.63664,     0.63764,     0.63864,     0.63964,     0.64064,     0.64164,     0.64264,     0.64364,     0.64464,     0.64565,     0.64665,     0.64765,\n",
              "           0.64865,     0.64965,     0.65065,     0.65165,     0.65265,     0.65365,     0.65465,     0.65566,     0.65666,     0.65766,     0.65866,     0.65966,     0.66066,     0.66166,     0.66266,     0.66366,     0.66466,     0.66567,     0.66667,     0.66767,     0.66867,     0.66967,     0.67067,     0.67167,\n",
              "           0.67267,     0.67367,     0.67467,     0.67568,     0.67668,     0.67768,     0.67868,     0.67968,     0.68068,     0.68168,     0.68268,     0.68368,     0.68468,     0.68569,     0.68669,     0.68769,     0.68869,     0.68969,     0.69069,     0.69169,     0.69269,     0.69369,     0.69469,      0.6957,\n",
              "            0.6967,      0.6977,      0.6987,      0.6997,      0.7007,      0.7017,      0.7027,      0.7037,      0.7047,     0.70571,     0.70671,     0.70771,     0.70871,     0.70971,     0.71071,     0.71171,     0.71271,     0.71371,     0.71471,     0.71572,     0.71672,     0.71772,     0.71872,     0.71972,\n",
              "           0.72072,     0.72172,     0.72272,     0.72372,     0.72472,     0.72573,     0.72673,     0.72773,     0.72873,     0.72973,     0.73073,     0.73173,     0.73273,     0.73373,     0.73473,     0.73574,     0.73674,     0.73774,     0.73874,     0.73974,     0.74074,     0.74174,     0.74274,     0.74374,\n",
              "           0.74474,     0.74575,     0.74675,     0.74775,     0.74875,     0.74975,     0.75075,     0.75175,     0.75275,     0.75375,     0.75475,     0.75576,     0.75676,     0.75776,     0.75876,     0.75976,     0.76076,     0.76176,     0.76276,     0.76376,     0.76476,     0.76577,     0.76677,     0.76777,\n",
              "           0.76877,     0.76977,     0.77077,     0.77177,     0.77277,     0.77377,     0.77477,     0.77578,     0.77678,     0.77778,     0.77878,     0.77978,     0.78078,     0.78178,     0.78278,     0.78378,     0.78478,     0.78579,     0.78679,     0.78779,     0.78879,     0.78979,     0.79079,     0.79179,\n",
              "           0.79279,     0.79379,     0.79479,      0.7958,      0.7968,      0.7978,      0.7988,      0.7998,      0.8008,      0.8018,      0.8028,      0.8038,      0.8048,     0.80581,     0.80681,     0.80781,     0.80881,     0.80981,     0.81081,     0.81181,     0.81281,     0.81381,     0.81481,     0.81582,\n",
              "           0.81682,     0.81782,     0.81882,     0.81982,     0.82082,     0.82182,     0.82282,     0.82382,     0.82482,     0.82583,     0.82683,     0.82783,     0.82883,     0.82983,     0.83083,     0.83183,     0.83283,     0.83383,     0.83483,     0.83584,     0.83684,     0.83784,     0.83884,     0.83984,\n",
              "           0.84084,     0.84184,     0.84284,     0.84384,     0.84484,     0.84585,     0.84685,     0.84785,     0.84885,     0.84985,     0.85085,     0.85185,     0.85285,     0.85385,     0.85485,     0.85586,     0.85686,     0.85786,     0.85886,     0.85986,     0.86086,     0.86186,     0.86286,     0.86386,\n",
              "           0.86486,     0.86587,     0.86687,     0.86787,     0.86887,     0.86987,     0.87087,     0.87187,     0.87287,     0.87387,     0.87487,     0.87588,     0.87688,     0.87788,     0.87888,     0.87988,     0.88088,     0.88188,     0.88288,     0.88388,     0.88488,     0.88589,     0.88689,     0.88789,\n",
              "           0.88889,     0.88989,     0.89089,     0.89189,     0.89289,     0.89389,     0.89489,      0.8959,      0.8969,      0.8979,      0.8989,      0.8999,      0.9009,      0.9019,      0.9029,      0.9039,      0.9049,     0.90591,     0.90691,     0.90791,     0.90891,     0.90991,     0.91091,     0.91191,\n",
              "           0.91291,     0.91391,     0.91491,     0.91592,     0.91692,     0.91792,     0.91892,     0.91992,     0.92092,     0.92192,     0.92292,     0.92392,     0.92492,     0.92593,     0.92693,     0.92793,     0.92893,     0.92993,     0.93093,     0.93193,     0.93293,     0.93393,     0.93493,     0.93594,\n",
              "           0.93694,     0.93794,     0.93894,     0.93994,     0.94094,     0.94194,     0.94294,     0.94394,     0.94494,     0.94595,     0.94695,     0.94795,     0.94895,     0.94995,     0.95095,     0.95195,     0.95295,     0.95395,     0.95495,     0.95596,     0.95696,     0.95796,     0.95896,     0.95996,\n",
              "           0.96096,     0.96196,     0.96296,     0.96396,     0.96496,     0.96597,     0.96697,     0.96797,     0.96897,     0.96997,     0.97097,     0.97197,     0.97297,     0.97397,     0.97497,     0.97598,     0.97698,     0.97798,     0.97898,     0.97998,     0.98098,     0.98198,     0.98298,     0.98398,\n",
              "           0.98498,     0.98599,     0.98699,     0.98799,     0.98899,     0.98999,     0.99099,     0.99199,     0.99299,     0.99399,     0.99499,       0.996,       0.997,       0.998,       0.999,           1]), array([[    0.99351,     0.99351,     0.99351,     0.99351,     0.99351,     0.98701,     0.98052,     0.98052,     0.98052,     0.98052,     0.98052,     0.97052,     0.96753,     0.96753,     0.95455,     0.95455,     0.95455,     0.95455,     0.95455,     0.95455,     0.95455,     0.95455,     0.95027,\n",
              "            0.94805,     0.94805,     0.94805,     0.94805,     0.94805,     0.94156,     0.94156,     0.93506,     0.93506,     0.93506,     0.93506,     0.93506,     0.92857,     0.92857,     0.92857,     0.92857,     0.92857,     0.92857,     0.92857,     0.92857,     0.92857,     0.92857,     0.92857,\n",
              "            0.92857,     0.92857,     0.92857,     0.92857,     0.92857,     0.92857,     0.92857,     0.92857,     0.92208,     0.92208,     0.92208,     0.92208,     0.92208,     0.92208,     0.92208,     0.92208,     0.92208,     0.92208,     0.92208,     0.92208,     0.92208,     0.92208,     0.91558,\n",
              "            0.91558,     0.91558,     0.91558,     0.91558,     0.91558,     0.91558,     0.91558,     0.91558,     0.91558,     0.91558,     0.91558,     0.91558,     0.91558,     0.91558,     0.91558,     0.91558,     0.91558,     0.91558,     0.91558,     0.91558,     0.91558,     0.91558,     0.90909,\n",
              "             0.9026,      0.9026,      0.9026,      0.8961,      0.8961,      0.8961,      0.8961,      0.8961,      0.8961,      0.8961,      0.8961,      0.8961,      0.8961,      0.8961,      0.8961,      0.8961,      0.8961,      0.8961,      0.8961,      0.8961,      0.8961,      0.8961,      0.8961,\n",
              "             0.8931,     0.88961,     0.88961,     0.88961,     0.88961,     0.88961,     0.88961,     0.88961,     0.88961,     0.88961,     0.88961,     0.88961,     0.88961,     0.88607,     0.87719,     0.87662,     0.87662,     0.87662,     0.87662,     0.87662,     0.87662,     0.87662,     0.87662,\n",
              "            0.87662,     0.87662,     0.87662,     0.87662,     0.87662,     0.87662,     0.87013,     0.87013,     0.87013,     0.87013,     0.87013,     0.87013,     0.87013,     0.87013,     0.87013,     0.87013,     0.86621,     0.86364,     0.86364,     0.86364,     0.86364,     0.86364,     0.86306,\n",
              "            0.86149,     0.85993,     0.85836,     0.85714,     0.85714,     0.85714,     0.85714,     0.85714,     0.85583,     0.85203,     0.85065,     0.85065,     0.85065,     0.85065,     0.85065,     0.85065,     0.85065,     0.85065,     0.85065,     0.84416,     0.84416,     0.84416,     0.84416,\n",
              "            0.84416,     0.84416,     0.84416,     0.84416,     0.84416,     0.84416,     0.84416,     0.84416,     0.84416,     0.84374,     0.83842,     0.83766,     0.83766,     0.83766,     0.83766,     0.83766,     0.83766,     0.83735,     0.83117,     0.83117,     0.83117,     0.83117,     0.83117,\n",
              "            0.83117,     0.83117,     0.83117,     0.83117,     0.83117,     0.83117,     0.83117,     0.83117,     0.83117,     0.83117,      0.8301,     0.82813,     0.82616,     0.82468,     0.82468,     0.82468,     0.82468,     0.82468,     0.81818,     0.81818,     0.81818,     0.81818,     0.81818,\n",
              "            0.81818,     0.81818,     0.81818,     0.81818,     0.81818,     0.81818,     0.81818,     0.81818,     0.81818,     0.81818,     0.81818,     0.81818,     0.81818,     0.81818,     0.81818,     0.81818,     0.81818,     0.81818,     0.81367,     0.81169,     0.81169,     0.81151,     0.81088,\n",
              "            0.81025,     0.80961,     0.80898,     0.80834,     0.80771,     0.80708,     0.80644,     0.80581,     0.80519,     0.80519,     0.80519,     0.80519,     0.80519,     0.80519,     0.80383,     0.80178,     0.79974,      0.7984,      0.7978,     0.79719,     0.79659,     0.79598,     0.79538,\n",
              "            0.79477,     0.79417,     0.79356,     0.79296,     0.79235,     0.79221,     0.79221,     0.79221,     0.79221,     0.79221,     0.79221,     0.79221,     0.79221,     0.79221,     0.79221,     0.79221,     0.79221,      0.7868,     0.78571,     0.78571,     0.78571,     0.78571,     0.78571,\n",
              "            0.78552,     0.78466,      0.7838,     0.78294,     0.78208,     0.78123,     0.78037,     0.77951,     0.77331,     0.77273,     0.77273,     0.77273,     0.77273,     0.77273,     0.77273,     0.77273,     0.77273,     0.77273,     0.77273,     0.77273,     0.77273,     0.77273,     0.77273,\n",
              "            0.77273,     0.77273,      0.7718,     0.77069,     0.76958,     0.76847,     0.76736,     0.76625,     0.76623,     0.76623,     0.76623,     0.76623,     0.76623,     0.76623,     0.76623,     0.76623,     0.76623,     0.76623,     0.76623,     0.76623,     0.76623,     0.76623,     0.76623,\n",
              "            0.76508,     0.75903,     0.75726,     0.75548,     0.75371,     0.74673,     0.74431,     0.74189,     0.73918,     0.73585,     0.73234,     0.72854,     0.72727,     0.72727,     0.72727,     0.72727,     0.72727,     0.72727,     0.72727,     0.72727,     0.72727,     0.72727,     0.72727,\n",
              "            0.72727,     0.72727,     0.72727,     0.72727,     0.72727,     0.72727,     0.72727,     0.72727,     0.72727,     0.72727,     0.72727,     0.72727,     0.72727,     0.72635,     0.72302,     0.71861,     0.71429,     0.71429,     0.71429,     0.71429,     0.71429,     0.71429,     0.71429,\n",
              "            0.71429,     0.71429,     0.71429,     0.71429,     0.71429,     0.71429,     0.71429,     0.71429,     0.71429,     0.70987,     0.70609,     0.70387,     0.70166,      0.7013,      0.7013,     0.69915,     0.69673,     0.69481,     0.69328,     0.68013,     0.67532,     0.67532,     0.67532,\n",
              "            0.67532,     0.67532,     0.67532,     0.67532,     0.67532,     0.67532,     0.67532,     0.67532,     0.67232,     0.66828,     0.66234,     0.66234,     0.66234,     0.66234,     0.66234,     0.66234,     0.66234,     0.66234,     0.66234,     0.66234,     0.66234,     0.66143,     0.65901,\n",
              "            0.65659,     0.65584,     0.65584,     0.65584,     0.65584,     0.65584,     0.65042,     0.64823,      0.6469,     0.64557,     0.64424,     0.64291,     0.64126,     0.63959,     0.63793,     0.63597,     0.62975,     0.62835,     0.62695,     0.62555,     0.62415,     0.62338,     0.62259,\n",
              "            0.62092,     0.61926,     0.61759,     0.60944,     0.60777,     0.60611,     0.60445,     0.60167,     0.59834,     0.59645,     0.59511,     0.59378,     0.59245,     0.59112,     0.59091,     0.59091,     0.59091,     0.59091,     0.59091,     0.59091,     0.59091,     0.59091,     0.59091,\n",
              "             0.5908,     0.58946,     0.58813,      0.5868,     0.58547,     0.58414,     0.58281,     0.58148,     0.58015,     0.57882,     0.57683,      0.5735,     0.56242,     0.55844,     0.55844,     0.55844,     0.55844,     0.55844,     0.55844,     0.55792,     0.55697,     0.55602,     0.55507,\n",
              "            0.55412,     0.55317,     0.55221,     0.54545,     0.54545,     0.54545,     0.54545,     0.54545,     0.54545,     0.54545,     0.54545,     0.54545,      0.5374,     0.53573,     0.53407,     0.53247,     0.53247,     0.53247,     0.53222,        0.53,     0.52779,     0.52536,     0.52204,\n",
              "            0.51917,     0.51784,     0.51651,     0.51518,     0.51385,     0.51252,     0.51118,     0.50985,     0.50852,     0.50719,     0.50491,     0.50158,      0.4965,     0.49351,     0.49351,     0.49351,     0.49351,     0.49351,     0.49351,     0.49351,     0.49351,     0.49351,     0.49351,\n",
              "            0.49351,     0.49351,     0.49351,     0.49351,     0.48955,      0.4867,     0.48596,     0.48522,     0.48448,     0.48374,       0.483,     0.48226,     0.48152,     0.48078,     0.47966,     0.47833,     0.47699,     0.47566,     0.47433,     0.47274,     0.47108,     0.46942,     0.46775,\n",
              "            0.46561,     0.46339,     0.46117,     0.46104,     0.46104,     0.46098,     0.45654,     0.45088,     0.44805,     0.44606,     0.44273,      0.4394,     0.43607,     0.43042,     0.42801,     0.42722,     0.42644,     0.42566,     0.42487,     0.42409,     0.42331,     0.42252,     0.42208,\n",
              "            0.42208,     0.42208,     0.42208,     0.42167,     0.42088,      0.4201,     0.41932,     0.41853,     0.41775,     0.41697,     0.41618,      0.4148,     0.41148,     0.40846,     0.40624,     0.40403,     0.40232,     0.40154,     0.40075,     0.39997,     0.39919,      0.3984,     0.39762,\n",
              "            0.39684,      0.3961,      0.3961,      0.3961,      0.3961,      0.3961,      0.3961,      0.3961,      0.3961,      0.3961,      0.3961,      0.3961,      0.3961,      0.3961,      0.3961,      0.3961,      0.3942,     0.38976,     0.38747,     0.38525,     0.38307,     0.38186,     0.38065,\n",
              "            0.37944,     0.37823,     0.37702,     0.37662,     0.37662,     0.37662,     0.37662,     0.37662,     0.37662,     0.37662,     0.37662,     0.37662,     0.37662,     0.37662,     0.37595,     0.37447,     0.37299,     0.37151,     0.37013,     0.37013,     0.37007,     0.36956,     0.36905,\n",
              "            0.36854,     0.36802,     0.36751,       0.367,     0.36649,     0.36598,     0.36546,     0.36495,     0.36444,     0.36393,     0.35427,     0.35065,     0.35065,     0.35065,     0.35065,     0.35062,     0.35012,     0.34963,     0.34914,     0.34864,     0.34815,     0.34766,     0.34717,\n",
              "            0.34667,     0.34618,     0.34569,     0.34519,      0.3447,     0.34421,      0.3382,     0.33766,     0.33049,     0.32902,     0.32754,     0.32606,     0.32461,     0.32358,     0.32256,     0.32154,     0.32051,     0.31949,     0.31846,     0.31818,     0.31169,     0.31169,     0.31169,\n",
              "            0.31169,     0.31169,     0.31169,     0.31169,     0.31169,     0.31169,     0.31169,     0.31169,     0.31169,     0.31169,     0.31169,     0.31169,     0.31169,     0.31169,     0.31169,     0.31169,     0.31169,     0.31169,     0.31169,     0.31169,     0.31169,     0.31169,     0.31169,\n",
              "            0.31089,     0.31001,     0.30912,     0.30823,     0.30734,     0.30646,     0.30557,     0.29832,     0.29765,     0.29698,     0.29632,     0.29565,     0.29499,     0.29432,     0.29366,     0.29299,     0.29233,     0.29121,        0.29,     0.28879,     0.28758,     0.28637,     0.27884,\n",
              "            0.27801,     0.27718,     0.27634,     0.27551,     0.27468,     0.27385,     0.27302,     0.26838,     0.26398,     0.26065,     0.25836,     0.25646,     0.25456,     0.25117,     0.24675,     0.24675,     0.24675,     0.24675,     0.24675,     0.24675,     0.24675,     0.24675,     0.24675,\n",
              "            0.24675,     0.24675,     0.24675,     0.24675,     0.24675,     0.24675,     0.24675,     0.24675,     0.24675,     0.24675,     0.24675,     0.24675,     0.24675,     0.24675,     0.24675,     0.24675,     0.24675,     0.24604,      0.2453,     0.24456,     0.24382,     0.24308,     0.24234,\n",
              "             0.2416,     0.24086,     0.24016,     0.23963,     0.23909,     0.23856,     0.23803,      0.2375,     0.23696,     0.23643,      0.2359,     0.23537,     0.23483,      0.2343,     0.23377,     0.21909,     0.21576,     0.21336,      0.2117,     0.21003,     0.20837,     0.20605,     0.20339,\n",
              "            0.20112,     0.20029,     0.19946,     0.19862,     0.19779,     0.19696,     0.19613,      0.1953,     0.18934,     0.18585,     0.18319,     0.18053,     0.17787,     0.17526,     0.17393,      0.1726,     0.17127,     0.16994,     0.16809,     0.16365,     0.15556,     0.15423,     0.15289,\n",
              "            0.15156,     0.15023,      0.1471,     0.14125,     0.13681,     0.13545,     0.13323,     0.13101,     0.12826,     0.12493,     0.12311,     0.12262,     0.12213,     0.12163,     0.12114,     0.12065,     0.12016,     0.11966,     0.11917,     0.11868,     0.11818,     0.11769,      0.1172,\n",
              "            0.11651,     0.11549,     0.11446,     0.11344,     0.11242,     0.11139,     0.11025,     0.10329,    0.095545,    0.092217,    0.089899,    0.088235,    0.086571,    0.084907,    0.083076,    0.081174,    0.079272,    0.074061,    0.064613,    0.063589,    0.062565,    0.061541,    0.060517,\n",
              "           0.059493,    0.058469,    0.050952,    0.049928,    0.048904,     0.04788,    0.046856,    0.045832,     0.04452,    0.043041,    0.041562,    0.040083,    0.038669,    0.037458,    0.036248,    0.035038,    0.033828,    0.032618,    0.031635,    0.030684,    0.029733,    0.028782,    0.027831,\n",
              "            0.02688,     0.02587,    0.023651,    0.021433,    0.018948,     0.01451,    0.012637,    0.012105,    0.011572,     0.01104,    0.010507,   0.0099749,   0.0094424,   0.0089099,   0.0083775,    0.007845,   0.0073125,     0.00678,           0,           0,           0,           0,           0,\n",
              "                  0,           0,           0,           0,           0,           0,           0,           0,           0,           0,           0,           0,           0,           0,           0,           0,           0,           0,           0,           0,           0,           0,           0,\n",
              "                  0,           0,           0,           0,           0,           0,           0,           0,           0,           0,           0,           0,           0,           0,           0,           0,           0,           0,           0,           0,           0,           0,           0,\n",
              "                  0,           0,           0,           0,           0,           0,           0,           0,           0,           0,           0]]), 'Confidence', 'Recall']]\n",
              "fitness: np.float64(0.8182748958338408)\n",
              "keys: ['metrics/precision(B)', 'metrics/recall(B)', 'metrics/mAP50(B)', 'metrics/mAP50-95(B)', 'metrics/precision(M)', 'metrics/recall(M)', 'metrics/mAP50(M)', 'metrics/mAP50-95(M)']\n",
              "maps: array([    0.73457])\n",
              "names: {0: 'tree'}\n",
              "plot: True\n",
              "results_dict: {'metrics/precision(B)': np.float64(0.721698014822609), 'metrics/recall(B)': np.float64(0.7792207792207793), 'metrics/mAP50(B)': np.float64(0.7918057038766396), 'metrics/mAP50-95(B)': np.float64(0.3796277104460425), 'metrics/precision(M)': np.float64(0.7156489407020192), 'metrics/recall(M)': np.float64(0.7272727272727273), 'metrics/mAP50(M)': np.float64(0.779835407151951), 'metrics/mAP50-95(M)': np.float64(0.35493982814393715), 'fitness': np.float64(0.8182748958338408)}\n",
              "save_dir: PosixPath('yolov11_tree_segmentation/exp1')\n",
              "seg: ultralytics.utils.metrics.Metric object\n",
              "speed: {'preprocess': 0.29499440006475197, 'inference': 9.27777420001803, 'loss': 0.0046549999751732685, 'postprocess': 1.8291518000296492}\n",
              "task: 'segment'"
            ]
          },
          "metadata": {},
          "execution_count": 8
        }
      ],
      "source": [
        "# Training configuration\n",
        "model.train(\n",
        "    data=data_yaml,\n",
        "    epochs=200,         # Adjust based on dataset size\n",
        "    imgsz=640,         # Image size\n",
        "    batch=16,          # Batch size (adjust based on GPU memory)\n",
        "    device=\"cuda\" if torch.cuda.is_available() else \"cpu\",\n",
        "    workers=4,         # Dataloader workers\n",
        "    project=\"yolov11_tree_segmentation\",\n",
        "    name=\"exp1\",\n",
        "    optimizer=\"AdamW\",  # Use AdamW optimizer\n",
        "    lr0=0.0001,         # Initial learning rate\n",
        "    save=True,         # Save model checkpoints\n",
        "    val=True           # Perform validation\n",
        ")"
      ]
    },
    {
      "cell_type": "code",
      "execution_count": null,
      "metadata": {
        "id": "zWGYHp8Ll1pg",
        "colab": {
          "base_uri": "https://localhost:8080/"
        },
        "outputId": "f200d831-a1a0-4c67-fd39-893ca0e3d0c0"
      },
      "outputs": [
        {
          "output_type": "stream",
          "name": "stdout",
          "text": [
            "Ultralytics 8.3.112 🚀 Python-3.11.12 torch-2.6.0+cu124 CUDA:0 (Tesla T4, 15095MiB)\n",
            "\u001b[34m\u001b[1mval: \u001b[0mFast image access ✅ (ping: 0.0±0.0 ms, read: 2072.4±593.0 MB/s, size: 69.3 KB)\n"
          ]
        },
        {
          "output_type": "stream",
          "name": "stderr",
          "text": [
            "\u001b[34m\u001b[1mval: \u001b[0mScanning /content/Vadasan_segmentation-2/valid/labels.cache... 5 images, 0 backgrounds, 0 corrupt: 100%|██████████| 5/5 [00:00<?, ?it/s]\n",
            "                 Class     Images  Instances      Box(P          R      mAP50  mAP50-95)     Mask(P          R      mAP50  mAP50-95):   0%|          | 0/1 [00:00<?, ?it/s]"
          ]
        },
        {
          "output_type": "stream",
          "name": "stdout",
          "text": [
            "WARNING ⚠️ Limiting validation plots to first 50 items per image for speed...\n",
            "WARNING ⚠️ Limiting validation plots to first 50 items per image for speed...\n",
            "WARNING ⚠️ Limiting validation plots to first 50 items per image for speed...\n",
            "WARNING ⚠️ Limiting validation plots to first 50 items per image for speed...\n",
            "WARNING ⚠️ Limiting validation plots to first 50 items per image for speed...\n"
          ]
        },
        {
          "output_type": "stream",
          "name": "stderr",
          "text": [
            "                 Class     Images  Instances      Box(P          R      mAP50  mAP50-95)     Mask(P          R      mAP50  mAP50-95): 100%|██████████| 1/1 [00:00<00:00,  2.38it/s]\n"
          ]
        },
        {
          "output_type": "stream",
          "name": "stdout",
          "text": [
            "                   all          5        154      0.719      0.779      0.793      0.382      0.708      0.804      0.805      0.358\n",
            "Speed: 0.3ms preprocess, 24.4ms inference, 0.0ms loss, 6.3ms postprocess per image\n",
            "Results saved to \u001b[1myolov11_tree_segmentation/exp13\u001b[0m\n",
            "Validation Metrics: ultralytics.utils.metrics.SegmentMetrics object with attributes:\n",
            "\n",
            "ap_class_index: array([0])\n",
            "box: ultralytics.utils.metrics.Metric object\n",
            "confusion_matrix: <ultralytics.utils.metrics.ConfusionMatrix object at 0x7affeba00bd0>\n",
            "curves: ['Precision-Recall(B)', 'F1-Confidence(B)', 'Precision-Confidence(B)', 'Recall-Confidence(B)', 'Precision-Recall(M)', 'F1-Confidence(M)', 'Precision-Confidence(M)', 'Recall-Confidence(M)']\n",
            "curves_results: [[array([          0,    0.001001,    0.002002,    0.003003,    0.004004,    0.005005,    0.006006,    0.007007,    0.008008,    0.009009,     0.01001,    0.011011,    0.012012,    0.013013,    0.014014,    0.015015,    0.016016,    0.017017,    0.018018,    0.019019,     0.02002,    0.021021,    0.022022,    0.023023,\n",
            "          0.024024,    0.025025,    0.026026,    0.027027,    0.028028,    0.029029,     0.03003,    0.031031,    0.032032,    0.033033,    0.034034,    0.035035,    0.036036,    0.037037,    0.038038,    0.039039,     0.04004,    0.041041,    0.042042,    0.043043,    0.044044,    0.045045,    0.046046,    0.047047,\n",
            "          0.048048,    0.049049,     0.05005,    0.051051,    0.052052,    0.053053,    0.054054,    0.055055,    0.056056,    0.057057,    0.058058,    0.059059,     0.06006,    0.061061,    0.062062,    0.063063,    0.064064,    0.065065,    0.066066,    0.067067,    0.068068,    0.069069,     0.07007,    0.071071,\n",
            "          0.072072,    0.073073,    0.074074,    0.075075,    0.076076,    0.077077,    0.078078,    0.079079,     0.08008,    0.081081,    0.082082,    0.083083,    0.084084,    0.085085,    0.086086,    0.087087,    0.088088,    0.089089,     0.09009,    0.091091,    0.092092,    0.093093,    0.094094,    0.095095,\n",
            "          0.096096,    0.097097,    0.098098,    0.099099,      0.1001,      0.1011,      0.1021,      0.1031,      0.1041,     0.10511,     0.10611,     0.10711,     0.10811,     0.10911,     0.11011,     0.11111,     0.11211,     0.11311,     0.11411,     0.11512,     0.11612,     0.11712,     0.11812,     0.11912,\n",
            "           0.12012,     0.12112,     0.12212,     0.12312,     0.12412,     0.12513,     0.12613,     0.12713,     0.12813,     0.12913,     0.13013,     0.13113,     0.13213,     0.13313,     0.13413,     0.13514,     0.13614,     0.13714,     0.13814,     0.13914,     0.14014,     0.14114,     0.14214,     0.14314,\n",
            "           0.14414,     0.14515,     0.14615,     0.14715,     0.14815,     0.14915,     0.15015,     0.15115,     0.15215,     0.15315,     0.15415,     0.15516,     0.15616,     0.15716,     0.15816,     0.15916,     0.16016,     0.16116,     0.16216,     0.16316,     0.16416,     0.16517,     0.16617,     0.16717,\n",
            "           0.16817,     0.16917,     0.17017,     0.17117,     0.17217,     0.17317,     0.17417,     0.17518,     0.17618,     0.17718,     0.17818,     0.17918,     0.18018,     0.18118,     0.18218,     0.18318,     0.18418,     0.18519,     0.18619,     0.18719,     0.18819,     0.18919,     0.19019,     0.19119,\n",
            "           0.19219,     0.19319,     0.19419,      0.1952,      0.1962,      0.1972,      0.1982,      0.1992,      0.2002,      0.2012,      0.2022,      0.2032,      0.2042,     0.20521,     0.20621,     0.20721,     0.20821,     0.20921,     0.21021,     0.21121,     0.21221,     0.21321,     0.21421,     0.21522,\n",
            "           0.21622,     0.21722,     0.21822,     0.21922,     0.22022,     0.22122,     0.22222,     0.22322,     0.22422,     0.22523,     0.22623,     0.22723,     0.22823,     0.22923,     0.23023,     0.23123,     0.23223,     0.23323,     0.23423,     0.23524,     0.23624,     0.23724,     0.23824,     0.23924,\n",
            "           0.24024,     0.24124,     0.24224,     0.24324,     0.24424,     0.24525,     0.24625,     0.24725,     0.24825,     0.24925,     0.25025,     0.25125,     0.25225,     0.25325,     0.25425,     0.25526,     0.25626,     0.25726,     0.25826,     0.25926,     0.26026,     0.26126,     0.26226,     0.26326,\n",
            "           0.26426,     0.26527,     0.26627,     0.26727,     0.26827,     0.26927,     0.27027,     0.27127,     0.27227,     0.27327,     0.27427,     0.27528,     0.27628,     0.27728,     0.27828,     0.27928,     0.28028,     0.28128,     0.28228,     0.28328,     0.28428,     0.28529,     0.28629,     0.28729,\n",
            "           0.28829,     0.28929,     0.29029,     0.29129,     0.29229,     0.29329,     0.29429,      0.2953,      0.2963,      0.2973,      0.2983,      0.2993,      0.3003,      0.3013,      0.3023,      0.3033,      0.3043,     0.30531,     0.30631,     0.30731,     0.30831,     0.30931,     0.31031,     0.31131,\n",
            "           0.31231,     0.31331,     0.31431,     0.31532,     0.31632,     0.31732,     0.31832,     0.31932,     0.32032,     0.32132,     0.32232,     0.32332,     0.32432,     0.32533,     0.32633,     0.32733,     0.32833,     0.32933,     0.33033,     0.33133,     0.33233,     0.33333,     0.33433,     0.33534,\n",
            "           0.33634,     0.33734,     0.33834,     0.33934,     0.34034,     0.34134,     0.34234,     0.34334,     0.34434,     0.34535,     0.34635,     0.34735,     0.34835,     0.34935,     0.35035,     0.35135,     0.35235,     0.35335,     0.35435,     0.35536,     0.35636,     0.35736,     0.35836,     0.35936,\n",
            "           0.36036,     0.36136,     0.36236,     0.36336,     0.36436,     0.36537,     0.36637,     0.36737,     0.36837,     0.36937,     0.37037,     0.37137,     0.37237,     0.37337,     0.37437,     0.37538,     0.37638,     0.37738,     0.37838,     0.37938,     0.38038,     0.38138,     0.38238,     0.38338,\n",
            "           0.38438,     0.38539,     0.38639,     0.38739,     0.38839,     0.38939,     0.39039,     0.39139,     0.39239,     0.39339,     0.39439,      0.3954,      0.3964,      0.3974,      0.3984,      0.3994,      0.4004,      0.4014,      0.4024,      0.4034,      0.4044,     0.40541,     0.40641,     0.40741,\n",
            "           0.40841,     0.40941,     0.41041,     0.41141,     0.41241,     0.41341,     0.41441,     0.41542,     0.41642,     0.41742,     0.41842,     0.41942,     0.42042,     0.42142,     0.42242,     0.42342,     0.42442,     0.42543,     0.42643,     0.42743,     0.42843,     0.42943,     0.43043,     0.43143,\n",
            "           0.43243,     0.43343,     0.43443,     0.43544,     0.43644,     0.43744,     0.43844,     0.43944,     0.44044,     0.44144,     0.44244,     0.44344,     0.44444,     0.44545,     0.44645,     0.44745,     0.44845,     0.44945,     0.45045,     0.45145,     0.45245,     0.45345,     0.45445,     0.45546,\n",
            "           0.45646,     0.45746,     0.45846,     0.45946,     0.46046,     0.46146,     0.46246,     0.46346,     0.46446,     0.46547,     0.46647,     0.46747,     0.46847,     0.46947,     0.47047,     0.47147,     0.47247,     0.47347,     0.47447,     0.47548,     0.47648,     0.47748,     0.47848,     0.47948,\n",
            "           0.48048,     0.48148,     0.48248,     0.48348,     0.48448,     0.48549,     0.48649,     0.48749,     0.48849,     0.48949,     0.49049,     0.49149,     0.49249,     0.49349,     0.49449,      0.4955,      0.4965,      0.4975,      0.4985,      0.4995,      0.5005,      0.5015,      0.5025,      0.5035,\n",
            "            0.5045,     0.50551,     0.50651,     0.50751,     0.50851,     0.50951,     0.51051,     0.51151,     0.51251,     0.51351,     0.51451,     0.51552,     0.51652,     0.51752,     0.51852,     0.51952,     0.52052,     0.52152,     0.52252,     0.52352,     0.52452,     0.52553,     0.52653,     0.52753,\n",
            "           0.52853,     0.52953,     0.53053,     0.53153,     0.53253,     0.53353,     0.53453,     0.53554,     0.53654,     0.53754,     0.53854,     0.53954,     0.54054,     0.54154,     0.54254,     0.54354,     0.54454,     0.54555,     0.54655,     0.54755,     0.54855,     0.54955,     0.55055,     0.55155,\n",
            "           0.55255,     0.55355,     0.55455,     0.55556,     0.55656,     0.55756,     0.55856,     0.55956,     0.56056,     0.56156,     0.56256,     0.56356,     0.56456,     0.56557,     0.56657,     0.56757,     0.56857,     0.56957,     0.57057,     0.57157,     0.57257,     0.57357,     0.57457,     0.57558,\n",
            "           0.57658,     0.57758,     0.57858,     0.57958,     0.58058,     0.58158,     0.58258,     0.58358,     0.58458,     0.58559,     0.58659,     0.58759,     0.58859,     0.58959,     0.59059,     0.59159,     0.59259,     0.59359,     0.59459,      0.5956,      0.5966,      0.5976,      0.5986,      0.5996,\n",
            "            0.6006,      0.6016,      0.6026,      0.6036,      0.6046,     0.60561,     0.60661,     0.60761,     0.60861,     0.60961,     0.61061,     0.61161,     0.61261,     0.61361,     0.61461,     0.61562,     0.61662,     0.61762,     0.61862,     0.61962,     0.62062,     0.62162,     0.62262,     0.62362,\n",
            "           0.62462,     0.62563,     0.62663,     0.62763,     0.62863,     0.62963,     0.63063,     0.63163,     0.63263,     0.63363,     0.63463,     0.63564,     0.63664,     0.63764,     0.63864,     0.63964,     0.64064,     0.64164,     0.64264,     0.64364,     0.64464,     0.64565,     0.64665,     0.64765,\n",
            "           0.64865,     0.64965,     0.65065,     0.65165,     0.65265,     0.65365,     0.65465,     0.65566,     0.65666,     0.65766,     0.65866,     0.65966,     0.66066,     0.66166,     0.66266,     0.66366,     0.66466,     0.66567,     0.66667,     0.66767,     0.66867,     0.66967,     0.67067,     0.67167,\n",
            "           0.67267,     0.67367,     0.67467,     0.67568,     0.67668,     0.67768,     0.67868,     0.67968,     0.68068,     0.68168,     0.68268,     0.68368,     0.68468,     0.68569,     0.68669,     0.68769,     0.68869,     0.68969,     0.69069,     0.69169,     0.69269,     0.69369,     0.69469,      0.6957,\n",
            "            0.6967,      0.6977,      0.6987,      0.6997,      0.7007,      0.7017,      0.7027,      0.7037,      0.7047,     0.70571,     0.70671,     0.70771,     0.70871,     0.70971,     0.71071,     0.71171,     0.71271,     0.71371,     0.71471,     0.71572,     0.71672,     0.71772,     0.71872,     0.71972,\n",
            "           0.72072,     0.72172,     0.72272,     0.72372,     0.72472,     0.72573,     0.72673,     0.72773,     0.72873,     0.72973,     0.73073,     0.73173,     0.73273,     0.73373,     0.73473,     0.73574,     0.73674,     0.73774,     0.73874,     0.73974,     0.74074,     0.74174,     0.74274,     0.74374,\n",
            "           0.74474,     0.74575,     0.74675,     0.74775,     0.74875,     0.74975,     0.75075,     0.75175,     0.75275,     0.75375,     0.75475,     0.75576,     0.75676,     0.75776,     0.75876,     0.75976,     0.76076,     0.76176,     0.76276,     0.76376,     0.76476,     0.76577,     0.76677,     0.76777,\n",
            "           0.76877,     0.76977,     0.77077,     0.77177,     0.77277,     0.77377,     0.77477,     0.77578,     0.77678,     0.77778,     0.77878,     0.77978,     0.78078,     0.78178,     0.78278,     0.78378,     0.78478,     0.78579,     0.78679,     0.78779,     0.78879,     0.78979,     0.79079,     0.79179,\n",
            "           0.79279,     0.79379,     0.79479,      0.7958,      0.7968,      0.7978,      0.7988,      0.7998,      0.8008,      0.8018,      0.8028,      0.8038,      0.8048,     0.80581,     0.80681,     0.80781,     0.80881,     0.80981,     0.81081,     0.81181,     0.81281,     0.81381,     0.81481,     0.81582,\n",
            "           0.81682,     0.81782,     0.81882,     0.81982,     0.82082,     0.82182,     0.82282,     0.82382,     0.82482,     0.82583,     0.82683,     0.82783,     0.82883,     0.82983,     0.83083,     0.83183,     0.83283,     0.83383,     0.83483,     0.83584,     0.83684,     0.83784,     0.83884,     0.83984,\n",
            "           0.84084,     0.84184,     0.84284,     0.84384,     0.84484,     0.84585,     0.84685,     0.84785,     0.84885,     0.84985,     0.85085,     0.85185,     0.85285,     0.85385,     0.85485,     0.85586,     0.85686,     0.85786,     0.85886,     0.85986,     0.86086,     0.86186,     0.86286,     0.86386,\n",
            "           0.86486,     0.86587,     0.86687,     0.86787,     0.86887,     0.86987,     0.87087,     0.87187,     0.87287,     0.87387,     0.87487,     0.87588,     0.87688,     0.87788,     0.87888,     0.87988,     0.88088,     0.88188,     0.88288,     0.88388,     0.88488,     0.88589,     0.88689,     0.88789,\n",
            "           0.88889,     0.88989,     0.89089,     0.89189,     0.89289,     0.89389,     0.89489,      0.8959,      0.8969,      0.8979,      0.8989,      0.8999,      0.9009,      0.9019,      0.9029,      0.9039,      0.9049,     0.90591,     0.90691,     0.90791,     0.90891,     0.90991,     0.91091,     0.91191,\n",
            "           0.91291,     0.91391,     0.91491,     0.91592,     0.91692,     0.91792,     0.91892,     0.91992,     0.92092,     0.92192,     0.92292,     0.92392,     0.92492,     0.92593,     0.92693,     0.92793,     0.92893,     0.92993,     0.93093,     0.93193,     0.93293,     0.93393,     0.93493,     0.93594,\n",
            "           0.93694,     0.93794,     0.93894,     0.93994,     0.94094,     0.94194,     0.94294,     0.94394,     0.94494,     0.94595,     0.94695,     0.94795,     0.94895,     0.94995,     0.95095,     0.95195,     0.95295,     0.95395,     0.95495,     0.95596,     0.95696,     0.95796,     0.95896,     0.95996,\n",
            "           0.96096,     0.96196,     0.96296,     0.96396,     0.96496,     0.96597,     0.96697,     0.96797,     0.96897,     0.96997,     0.97097,     0.97197,     0.97297,     0.97397,     0.97497,     0.97598,     0.97698,     0.97798,     0.97898,     0.97998,     0.98098,     0.98198,     0.98298,     0.98398,\n",
            "           0.98498,     0.98599,     0.98699,     0.98799,     0.98899,     0.98999,     0.99099,     0.99199,     0.99299,     0.99399,     0.99499,       0.996,       0.997,       0.998,       0.999,           1]), array([[          1,           1,           1,           1,           1,           1,           1,           1,           1,           1,           1,           1,           1,           1,           1,           1,           1,           1,           1,           1,           1,           1,           1,\n",
            "                  1,           1,           1,           1,           1,           1,           1,           1,           1,           1,           1,           1,           1,           1,           1,           1,           1,           1,           1,           1,           1,           1,           1,\n",
            "                  1,           1,           1,           1,           1,           1,           1,           1,           1,           1,           1,           1,           1,           1,           1,           1,           1,           1,           1,           1,           1,           1,           1,\n",
            "                  1,           1,           1,           1,           1,           1,           1,           1,           1,           1,           1,           1,           1,           1,           1,           1,           1,           1,           1,           1,           1,           1,           1,\n",
            "                  1,           1,           1,           1,           1,           1,           1,           1,           1,           1,           1,           1,           1,           1,           1,           1,           1,           1,           1,           1,           1,           1,           1,\n",
            "                  1,           1,           1,           1,           1,           1,           1,           1,           1,           1,           1,           1,           1,           1,           1,           1,           1,           1,           1,           1,           1,           1,           1,\n",
            "                  1,           1,           1,           1,           1,           1,           1,           1,           1,           1,           1,           1,           1,           1,           1,           1,           1,           1,           1,           1,           1,           1,           1,\n",
            "                  1,           1,           1,           1,           1,           1,           1,           1,           1,           1,           1,           1,           1,           1,           1,           1,           1,           1,           1,           1,           1,           1,           1,\n",
            "                  1,           1,           1,           1,           1,           1,           1,           1,           1,           1,           1,           1,           1,           1,           1,           1,           1,           1,           1,           1,           1,           1,           1,\n",
            "                  1,           1,           1,           1,           1,           1,           1,           1,           1,           1,           1,           1,           1,           1,           1,           1,           1,           1,           1,           1,           1,           1,           1,\n",
            "                  1,           1,           1,           1,           1,           1,           1,           1,           1,           1,           1,           1,           1,           1,           1,           1,           1,           1,           1,           1,           1,           1,           1,\n",
            "            0.96078,     0.96078,     0.96078,     0.96078,     0.96078,     0.96078,     0.96078,     0.96078,     0.96078,     0.96078,     0.96078,     0.96078,     0.96078,     0.96078,     0.96078,     0.96078,     0.96078,     0.96078,     0.96078,     0.96078,     0.96078,     0.96078,     0.96078,\n",
            "            0.96078,     0.96078,     0.96078,     0.96078,     0.96078,     0.96078,     0.96078,     0.96078,     0.96078,     0.96078,     0.96078,     0.96078,     0.96078,     0.96078,     0.96078,     0.96078,     0.96078,     0.96078,     0.96078,     0.96078,     0.96078,     0.96078,     0.96078,\n",
            "            0.96078,     0.96078,     0.96078,     0.96078,     0.96078,     0.96078,     0.96078,     0.96078,     0.96078,     0.96078,     0.96078,     0.96078,     0.96078,     0.96078,     0.96078,     0.96078,     0.96078,     0.96078,     0.96078,      0.9434,      0.9434,      0.9434,      0.9434,\n",
            "             0.9434,      0.9434,      0.9434,     0.93443,     0.93443,     0.93443,     0.93443,     0.93443,     0.93443,     0.93443,     0.93443,     0.93443,     0.93443,     0.93443,     0.93443,     0.93443,     0.93443,     0.93443,     0.93443,     0.93443,     0.93443,     0.93443,     0.93443,\n",
            "            0.93443,     0.93443,     0.93443,     0.93443,     0.93443,     0.93443,     0.93443,     0.93443,     0.93443,     0.93443,     0.93443,     0.93443,     0.93443,     0.93443,     0.93443,     0.93443,     0.93443,     0.93443,     0.93443,     0.93443,     0.93443,     0.93443,     0.93443,\n",
            "            0.93443,     0.93443,     0.92188,     0.92188,     0.92188,     0.92188,     0.92188,     0.92188,     0.92188,     0.92188,     0.92188,     0.92188,     0.92188,     0.92188,     0.92188,     0.90909,     0.90909,     0.90909,     0.90909,     0.90909,     0.90909,     0.90909,     0.88732,\n",
            "            0.88732,     0.88732,     0.88732,     0.88732,     0.88732,     0.88732,     0.88732,     0.88732,     0.88732,     0.88732,     0.88732,     0.88732,     0.88732,     0.88732,     0.88732,     0.88732,     0.88732,     0.88732,     0.87013,     0.87013,     0.87013,     0.87013,     0.87013,\n",
            "            0.87013,     0.87013,     0.87013,     0.87013,     0.87013,     0.87013,     0.87013,     0.87013,     0.87013,     0.87013,     0.87013,     0.87013,     0.87013,     0.87013,     0.87013,     0.87013,     0.87013,     0.87013,     0.87013,     0.87013,     0.87013,     0.86747,     0.86747,\n",
            "            0.86747,     0.86747,     0.86747,     0.86747,     0.86747,     0.86747,     0.86747,     0.86747,     0.86747,     0.86747,     0.86747,     0.86747,     0.86747,     0.86747,     0.86747,     0.86747,     0.86747,     0.86747,     0.86747,     0.86747,     0.86747,     0.86747,     0.86747,\n",
            "            0.86747,     0.86747,     0.86747,     0.86747,     0.86747,     0.86747,     0.86747,     0.86747,     0.85882,     0.85882,     0.85882,     0.85882,     0.85882,     0.85882,     0.85714,     0.85714,     0.85714,     0.85714,     0.85714,     0.85714,     0.85714,     0.85714,     0.85714,\n",
            "            0.85714,     0.85714,     0.85714,     0.85714,     0.85714,     0.85714,     0.85714,     0.85714,     0.85714,     0.85714,     0.85714,     0.85714,     0.85714,     0.85714,     0.85714,     0.85714,     0.85714,     0.85714,     0.85714,     0.85714,     0.85714,     0.85714,     0.85714,\n",
            "               0.84,        0.84,        0.84,        0.84,        0.84,        0.84,        0.84,        0.84,        0.84,        0.84,        0.84,        0.84,        0.84,        0.84,        0.84,        0.84,        0.84,        0.84,        0.84,        0.84,        0.84,        0.84,        0.84,\n",
            "               0.84,        0.84,        0.84,        0.84,        0.84,        0.84,        0.84,        0.84,        0.84,        0.84,        0.84,        0.84,        0.84,        0.84,        0.84,        0.84,     0.83495,     0.83495,     0.83495,     0.83495,     0.83495,     0.83495,     0.83495,\n",
            "            0.83495,     0.83495,     0.83495,     0.83495,     0.83495,     0.83495,     0.82857,     0.82857,     0.82857,     0.82857,     0.82857,     0.82857,     0.82857,     0.81579,     0.81579,     0.81579,     0.81579,     0.81579,     0.81579,     0.81579,     0.81579,     0.81579,     0.81579,\n",
            "            0.81579,     0.81579,     0.81579,     0.81579,     0.81579,     0.81579,     0.81579,     0.81579,     0.81579,     0.81579,     0.81579,     0.81579,     0.81579,     0.81579,     0.81579,     0.81579,     0.81579,     0.81579,     0.81579,     0.81579,     0.81579,     0.81579,     0.81579,\n",
            "            0.81579,     0.81579,     0.81579,     0.81579,     0.81579,     0.81579,     0.81102,     0.81102,     0.81102,     0.81102,     0.81102,     0.81102,     0.81102,     0.81102,     0.81102,     0.81102,     0.81102,     0.81102,     0.81102,     0.81102,     0.81102,     0.81102,     0.81102,\n",
            "            0.81102,     0.81102,     0.81102,     0.81102,     0.81102,     0.81102,     0.81102,     0.81102,     0.81102,     0.81102,     0.81102,     0.81102,     0.81102,     0.81102,     0.81102,     0.81102,     0.81102,     0.81102,     0.81102,     0.81102,     0.81102,     0.81102,     0.81102,\n",
            "            0.81102,     0.81102,     0.81102,     0.81102,     0.81102,     0.81102,     0.81102,     0.81102,     0.81102,     0.81102,     0.81102,     0.81102,     0.81102,     0.81102,     0.81102,     0.81102,     0.81102,     0.81102,     0.81102,     0.81102,     0.81102,     0.81102,     0.81102,\n",
            "            0.81102,     0.81102,      0.8062,      0.8062,      0.8062,      0.8062,      0.8062,      0.8062,     0.79699,     0.79699,     0.79699,     0.79699,     0.79699,     0.79699,     0.79699,     0.79699,     0.79699,     0.79699,     0.79699,     0.79699,     0.79699,     0.79259,     0.79259,\n",
            "            0.79259,     0.79259,     0.79259,     0.79259,     0.79259,     0.78261,     0.78261,     0.78261,     0.78261,     0.78261,     0.78261,     0.77857,     0.77857,     0.77857,     0.77857,     0.77857,     0.77857,     0.77857,     0.77465,     0.77465,     0.77465,     0.77465,     0.77465,\n",
            "            0.77465,     0.76351,     0.76351,     0.76351,     0.76351,     0.76351,     0.76351,     0.76351,     0.76351,     0.76351,     0.76351,     0.76351,     0.76351,     0.76351,     0.76351,     0.76351,     0.76351,     0.76351,     0.76351,     0.76351,     0.76351,     0.73171,     0.73171,\n",
            "            0.73171,     0.73171,     0.73171,     0.73171,     0.73171,     0.73171,     0.73171,     0.73171,     0.73171,     0.73171,     0.73171,     0.73171,     0.73171,     0.73171,     0.73171,     0.73171,     0.73171,     0.73171,     0.73171,     0.73171,     0.73171,     0.73171,     0.73171,\n",
            "            0.73171,     0.73171,     0.73171,     0.73171,     0.73171,     0.73171,     0.73171,     0.73171,     0.73171,     0.73171,     0.73171,     0.73171,     0.73171,     0.73171,     0.73171,     0.73171,     0.73171,     0.73171,     0.73171,     0.73171,     0.71598,     0.71598,     0.71598,\n",
            "            0.71598,     0.71598,     0.71598,     0.70286,     0.70286,     0.70286,     0.70286,     0.70286,     0.70286,     0.70286,     0.70286,     0.70286,     0.70286,     0.70286,     0.70286,     0.70286,     0.68508,     0.68508,     0.68508,     0.68508,     0.68508,     0.68508,     0.68508,\n",
            "             0.6738,      0.6738,      0.6738,      0.6738,      0.6738,      0.6738,      0.6738,      0.6738,      0.6738,      0.6738,      0.6738,      0.6738,      0.6738,     0.66146,     0.66146,     0.66146,     0.66146,     0.66146,     0.66146,     0.63366,     0.63366,     0.63366,     0.63366,\n",
            "            0.63366,     0.63366,     0.63366,     0.62019,     0.62019,     0.62019,     0.62019,     0.62019,     0.62019,     0.60748,     0.60748,     0.60748,     0.60748,     0.60748,     0.60748,     0.60748,     0.57456,     0.57456,     0.57456,     0.57456,     0.57456,     0.57456,     0.55462,\n",
            "            0.55462,     0.55462,     0.55462,     0.55462,     0.55462,     0.55462,     0.54065,     0.54065,     0.54065,     0.54065,     0.54065,     0.54065,     0.52964,     0.52964,     0.52964,     0.52964,     0.52964,     0.52964,     0.52964,     0.51331,     0.51331,     0.51331,     0.51331,\n",
            "            0.51331,     0.51331,      0.5037,      0.5037,      0.5037,      0.5037,      0.5037,      0.5037,      0.5037,     0.50183,     0.50183,     0.50183,     0.50183,     0.50183,     0.50183,     0.49286,     0.49286,     0.49286,     0.49286,     0.49286,     0.49286,     0.49286,     0.43711,\n",
            "            0.43711,     0.43711,     0.43711,     0.43711,     0.43711,     0.38567,     0.38567,     0.38567,     0.38567,     0.38567,     0.38567,     0.38567,     0.38315,     0.38315,     0.38315,     0.38315,     0.38315,     0.38315,       0.343,       0.343,       0.343,       0.343,       0.343,\n",
            "              0.343,       0.343,      0.2766,      0.2766,      0.2766,      0.2766,      0.2766,      0.2766,     0.25946,     0.25946,     0.25946,     0.25946,     0.25946,     0.25946,     0.25946,     0.25439,     0.25439,     0.25439,     0.25439,     0.25439,     0.25439,      0.2336,      0.2336,\n",
            "             0.2336,      0.2336,      0.2336,      0.2336,      0.2336,     0.18537,     0.18537,     0.18537,     0.18537,     0.18537,     0.18537,     0.12333,     0.12333,     0.12333,     0.12333,     0.12333,     0.12333,     0.12333,     0.11348,     0.11348,     0.11348,     0.11348,     0.11348,\n",
            "            0.11348,    0.098001,    0.094938,    0.091876,    0.088813,    0.085751,    0.082688,    0.079626,    0.076563,    0.073501,    0.070438,    0.067376,    0.064313,    0.061251,    0.058188,    0.055126,    0.052063,       0.049,    0.045938,    0.042875,    0.039813,     0.03675,    0.033688,\n",
            "           0.030625,    0.027563,      0.0245,    0.021438,    0.018375,    0.015313,     0.01225,   0.0091876,   0.0061251,   0.0030625,           0]]), 'Recall', 'Precision'], [array([          0,    0.001001,    0.002002,    0.003003,    0.004004,    0.005005,    0.006006,    0.007007,    0.008008,    0.009009,     0.01001,    0.011011,    0.012012,    0.013013,    0.014014,    0.015015,    0.016016,    0.017017,    0.018018,    0.019019,     0.02002,    0.021021,    0.022022,    0.023023,\n",
            "          0.024024,    0.025025,    0.026026,    0.027027,    0.028028,    0.029029,     0.03003,    0.031031,    0.032032,    0.033033,    0.034034,    0.035035,    0.036036,    0.037037,    0.038038,    0.039039,     0.04004,    0.041041,    0.042042,    0.043043,    0.044044,    0.045045,    0.046046,    0.047047,\n",
            "          0.048048,    0.049049,     0.05005,    0.051051,    0.052052,    0.053053,    0.054054,    0.055055,    0.056056,    0.057057,    0.058058,    0.059059,     0.06006,    0.061061,    0.062062,    0.063063,    0.064064,    0.065065,    0.066066,    0.067067,    0.068068,    0.069069,     0.07007,    0.071071,\n",
            "          0.072072,    0.073073,    0.074074,    0.075075,    0.076076,    0.077077,    0.078078,    0.079079,     0.08008,    0.081081,    0.082082,    0.083083,    0.084084,    0.085085,    0.086086,    0.087087,    0.088088,    0.089089,     0.09009,    0.091091,    0.092092,    0.093093,    0.094094,    0.095095,\n",
            "          0.096096,    0.097097,    0.098098,    0.099099,      0.1001,      0.1011,      0.1021,      0.1031,      0.1041,     0.10511,     0.10611,     0.10711,     0.10811,     0.10911,     0.11011,     0.11111,     0.11211,     0.11311,     0.11411,     0.11512,     0.11612,     0.11712,     0.11812,     0.11912,\n",
            "           0.12012,     0.12112,     0.12212,     0.12312,     0.12412,     0.12513,     0.12613,     0.12713,     0.12813,     0.12913,     0.13013,     0.13113,     0.13213,     0.13313,     0.13413,     0.13514,     0.13614,     0.13714,     0.13814,     0.13914,     0.14014,     0.14114,     0.14214,     0.14314,\n",
            "           0.14414,     0.14515,     0.14615,     0.14715,     0.14815,     0.14915,     0.15015,     0.15115,     0.15215,     0.15315,     0.15415,     0.15516,     0.15616,     0.15716,     0.15816,     0.15916,     0.16016,     0.16116,     0.16216,     0.16316,     0.16416,     0.16517,     0.16617,     0.16717,\n",
            "           0.16817,     0.16917,     0.17017,     0.17117,     0.17217,     0.17317,     0.17417,     0.17518,     0.17618,     0.17718,     0.17818,     0.17918,     0.18018,     0.18118,     0.18218,     0.18318,     0.18418,     0.18519,     0.18619,     0.18719,     0.18819,     0.18919,     0.19019,     0.19119,\n",
            "           0.19219,     0.19319,     0.19419,      0.1952,      0.1962,      0.1972,      0.1982,      0.1992,      0.2002,      0.2012,      0.2022,      0.2032,      0.2042,     0.20521,     0.20621,     0.20721,     0.20821,     0.20921,     0.21021,     0.21121,     0.21221,     0.21321,     0.21421,     0.21522,\n",
            "           0.21622,     0.21722,     0.21822,     0.21922,     0.22022,     0.22122,     0.22222,     0.22322,     0.22422,     0.22523,     0.22623,     0.22723,     0.22823,     0.22923,     0.23023,     0.23123,     0.23223,     0.23323,     0.23423,     0.23524,     0.23624,     0.23724,     0.23824,     0.23924,\n",
            "           0.24024,     0.24124,     0.24224,     0.24324,     0.24424,     0.24525,     0.24625,     0.24725,     0.24825,     0.24925,     0.25025,     0.25125,     0.25225,     0.25325,     0.25425,     0.25526,     0.25626,     0.25726,     0.25826,     0.25926,     0.26026,     0.26126,     0.26226,     0.26326,\n",
            "           0.26426,     0.26527,     0.26627,     0.26727,     0.26827,     0.26927,     0.27027,     0.27127,     0.27227,     0.27327,     0.27427,     0.27528,     0.27628,     0.27728,     0.27828,     0.27928,     0.28028,     0.28128,     0.28228,     0.28328,     0.28428,     0.28529,     0.28629,     0.28729,\n",
            "           0.28829,     0.28929,     0.29029,     0.29129,     0.29229,     0.29329,     0.29429,      0.2953,      0.2963,      0.2973,      0.2983,      0.2993,      0.3003,      0.3013,      0.3023,      0.3033,      0.3043,     0.30531,     0.30631,     0.30731,     0.30831,     0.30931,     0.31031,     0.31131,\n",
            "           0.31231,     0.31331,     0.31431,     0.31532,     0.31632,     0.31732,     0.31832,     0.31932,     0.32032,     0.32132,     0.32232,     0.32332,     0.32432,     0.32533,     0.32633,     0.32733,     0.32833,     0.32933,     0.33033,     0.33133,     0.33233,     0.33333,     0.33433,     0.33534,\n",
            "           0.33634,     0.33734,     0.33834,     0.33934,     0.34034,     0.34134,     0.34234,     0.34334,     0.34434,     0.34535,     0.34635,     0.34735,     0.34835,     0.34935,     0.35035,     0.35135,     0.35235,     0.35335,     0.35435,     0.35536,     0.35636,     0.35736,     0.35836,     0.35936,\n",
            "           0.36036,     0.36136,     0.36236,     0.36336,     0.36436,     0.36537,     0.36637,     0.36737,     0.36837,     0.36937,     0.37037,     0.37137,     0.37237,     0.37337,     0.37437,     0.37538,     0.37638,     0.37738,     0.37838,     0.37938,     0.38038,     0.38138,     0.38238,     0.38338,\n",
            "           0.38438,     0.38539,     0.38639,     0.38739,     0.38839,     0.38939,     0.39039,     0.39139,     0.39239,     0.39339,     0.39439,      0.3954,      0.3964,      0.3974,      0.3984,      0.3994,      0.4004,      0.4014,      0.4024,      0.4034,      0.4044,     0.40541,     0.40641,     0.40741,\n",
            "           0.40841,     0.40941,     0.41041,     0.41141,     0.41241,     0.41341,     0.41441,     0.41542,     0.41642,     0.41742,     0.41842,     0.41942,     0.42042,     0.42142,     0.42242,     0.42342,     0.42442,     0.42543,     0.42643,     0.42743,     0.42843,     0.42943,     0.43043,     0.43143,\n",
            "           0.43243,     0.43343,     0.43443,     0.43544,     0.43644,     0.43744,     0.43844,     0.43944,     0.44044,     0.44144,     0.44244,     0.44344,     0.44444,     0.44545,     0.44645,     0.44745,     0.44845,     0.44945,     0.45045,     0.45145,     0.45245,     0.45345,     0.45445,     0.45546,\n",
            "           0.45646,     0.45746,     0.45846,     0.45946,     0.46046,     0.46146,     0.46246,     0.46346,     0.46446,     0.46547,     0.46647,     0.46747,     0.46847,     0.46947,     0.47047,     0.47147,     0.47247,     0.47347,     0.47447,     0.47548,     0.47648,     0.47748,     0.47848,     0.47948,\n",
            "           0.48048,     0.48148,     0.48248,     0.48348,     0.48448,     0.48549,     0.48649,     0.48749,     0.48849,     0.48949,     0.49049,     0.49149,     0.49249,     0.49349,     0.49449,      0.4955,      0.4965,      0.4975,      0.4985,      0.4995,      0.5005,      0.5015,      0.5025,      0.5035,\n",
            "            0.5045,     0.50551,     0.50651,     0.50751,     0.50851,     0.50951,     0.51051,     0.51151,     0.51251,     0.51351,     0.51451,     0.51552,     0.51652,     0.51752,     0.51852,     0.51952,     0.52052,     0.52152,     0.52252,     0.52352,     0.52452,     0.52553,     0.52653,     0.52753,\n",
            "           0.52853,     0.52953,     0.53053,     0.53153,     0.53253,     0.53353,     0.53453,     0.53554,     0.53654,     0.53754,     0.53854,     0.53954,     0.54054,     0.54154,     0.54254,     0.54354,     0.54454,     0.54555,     0.54655,     0.54755,     0.54855,     0.54955,     0.55055,     0.55155,\n",
            "           0.55255,     0.55355,     0.55455,     0.55556,     0.55656,     0.55756,     0.55856,     0.55956,     0.56056,     0.56156,     0.56256,     0.56356,     0.56456,     0.56557,     0.56657,     0.56757,     0.56857,     0.56957,     0.57057,     0.57157,     0.57257,     0.57357,     0.57457,     0.57558,\n",
            "           0.57658,     0.57758,     0.57858,     0.57958,     0.58058,     0.58158,     0.58258,     0.58358,     0.58458,     0.58559,     0.58659,     0.58759,     0.58859,     0.58959,     0.59059,     0.59159,     0.59259,     0.59359,     0.59459,      0.5956,      0.5966,      0.5976,      0.5986,      0.5996,\n",
            "            0.6006,      0.6016,      0.6026,      0.6036,      0.6046,     0.60561,     0.60661,     0.60761,     0.60861,     0.60961,     0.61061,     0.61161,     0.61261,     0.61361,     0.61461,     0.61562,     0.61662,     0.61762,     0.61862,     0.61962,     0.62062,     0.62162,     0.62262,     0.62362,\n",
            "           0.62462,     0.62563,     0.62663,     0.62763,     0.62863,     0.62963,     0.63063,     0.63163,     0.63263,     0.63363,     0.63463,     0.63564,     0.63664,     0.63764,     0.63864,     0.63964,     0.64064,     0.64164,     0.64264,     0.64364,     0.64464,     0.64565,     0.64665,     0.64765,\n",
            "           0.64865,     0.64965,     0.65065,     0.65165,     0.65265,     0.65365,     0.65465,     0.65566,     0.65666,     0.65766,     0.65866,     0.65966,     0.66066,     0.66166,     0.66266,     0.66366,     0.66466,     0.66567,     0.66667,     0.66767,     0.66867,     0.66967,     0.67067,     0.67167,\n",
            "           0.67267,     0.67367,     0.67467,     0.67568,     0.67668,     0.67768,     0.67868,     0.67968,     0.68068,     0.68168,     0.68268,     0.68368,     0.68468,     0.68569,     0.68669,     0.68769,     0.68869,     0.68969,     0.69069,     0.69169,     0.69269,     0.69369,     0.69469,      0.6957,\n",
            "            0.6967,      0.6977,      0.6987,      0.6997,      0.7007,      0.7017,      0.7027,      0.7037,      0.7047,     0.70571,     0.70671,     0.70771,     0.70871,     0.70971,     0.71071,     0.71171,     0.71271,     0.71371,     0.71471,     0.71572,     0.71672,     0.71772,     0.71872,     0.71972,\n",
            "           0.72072,     0.72172,     0.72272,     0.72372,     0.72472,     0.72573,     0.72673,     0.72773,     0.72873,     0.72973,     0.73073,     0.73173,     0.73273,     0.73373,     0.73473,     0.73574,     0.73674,     0.73774,     0.73874,     0.73974,     0.74074,     0.74174,     0.74274,     0.74374,\n",
            "           0.74474,     0.74575,     0.74675,     0.74775,     0.74875,     0.74975,     0.75075,     0.75175,     0.75275,     0.75375,     0.75475,     0.75576,     0.75676,     0.75776,     0.75876,     0.75976,     0.76076,     0.76176,     0.76276,     0.76376,     0.76476,     0.76577,     0.76677,     0.76777,\n",
            "           0.76877,     0.76977,     0.77077,     0.77177,     0.77277,     0.77377,     0.77477,     0.77578,     0.77678,     0.77778,     0.77878,     0.77978,     0.78078,     0.78178,     0.78278,     0.78378,     0.78478,     0.78579,     0.78679,     0.78779,     0.78879,     0.78979,     0.79079,     0.79179,\n",
            "           0.79279,     0.79379,     0.79479,      0.7958,      0.7968,      0.7978,      0.7988,      0.7998,      0.8008,      0.8018,      0.8028,      0.8038,      0.8048,     0.80581,     0.80681,     0.80781,     0.80881,     0.80981,     0.81081,     0.81181,     0.81281,     0.81381,     0.81481,     0.81582,\n",
            "           0.81682,     0.81782,     0.81882,     0.81982,     0.82082,     0.82182,     0.82282,     0.82382,     0.82482,     0.82583,     0.82683,     0.82783,     0.82883,     0.82983,     0.83083,     0.83183,     0.83283,     0.83383,     0.83483,     0.83584,     0.83684,     0.83784,     0.83884,     0.83984,\n",
            "           0.84084,     0.84184,     0.84284,     0.84384,     0.84484,     0.84585,     0.84685,     0.84785,     0.84885,     0.84985,     0.85085,     0.85185,     0.85285,     0.85385,     0.85485,     0.85586,     0.85686,     0.85786,     0.85886,     0.85986,     0.86086,     0.86186,     0.86286,     0.86386,\n",
            "           0.86486,     0.86587,     0.86687,     0.86787,     0.86887,     0.86987,     0.87087,     0.87187,     0.87287,     0.87387,     0.87487,     0.87588,     0.87688,     0.87788,     0.87888,     0.87988,     0.88088,     0.88188,     0.88288,     0.88388,     0.88488,     0.88589,     0.88689,     0.88789,\n",
            "           0.88889,     0.88989,     0.89089,     0.89189,     0.89289,     0.89389,     0.89489,      0.8959,      0.8969,      0.8979,      0.8989,      0.8999,      0.9009,      0.9019,      0.9029,      0.9039,      0.9049,     0.90591,     0.90691,     0.90791,     0.90891,     0.90991,     0.91091,     0.91191,\n",
            "           0.91291,     0.91391,     0.91491,     0.91592,     0.91692,     0.91792,     0.91892,     0.91992,     0.92092,     0.92192,     0.92292,     0.92392,     0.92492,     0.92593,     0.92693,     0.92793,     0.92893,     0.92993,     0.93093,     0.93193,     0.93293,     0.93393,     0.93493,     0.93594,\n",
            "           0.93694,     0.93794,     0.93894,     0.93994,     0.94094,     0.94194,     0.94294,     0.94394,     0.94494,     0.94595,     0.94695,     0.94795,     0.94895,     0.94995,     0.95095,     0.95195,     0.95295,     0.95395,     0.95495,     0.95596,     0.95696,     0.95796,     0.95896,     0.95996,\n",
            "           0.96096,     0.96196,     0.96296,     0.96396,     0.96496,     0.96597,     0.96697,     0.96797,     0.96897,     0.96997,     0.97097,     0.97197,     0.97297,     0.97397,     0.97497,     0.97598,     0.97698,     0.97798,     0.97898,     0.97998,     0.98098,     0.98198,     0.98298,     0.98398,\n",
            "           0.98498,     0.98599,     0.98699,     0.98799,     0.98899,     0.98999,     0.99099,     0.99199,     0.99299,     0.99399,     0.99499,       0.996,       0.997,       0.998,       0.999,           1]), array([[    0.18017,     0.18017,     0.18017,     0.18063,     0.19014,     0.20386,     0.21963,     0.23531,     0.25246,     0.26454,     0.27624,      0.2873,      0.2981,     0.30939,     0.32025,     0.32798,     0.33427,     0.34496,     0.35167,      0.3571,     0.36451,     0.37099,     0.37379,\n",
            "            0.37886,      0.3827,     0.38867,     0.39283,     0.39707,     0.40057,     0.40439,     0.40626,     0.40999,     0.41303,     0.41983,     0.42557,     0.43007,      0.4348,     0.43853,     0.44357,     0.44775,     0.45276,     0.45646,     0.45977,     0.46145,     0.46553,     0.47177,\n",
            "            0.47514,     0.47597,     0.47963,      0.4823,      0.4858,     0.49109,     0.49431,     0.49805,     0.49826,     0.50097,     0.50668,     0.51095,     0.51484,     0.51658,     0.52058,     0.52437,     0.52644,     0.52881,     0.53135,     0.53587,     0.53911,     0.54084,     0.54088,\n",
            "            0.54384,     0.54614,     0.54806,     0.54893,      0.5517,     0.55373,     0.55603,     0.55676,     0.56071,     0.56316,     0.56667,      0.5707,      0.5731,     0.57433,     0.57636,     0.57782,     0.58259,     0.58441,     0.58486,     0.58549,     0.58688,     0.58752,     0.58791,\n",
            "            0.58957,     0.59193,     0.59347,     0.59874,     0.60147,      0.6043,     0.60497,     0.60829,     0.61127,     0.61241,     0.61301,     0.61499,     0.61673,     0.62008,     0.62175,       0.624,     0.62531,     0.62758,     0.62842,     0.63161,     0.63336,     0.63589,     0.63504,\n",
            "            0.63411,     0.63318,     0.63301,     0.63338,     0.63375,     0.63412,     0.63455,     0.63502,     0.63549,     0.63611,     0.63687,     0.64035,     0.64126,     0.63856,     0.63993,     0.63931,     0.63859,     0.63905,     0.63951,     0.63992,     0.64023,     0.64055,     0.64086,\n",
            "            0.64117,     0.64155,     0.64201,     0.64246,     0.64309,     0.64504,     0.64692,     0.64592,     0.64491,     0.64675,     0.65418,     0.65529,     0.65759,     0.65533,     0.65583,     0.65633,     0.65886,     0.66117,     0.66271,     0.66373,     0.66435,     0.66497,      0.6643,\n",
            "            0.66357,     0.66284,     0.66211,     0.66266,      0.6639,     0.66468,     0.66567,     0.66842,     0.67295,     0.67033,     0.67107,     0.67356,     0.67513,     0.67788,     0.67908,     0.68116,     0.68282,     0.68346,     0.68516,     0.68455,     0.68543,     0.68649,     0.68791,\n",
            "            0.68974,      0.6902,     0.69066,     0.69112,     0.69156,     0.69191,     0.69225,      0.6926,     0.69295,     0.69329,     0.69555,     0.69719,     0.69836,     0.69992,     0.70128,     0.70218,     0.70529,     0.70622,     0.70572,     0.70522,     0.70472,     0.70421,     0.70371,\n",
            "            0.70321,      0.7038,     0.70808,     0.70914,     0.70951,     0.70988,     0.71024,     0.71061,     0.71112,      0.7117,     0.71228,     0.71222,     0.71039,     0.71126,     0.71233,     0.71401,     0.71731,     0.71714,     0.71761,     0.71802,     0.71843,     0.71883,     0.71924,\n",
            "            0.71964,     0.72004,     0.72044,     0.72083,     0.72123,     0.72165,     0.72227,     0.72289,     0.72351,     0.72414,     0.72477,     0.72539,     0.72597,      0.7265,     0.72702,     0.72755,     0.72846,     0.72972,     0.73069,     0.73161,     0.73298,     0.73398,     0.73361,\n",
            "            0.73323,     0.73285,     0.73248,      0.7321,     0.73172,     0.73135,     0.73097,     0.73059,     0.73147,     0.73471,     0.73558,     0.73646,     0.73733,     0.73821,      0.7389,     0.73767,     0.73644,     0.73527,     0.73491,     0.73454,     0.73418,     0.73382,     0.73346,\n",
            "            0.73309,     0.73273,     0.73237,       0.732,     0.73164,     0.73205,     0.73268,      0.7333,     0.73594,     0.73664,     0.73735,     0.73805,     0.73881,     0.73957,     0.73653,     0.73849,     0.73992,      0.7414,     0.74337,     0.74553,     0.74625,     0.74696,     0.74768,\n",
            "            0.74724,     0.74674,     0.74623,     0.74572,     0.74521,     0.74471,      0.7442,     0.74156,     0.74036,     0.74076,     0.74116,     0.74156,     0.74197,     0.74236,     0.74271,     0.74306,     0.74341,     0.74376,     0.74411,     0.74446,     0.74542,     0.74687,     0.74751,\n",
            "            0.74813,     0.74875,     0.74906,     0.74831,     0.74756,     0.74681,     0.74606,     0.74536,     0.74576,     0.74616,     0.74656,     0.74696,     0.74736,     0.74802,     0.74949,     0.75033,     0.75084,     0.75135,     0.75186,     0.75244,     0.75439,     0.75308,     0.75177,\n",
            "             0.7488,     0.74315,     0.74488,     0.74406,      0.7426,     0.74108,      0.7381,     0.73593,     0.73412,     0.73244,      0.7309,     0.72937,      0.7295,     0.73011,     0.73071,     0.73131,     0.73205,     0.73282,     0.73358,     0.73411,     0.73456,     0.73501,     0.73546,\n",
            "            0.73591,     0.73632,      0.7367,     0.73708,     0.73746,     0.73784,     0.73821,     0.73866,        0.74,     0.74174,     0.74371,     0.74441,     0.74511,      0.7458,     0.74472,     0.74282,     0.74126,     0.73927,     0.73583,     0.73635,     0.73687,     0.73739,     0.73791,\n",
            "            0.73836,     0.73868,       0.739,     0.73932,     0.73963,     0.73995,     0.74026,     0.74058,     0.74196,     0.74279,     0.74185,     0.74092,     0.73998,     0.73904,     0.74067,     0.73897,     0.73728,     0.73711,      0.7364,     0.73809,     0.74037,      0.7362,     0.73646,\n",
            "            0.73673,       0.737,     0.73727,     0.73753,      0.7378,     0.73807,     0.73834,      0.7386,     0.73327,     0.73167,     0.73006,     0.73015,     0.73054,     0.73093,     0.73131,      0.7317,     0.73208,     0.73269,     0.73427,     0.73441,     0.73336,      0.7323,     0.73125,\n",
            "            0.73069,     0.73134,       0.732,     0.73265,     0.73235,     0.73005,     0.72825,     0.72735,     0.72646,     0.72556,     0.72466,     0.72374,     0.72279,     0.72183,     0.72088,     0.71992,     0.71462,     0.71041,     0.71115,     0.71188,     0.71261,     0.71206,     0.71126,\n",
            "            0.71047,     0.70967,     0.70887,     0.70807,     0.70302,     0.70164,     0.70026,     0.69888,     0.69497,     0.69312,     0.69229,     0.69147,     0.69064,     0.68981,     0.68899,     0.68926,     0.68968,      0.6901,     0.69052,     0.69094,     0.69136,     0.69233,     0.69344,\n",
            "            0.69371,     0.69302,     0.69232,     0.69163,     0.69094,     0.69024,     0.68955,     0.68398,     0.68288,     0.68178,     0.68068,     0.67958,     0.66997,     0.66956,     0.66996,     0.67037,     0.67078,     0.67118,     0.67158,     0.67128,     0.67045,     0.66961,     0.66878,\n",
            "            0.66794,     0.66711,     0.66927,        0.67,     0.67073,     0.67145,     0.67045,     0.66774,     0.66718,     0.66803,     0.66887,     0.66487,     0.66253,     0.66082,     0.65911,     0.65941,     0.66011,     0.66081,     0.66101,     0.65784,     0.65512,     0.65295,     0.65078,\n",
            "            0.64969,      0.6486,      0.6475,     0.64641,     0.64532,      0.6443,     0.64327,     0.64225,     0.64122,     0.64019,     0.63866,       0.637,     0.63534,      0.6317,     0.63202,     0.63233,     0.63265,     0.63296,     0.63328,     0.63359,      0.6339,     0.63429,     0.63497,\n",
            "            0.63563,      0.6363,     0.63552,     0.63202,     0.63073,     0.63018,     0.62962,     0.62907,     0.62851,     0.62796,      0.6274,     0.62685,     0.62629,     0.62573,     0.62486,     0.62377,     0.62268,     0.62159,      0.6205,      0.6192,     0.61755,      0.6159,     0.61425,\n",
            "            0.61194,     0.60956,     0.60888,     0.60999,     0.61045,     0.60825,     0.60604,     0.60568,     0.60216,     0.59477,      0.5929,     0.59102,     0.58356,     0.58291,     0.58226,     0.58161,     0.58096,     0.58031,     0.57966,     0.57901,     0.57836,     0.57771,       0.578,\n",
            "             0.5785,       0.579,      0.5795,     0.57999,     0.57912,     0.57793,     0.57674,     0.57555,     0.57435,     0.57256,     0.57042,     0.56827,     0.56605,     0.56381,     0.56156,     0.56074,     0.56002,      0.5593,     0.55859,     0.55787,     0.55715,     0.55643,     0.55571,\n",
            "            0.55512,     0.55562,     0.55613,     0.55663,     0.55713,     0.55758,     0.55784,      0.5581,     0.55836,     0.55862,     0.55888,     0.55913,     0.55939,     0.55965,      0.5599,     0.55801,     0.55483,     0.55231,     0.55022,     0.54813,     0.54657,     0.54556,     0.54454,\n",
            "            0.54352,      0.5425,     0.54147,     0.54058,     0.54107,     0.54156,     0.54205,     0.54253,     0.54301,     0.54339,     0.54378,     0.54416,     0.54455,     0.54493,     0.54531,     0.54433,     0.54252,      0.5407,     0.53888,     0.54117,     0.54066,     0.54015,     0.53964,\n",
            "            0.53913,     0.53862,     0.53811,      0.5376,     0.53709,     0.53658,     0.53607,     0.53556,     0.53505,     0.53421,     0.52794,     0.52985,     0.52854,     0.52643,     0.52431,     0.52306,     0.52252,     0.52198,     0.52144,      0.5209,     0.52035,     0.51981,     0.51927,\n",
            "            0.51872,     0.51818,     0.51763,     0.51709,     0.51654,     0.50967,     0.49731,     0.49412,      0.4926,     0.49109,     0.48957,     0.48805,     0.48696,     0.48587,     0.48478,     0.48368,     0.48259,     0.48149,     0.48139,     0.48153,      0.4758,     0.47589,     0.47598,\n",
            "            0.47607,     0.47616,     0.47624,     0.47633,     0.47642,     0.47651,      0.4766,     0.47669,     0.47677,     0.47686,     0.47695,     0.47704,     0.47712,     0.47721,      0.4773,     0.47739,     0.47747,     0.47756,     0.47765,     0.47773,     0.47782,     0.47791,     0.47799,\n",
            "             0.4776,     0.47638,     0.47515,     0.47393,      0.4727,     0.47148,       0.468,     0.46265,     0.46181,     0.46096,      0.4601,     0.45925,      0.4584,     0.45755,     0.45669,     0.45584,     0.45472,     0.45338,     0.45205,     0.45071,     0.44936,     0.44802,     0.44071,\n",
            "            0.43899,     0.43789,     0.43679,     0.43569,     0.43458,     0.43348,     0.43237,      0.4224,     0.41986,      0.4173,     0.41473,     0.41213,     0.40952,     0.40351,     0.40007,     0.40018,     0.40029,     0.40039,      0.4005,     0.40061,     0.40071,     0.40082,     0.40093,\n",
            "            0.40103,     0.40114,     0.40125,     0.40135,     0.40146,     0.40156,     0.40167,     0.40177,     0.40188,     0.40198,     0.40214,     0.40249,     0.40282,     0.40316,      0.4035,     0.40383,      0.4041,     0.40293,     0.40177,     0.40061,     0.39944,     0.39827,      0.3971,\n",
            "            0.39593,     0.39526,     0.39464,     0.39402,      0.3934,     0.39277,     0.39215,     0.39153,      0.3909,     0.39028,     0.38965,     0.38902,      0.3884,     0.38777,     0.37811,     0.36495,     0.36082,     0.35905,     0.35727,     0.35549,     0.35371,     0.35096,     0.34746,\n",
            "            0.34403,     0.34279,     0.34154,     0.34028,     0.33903,     0.33777,     0.33652,     0.33526,      0.3275,     0.32207,     0.31722,     0.31391,     0.31067,     0.30753,     0.30545,     0.30336,     0.30127,     0.29918,     0.29064,     0.28303,     0.27846,     0.27656,     0.27465,\n",
            "            0.27274,     0.27082,      0.2648,     0.25624,     0.25011,     0.23803,     0.23352,     0.22908,     0.22499,     0.22087,     0.21909,      0.2183,      0.2175,     0.21671,     0.21591,     0.21511,     0.21431,     0.21351,     0.21271,     0.21191,     0.21111,     0.21031,      0.2095,\n",
            "            0.20802,     0.20631,     0.20459,     0.20287,     0.20114,     0.19942,     0.19174,     0.18082,      0.1735,     0.16775,     0.16449,      0.1618,     0.15911,      0.1564,     0.15319,     0.14979,     0.14637,     0.13927,     0.12115,     0.11923,     0.11732,      0.1154,     0.11347,\n",
            "            0.11155,    0.098523,    0.096526,    0.094525,     0.09252,     0.09051,    0.088496,    0.086427,    0.084189,    0.081945,    0.079696,    0.077441,    0.075181,    0.072495,    0.069764,    0.067026,     0.06428,    0.062023,    0.060267,    0.058508,    0.056745,     0.05498,    0.053211,\n",
            "           0.051439,    0.048651,    0.045012,    0.041358,    0.036783,    0.026703,    0.024716,    0.023682,    0.022647,    0.021611,    0.020574,    0.019536,    0.018497,    0.017456,    0.016415,    0.015372,    0.014328,    0.013284,           0,           0,           0,           0,           0,\n",
            "                  0,           0,           0,           0,           0,           0,           0,           0,           0,           0,           0,           0,           0,           0,           0,           0,           0,           0,           0,           0,           0,           0,           0,\n",
            "                  0,           0,           0,           0,           0,           0,           0,           0,           0,           0,           0,           0,           0,           0,           0,           0,           0,           0,           0,           0,           0,           0,           0,\n",
            "                  0,           0,           0,           0,           0,           0,           0,           0,           0,           0,           0]]), 'Confidence', 'F1'], [array([          0,    0.001001,    0.002002,    0.003003,    0.004004,    0.005005,    0.006006,    0.007007,    0.008008,    0.009009,     0.01001,    0.011011,    0.012012,    0.013013,    0.014014,    0.015015,    0.016016,    0.017017,    0.018018,    0.019019,     0.02002,    0.021021,    0.022022,    0.023023,\n",
            "          0.024024,    0.025025,    0.026026,    0.027027,    0.028028,    0.029029,     0.03003,    0.031031,    0.032032,    0.033033,    0.034034,    0.035035,    0.036036,    0.037037,    0.038038,    0.039039,     0.04004,    0.041041,    0.042042,    0.043043,    0.044044,    0.045045,    0.046046,    0.047047,\n",
            "          0.048048,    0.049049,     0.05005,    0.051051,    0.052052,    0.053053,    0.054054,    0.055055,    0.056056,    0.057057,    0.058058,    0.059059,     0.06006,    0.061061,    0.062062,    0.063063,    0.064064,    0.065065,    0.066066,    0.067067,    0.068068,    0.069069,     0.07007,    0.071071,\n",
            "          0.072072,    0.073073,    0.074074,    0.075075,    0.076076,    0.077077,    0.078078,    0.079079,     0.08008,    0.081081,    0.082082,    0.083083,    0.084084,    0.085085,    0.086086,    0.087087,    0.088088,    0.089089,     0.09009,    0.091091,    0.092092,    0.093093,    0.094094,    0.095095,\n",
            "          0.096096,    0.097097,    0.098098,    0.099099,      0.1001,      0.1011,      0.1021,      0.1031,      0.1041,     0.10511,     0.10611,     0.10711,     0.10811,     0.10911,     0.11011,     0.11111,     0.11211,     0.11311,     0.11411,     0.11512,     0.11612,     0.11712,     0.11812,     0.11912,\n",
            "           0.12012,     0.12112,     0.12212,     0.12312,     0.12412,     0.12513,     0.12613,     0.12713,     0.12813,     0.12913,     0.13013,     0.13113,     0.13213,     0.13313,     0.13413,     0.13514,     0.13614,     0.13714,     0.13814,     0.13914,     0.14014,     0.14114,     0.14214,     0.14314,\n",
            "           0.14414,     0.14515,     0.14615,     0.14715,     0.14815,     0.14915,     0.15015,     0.15115,     0.15215,     0.15315,     0.15415,     0.15516,     0.15616,     0.15716,     0.15816,     0.15916,     0.16016,     0.16116,     0.16216,     0.16316,     0.16416,     0.16517,     0.16617,     0.16717,\n",
            "           0.16817,     0.16917,     0.17017,     0.17117,     0.17217,     0.17317,     0.17417,     0.17518,     0.17618,     0.17718,     0.17818,     0.17918,     0.18018,     0.18118,     0.18218,     0.18318,     0.18418,     0.18519,     0.18619,     0.18719,     0.18819,     0.18919,     0.19019,     0.19119,\n",
            "           0.19219,     0.19319,     0.19419,      0.1952,      0.1962,      0.1972,      0.1982,      0.1992,      0.2002,      0.2012,      0.2022,      0.2032,      0.2042,     0.20521,     0.20621,     0.20721,     0.20821,     0.20921,     0.21021,     0.21121,     0.21221,     0.21321,     0.21421,     0.21522,\n",
            "           0.21622,     0.21722,     0.21822,     0.21922,     0.22022,     0.22122,     0.22222,     0.22322,     0.22422,     0.22523,     0.22623,     0.22723,     0.22823,     0.22923,     0.23023,     0.23123,     0.23223,     0.23323,     0.23423,     0.23524,     0.23624,     0.23724,     0.23824,     0.23924,\n",
            "           0.24024,     0.24124,     0.24224,     0.24324,     0.24424,     0.24525,     0.24625,     0.24725,     0.24825,     0.24925,     0.25025,     0.25125,     0.25225,     0.25325,     0.25425,     0.25526,     0.25626,     0.25726,     0.25826,     0.25926,     0.26026,     0.26126,     0.26226,     0.26326,\n",
            "           0.26426,     0.26527,     0.26627,     0.26727,     0.26827,     0.26927,     0.27027,     0.27127,     0.27227,     0.27327,     0.27427,     0.27528,     0.27628,     0.27728,     0.27828,     0.27928,     0.28028,     0.28128,     0.28228,     0.28328,     0.28428,     0.28529,     0.28629,     0.28729,\n",
            "           0.28829,     0.28929,     0.29029,     0.29129,     0.29229,     0.29329,     0.29429,      0.2953,      0.2963,      0.2973,      0.2983,      0.2993,      0.3003,      0.3013,      0.3023,      0.3033,      0.3043,     0.30531,     0.30631,     0.30731,     0.30831,     0.30931,     0.31031,     0.31131,\n",
            "           0.31231,     0.31331,     0.31431,     0.31532,     0.31632,     0.31732,     0.31832,     0.31932,     0.32032,     0.32132,     0.32232,     0.32332,     0.32432,     0.32533,     0.32633,     0.32733,     0.32833,     0.32933,     0.33033,     0.33133,     0.33233,     0.33333,     0.33433,     0.33534,\n",
            "           0.33634,     0.33734,     0.33834,     0.33934,     0.34034,     0.34134,     0.34234,     0.34334,     0.34434,     0.34535,     0.34635,     0.34735,     0.34835,     0.34935,     0.35035,     0.35135,     0.35235,     0.35335,     0.35435,     0.35536,     0.35636,     0.35736,     0.35836,     0.35936,\n",
            "           0.36036,     0.36136,     0.36236,     0.36336,     0.36436,     0.36537,     0.36637,     0.36737,     0.36837,     0.36937,     0.37037,     0.37137,     0.37237,     0.37337,     0.37437,     0.37538,     0.37638,     0.37738,     0.37838,     0.37938,     0.38038,     0.38138,     0.38238,     0.38338,\n",
            "           0.38438,     0.38539,     0.38639,     0.38739,     0.38839,     0.38939,     0.39039,     0.39139,     0.39239,     0.39339,     0.39439,      0.3954,      0.3964,      0.3974,      0.3984,      0.3994,      0.4004,      0.4014,      0.4024,      0.4034,      0.4044,     0.40541,     0.40641,     0.40741,\n",
            "           0.40841,     0.40941,     0.41041,     0.41141,     0.41241,     0.41341,     0.41441,     0.41542,     0.41642,     0.41742,     0.41842,     0.41942,     0.42042,     0.42142,     0.42242,     0.42342,     0.42442,     0.42543,     0.42643,     0.42743,     0.42843,     0.42943,     0.43043,     0.43143,\n",
            "           0.43243,     0.43343,     0.43443,     0.43544,     0.43644,     0.43744,     0.43844,     0.43944,     0.44044,     0.44144,     0.44244,     0.44344,     0.44444,     0.44545,     0.44645,     0.44745,     0.44845,     0.44945,     0.45045,     0.45145,     0.45245,     0.45345,     0.45445,     0.45546,\n",
            "           0.45646,     0.45746,     0.45846,     0.45946,     0.46046,     0.46146,     0.46246,     0.46346,     0.46446,     0.46547,     0.46647,     0.46747,     0.46847,     0.46947,     0.47047,     0.47147,     0.47247,     0.47347,     0.47447,     0.47548,     0.47648,     0.47748,     0.47848,     0.47948,\n",
            "           0.48048,     0.48148,     0.48248,     0.48348,     0.48448,     0.48549,     0.48649,     0.48749,     0.48849,     0.48949,     0.49049,     0.49149,     0.49249,     0.49349,     0.49449,      0.4955,      0.4965,      0.4975,      0.4985,      0.4995,      0.5005,      0.5015,      0.5025,      0.5035,\n",
            "            0.5045,     0.50551,     0.50651,     0.50751,     0.50851,     0.50951,     0.51051,     0.51151,     0.51251,     0.51351,     0.51451,     0.51552,     0.51652,     0.51752,     0.51852,     0.51952,     0.52052,     0.52152,     0.52252,     0.52352,     0.52452,     0.52553,     0.52653,     0.52753,\n",
            "           0.52853,     0.52953,     0.53053,     0.53153,     0.53253,     0.53353,     0.53453,     0.53554,     0.53654,     0.53754,     0.53854,     0.53954,     0.54054,     0.54154,     0.54254,     0.54354,     0.54454,     0.54555,     0.54655,     0.54755,     0.54855,     0.54955,     0.55055,     0.55155,\n",
            "           0.55255,     0.55355,     0.55455,     0.55556,     0.55656,     0.55756,     0.55856,     0.55956,     0.56056,     0.56156,     0.56256,     0.56356,     0.56456,     0.56557,     0.56657,     0.56757,     0.56857,     0.56957,     0.57057,     0.57157,     0.57257,     0.57357,     0.57457,     0.57558,\n",
            "           0.57658,     0.57758,     0.57858,     0.57958,     0.58058,     0.58158,     0.58258,     0.58358,     0.58458,     0.58559,     0.58659,     0.58759,     0.58859,     0.58959,     0.59059,     0.59159,     0.59259,     0.59359,     0.59459,      0.5956,      0.5966,      0.5976,      0.5986,      0.5996,\n",
            "            0.6006,      0.6016,      0.6026,      0.6036,      0.6046,     0.60561,     0.60661,     0.60761,     0.60861,     0.60961,     0.61061,     0.61161,     0.61261,     0.61361,     0.61461,     0.61562,     0.61662,     0.61762,     0.61862,     0.61962,     0.62062,     0.62162,     0.62262,     0.62362,\n",
            "           0.62462,     0.62563,     0.62663,     0.62763,     0.62863,     0.62963,     0.63063,     0.63163,     0.63263,     0.63363,     0.63463,     0.63564,     0.63664,     0.63764,     0.63864,     0.63964,     0.64064,     0.64164,     0.64264,     0.64364,     0.64464,     0.64565,     0.64665,     0.64765,\n",
            "           0.64865,     0.64965,     0.65065,     0.65165,     0.65265,     0.65365,     0.65465,     0.65566,     0.65666,     0.65766,     0.65866,     0.65966,     0.66066,     0.66166,     0.66266,     0.66366,     0.66466,     0.66567,     0.66667,     0.66767,     0.66867,     0.66967,     0.67067,     0.67167,\n",
            "           0.67267,     0.67367,     0.67467,     0.67568,     0.67668,     0.67768,     0.67868,     0.67968,     0.68068,     0.68168,     0.68268,     0.68368,     0.68468,     0.68569,     0.68669,     0.68769,     0.68869,     0.68969,     0.69069,     0.69169,     0.69269,     0.69369,     0.69469,      0.6957,\n",
            "            0.6967,      0.6977,      0.6987,      0.6997,      0.7007,      0.7017,      0.7027,      0.7037,      0.7047,     0.70571,     0.70671,     0.70771,     0.70871,     0.70971,     0.71071,     0.71171,     0.71271,     0.71371,     0.71471,     0.71572,     0.71672,     0.71772,     0.71872,     0.71972,\n",
            "           0.72072,     0.72172,     0.72272,     0.72372,     0.72472,     0.72573,     0.72673,     0.72773,     0.72873,     0.72973,     0.73073,     0.73173,     0.73273,     0.73373,     0.73473,     0.73574,     0.73674,     0.73774,     0.73874,     0.73974,     0.74074,     0.74174,     0.74274,     0.74374,\n",
            "           0.74474,     0.74575,     0.74675,     0.74775,     0.74875,     0.74975,     0.75075,     0.75175,     0.75275,     0.75375,     0.75475,     0.75576,     0.75676,     0.75776,     0.75876,     0.75976,     0.76076,     0.76176,     0.76276,     0.76376,     0.76476,     0.76577,     0.76677,     0.76777,\n",
            "           0.76877,     0.76977,     0.77077,     0.77177,     0.77277,     0.77377,     0.77477,     0.77578,     0.77678,     0.77778,     0.77878,     0.77978,     0.78078,     0.78178,     0.78278,     0.78378,     0.78478,     0.78579,     0.78679,     0.78779,     0.78879,     0.78979,     0.79079,     0.79179,\n",
            "           0.79279,     0.79379,     0.79479,      0.7958,      0.7968,      0.7978,      0.7988,      0.7998,      0.8008,      0.8018,      0.8028,      0.8038,      0.8048,     0.80581,     0.80681,     0.80781,     0.80881,     0.80981,     0.81081,     0.81181,     0.81281,     0.81381,     0.81481,     0.81582,\n",
            "           0.81682,     0.81782,     0.81882,     0.81982,     0.82082,     0.82182,     0.82282,     0.82382,     0.82482,     0.82583,     0.82683,     0.82783,     0.82883,     0.82983,     0.83083,     0.83183,     0.83283,     0.83383,     0.83483,     0.83584,     0.83684,     0.83784,     0.83884,     0.83984,\n",
            "           0.84084,     0.84184,     0.84284,     0.84384,     0.84484,     0.84585,     0.84685,     0.84785,     0.84885,     0.84985,     0.85085,     0.85185,     0.85285,     0.85385,     0.85485,     0.85586,     0.85686,     0.85786,     0.85886,     0.85986,     0.86086,     0.86186,     0.86286,     0.86386,\n",
            "           0.86486,     0.86587,     0.86687,     0.86787,     0.86887,     0.86987,     0.87087,     0.87187,     0.87287,     0.87387,     0.87487,     0.87588,     0.87688,     0.87788,     0.87888,     0.87988,     0.88088,     0.88188,     0.88288,     0.88388,     0.88488,     0.88589,     0.88689,     0.88789,\n",
            "           0.88889,     0.88989,     0.89089,     0.89189,     0.89289,     0.89389,     0.89489,      0.8959,      0.8969,      0.8979,      0.8989,      0.8999,      0.9009,      0.9019,      0.9029,      0.9039,      0.9049,     0.90591,     0.90691,     0.90791,     0.90891,     0.90991,     0.91091,     0.91191,\n",
            "           0.91291,     0.91391,     0.91491,     0.91592,     0.91692,     0.91792,     0.91892,     0.91992,     0.92092,     0.92192,     0.92292,     0.92392,     0.92492,     0.92593,     0.92693,     0.92793,     0.92893,     0.92993,     0.93093,     0.93193,     0.93293,     0.93393,     0.93493,     0.93594,\n",
            "           0.93694,     0.93794,     0.93894,     0.93994,     0.94094,     0.94194,     0.94294,     0.94394,     0.94494,     0.94595,     0.94695,     0.94795,     0.94895,     0.94995,     0.95095,     0.95195,     0.95295,     0.95395,     0.95495,     0.95596,     0.95696,     0.95796,     0.95896,     0.95996,\n",
            "           0.96096,     0.96196,     0.96296,     0.96396,     0.96496,     0.96597,     0.96697,     0.96797,     0.96897,     0.96997,     0.97097,     0.97197,     0.97297,     0.97397,     0.97497,     0.97598,     0.97698,     0.97798,     0.97898,     0.97998,     0.98098,     0.98198,     0.98298,     0.98398,\n",
            "           0.98498,     0.98599,     0.98699,     0.98799,     0.98899,     0.98999,     0.99099,     0.99199,     0.99299,     0.99399,     0.99499,       0.996,       0.997,       0.998,       0.999,           1]), array([[   0.099333,    0.099333,    0.099333,    0.099614,     0.10543,     0.11402,     0.12409,      0.1342,     0.14547,     0.15354,     0.16149,      0.1691,     0.17663,     0.18461,     0.19267,     0.19829,     0.20291,     0.21084,     0.21588,     0.21998,     0.22563,     0.23061,     0.23318,\n",
            "            0.23714,     0.24016,     0.24488,     0.24819,     0.25158,     0.25488,     0.25798,     0.26001,     0.26307,     0.26558,     0.27123,     0.27604,     0.28044,     0.28447,     0.28767,     0.29203,     0.29566,     0.30005,      0.3033,     0.30623,     0.30773,     0.31136,     0.31697,\n",
            "            0.32002,     0.32078,     0.32411,     0.32655,     0.32977,     0.33467,     0.33767,     0.34116,     0.34195,     0.34482,     0.35026,     0.35435,      0.3581,     0.35978,     0.36368,     0.36739,     0.36943,     0.37177,     0.37428,     0.37878,     0.38202,     0.38522,     0.38614,\n",
            "            0.38916,     0.39152,     0.39349,     0.39439,     0.39726,     0.39937,     0.40176,     0.40252,     0.40667,     0.40925,     0.41297,     0.41726,     0.41984,     0.42116,     0.42334,     0.42492,      0.4301,     0.43209,     0.43258,     0.43327,      0.4348,     0.43549,     0.43746,\n",
            "             0.4393,     0.44193,     0.44365,     0.44956,     0.45264,     0.45585,     0.45662,     0.46041,     0.46383,     0.46515,     0.46584,     0.46813,     0.47015,     0.47406,     0.47602,     0.47865,      0.4802,     0.48288,     0.48388,     0.48767,     0.48976,      0.4928,     0.49234,\n",
            "             0.4918,     0.49126,      0.4913,     0.49175,     0.49219,     0.49263,     0.49316,     0.49373,      0.4943,     0.49504,     0.49596,      0.5002,     0.50131,     0.50003,     0.50175,     0.50244,     0.50223,     0.50279,     0.50336,     0.50387,     0.50426,     0.50464,     0.50503,\n",
            "            0.50542,     0.50589,     0.50646,     0.50703,     0.50781,     0.51024,     0.51299,     0.51241,     0.51184,     0.51464,     0.52411,     0.52554,     0.52914,     0.52798,     0.52863,     0.52928,     0.53258,      0.5356,     0.53763,     0.53898,     0.53979,     0.54061,     0.54026,\n",
            "            0.53985,     0.53944,     0.53903,     0.54011,     0.54177,     0.54281,     0.54412,      0.5478,     0.55392,     0.55288,     0.55409,      0.5575,     0.55966,     0.56344,      0.5651,     0.56799,      0.5703,      0.5712,     0.57357,     0.57569,     0.57695,     0.57845,     0.58047,\n",
            "            0.58308,     0.58374,      0.5844,     0.58506,     0.58569,     0.58618,     0.58668,     0.58718,     0.58768,     0.58818,     0.59143,     0.59381,     0.59551,     0.59778,     0.59977,     0.60108,     0.60566,     0.60732,     0.60706,     0.60679,     0.60653,     0.60627,     0.60601,\n",
            "            0.60574,     0.60683,     0.61322,     0.61481,     0.61536,     0.61592,     0.61647,     0.61703,     0.61779,     0.61867,     0.61955,     0.61994,       0.619,     0.62158,     0.62322,     0.62581,     0.63089,     0.63267,     0.63516,     0.63579,     0.63643,     0.63707,     0.63771,\n",
            "            0.63834,     0.63897,     0.63959,     0.64022,     0.64084,      0.6415,     0.64249,     0.64347,     0.64445,     0.64545,     0.64645,     0.64745,     0.64837,     0.64921,     0.65005,     0.65089,     0.65235,     0.65437,     0.65593,     0.65742,     0.65963,      0.6614,     0.66122,\n",
            "            0.66104,     0.66085,     0.66067,     0.66049,     0.66031,     0.66013,     0.65994,     0.65976,     0.66137,     0.66669,     0.66813,     0.66958,     0.67102,     0.67247,     0.67375,     0.67316,     0.67258,     0.67203,     0.67186,     0.67169,     0.67151,     0.67134,     0.67117,\n",
            "              0.671,     0.67082,     0.67065,     0.67048,     0.67031,      0.6711,     0.67214,     0.67319,     0.67766,     0.67885,     0.68005,     0.68124,     0.68254,     0.68384,     0.68335,     0.68671,     0.68919,     0.69177,      0.6952,     0.69899,     0.70026,     0.70152,     0.70279,\n",
            "            0.70264,     0.70242,     0.70219,     0.70196,     0.70174,     0.70151,     0.70128,      0.7001,     0.69995,     0.70067,     0.70139,     0.70211,     0.70283,     0.70354,     0.70417,      0.7048,     0.70543,     0.70606,     0.70669,     0.70732,     0.70906,     0.71169,     0.71286,\n",
            "            0.71398,      0.7151,      0.7159,     0.71558,     0.71525,     0.71492,      0.7146,     0.71432,     0.71506,     0.71579,     0.71653,     0.71727,       0.718,     0.71921,     0.72195,     0.72351,     0.72446,     0.72541,     0.72635,     0.72743,     0.73157,     0.73102,     0.73047,\n",
            "            0.72922,     0.72728,     0.73059,     0.73076,     0.73015,      0.7295,     0.72824,     0.72732,     0.72654,     0.72582,     0.72516,      0.7245,     0.72529,     0.72648,     0.72768,     0.72887,     0.73035,     0.73187,     0.73339,     0.73444,     0.73535,     0.73625,     0.73715,\n",
            "            0.73806,      0.7389,     0.73966,     0.74042,     0.74119,     0.74195,     0.74271,     0.74361,     0.74633,     0.74989,     0.75394,     0.75537,      0.7568,     0.75823,     0.76211,     0.76137,     0.76077,     0.75999,     0.75871,     0.75983,     0.76094,     0.76205,     0.76316,\n",
            "            0.76412,      0.7648,     0.76548,     0.76616,     0.76684,     0.76752,      0.7682,     0.76888,     0.77187,     0.77448,     0.77413,     0.77377,     0.77342,     0.77307,     0.77826,     0.77764,     0.77701,     0.78165,      0.7833,     0.78713,     0.79233,     0.79124,     0.79186,\n",
            "            0.79248,      0.7931,     0.79372,     0.79434,     0.79496,     0.79558,      0.7962,     0.79682,      0.7951,     0.79454,     0.79398,     0.79467,     0.79559,     0.79651,     0.79742,     0.79834,     0.79926,     0.80072,     0.80448,     0.80601,     0.80565,      0.8053,     0.80494,\n",
            "            0.80515,     0.80675,     0.80834,     0.80994,     0.81078,     0.81001,     0.80942,     0.80912,     0.80882,     0.80852,     0.80822,     0.80791,     0.80759,     0.80726,     0.80694,     0.80662,     0.80481,     0.80397,     0.80585,     0.80774,     0.80962,     0.80969,     0.80942,\n",
            "            0.80915,     0.80889,     0.80862,     0.80835,     0.80663,     0.80615,     0.80568,     0.80521,     0.80385,      0.8032,     0.80292,     0.80263,     0.80234,     0.80205,     0.80176,     0.80273,     0.80388,     0.80502,     0.80617,     0.80731,     0.80846,      0.8111,     0.81415,\n",
            "            0.81568,     0.81545,     0.81522,     0.81499,     0.81476,     0.81453,     0.81429,     0.81242,     0.81205,     0.81167,      0.8113,     0.81092,     0.80761,     0.80838,     0.80957,     0.81075,     0.81194,     0.81312,     0.81431,     0.81465,     0.81437,     0.81409,      0.8138,\n",
            "            0.81352,     0.81323,     0.82088,     0.82308,     0.82528,     0.82748,     0.82813,     0.82726,     0.82851,     0.83112,     0.83373,     0.83358,     0.83285,     0.83231,     0.83177,     0.83355,      0.8358,     0.83804,     0.83988,     0.83891,     0.83807,      0.8374,     0.83673,\n",
            "            0.83639,     0.83605,      0.8357,     0.83536,     0.83502,      0.8347,     0.83437,     0.83404,     0.83372,     0.83339,      0.8329,     0.83237,     0.83184,     0.83915,     0.84026,     0.84138,     0.84249,     0.84361,     0.84472,     0.84584,     0.84696,     0.84836,     0.85076,\n",
            "            0.85317,     0.85557,      0.8568,      0.8558,     0.85544,     0.85528,     0.85512,     0.85496,      0.8548,     0.85464,     0.85448,     0.85432,     0.85416,       0.854,     0.85374,     0.85342,      0.8531,     0.85279,     0.85247,     0.85208,     0.85159,     0.85111,     0.85062,\n",
            "            0.84992,     0.84921,     0.85096,     0.85532,      0.8587,     0.85806,     0.85743,     0.86694,     0.86598,     0.86392,     0.86339,     0.86286,     0.86072,     0.86053,     0.86034,     0.86015,     0.85996,     0.85977,     0.85958,     0.85939,      0.8592,     0.85901,     0.86079,\n",
            "            0.86302,     0.86525,     0.86748,     0.86971,     0.86986,     0.86953,      0.8692,     0.86887,     0.86854,     0.86804,     0.86743,     0.86683,      0.8662,     0.86555,     0.86491,     0.86467,     0.86446,     0.86425,     0.86404,     0.86383,     0.86362,     0.86341,      0.8632,\n",
            "            0.86327,     0.86572,     0.86817,     0.87062,     0.87308,     0.87528,     0.87656,     0.87785,     0.87913,     0.88042,      0.8817,     0.88299,     0.88427,     0.88556,     0.88685,     0.88682,     0.88603,     0.88539,     0.88486,     0.88432,     0.88392,     0.88366,     0.88339,\n",
            "            0.88313,     0.88286,     0.88259,     0.88259,      0.8852,     0.88782,     0.89043,     0.89304,     0.89563,     0.89774,     0.89985,     0.90196,     0.90407,     0.90618,     0.90829,     0.90885,     0.90847,     0.90809,     0.90771,     0.92185,     0.92176,     0.92166,     0.92157,\n",
            "            0.92148,     0.92138,     0.92129,     0.92119,      0.9211,     0.92101,     0.92091,     0.92082,     0.92072,     0.92057,     0.92032,     0.93207,     0.93416,     0.93382,     0.93348,     0.93328,      0.9332,     0.93311,     0.93302,     0.93293,     0.93284,     0.93275,     0.93266,\n",
            "            0.93258,     0.93249,      0.9324,     0.93231,     0.93222,     0.93107,     0.92893,     0.92837,      0.9281,     0.92782,     0.92755,     0.92728,     0.92707,     0.92687,     0.92667,     0.92646,     0.92626,     0.92606,     0.93055,     0.94316,     0.94287,     0.94357,     0.94427,\n",
            "            0.94497,     0.94567,     0.94637,     0.94707,     0.94777,     0.94846,     0.94916,     0.94986,     0.95056,     0.95126,     0.95196,     0.95266,     0.95336,     0.95405,     0.95475,     0.95545,     0.95615,     0.95685,     0.95755,     0.95825,     0.95895,     0.95964,     0.96034,\n",
            "            0.96074,     0.96061,     0.96048,     0.96035,     0.96022,     0.96009,     0.95972,     0.95914,     0.95904,     0.95895,     0.95885,     0.95876,     0.95866,     0.95857,     0.95847,     0.95838,     0.95825,     0.95809,     0.95794,     0.95779,     0.95763,     0.95748,     0.95661,\n",
            "             0.9564,     0.95626,     0.95612,     0.95599,     0.95585,     0.95572,     0.95558,      0.9543,     0.95396,     0.95363,     0.95328,     0.95292,     0.95257,     0.95172,       0.952,     0.95323,     0.95445,     0.95568,     0.95691,     0.95813,     0.95936,     0.96058,     0.96181,\n",
            "            0.96304,     0.96426,     0.96549,     0.96671,     0.96794,     0.96916,     0.97039,     0.97162,     0.97284,     0.97407,     0.97597,        0.98,     0.98403,     0.98807,      0.9921,     0.99614,           1,           1,           1,           1,           1,           1,           1,\n",
            "                  1,           1,           1,           1,           1,           1,           1,           1,           1,           1,           1,           1,           1,           1,           1,           1,           1,           1,           1,           1,           1,           1,           1,\n",
            "                  1,           1,           1,           1,           1,           1,           1,           1,           1,           1,           1,           1,           1,           1,           1,           1,           1,           1,           1,           1,           1,           1,           1,\n",
            "                  1,           1,           1,           1,           1,           1,           1,           1,           1,           1,           1,           1,           1,           1,           1,           1,           1,           1,           1,           1,           1,           1,           1,\n",
            "                  1,           1,           1,           1,           1,           1,           1,           1,           1,           1,           1,           1,           1,           1,           1,           1,           1,           1,           1,           1,           1,           1,           1,\n",
            "                  1,           1,           1,           1,           1,           1,           1,           1,           1,           1,           1,           1,           1,           1,           1,           1,           1,           1,           1,           1,           1,           1,           1,\n",
            "                  1,           1,           1,           1,           1,           1,           1,           1,           1,           1,           1,           1,           1,           1,           1,           1,           1,           1,           1,           1,           1,           1,           1,\n",
            "                  1,           1,           1,           1,           1,           1,           1,           1,           1,           1,           1,           1,           1,           1,           1,           1,           1,           1,           1,           1,           1,           1,           1,\n",
            "                  1,           1,           1,           1,           1,           1,           1,           1,           1,           1,           1,           1,           1,           1,           1,           1,           1,           1,           1,           1,           1,           1,           1,\n",
            "                  1,           1,           1,           1,           1,           1,           1,           1,           1,           1,           1]]), 'Confidence', 'Precision'], [array([          0,    0.001001,    0.002002,    0.003003,    0.004004,    0.005005,    0.006006,    0.007007,    0.008008,    0.009009,     0.01001,    0.011011,    0.012012,    0.013013,    0.014014,    0.015015,    0.016016,    0.017017,    0.018018,    0.019019,     0.02002,    0.021021,    0.022022,    0.023023,\n",
            "          0.024024,    0.025025,    0.026026,    0.027027,    0.028028,    0.029029,     0.03003,    0.031031,    0.032032,    0.033033,    0.034034,    0.035035,    0.036036,    0.037037,    0.038038,    0.039039,     0.04004,    0.041041,    0.042042,    0.043043,    0.044044,    0.045045,    0.046046,    0.047047,\n",
            "          0.048048,    0.049049,     0.05005,    0.051051,    0.052052,    0.053053,    0.054054,    0.055055,    0.056056,    0.057057,    0.058058,    0.059059,     0.06006,    0.061061,    0.062062,    0.063063,    0.064064,    0.065065,    0.066066,    0.067067,    0.068068,    0.069069,     0.07007,    0.071071,\n",
            "          0.072072,    0.073073,    0.074074,    0.075075,    0.076076,    0.077077,    0.078078,    0.079079,     0.08008,    0.081081,    0.082082,    0.083083,    0.084084,    0.085085,    0.086086,    0.087087,    0.088088,    0.089089,     0.09009,    0.091091,    0.092092,    0.093093,    0.094094,    0.095095,\n",
            "          0.096096,    0.097097,    0.098098,    0.099099,      0.1001,      0.1011,      0.1021,      0.1031,      0.1041,     0.10511,     0.10611,     0.10711,     0.10811,     0.10911,     0.11011,     0.11111,     0.11211,     0.11311,     0.11411,     0.11512,     0.11612,     0.11712,     0.11812,     0.11912,\n",
            "           0.12012,     0.12112,     0.12212,     0.12312,     0.12412,     0.12513,     0.12613,     0.12713,     0.12813,     0.12913,     0.13013,     0.13113,     0.13213,     0.13313,     0.13413,     0.13514,     0.13614,     0.13714,     0.13814,     0.13914,     0.14014,     0.14114,     0.14214,     0.14314,\n",
            "           0.14414,     0.14515,     0.14615,     0.14715,     0.14815,     0.14915,     0.15015,     0.15115,     0.15215,     0.15315,     0.15415,     0.15516,     0.15616,     0.15716,     0.15816,     0.15916,     0.16016,     0.16116,     0.16216,     0.16316,     0.16416,     0.16517,     0.16617,     0.16717,\n",
            "           0.16817,     0.16917,     0.17017,     0.17117,     0.17217,     0.17317,     0.17417,     0.17518,     0.17618,     0.17718,     0.17818,     0.17918,     0.18018,     0.18118,     0.18218,     0.18318,     0.18418,     0.18519,     0.18619,     0.18719,     0.18819,     0.18919,     0.19019,     0.19119,\n",
            "           0.19219,     0.19319,     0.19419,      0.1952,      0.1962,      0.1972,      0.1982,      0.1992,      0.2002,      0.2012,      0.2022,      0.2032,      0.2042,     0.20521,     0.20621,     0.20721,     0.20821,     0.20921,     0.21021,     0.21121,     0.21221,     0.21321,     0.21421,     0.21522,\n",
            "           0.21622,     0.21722,     0.21822,     0.21922,     0.22022,     0.22122,     0.22222,     0.22322,     0.22422,     0.22523,     0.22623,     0.22723,     0.22823,     0.22923,     0.23023,     0.23123,     0.23223,     0.23323,     0.23423,     0.23524,     0.23624,     0.23724,     0.23824,     0.23924,\n",
            "           0.24024,     0.24124,     0.24224,     0.24324,     0.24424,     0.24525,     0.24625,     0.24725,     0.24825,     0.24925,     0.25025,     0.25125,     0.25225,     0.25325,     0.25425,     0.25526,     0.25626,     0.25726,     0.25826,     0.25926,     0.26026,     0.26126,     0.26226,     0.26326,\n",
            "           0.26426,     0.26527,     0.26627,     0.26727,     0.26827,     0.26927,     0.27027,     0.27127,     0.27227,     0.27327,     0.27427,     0.27528,     0.27628,     0.27728,     0.27828,     0.27928,     0.28028,     0.28128,     0.28228,     0.28328,     0.28428,     0.28529,     0.28629,     0.28729,\n",
            "           0.28829,     0.28929,     0.29029,     0.29129,     0.29229,     0.29329,     0.29429,      0.2953,      0.2963,      0.2973,      0.2983,      0.2993,      0.3003,      0.3013,      0.3023,      0.3033,      0.3043,     0.30531,     0.30631,     0.30731,     0.30831,     0.30931,     0.31031,     0.31131,\n",
            "           0.31231,     0.31331,     0.31431,     0.31532,     0.31632,     0.31732,     0.31832,     0.31932,     0.32032,     0.32132,     0.32232,     0.32332,     0.32432,     0.32533,     0.32633,     0.32733,     0.32833,     0.32933,     0.33033,     0.33133,     0.33233,     0.33333,     0.33433,     0.33534,\n",
            "           0.33634,     0.33734,     0.33834,     0.33934,     0.34034,     0.34134,     0.34234,     0.34334,     0.34434,     0.34535,     0.34635,     0.34735,     0.34835,     0.34935,     0.35035,     0.35135,     0.35235,     0.35335,     0.35435,     0.35536,     0.35636,     0.35736,     0.35836,     0.35936,\n",
            "           0.36036,     0.36136,     0.36236,     0.36336,     0.36436,     0.36537,     0.36637,     0.36737,     0.36837,     0.36937,     0.37037,     0.37137,     0.37237,     0.37337,     0.37437,     0.37538,     0.37638,     0.37738,     0.37838,     0.37938,     0.38038,     0.38138,     0.38238,     0.38338,\n",
            "           0.38438,     0.38539,     0.38639,     0.38739,     0.38839,     0.38939,     0.39039,     0.39139,     0.39239,     0.39339,     0.39439,      0.3954,      0.3964,      0.3974,      0.3984,      0.3994,      0.4004,      0.4014,      0.4024,      0.4034,      0.4044,     0.40541,     0.40641,     0.40741,\n",
            "           0.40841,     0.40941,     0.41041,     0.41141,     0.41241,     0.41341,     0.41441,     0.41542,     0.41642,     0.41742,     0.41842,     0.41942,     0.42042,     0.42142,     0.42242,     0.42342,     0.42442,     0.42543,     0.42643,     0.42743,     0.42843,     0.42943,     0.43043,     0.43143,\n",
            "           0.43243,     0.43343,     0.43443,     0.43544,     0.43644,     0.43744,     0.43844,     0.43944,     0.44044,     0.44144,     0.44244,     0.44344,     0.44444,     0.44545,     0.44645,     0.44745,     0.44845,     0.44945,     0.45045,     0.45145,     0.45245,     0.45345,     0.45445,     0.45546,\n",
            "           0.45646,     0.45746,     0.45846,     0.45946,     0.46046,     0.46146,     0.46246,     0.46346,     0.46446,     0.46547,     0.46647,     0.46747,     0.46847,     0.46947,     0.47047,     0.47147,     0.47247,     0.47347,     0.47447,     0.47548,     0.47648,     0.47748,     0.47848,     0.47948,\n",
            "           0.48048,     0.48148,     0.48248,     0.48348,     0.48448,     0.48549,     0.48649,     0.48749,     0.48849,     0.48949,     0.49049,     0.49149,     0.49249,     0.49349,     0.49449,      0.4955,      0.4965,      0.4975,      0.4985,      0.4995,      0.5005,      0.5015,      0.5025,      0.5035,\n",
            "            0.5045,     0.50551,     0.50651,     0.50751,     0.50851,     0.50951,     0.51051,     0.51151,     0.51251,     0.51351,     0.51451,     0.51552,     0.51652,     0.51752,     0.51852,     0.51952,     0.52052,     0.52152,     0.52252,     0.52352,     0.52452,     0.52553,     0.52653,     0.52753,\n",
            "           0.52853,     0.52953,     0.53053,     0.53153,     0.53253,     0.53353,     0.53453,     0.53554,     0.53654,     0.53754,     0.53854,     0.53954,     0.54054,     0.54154,     0.54254,     0.54354,     0.54454,     0.54555,     0.54655,     0.54755,     0.54855,     0.54955,     0.55055,     0.55155,\n",
            "           0.55255,     0.55355,     0.55455,     0.55556,     0.55656,     0.55756,     0.55856,     0.55956,     0.56056,     0.56156,     0.56256,     0.56356,     0.56456,     0.56557,     0.56657,     0.56757,     0.56857,     0.56957,     0.57057,     0.57157,     0.57257,     0.57357,     0.57457,     0.57558,\n",
            "           0.57658,     0.57758,     0.57858,     0.57958,     0.58058,     0.58158,     0.58258,     0.58358,     0.58458,     0.58559,     0.58659,     0.58759,     0.58859,     0.58959,     0.59059,     0.59159,     0.59259,     0.59359,     0.59459,      0.5956,      0.5966,      0.5976,      0.5986,      0.5996,\n",
            "            0.6006,      0.6016,      0.6026,      0.6036,      0.6046,     0.60561,     0.60661,     0.60761,     0.60861,     0.60961,     0.61061,     0.61161,     0.61261,     0.61361,     0.61461,     0.61562,     0.61662,     0.61762,     0.61862,     0.61962,     0.62062,     0.62162,     0.62262,     0.62362,\n",
            "           0.62462,     0.62563,     0.62663,     0.62763,     0.62863,     0.62963,     0.63063,     0.63163,     0.63263,     0.63363,     0.63463,     0.63564,     0.63664,     0.63764,     0.63864,     0.63964,     0.64064,     0.64164,     0.64264,     0.64364,     0.64464,     0.64565,     0.64665,     0.64765,\n",
            "           0.64865,     0.64965,     0.65065,     0.65165,     0.65265,     0.65365,     0.65465,     0.65566,     0.65666,     0.65766,     0.65866,     0.65966,     0.66066,     0.66166,     0.66266,     0.66366,     0.66466,     0.66567,     0.66667,     0.66767,     0.66867,     0.66967,     0.67067,     0.67167,\n",
            "           0.67267,     0.67367,     0.67467,     0.67568,     0.67668,     0.67768,     0.67868,     0.67968,     0.68068,     0.68168,     0.68268,     0.68368,     0.68468,     0.68569,     0.68669,     0.68769,     0.68869,     0.68969,     0.69069,     0.69169,     0.69269,     0.69369,     0.69469,      0.6957,\n",
            "            0.6967,      0.6977,      0.6987,      0.6997,      0.7007,      0.7017,      0.7027,      0.7037,      0.7047,     0.70571,     0.70671,     0.70771,     0.70871,     0.70971,     0.71071,     0.71171,     0.71271,     0.71371,     0.71471,     0.71572,     0.71672,     0.71772,     0.71872,     0.71972,\n",
            "           0.72072,     0.72172,     0.72272,     0.72372,     0.72472,     0.72573,     0.72673,     0.72773,     0.72873,     0.72973,     0.73073,     0.73173,     0.73273,     0.73373,     0.73473,     0.73574,     0.73674,     0.73774,     0.73874,     0.73974,     0.74074,     0.74174,     0.74274,     0.74374,\n",
            "           0.74474,     0.74575,     0.74675,     0.74775,     0.74875,     0.74975,     0.75075,     0.75175,     0.75275,     0.75375,     0.75475,     0.75576,     0.75676,     0.75776,     0.75876,     0.75976,     0.76076,     0.76176,     0.76276,     0.76376,     0.76476,     0.76577,     0.76677,     0.76777,\n",
            "           0.76877,     0.76977,     0.77077,     0.77177,     0.77277,     0.77377,     0.77477,     0.77578,     0.77678,     0.77778,     0.77878,     0.77978,     0.78078,     0.78178,     0.78278,     0.78378,     0.78478,     0.78579,     0.78679,     0.78779,     0.78879,     0.78979,     0.79079,     0.79179,\n",
            "           0.79279,     0.79379,     0.79479,      0.7958,      0.7968,      0.7978,      0.7988,      0.7998,      0.8008,      0.8018,      0.8028,      0.8038,      0.8048,     0.80581,     0.80681,     0.80781,     0.80881,     0.80981,     0.81081,     0.81181,     0.81281,     0.81381,     0.81481,     0.81582,\n",
            "           0.81682,     0.81782,     0.81882,     0.81982,     0.82082,     0.82182,     0.82282,     0.82382,     0.82482,     0.82583,     0.82683,     0.82783,     0.82883,     0.82983,     0.83083,     0.83183,     0.83283,     0.83383,     0.83483,     0.83584,     0.83684,     0.83784,     0.83884,     0.83984,\n",
            "           0.84084,     0.84184,     0.84284,     0.84384,     0.84484,     0.84585,     0.84685,     0.84785,     0.84885,     0.84985,     0.85085,     0.85185,     0.85285,     0.85385,     0.85485,     0.85586,     0.85686,     0.85786,     0.85886,     0.85986,     0.86086,     0.86186,     0.86286,     0.86386,\n",
            "           0.86486,     0.86587,     0.86687,     0.86787,     0.86887,     0.86987,     0.87087,     0.87187,     0.87287,     0.87387,     0.87487,     0.87588,     0.87688,     0.87788,     0.87888,     0.87988,     0.88088,     0.88188,     0.88288,     0.88388,     0.88488,     0.88589,     0.88689,     0.88789,\n",
            "           0.88889,     0.88989,     0.89089,     0.89189,     0.89289,     0.89389,     0.89489,      0.8959,      0.8969,      0.8979,      0.8989,      0.8999,      0.9009,      0.9019,      0.9029,      0.9039,      0.9049,     0.90591,     0.90691,     0.90791,     0.90891,     0.90991,     0.91091,     0.91191,\n",
            "           0.91291,     0.91391,     0.91491,     0.91592,     0.91692,     0.91792,     0.91892,     0.91992,     0.92092,     0.92192,     0.92292,     0.92392,     0.92492,     0.92593,     0.92693,     0.92793,     0.92893,     0.92993,     0.93093,     0.93193,     0.93293,     0.93393,     0.93493,     0.93594,\n",
            "           0.93694,     0.93794,     0.93894,     0.93994,     0.94094,     0.94194,     0.94294,     0.94394,     0.94494,     0.94595,     0.94695,     0.94795,     0.94895,     0.94995,     0.95095,     0.95195,     0.95295,     0.95395,     0.95495,     0.95596,     0.95696,     0.95796,     0.95896,     0.95996,\n",
            "           0.96096,     0.96196,     0.96296,     0.96396,     0.96496,     0.96597,     0.96697,     0.96797,     0.96897,     0.96997,     0.97097,     0.97197,     0.97297,     0.97397,     0.97497,     0.97598,     0.97698,     0.97798,     0.97898,     0.97998,     0.98098,     0.98198,     0.98298,     0.98398,\n",
            "           0.98498,     0.98599,     0.98699,     0.98799,     0.98899,     0.98999,     0.99099,     0.99199,     0.99299,     0.99399,     0.99499,       0.996,       0.997,       0.998,       0.999,           1]), array([[    0.96753,     0.96753,     0.96753,     0.96753,     0.96753,     0.96104,     0.95455,     0.95455,     0.95455,     0.95455,     0.95455,     0.95455,     0.95455,     0.95455,     0.94805,     0.94805,     0.94805,     0.94805,     0.94805,     0.94805,     0.94805,     0.94805,     0.94156,\n",
            "            0.94156,     0.94156,     0.94156,     0.94156,     0.94156,     0.93506,     0.93506,     0.92857,     0.92857,     0.92857,     0.92857,     0.92857,     0.92208,     0.92208,     0.92208,     0.92208,     0.92208,     0.92208,     0.92208,     0.92208,     0.92208,     0.92208,     0.92208,\n",
            "            0.92208,     0.92208,     0.92208,     0.92208,     0.92208,     0.92208,     0.92208,     0.92208,     0.91781,     0.91558,     0.91558,     0.91558,     0.91558,     0.91558,     0.91558,     0.91558,     0.91558,     0.91558,     0.91558,     0.91558,     0.91558,     0.90737,      0.9026,\n",
            "             0.9026,      0.9026,      0.9026,      0.9026,      0.9026,      0.9026,      0.9026,      0.9026,      0.9026,      0.9026,      0.9026,      0.9026,      0.9026,      0.9026,      0.9026,      0.9026,      0.9026,      0.9026,      0.9026,      0.9026,      0.9026,      0.9026,      0.8961,\n",
            "             0.8961,      0.8961,      0.8961,      0.8961,      0.8961,      0.8961,      0.8961,      0.8961,      0.8961,      0.8961,      0.8961,      0.8961,      0.8961,      0.8961,      0.8961,      0.8961,      0.8961,      0.8961,      0.8961,      0.8961,      0.8961,      0.8961,     0.89424,\n",
            "            0.89232,     0.89039,     0.88961,     0.88961,     0.88961,     0.88961,     0.88961,     0.88961,     0.88961,     0.88961,     0.88961,     0.88961,     0.88961,     0.88324,     0.88312,     0.87868,     0.87662,     0.87662,     0.87662,     0.87662,     0.87662,     0.87662,     0.87662,\n",
            "            0.87662,     0.87662,     0.87662,     0.87662,     0.87662,     0.87662,     0.87551,      0.8735,     0.87148,     0.87013,     0.87013,     0.87013,     0.86839,     0.86364,     0.86364,     0.86364,     0.86364,     0.86364,     0.86364,     0.86364,     0.86364,     0.86364,     0.86228,\n",
            "            0.86086,     0.85944,     0.85803,     0.85714,     0.85714,     0.85714,     0.85714,     0.85714,     0.85714,     0.85113,     0.85065,     0.85065,     0.85065,     0.85065,     0.85065,     0.85065,     0.85065,     0.85065,     0.85065,     0.84416,     0.84416,     0.84416,     0.84416,\n",
            "            0.84416,     0.84416,     0.84416,     0.84416,     0.84416,     0.84416,     0.84416,     0.84416,     0.84416,     0.84416,     0.84416,     0.84416,     0.84416,     0.84416,     0.84416,     0.84416,     0.84416,      0.8436,     0.84268,     0.84175,     0.84083,      0.8399,     0.83897,\n",
            "            0.83805,     0.83766,     0.83766,     0.83766,     0.83766,     0.83766,     0.83766,     0.83766,     0.83766,     0.83766,     0.83766,     0.83678,     0.83345,     0.83117,     0.83117,     0.83117,     0.83117,     0.82764,     0.82468,     0.82468,     0.82468,     0.82468,     0.82468,\n",
            "            0.82468,     0.82468,     0.82468,     0.82468,     0.82468,     0.82468,     0.82468,     0.82468,     0.82468,     0.82468,     0.82468,     0.82468,     0.82468,     0.82468,     0.82468,     0.82468,     0.82468,     0.82468,     0.82468,     0.82468,     0.82468,     0.82446,     0.82379,\n",
            "            0.82313,     0.82246,     0.82179,     0.82113,     0.82046,     0.81979,     0.81912,     0.81846,     0.81818,     0.81818,     0.81818,     0.81818,     0.81818,     0.81818,       0.818,     0.81584,     0.81368,     0.81164,     0.81101,     0.81038,     0.80975,     0.80912,     0.80849,\n",
            "            0.80785,     0.80722,     0.80659,     0.80596,     0.80533,     0.80519,     0.80519,     0.80519,     0.80519,     0.80519,     0.80519,     0.80519,     0.80519,     0.80519,      0.7987,      0.7987,      0.7987,      0.7987,      0.7987,      0.7987,      0.7987,      0.7987,      0.7987,\n",
            "            0.79789,     0.79702,     0.79616,      0.7953,     0.79444,     0.79358,     0.79271,     0.78825,     0.78571,     0.78571,     0.78571,     0.78571,     0.78571,     0.78571,     0.78571,     0.78571,     0.78571,     0.78571,     0.78571,     0.78571,     0.78571,     0.78571,     0.78571,\n",
            "            0.78571,     0.78571,     0.78544,     0.78418,     0.78293,     0.78167,     0.78041,     0.77922,     0.77922,     0.77922,     0.77922,     0.77922,     0.77922,     0.77922,     0.77922,     0.77922,     0.77922,     0.77922,     0.77922,     0.77922,     0.77868,     0.77651,     0.77434,\n",
            "            0.76946,     0.75974,     0.75974,     0.75785,      0.7555,     0.75303,     0.74824,     0.74476,     0.74186,     0.73917,     0.73674,      0.7343,     0.73377,     0.73377,     0.73377,     0.73377,     0.73377,     0.73377,     0.73377,     0.73377,     0.73377,     0.73377,     0.73377,\n",
            "            0.73377,     0.73377,     0.73377,     0.73377,     0.73377,     0.73377,     0.73377,     0.73377,     0.73377,     0.73377,     0.73377,     0.73377,     0.73377,     0.73377,     0.72811,     0.72516,     0.72274,     0.71965,     0.71429,     0.71429,     0.71429,     0.71429,     0.71429,\n",
            "            0.71429,     0.71429,     0.71429,     0.71429,     0.71429,     0.71429,     0.71429,     0.71429,     0.71429,     0.71359,     0.71216,     0.71074,     0.70931,     0.70788,     0.70654,     0.70398,     0.70141,     0.69738,     0.69481,     0.69481,     0.69481,     0.68831,     0.68831,\n",
            "            0.68831,     0.68831,     0.68831,     0.68831,     0.68831,     0.68831,     0.68831,     0.68831,     0.68036,     0.67801,     0.67567,     0.67532,     0.67532,     0.67532,     0.67532,     0.67532,     0.67532,     0.67532,     0.67532,      0.6745,     0.67297,     0.67145,     0.66992,\n",
            "            0.66883,     0.66883,     0.66883,     0.66883,     0.66776,     0.66445,     0.66188,      0.6606,     0.65932,     0.65804,     0.65676,     0.65546,     0.65411,     0.65275,      0.6514,     0.65005,      0.6426,     0.63636,     0.63636,     0.63636,     0.63636,     0.63544,     0.63433,\n",
            "            0.63323,     0.63213,     0.63103,     0.62993,       0.623,     0.62112,     0.61924,     0.61736,     0.61207,     0.60957,     0.60846,     0.60735,     0.60624,     0.60513,     0.60403,      0.6039,      0.6039,      0.6039,      0.6039,      0.6039,      0.6039,      0.6039,      0.6039,\n",
            "            0.60347,     0.60255,     0.60163,     0.60071,     0.59979,     0.59886,     0.59794,     0.59061,     0.58917,     0.58773,     0.58629,     0.58485,     0.57241,     0.57143,     0.57143,     0.57143,     0.57143,     0.57143,     0.57143,     0.57082,     0.56976,     0.56869,     0.56763,\n",
            "            0.56656,      0.5655,     0.56494,     0.56494,     0.56494,     0.56494,     0.56321,     0.55979,     0.55844,     0.55844,     0.55844,     0.55296,     0.55004,     0.54793,     0.54581,     0.54545,     0.54545,     0.54545,     0.54496,     0.54106,     0.53774,     0.53508,     0.53245,\n",
            "            0.53113,     0.52981,     0.52849,     0.52717,     0.52586,     0.52463,      0.5234,     0.52217,     0.52094,     0.51971,     0.51788,     0.51591,     0.51394,     0.50649,     0.50649,     0.50649,     0.50649,     0.50649,     0.50649,     0.50649,     0.50649,     0.50649,     0.50649,\n",
            "            0.50649,     0.50649,     0.50508,     0.50102,     0.49952,     0.49888,     0.49824,      0.4976,     0.49696,     0.49632,     0.49568,     0.49504,      0.4944,     0.49376,     0.49275,     0.49151,     0.49026,     0.48902,     0.48778,     0.48629,     0.48442,     0.48255,     0.48068,\n",
            "            0.47808,      0.4754,     0.47403,     0.47403,     0.47355,     0.47109,     0.46864,     0.46542,     0.46155,     0.45349,     0.45146,     0.44943,     0.44142,     0.44073,     0.44004,     0.43934,     0.43865,     0.43796,     0.43727,     0.43658,     0.43589,     0.43519,     0.43506,\n",
            "            0.43506,     0.43506,     0.43506,     0.43506,     0.43405,      0.4328,     0.43154,     0.43029,     0.42903,     0.42716,     0.42492,     0.42268,     0.42038,     0.41806,     0.41574,      0.4149,     0.41416,     0.41343,     0.41269,     0.41196,     0.41122,     0.41049,     0.40975,\n",
            "            0.40909,     0.40909,     0.40909,     0.40909,     0.40909,     0.40909,     0.40909,     0.40909,     0.40909,     0.40909,     0.40909,     0.40909,     0.40909,     0.40909,     0.40909,     0.40708,     0.40387,     0.40133,     0.39924,     0.39714,     0.39559,     0.39458,     0.39357,\n",
            "            0.39256,     0.39154,     0.39053,     0.38961,     0.38961,     0.38961,     0.38961,     0.38961,     0.38961,     0.38961,     0.38961,     0.38961,     0.38961,     0.38961,     0.38961,     0.38851,     0.38673,     0.38496,     0.38319,       0.383,     0.38251,     0.38202,     0.38152,\n",
            "            0.38103,     0.38054,     0.38005,     0.37955,     0.37906,     0.37857,     0.37808,     0.37758,     0.37709,     0.37628,     0.37013,     0.37013,     0.36853,     0.36653,     0.36452,     0.36335,     0.36284,     0.36234,     0.36183,     0.36132,     0.36081,      0.3603,     0.35979,\n",
            "            0.35928,     0.35877,     0.35826,     0.35775,     0.35725,     0.35086,     0.33954,     0.33665,     0.33528,     0.33391,     0.33255,     0.33118,      0.3302,     0.32922,     0.32825,     0.32727,     0.32629,     0.32532,     0.32468,     0.32329,     0.31818,     0.31818,     0.31818,\n",
            "            0.31818,     0.31818,     0.31818,     0.31818,     0.31818,     0.31818,     0.31818,     0.31818,     0.31818,     0.31818,     0.31818,     0.31818,     0.31818,     0.31818,     0.31818,     0.31818,     0.31818,     0.31818,     0.31818,     0.31818,     0.31818,     0.31818,     0.31818,\n",
            "            0.31779,     0.31672,     0.31566,     0.31459,     0.31352,     0.31246,     0.30945,     0.30485,     0.30413,      0.3034,     0.30267,     0.30194,     0.30122,     0.30049,     0.29976,     0.29903,     0.29809,     0.29695,     0.29582,     0.29469,     0.29356,     0.29242,     0.28631,\n",
            "            0.28488,     0.28396,     0.28305,     0.28213,     0.28122,     0.28031,     0.27939,     0.27123,     0.26916,     0.26709,     0.26501,     0.26292,     0.26082,     0.25603,     0.25325,     0.25325,     0.25325,     0.25325,     0.25325,     0.25325,     0.25325,     0.25325,     0.25325,\n",
            "            0.25325,     0.25325,     0.25325,     0.25325,     0.25325,     0.25325,     0.25325,     0.25325,     0.25325,     0.25325,     0.25325,     0.25325,     0.25325,     0.25325,     0.25325,     0.25325,     0.25321,      0.2523,     0.25139,     0.25047,     0.24956,     0.24865,     0.24774,\n",
            "            0.24683,     0.24631,     0.24583,     0.24534,     0.24486,     0.24438,      0.2439,     0.24341,     0.24293,     0.24245,     0.24197,     0.24148,       0.241,     0.24052,     0.23313,      0.2232,     0.22012,      0.2188,     0.21749,     0.21617,     0.21485,     0.21282,     0.21026,\n",
            "            0.20775,     0.20685,     0.20594,     0.20503,     0.20412,     0.20321,      0.2023,     0.20139,     0.19581,     0.19194,     0.18851,     0.18617,      0.1839,      0.1817,     0.18025,      0.1788,     0.17735,      0.1759,     0.17003,     0.16485,     0.16175,     0.16047,     0.15918,\n",
            "             0.1579,     0.15662,     0.15261,     0.14694,     0.14293,     0.13509,      0.1322,     0.12936,     0.12675,     0.12414,     0.12302,     0.12252,     0.12202,     0.12152,     0.12102,     0.12052,     0.12002,     0.11951,     0.11901,     0.11851,     0.11801,     0.11751,     0.11701,\n",
            "            0.11608,     0.11502,     0.11395,     0.11288,     0.11182,     0.11075,     0.10603,    0.099395,    0.094991,    0.091552,    0.089614,    0.088021,    0.086428,    0.084835,    0.082949,    0.080957,    0.078965,     0.07485,    0.064478,    0.063396,    0.062314,    0.061232,    0.060149,\n",
            "           0.059067,    0.051814,    0.050711,    0.049607,    0.048504,      0.0474,    0.046297,    0.045165,    0.043944,    0.042723,    0.041502,     0.04028,    0.039059,    0.037611,    0.036143,    0.034675,    0.033207,    0.032004,     0.03107,    0.030135,    0.029201,    0.028267,    0.027333,\n",
            "           0.026398,    0.024932,    0.023024,    0.021116,    0.018736,    0.013532,    0.012513,    0.011983,    0.011453,    0.010924,    0.010394,   0.0098643,   0.0093346,   0.0088049,   0.0082753,   0.0077456,   0.0072159,   0.0066862,           0,           0,           0,           0,           0,\n",
            "                  0,           0,           0,           0,           0,           0,           0,           0,           0,           0,           0,           0,           0,           0,           0,           0,           0,           0,           0,           0,           0,           0,           0,\n",
            "                  0,           0,           0,           0,           0,           0,           0,           0,           0,           0,           0,           0,           0,           0,           0,           0,           0,           0,           0,           0,           0,           0,           0,\n",
            "                  0,           0,           0,           0,           0,           0,           0,           0,           0,           0,           0]]), 'Confidence', 'Recall'], [array([          0,    0.001001,    0.002002,    0.003003,    0.004004,    0.005005,    0.006006,    0.007007,    0.008008,    0.009009,     0.01001,    0.011011,    0.012012,    0.013013,    0.014014,    0.015015,    0.016016,    0.017017,    0.018018,    0.019019,     0.02002,    0.021021,    0.022022,    0.023023,\n",
            "          0.024024,    0.025025,    0.026026,    0.027027,    0.028028,    0.029029,     0.03003,    0.031031,    0.032032,    0.033033,    0.034034,    0.035035,    0.036036,    0.037037,    0.038038,    0.039039,     0.04004,    0.041041,    0.042042,    0.043043,    0.044044,    0.045045,    0.046046,    0.047047,\n",
            "          0.048048,    0.049049,     0.05005,    0.051051,    0.052052,    0.053053,    0.054054,    0.055055,    0.056056,    0.057057,    0.058058,    0.059059,     0.06006,    0.061061,    0.062062,    0.063063,    0.064064,    0.065065,    0.066066,    0.067067,    0.068068,    0.069069,     0.07007,    0.071071,\n",
            "          0.072072,    0.073073,    0.074074,    0.075075,    0.076076,    0.077077,    0.078078,    0.079079,     0.08008,    0.081081,    0.082082,    0.083083,    0.084084,    0.085085,    0.086086,    0.087087,    0.088088,    0.089089,     0.09009,    0.091091,    0.092092,    0.093093,    0.094094,    0.095095,\n",
            "          0.096096,    0.097097,    0.098098,    0.099099,      0.1001,      0.1011,      0.1021,      0.1031,      0.1041,     0.10511,     0.10611,     0.10711,     0.10811,     0.10911,     0.11011,     0.11111,     0.11211,     0.11311,     0.11411,     0.11512,     0.11612,     0.11712,     0.11812,     0.11912,\n",
            "           0.12012,     0.12112,     0.12212,     0.12312,     0.12412,     0.12513,     0.12613,     0.12713,     0.12813,     0.12913,     0.13013,     0.13113,     0.13213,     0.13313,     0.13413,     0.13514,     0.13614,     0.13714,     0.13814,     0.13914,     0.14014,     0.14114,     0.14214,     0.14314,\n",
            "           0.14414,     0.14515,     0.14615,     0.14715,     0.14815,     0.14915,     0.15015,     0.15115,     0.15215,     0.15315,     0.15415,     0.15516,     0.15616,     0.15716,     0.15816,     0.15916,     0.16016,     0.16116,     0.16216,     0.16316,     0.16416,     0.16517,     0.16617,     0.16717,\n",
            "           0.16817,     0.16917,     0.17017,     0.17117,     0.17217,     0.17317,     0.17417,     0.17518,     0.17618,     0.17718,     0.17818,     0.17918,     0.18018,     0.18118,     0.18218,     0.18318,     0.18418,     0.18519,     0.18619,     0.18719,     0.18819,     0.18919,     0.19019,     0.19119,\n",
            "           0.19219,     0.19319,     0.19419,      0.1952,      0.1962,      0.1972,      0.1982,      0.1992,      0.2002,      0.2012,      0.2022,      0.2032,      0.2042,     0.20521,     0.20621,     0.20721,     0.20821,     0.20921,     0.21021,     0.21121,     0.21221,     0.21321,     0.21421,     0.21522,\n",
            "           0.21622,     0.21722,     0.21822,     0.21922,     0.22022,     0.22122,     0.22222,     0.22322,     0.22422,     0.22523,     0.22623,     0.22723,     0.22823,     0.22923,     0.23023,     0.23123,     0.23223,     0.23323,     0.23423,     0.23524,     0.23624,     0.23724,     0.23824,     0.23924,\n",
            "           0.24024,     0.24124,     0.24224,     0.24324,     0.24424,     0.24525,     0.24625,     0.24725,     0.24825,     0.24925,     0.25025,     0.25125,     0.25225,     0.25325,     0.25425,     0.25526,     0.25626,     0.25726,     0.25826,     0.25926,     0.26026,     0.26126,     0.26226,     0.26326,\n",
            "           0.26426,     0.26527,     0.26627,     0.26727,     0.26827,     0.26927,     0.27027,     0.27127,     0.27227,     0.27327,     0.27427,     0.27528,     0.27628,     0.27728,     0.27828,     0.27928,     0.28028,     0.28128,     0.28228,     0.28328,     0.28428,     0.28529,     0.28629,     0.28729,\n",
            "           0.28829,     0.28929,     0.29029,     0.29129,     0.29229,     0.29329,     0.29429,      0.2953,      0.2963,      0.2973,      0.2983,      0.2993,      0.3003,      0.3013,      0.3023,      0.3033,      0.3043,     0.30531,     0.30631,     0.30731,     0.30831,     0.30931,     0.31031,     0.31131,\n",
            "           0.31231,     0.31331,     0.31431,     0.31532,     0.31632,     0.31732,     0.31832,     0.31932,     0.32032,     0.32132,     0.32232,     0.32332,     0.32432,     0.32533,     0.32633,     0.32733,     0.32833,     0.32933,     0.33033,     0.33133,     0.33233,     0.33333,     0.33433,     0.33534,\n",
            "           0.33634,     0.33734,     0.33834,     0.33934,     0.34034,     0.34134,     0.34234,     0.34334,     0.34434,     0.34535,     0.34635,     0.34735,     0.34835,     0.34935,     0.35035,     0.35135,     0.35235,     0.35335,     0.35435,     0.35536,     0.35636,     0.35736,     0.35836,     0.35936,\n",
            "           0.36036,     0.36136,     0.36236,     0.36336,     0.36436,     0.36537,     0.36637,     0.36737,     0.36837,     0.36937,     0.37037,     0.37137,     0.37237,     0.37337,     0.37437,     0.37538,     0.37638,     0.37738,     0.37838,     0.37938,     0.38038,     0.38138,     0.38238,     0.38338,\n",
            "           0.38438,     0.38539,     0.38639,     0.38739,     0.38839,     0.38939,     0.39039,     0.39139,     0.39239,     0.39339,     0.39439,      0.3954,      0.3964,      0.3974,      0.3984,      0.3994,      0.4004,      0.4014,      0.4024,      0.4034,      0.4044,     0.40541,     0.40641,     0.40741,\n",
            "           0.40841,     0.40941,     0.41041,     0.41141,     0.41241,     0.41341,     0.41441,     0.41542,     0.41642,     0.41742,     0.41842,     0.41942,     0.42042,     0.42142,     0.42242,     0.42342,     0.42442,     0.42543,     0.42643,     0.42743,     0.42843,     0.42943,     0.43043,     0.43143,\n",
            "           0.43243,     0.43343,     0.43443,     0.43544,     0.43644,     0.43744,     0.43844,     0.43944,     0.44044,     0.44144,     0.44244,     0.44344,     0.44444,     0.44545,     0.44645,     0.44745,     0.44845,     0.44945,     0.45045,     0.45145,     0.45245,     0.45345,     0.45445,     0.45546,\n",
            "           0.45646,     0.45746,     0.45846,     0.45946,     0.46046,     0.46146,     0.46246,     0.46346,     0.46446,     0.46547,     0.46647,     0.46747,     0.46847,     0.46947,     0.47047,     0.47147,     0.47247,     0.47347,     0.47447,     0.47548,     0.47648,     0.47748,     0.47848,     0.47948,\n",
            "           0.48048,     0.48148,     0.48248,     0.48348,     0.48448,     0.48549,     0.48649,     0.48749,     0.48849,     0.48949,     0.49049,     0.49149,     0.49249,     0.49349,     0.49449,      0.4955,      0.4965,      0.4975,      0.4985,      0.4995,      0.5005,      0.5015,      0.5025,      0.5035,\n",
            "            0.5045,     0.50551,     0.50651,     0.50751,     0.50851,     0.50951,     0.51051,     0.51151,     0.51251,     0.51351,     0.51451,     0.51552,     0.51652,     0.51752,     0.51852,     0.51952,     0.52052,     0.52152,     0.52252,     0.52352,     0.52452,     0.52553,     0.52653,     0.52753,\n",
            "           0.52853,     0.52953,     0.53053,     0.53153,     0.53253,     0.53353,     0.53453,     0.53554,     0.53654,     0.53754,     0.53854,     0.53954,     0.54054,     0.54154,     0.54254,     0.54354,     0.54454,     0.54555,     0.54655,     0.54755,     0.54855,     0.54955,     0.55055,     0.55155,\n",
            "           0.55255,     0.55355,     0.55455,     0.55556,     0.55656,     0.55756,     0.55856,     0.55956,     0.56056,     0.56156,     0.56256,     0.56356,     0.56456,     0.56557,     0.56657,     0.56757,     0.56857,     0.56957,     0.57057,     0.57157,     0.57257,     0.57357,     0.57457,     0.57558,\n",
            "           0.57658,     0.57758,     0.57858,     0.57958,     0.58058,     0.58158,     0.58258,     0.58358,     0.58458,     0.58559,     0.58659,     0.58759,     0.58859,     0.58959,     0.59059,     0.59159,     0.59259,     0.59359,     0.59459,      0.5956,      0.5966,      0.5976,      0.5986,      0.5996,\n",
            "            0.6006,      0.6016,      0.6026,      0.6036,      0.6046,     0.60561,     0.60661,     0.60761,     0.60861,     0.60961,     0.61061,     0.61161,     0.61261,     0.61361,     0.61461,     0.61562,     0.61662,     0.61762,     0.61862,     0.61962,     0.62062,     0.62162,     0.62262,     0.62362,\n",
            "           0.62462,     0.62563,     0.62663,     0.62763,     0.62863,     0.62963,     0.63063,     0.63163,     0.63263,     0.63363,     0.63463,     0.63564,     0.63664,     0.63764,     0.63864,     0.63964,     0.64064,     0.64164,     0.64264,     0.64364,     0.64464,     0.64565,     0.64665,     0.64765,\n",
            "           0.64865,     0.64965,     0.65065,     0.65165,     0.65265,     0.65365,     0.65465,     0.65566,     0.65666,     0.65766,     0.65866,     0.65966,     0.66066,     0.66166,     0.66266,     0.66366,     0.66466,     0.66567,     0.66667,     0.66767,     0.66867,     0.66967,     0.67067,     0.67167,\n",
            "           0.67267,     0.67367,     0.67467,     0.67568,     0.67668,     0.67768,     0.67868,     0.67968,     0.68068,     0.68168,     0.68268,     0.68368,     0.68468,     0.68569,     0.68669,     0.68769,     0.68869,     0.68969,     0.69069,     0.69169,     0.69269,     0.69369,     0.69469,      0.6957,\n",
            "            0.6967,      0.6977,      0.6987,      0.6997,      0.7007,      0.7017,      0.7027,      0.7037,      0.7047,     0.70571,     0.70671,     0.70771,     0.70871,     0.70971,     0.71071,     0.71171,     0.71271,     0.71371,     0.71471,     0.71572,     0.71672,     0.71772,     0.71872,     0.71972,\n",
            "           0.72072,     0.72172,     0.72272,     0.72372,     0.72472,     0.72573,     0.72673,     0.72773,     0.72873,     0.72973,     0.73073,     0.73173,     0.73273,     0.73373,     0.73473,     0.73574,     0.73674,     0.73774,     0.73874,     0.73974,     0.74074,     0.74174,     0.74274,     0.74374,\n",
            "           0.74474,     0.74575,     0.74675,     0.74775,     0.74875,     0.74975,     0.75075,     0.75175,     0.75275,     0.75375,     0.75475,     0.75576,     0.75676,     0.75776,     0.75876,     0.75976,     0.76076,     0.76176,     0.76276,     0.76376,     0.76476,     0.76577,     0.76677,     0.76777,\n",
            "           0.76877,     0.76977,     0.77077,     0.77177,     0.77277,     0.77377,     0.77477,     0.77578,     0.77678,     0.77778,     0.77878,     0.77978,     0.78078,     0.78178,     0.78278,     0.78378,     0.78478,     0.78579,     0.78679,     0.78779,     0.78879,     0.78979,     0.79079,     0.79179,\n",
            "           0.79279,     0.79379,     0.79479,      0.7958,      0.7968,      0.7978,      0.7988,      0.7998,      0.8008,      0.8018,      0.8028,      0.8038,      0.8048,     0.80581,     0.80681,     0.80781,     0.80881,     0.80981,     0.81081,     0.81181,     0.81281,     0.81381,     0.81481,     0.81582,\n",
            "           0.81682,     0.81782,     0.81882,     0.81982,     0.82082,     0.82182,     0.82282,     0.82382,     0.82482,     0.82583,     0.82683,     0.82783,     0.82883,     0.82983,     0.83083,     0.83183,     0.83283,     0.83383,     0.83483,     0.83584,     0.83684,     0.83784,     0.83884,     0.83984,\n",
            "           0.84084,     0.84184,     0.84284,     0.84384,     0.84484,     0.84585,     0.84685,     0.84785,     0.84885,     0.84985,     0.85085,     0.85185,     0.85285,     0.85385,     0.85485,     0.85586,     0.85686,     0.85786,     0.85886,     0.85986,     0.86086,     0.86186,     0.86286,     0.86386,\n",
            "           0.86486,     0.86587,     0.86687,     0.86787,     0.86887,     0.86987,     0.87087,     0.87187,     0.87287,     0.87387,     0.87487,     0.87588,     0.87688,     0.87788,     0.87888,     0.87988,     0.88088,     0.88188,     0.88288,     0.88388,     0.88488,     0.88589,     0.88689,     0.88789,\n",
            "           0.88889,     0.88989,     0.89089,     0.89189,     0.89289,     0.89389,     0.89489,      0.8959,      0.8969,      0.8979,      0.8989,      0.8999,      0.9009,      0.9019,      0.9029,      0.9039,      0.9049,     0.90591,     0.90691,     0.90791,     0.90891,     0.90991,     0.91091,     0.91191,\n",
            "           0.91291,     0.91391,     0.91491,     0.91592,     0.91692,     0.91792,     0.91892,     0.91992,     0.92092,     0.92192,     0.92292,     0.92392,     0.92492,     0.92593,     0.92693,     0.92793,     0.92893,     0.92993,     0.93093,     0.93193,     0.93293,     0.93393,     0.93493,     0.93594,\n",
            "           0.93694,     0.93794,     0.93894,     0.93994,     0.94094,     0.94194,     0.94294,     0.94394,     0.94494,     0.94595,     0.94695,     0.94795,     0.94895,     0.94995,     0.95095,     0.95195,     0.95295,     0.95395,     0.95495,     0.95596,     0.95696,     0.95796,     0.95896,     0.95996,\n",
            "           0.96096,     0.96196,     0.96296,     0.96396,     0.96496,     0.96597,     0.96697,     0.96797,     0.96897,     0.96997,     0.97097,     0.97197,     0.97297,     0.97397,     0.97497,     0.97598,     0.97698,     0.97798,     0.97898,     0.97998,     0.98098,     0.98198,     0.98298,     0.98398,\n",
            "           0.98498,     0.98599,     0.98699,     0.98799,     0.98899,     0.98999,     0.99099,     0.99199,     0.99299,     0.99399,     0.99499,       0.996,       0.997,       0.998,       0.999,           1]), array([[          1,           1,           1,           1,           1,           1,           1,           1,           1,           1,           1,           1,           1,           1,           1,           1,           1,           1,           1,           1,           1,           1,           1,\n",
            "                  1,           1,           1,           1,           1,           1,           1,           1,           1,           1,           1,           1,           1,           1,           1,           1,           1,           1,           1,           1,           1,           1,           1,\n",
            "                  1,           1,           1,           1,           1,           1,           1,           1,           1,           1,           1,           1,           1,           1,           1,           1,           1,           1,           1,           1,           1,           1,           1,\n",
            "                  1,           1,           1,           1,           1,           1,           1,           1,           1,           1,           1,           1,           1,           1,           1,           1,           1,           1,           1,           1,           1,           1,           1,\n",
            "                  1,           1,           1,           1,           1,           1,           1,           1,           1,           1,           1,           1,           1,           1,           1,           1,           1,           1,           1,           1,           1,           1,           1,\n",
            "                  1,           1,           1,           1,           1,           1,           1,           1,           1,           1,           1,           1,           1,           1,           1,           1,           1,           1,           1,           1,           1,           1,           1,\n",
            "                  1,           1,           1,           1,           1,           1,           1,           1,           1,           1,           1,           1,           1,           1,           1,           1,           1,           1,           1,           1,           1,           1,           1,\n",
            "                  1,           1,           1,           1,           1,           1,           1,           1,           1,           1,           1,           1,           1,           1,           1,           1,           1,           1,           1,           1,           1,           1,           1,\n",
            "                  1,           1,           1,           1,           1,           1,           1,           1,           1,           1,           1,           1,           1,           1,           1,           1,           1,           1,           1,           1,           1,           1,           1,\n",
            "                  1,           1,           1,           1,           1,           1,           1,           1,           1,           1,           1,           1,           1,           1,           1,           1,           1,           1,           1,           1,           1,           1,           1,\n",
            "                  1,           1,           1,           1,           1,           1,           1,           1,           1,           1,           1,           1,           1,           1,           1,           1,           1,           1,           1,           1,           1,           1,           1,\n",
            "            0.96078,     0.96078,     0.96078,     0.96078,     0.96078,     0.96078,     0.96078,     0.96078,     0.96078,     0.96078,     0.96078,     0.96078,     0.96078,     0.96078,     0.96078,     0.96078,     0.96078,     0.96078,     0.96078,     0.96078,     0.96078,     0.96078,     0.96078,\n",
            "            0.96078,     0.96078,     0.96078,     0.96078,     0.96078,     0.96078,     0.96078,     0.96078,     0.96078,     0.96078,     0.96078,     0.96078,     0.96078,     0.96078,     0.96078,     0.96078,     0.96078,     0.96078,     0.96078,     0.96078,     0.96078,     0.96078,     0.96078,\n",
            "            0.96078,     0.96078,     0.96078,     0.96078,     0.96078,     0.96078,     0.96078,     0.96078,     0.96078,     0.96078,     0.96078,     0.96078,     0.96078,     0.96078,     0.96078,     0.96078,     0.96078,     0.96078,     0.96078,      0.9434,      0.9434,      0.9434,      0.9434,\n",
            "             0.9434,      0.9434,      0.9434,     0.92982,     0.92982,     0.92982,     0.92982,     0.92982,     0.92982,     0.92982,     0.92982,     0.92982,     0.92982,     0.92982,     0.92982,     0.92982,     0.92982,     0.92982,     0.92982,     0.92982,     0.92982,     0.92982,     0.91803,\n",
            "            0.91803,     0.91803,     0.91803,     0.91803,     0.91803,     0.91803,     0.91803,     0.91803,     0.91803,     0.91803,     0.91803,     0.91803,     0.91803,     0.91803,     0.91803,     0.91803,     0.91803,     0.91803,     0.91803,     0.90909,     0.90909,     0.90909,     0.90909,\n",
            "            0.90909,     0.90909,     0.90909,     0.90909,     0.90909,     0.90909,     0.90909,     0.90909,     0.90909,     0.90909,     0.90909,     0.90909,     0.90909,     0.90909,     0.90909,     0.90909,     0.90909,     0.90909,     0.90909,     0.90909,     0.90909,     0.90909,     0.88732,\n",
            "            0.88732,     0.88732,     0.88732,     0.88732,     0.88732,     0.88732,     0.88732,     0.88732,     0.88732,     0.88732,     0.88732,     0.88732,     0.88732,     0.88732,     0.88732,     0.88732,     0.88732,     0.88732,     0.87013,     0.87013,     0.87013,     0.87013,     0.87013,\n",
            "            0.87013,     0.87013,     0.87013,     0.87013,     0.87013,     0.87013,     0.87013,     0.87013,     0.87013,     0.87013,     0.87013,     0.87013,     0.87013,     0.87013,     0.87013,     0.87013,     0.87013,     0.87013,     0.87013,     0.87013,     0.87013,     0.86747,     0.86747,\n",
            "            0.86747,     0.86747,     0.86747,     0.86747,     0.86747,     0.86747,     0.86747,     0.86747,     0.86747,     0.86747,     0.86747,     0.86747,     0.86747,     0.86747,     0.86747,     0.86747,     0.86747,     0.86747,     0.86747,     0.86747,     0.86747,     0.86747,     0.86747,\n",
            "            0.86747,     0.86747,     0.86747,     0.86747,     0.86747,     0.86747,     0.86747,     0.86747,     0.85882,     0.85882,     0.85882,     0.85882,     0.85882,     0.85882,     0.85714,     0.85714,     0.85714,     0.85714,     0.85714,     0.85714,     0.85714,     0.85714,     0.85714,\n",
            "            0.85714,     0.85714,     0.85714,     0.85714,     0.85714,     0.85714,     0.85714,     0.85714,     0.85714,     0.85714,     0.85714,     0.85714,     0.85714,     0.85714,     0.85714,     0.85714,     0.85714,     0.85714,     0.85714,     0.85714,     0.85714,     0.85714,     0.85714,\n",
            "               0.84,        0.84,        0.84,        0.84,        0.84,        0.84,        0.84,        0.84,        0.84,        0.84,        0.84,        0.84,        0.84,        0.84,        0.84,        0.84,        0.84,        0.84,        0.84,        0.84,        0.84,        0.84,        0.84,\n",
            "               0.84,        0.84,        0.84,        0.84,        0.84,        0.84,        0.84,        0.84,        0.84,        0.84,        0.84,        0.84,        0.84,        0.84,        0.84,        0.84,     0.83495,     0.83495,     0.83495,     0.83495,     0.83495,     0.83495,     0.83495,\n",
            "            0.83495,     0.83495,     0.83495,     0.83495,     0.83495,     0.83495,     0.81579,     0.81579,     0.81579,     0.81579,     0.81579,     0.81579,     0.81579,     0.81579,     0.81579,     0.81579,     0.81579,     0.81579,     0.81579,     0.81579,     0.81579,     0.81579,     0.81579,\n",
            "            0.81579,     0.81579,     0.81579,     0.81579,     0.81579,     0.81579,     0.81579,     0.81579,     0.81579,     0.81579,     0.81579,     0.81579,     0.81579,     0.81579,     0.81579,     0.81579,     0.81579,     0.81579,     0.81579,     0.81579,     0.81579,     0.81579,     0.81579,\n",
            "            0.81579,     0.81579,     0.81579,     0.81579,     0.81579,     0.81579,     0.81102,     0.81102,     0.81102,     0.81102,     0.81102,     0.81102,     0.81102,     0.81102,     0.81102,     0.81102,     0.81102,     0.81102,     0.81102,     0.81102,     0.81102,     0.81102,     0.81102,\n",
            "            0.81102,     0.81102,     0.81102,     0.81102,     0.81102,     0.81102,     0.81102,     0.81102,     0.81102,     0.81102,     0.81102,     0.81102,     0.81102,     0.81102,     0.81102,     0.81102,     0.81102,     0.81102,     0.81102,     0.81102,     0.81102,     0.81102,     0.81102,\n",
            "            0.81102,     0.81102,     0.81102,     0.81102,     0.81102,     0.81102,     0.81102,     0.81102,     0.81102,     0.81102,     0.81102,     0.81102,     0.81102,     0.81102,     0.81102,     0.81102,     0.81102,     0.81102,     0.81102,     0.81102,     0.81102,     0.81102,     0.81102,\n",
            "            0.81102,     0.81102,      0.8062,      0.8062,      0.8062,      0.8062,      0.8062,      0.8062,     0.79699,     0.79699,     0.79699,     0.79699,     0.79699,     0.79699,     0.79699,     0.79699,     0.79699,     0.79699,     0.79699,     0.79699,     0.79699,     0.78986,     0.78986,\n",
            "            0.78986,     0.78986,     0.78986,     0.78986,     0.78986,     0.78986,     0.78986,     0.78986,     0.78986,     0.78986,     0.78986,     0.78986,     0.78986,     0.78986,     0.78986,     0.78986,     0.78986,     0.78986,     0.78571,     0.78571,     0.78571,     0.78571,     0.78571,\n",
            "            0.78571,     0.78322,     0.78322,     0.78322,     0.78322,     0.78322,     0.78322,     0.78322,     0.78322,     0.78322,     0.78322,     0.78322,     0.78322,     0.78322,     0.77027,     0.77027,     0.77027,     0.77027,     0.77027,     0.77027,     0.77027,     0.77027,     0.77027,\n",
            "            0.77027,     0.77027,     0.77027,     0.77027,      0.7378,      0.7378,      0.7378,      0.7378,      0.7378,      0.7378,      0.7378,      0.7378,      0.7378,      0.7378,      0.7378,      0.7378,      0.7378,      0.7378,      0.7378,      0.7378,      0.7378,      0.7378,      0.7378,\n",
            "             0.7378,      0.7378,      0.7378,      0.7378,      0.7378,      0.7378,      0.7378,      0.7378,      0.7378,      0.7378,      0.7378,      0.7378,      0.7378,      0.7378,      0.7378,      0.7378,      0.7378,      0.7378,      0.7378,      0.7378,      0.7378,      0.7378,      0.7378,\n",
            "             0.7378,      0.7378,      0.7378,     0.72189,     0.72189,     0.72189,     0.72189,     0.72189,     0.72189,     0.72189,     0.71023,     0.71023,     0.71023,     0.71023,     0.71023,     0.71023,     0.71023,     0.71023,     0.71023,     0.71023,     0.71023,     0.71023,     0.71023,\n",
            "            0.71023,     0.71023,     0.71023,     0.71023,     0.71023,     0.71023,     0.69613,     0.69613,     0.69613,     0.69613,     0.69613,     0.69613,     0.69613,     0.68449,     0.68449,     0.68449,     0.68449,     0.68449,     0.68449,     0.68449,     0.68449,     0.68449,     0.68449,\n",
            "            0.68449,     0.68449,     0.68449,     0.67188,     0.67188,     0.67188,     0.67188,     0.67188,     0.67188,     0.64356,     0.64356,     0.64356,     0.64356,     0.64356,     0.64356,     0.64356,     0.61215,     0.61215,     0.61215,     0.61215,     0.61215,     0.61215,     0.59729,\n",
            "            0.59729,     0.59729,     0.59729,     0.59729,     0.59729,     0.59729,     0.58333,     0.58333,     0.58333,     0.58333,     0.58333,     0.58333,     0.56303,     0.56303,     0.56303,     0.56303,     0.56303,     0.56303,     0.56303,     0.54878,     0.54878,     0.54878,     0.54878,\n",
            "            0.54878,     0.54878,       0.544,       0.544,       0.544,       0.544,       0.544,       0.544,       0.544,     0.52091,     0.52091,     0.52091,     0.52091,     0.52091,     0.52091,     0.51111,     0.51111,     0.51111,     0.51111,     0.51111,     0.51111,     0.51111,     0.50916,\n",
            "            0.50916,     0.50916,     0.50916,     0.50916,     0.50916,         0.5,         0.5,         0.5,         0.5,         0.5,         0.5,         0.5,     0.45779,     0.45779,     0.45779,     0.45779,     0.45779,     0.45779,     0.45079,     0.45079,     0.45079,     0.45079,     0.45079,\n",
            "            0.45079,     0.45079,     0.44969,     0.44969,     0.44969,     0.44969,     0.44969,     0.44969,     0.34783,     0.34783,     0.34783,     0.34783,     0.34783,     0.34783,     0.34783,     0.28046,     0.28046,     0.28046,     0.28046,     0.28046,     0.28046,     0.26306,     0.26306,\n",
            "            0.26306,     0.26306,     0.26306,     0.26306,     0.26306,     0.25789,     0.25789,     0.25789,     0.25789,     0.25789,     0.25789,      0.2368,      0.2368,      0.2368,      0.2368,      0.2368,      0.2368,      0.2368,     0.19226,     0.19226,     0.19226,     0.19226,     0.19226,\n",
            "            0.19226,     0.18916,     0.18916,     0.18916,     0.18916,     0.18916,     0.18916,     0.18916,     0.17396,     0.17396,     0.17396,     0.17396,     0.17396,     0.17396,     0.12667,     0.12667,     0.12667,     0.12667,     0.12667,     0.12667,     0.12667,     0.11653,     0.11653,\n",
            "            0.11653,     0.11653,     0.11653,     0.11653,    0.094342,    0.078619,    0.062895,    0.047171,    0.031447,    0.015724,           0]]), 'Recall', 'Precision'], [array([          0,    0.001001,    0.002002,    0.003003,    0.004004,    0.005005,    0.006006,    0.007007,    0.008008,    0.009009,     0.01001,    0.011011,    0.012012,    0.013013,    0.014014,    0.015015,    0.016016,    0.017017,    0.018018,    0.019019,     0.02002,    0.021021,    0.022022,    0.023023,\n",
            "          0.024024,    0.025025,    0.026026,    0.027027,    0.028028,    0.029029,     0.03003,    0.031031,    0.032032,    0.033033,    0.034034,    0.035035,    0.036036,    0.037037,    0.038038,    0.039039,     0.04004,    0.041041,    0.042042,    0.043043,    0.044044,    0.045045,    0.046046,    0.047047,\n",
            "          0.048048,    0.049049,     0.05005,    0.051051,    0.052052,    0.053053,    0.054054,    0.055055,    0.056056,    0.057057,    0.058058,    0.059059,     0.06006,    0.061061,    0.062062,    0.063063,    0.064064,    0.065065,    0.066066,    0.067067,    0.068068,    0.069069,     0.07007,    0.071071,\n",
            "          0.072072,    0.073073,    0.074074,    0.075075,    0.076076,    0.077077,    0.078078,    0.079079,     0.08008,    0.081081,    0.082082,    0.083083,    0.084084,    0.085085,    0.086086,    0.087087,    0.088088,    0.089089,     0.09009,    0.091091,    0.092092,    0.093093,    0.094094,    0.095095,\n",
            "          0.096096,    0.097097,    0.098098,    0.099099,      0.1001,      0.1011,      0.1021,      0.1031,      0.1041,     0.10511,     0.10611,     0.10711,     0.10811,     0.10911,     0.11011,     0.11111,     0.11211,     0.11311,     0.11411,     0.11512,     0.11612,     0.11712,     0.11812,     0.11912,\n",
            "           0.12012,     0.12112,     0.12212,     0.12312,     0.12412,     0.12513,     0.12613,     0.12713,     0.12813,     0.12913,     0.13013,     0.13113,     0.13213,     0.13313,     0.13413,     0.13514,     0.13614,     0.13714,     0.13814,     0.13914,     0.14014,     0.14114,     0.14214,     0.14314,\n",
            "           0.14414,     0.14515,     0.14615,     0.14715,     0.14815,     0.14915,     0.15015,     0.15115,     0.15215,     0.15315,     0.15415,     0.15516,     0.15616,     0.15716,     0.15816,     0.15916,     0.16016,     0.16116,     0.16216,     0.16316,     0.16416,     0.16517,     0.16617,     0.16717,\n",
            "           0.16817,     0.16917,     0.17017,     0.17117,     0.17217,     0.17317,     0.17417,     0.17518,     0.17618,     0.17718,     0.17818,     0.17918,     0.18018,     0.18118,     0.18218,     0.18318,     0.18418,     0.18519,     0.18619,     0.18719,     0.18819,     0.18919,     0.19019,     0.19119,\n",
            "           0.19219,     0.19319,     0.19419,      0.1952,      0.1962,      0.1972,      0.1982,      0.1992,      0.2002,      0.2012,      0.2022,      0.2032,      0.2042,     0.20521,     0.20621,     0.20721,     0.20821,     0.20921,     0.21021,     0.21121,     0.21221,     0.21321,     0.21421,     0.21522,\n",
            "           0.21622,     0.21722,     0.21822,     0.21922,     0.22022,     0.22122,     0.22222,     0.22322,     0.22422,     0.22523,     0.22623,     0.22723,     0.22823,     0.22923,     0.23023,     0.23123,     0.23223,     0.23323,     0.23423,     0.23524,     0.23624,     0.23724,     0.23824,     0.23924,\n",
            "           0.24024,     0.24124,     0.24224,     0.24324,     0.24424,     0.24525,     0.24625,     0.24725,     0.24825,     0.24925,     0.25025,     0.25125,     0.25225,     0.25325,     0.25425,     0.25526,     0.25626,     0.25726,     0.25826,     0.25926,     0.26026,     0.26126,     0.26226,     0.26326,\n",
            "           0.26426,     0.26527,     0.26627,     0.26727,     0.26827,     0.26927,     0.27027,     0.27127,     0.27227,     0.27327,     0.27427,     0.27528,     0.27628,     0.27728,     0.27828,     0.27928,     0.28028,     0.28128,     0.28228,     0.28328,     0.28428,     0.28529,     0.28629,     0.28729,\n",
            "           0.28829,     0.28929,     0.29029,     0.29129,     0.29229,     0.29329,     0.29429,      0.2953,      0.2963,      0.2973,      0.2983,      0.2993,      0.3003,      0.3013,      0.3023,      0.3033,      0.3043,     0.30531,     0.30631,     0.30731,     0.30831,     0.30931,     0.31031,     0.31131,\n",
            "           0.31231,     0.31331,     0.31431,     0.31532,     0.31632,     0.31732,     0.31832,     0.31932,     0.32032,     0.32132,     0.32232,     0.32332,     0.32432,     0.32533,     0.32633,     0.32733,     0.32833,     0.32933,     0.33033,     0.33133,     0.33233,     0.33333,     0.33433,     0.33534,\n",
            "           0.33634,     0.33734,     0.33834,     0.33934,     0.34034,     0.34134,     0.34234,     0.34334,     0.34434,     0.34535,     0.34635,     0.34735,     0.34835,     0.34935,     0.35035,     0.35135,     0.35235,     0.35335,     0.35435,     0.35536,     0.35636,     0.35736,     0.35836,     0.35936,\n",
            "           0.36036,     0.36136,     0.36236,     0.36336,     0.36436,     0.36537,     0.36637,     0.36737,     0.36837,     0.36937,     0.37037,     0.37137,     0.37237,     0.37337,     0.37437,     0.37538,     0.37638,     0.37738,     0.37838,     0.37938,     0.38038,     0.38138,     0.38238,     0.38338,\n",
            "           0.38438,     0.38539,     0.38639,     0.38739,     0.38839,     0.38939,     0.39039,     0.39139,     0.39239,     0.39339,     0.39439,      0.3954,      0.3964,      0.3974,      0.3984,      0.3994,      0.4004,      0.4014,      0.4024,      0.4034,      0.4044,     0.40541,     0.40641,     0.40741,\n",
            "           0.40841,     0.40941,     0.41041,     0.41141,     0.41241,     0.41341,     0.41441,     0.41542,     0.41642,     0.41742,     0.41842,     0.41942,     0.42042,     0.42142,     0.42242,     0.42342,     0.42442,     0.42543,     0.42643,     0.42743,     0.42843,     0.42943,     0.43043,     0.43143,\n",
            "           0.43243,     0.43343,     0.43443,     0.43544,     0.43644,     0.43744,     0.43844,     0.43944,     0.44044,     0.44144,     0.44244,     0.44344,     0.44444,     0.44545,     0.44645,     0.44745,     0.44845,     0.44945,     0.45045,     0.45145,     0.45245,     0.45345,     0.45445,     0.45546,\n",
            "           0.45646,     0.45746,     0.45846,     0.45946,     0.46046,     0.46146,     0.46246,     0.46346,     0.46446,     0.46547,     0.46647,     0.46747,     0.46847,     0.46947,     0.47047,     0.47147,     0.47247,     0.47347,     0.47447,     0.47548,     0.47648,     0.47748,     0.47848,     0.47948,\n",
            "           0.48048,     0.48148,     0.48248,     0.48348,     0.48448,     0.48549,     0.48649,     0.48749,     0.48849,     0.48949,     0.49049,     0.49149,     0.49249,     0.49349,     0.49449,      0.4955,      0.4965,      0.4975,      0.4985,      0.4995,      0.5005,      0.5015,      0.5025,      0.5035,\n",
            "            0.5045,     0.50551,     0.50651,     0.50751,     0.50851,     0.50951,     0.51051,     0.51151,     0.51251,     0.51351,     0.51451,     0.51552,     0.51652,     0.51752,     0.51852,     0.51952,     0.52052,     0.52152,     0.52252,     0.52352,     0.52452,     0.52553,     0.52653,     0.52753,\n",
            "           0.52853,     0.52953,     0.53053,     0.53153,     0.53253,     0.53353,     0.53453,     0.53554,     0.53654,     0.53754,     0.53854,     0.53954,     0.54054,     0.54154,     0.54254,     0.54354,     0.54454,     0.54555,     0.54655,     0.54755,     0.54855,     0.54955,     0.55055,     0.55155,\n",
            "           0.55255,     0.55355,     0.55455,     0.55556,     0.55656,     0.55756,     0.55856,     0.55956,     0.56056,     0.56156,     0.56256,     0.56356,     0.56456,     0.56557,     0.56657,     0.56757,     0.56857,     0.56957,     0.57057,     0.57157,     0.57257,     0.57357,     0.57457,     0.57558,\n",
            "           0.57658,     0.57758,     0.57858,     0.57958,     0.58058,     0.58158,     0.58258,     0.58358,     0.58458,     0.58559,     0.58659,     0.58759,     0.58859,     0.58959,     0.59059,     0.59159,     0.59259,     0.59359,     0.59459,      0.5956,      0.5966,      0.5976,      0.5986,      0.5996,\n",
            "            0.6006,      0.6016,      0.6026,      0.6036,      0.6046,     0.60561,     0.60661,     0.60761,     0.60861,     0.60961,     0.61061,     0.61161,     0.61261,     0.61361,     0.61461,     0.61562,     0.61662,     0.61762,     0.61862,     0.61962,     0.62062,     0.62162,     0.62262,     0.62362,\n",
            "           0.62462,     0.62563,     0.62663,     0.62763,     0.62863,     0.62963,     0.63063,     0.63163,     0.63263,     0.63363,     0.63463,     0.63564,     0.63664,     0.63764,     0.63864,     0.63964,     0.64064,     0.64164,     0.64264,     0.64364,     0.64464,     0.64565,     0.64665,     0.64765,\n",
            "           0.64865,     0.64965,     0.65065,     0.65165,     0.65265,     0.65365,     0.65465,     0.65566,     0.65666,     0.65766,     0.65866,     0.65966,     0.66066,     0.66166,     0.66266,     0.66366,     0.66466,     0.66567,     0.66667,     0.66767,     0.66867,     0.66967,     0.67067,     0.67167,\n",
            "           0.67267,     0.67367,     0.67467,     0.67568,     0.67668,     0.67768,     0.67868,     0.67968,     0.68068,     0.68168,     0.68268,     0.68368,     0.68468,     0.68569,     0.68669,     0.68769,     0.68869,     0.68969,     0.69069,     0.69169,     0.69269,     0.69369,     0.69469,      0.6957,\n",
            "            0.6967,      0.6977,      0.6987,      0.6997,      0.7007,      0.7017,      0.7027,      0.7037,      0.7047,     0.70571,     0.70671,     0.70771,     0.70871,     0.70971,     0.71071,     0.71171,     0.71271,     0.71371,     0.71471,     0.71572,     0.71672,     0.71772,     0.71872,     0.71972,\n",
            "           0.72072,     0.72172,     0.72272,     0.72372,     0.72472,     0.72573,     0.72673,     0.72773,     0.72873,     0.72973,     0.73073,     0.73173,     0.73273,     0.73373,     0.73473,     0.73574,     0.73674,     0.73774,     0.73874,     0.73974,     0.74074,     0.74174,     0.74274,     0.74374,\n",
            "           0.74474,     0.74575,     0.74675,     0.74775,     0.74875,     0.74975,     0.75075,     0.75175,     0.75275,     0.75375,     0.75475,     0.75576,     0.75676,     0.75776,     0.75876,     0.75976,     0.76076,     0.76176,     0.76276,     0.76376,     0.76476,     0.76577,     0.76677,     0.76777,\n",
            "           0.76877,     0.76977,     0.77077,     0.77177,     0.77277,     0.77377,     0.77477,     0.77578,     0.77678,     0.77778,     0.77878,     0.77978,     0.78078,     0.78178,     0.78278,     0.78378,     0.78478,     0.78579,     0.78679,     0.78779,     0.78879,     0.78979,     0.79079,     0.79179,\n",
            "           0.79279,     0.79379,     0.79479,      0.7958,      0.7968,      0.7978,      0.7988,      0.7998,      0.8008,      0.8018,      0.8028,      0.8038,      0.8048,     0.80581,     0.80681,     0.80781,     0.80881,     0.80981,     0.81081,     0.81181,     0.81281,     0.81381,     0.81481,     0.81582,\n",
            "           0.81682,     0.81782,     0.81882,     0.81982,     0.82082,     0.82182,     0.82282,     0.82382,     0.82482,     0.82583,     0.82683,     0.82783,     0.82883,     0.82983,     0.83083,     0.83183,     0.83283,     0.83383,     0.83483,     0.83584,     0.83684,     0.83784,     0.83884,     0.83984,\n",
            "           0.84084,     0.84184,     0.84284,     0.84384,     0.84484,     0.84585,     0.84685,     0.84785,     0.84885,     0.84985,     0.85085,     0.85185,     0.85285,     0.85385,     0.85485,     0.85586,     0.85686,     0.85786,     0.85886,     0.85986,     0.86086,     0.86186,     0.86286,     0.86386,\n",
            "           0.86486,     0.86587,     0.86687,     0.86787,     0.86887,     0.86987,     0.87087,     0.87187,     0.87287,     0.87387,     0.87487,     0.87588,     0.87688,     0.87788,     0.87888,     0.87988,     0.88088,     0.88188,     0.88288,     0.88388,     0.88488,     0.88589,     0.88689,     0.88789,\n",
            "           0.88889,     0.88989,     0.89089,     0.89189,     0.89289,     0.89389,     0.89489,      0.8959,      0.8969,      0.8979,      0.8989,      0.8999,      0.9009,      0.9019,      0.9029,      0.9039,      0.9049,     0.90591,     0.90691,     0.90791,     0.90891,     0.90991,     0.91091,     0.91191,\n",
            "           0.91291,     0.91391,     0.91491,     0.91592,     0.91692,     0.91792,     0.91892,     0.91992,     0.92092,     0.92192,     0.92292,     0.92392,     0.92492,     0.92593,     0.92693,     0.92793,     0.92893,     0.92993,     0.93093,     0.93193,     0.93293,     0.93393,     0.93493,     0.93594,\n",
            "           0.93694,     0.93794,     0.93894,     0.93994,     0.94094,     0.94194,     0.94294,     0.94394,     0.94494,     0.94595,     0.94695,     0.94795,     0.94895,     0.94995,     0.95095,     0.95195,     0.95295,     0.95395,     0.95495,     0.95596,     0.95696,     0.95796,     0.95896,     0.95996,\n",
            "           0.96096,     0.96196,     0.96296,     0.96396,     0.96496,     0.96597,     0.96697,     0.96797,     0.96897,     0.96997,     0.97097,     0.97197,     0.97297,     0.97397,     0.97497,     0.97598,     0.97698,     0.97798,     0.97898,     0.97998,     0.98098,     0.98198,     0.98298,     0.98398,\n",
            "           0.98498,     0.98599,     0.98699,     0.98799,     0.98899,     0.98999,     0.99099,     0.99199,     0.99299,     0.99399,     0.99499,       0.996,       0.997,       0.998,       0.999,           1]), array([[    0.18501,     0.18501,     0.18501,     0.18548,     0.19524,     0.20936,      0.2256,     0.24172,     0.25933,     0.27174,     0.28376,     0.29512,     0.30418,      0.3157,     0.32464,     0.33247,     0.33885,     0.34969,     0.35649,     0.36199,     0.36951,     0.37607,     0.37895,\n",
            "            0.38409,     0.38798,     0.39403,     0.39825,     0.40255,     0.40613,     0.41001,     0.41194,     0.41572,      0.4188,      0.4257,     0.43152,     0.43613,     0.44092,      0.4447,     0.44982,     0.45406,     0.45914,     0.46289,     0.46624,     0.46795,     0.47208,     0.47841,\n",
            "            0.48183,     0.48268,     0.48639,     0.48909,     0.49264,     0.49801,     0.50128,     0.50506,     0.50531,     0.50808,     0.51387,      0.5182,     0.52214,      0.5239,     0.52797,      0.5318,     0.53391,     0.53631,     0.53889,     0.54347,     0.54675,     0.55348,     0.55645,\n",
            "            0.55949,     0.56186,     0.56383,     0.56472,     0.56757,     0.56966,     0.57203,     0.57278,     0.57685,     0.57936,     0.58298,     0.58712,     0.58959,     0.59086,     0.59294,     0.59445,     0.59936,     0.60123,     0.60169,     0.60234,     0.60377,     0.60442,     0.60495,\n",
            "            0.60297,      0.6048,     0.60637,     0.60742,     0.61018,     0.61305,     0.61374,      0.6171,     0.62013,     0.62129,     0.62189,      0.6239,     0.62567,     0.62907,     0.63076,     0.63304,     0.63438,     0.63668,     0.63753,     0.64076,     0.64254,     0.64511,     0.64427,\n",
            "            0.64334,     0.64241,     0.64225,     0.64263,       0.643,     0.64337,     0.64381,     0.64429,     0.64477,     0.64539,     0.64617,      0.6497,     0.65062,     0.64795,     0.64934,     0.64876,     0.64806,     0.64852,     0.64899,      0.6494,     0.64972,     0.65004,     0.65035,\n",
            "            0.65067,     0.65106,     0.65152,     0.65198,     0.65262,     0.65459,     0.65652,     0.65552,     0.65452,     0.65641,     0.66394,     0.66507,     0.66875,     0.67011,     0.67062,     0.67113,     0.67238,     0.67111,     0.67267,     0.67371,     0.67434,     0.67497,     0.67431,\n",
            "            0.67358,     0.67286,     0.67213,      0.6727,     0.67396,     0.67476,     0.67576,     0.67854,     0.68315,     0.68055,     0.68131,     0.68384,     0.68544,     0.68823,     0.68945,     0.69156,     0.69324,      0.6939,     0.69562,     0.69508,     0.69598,     0.69705,      0.6985,\n",
            "            0.70035,     0.70082,     0.70129,     0.70175,      0.7022,     0.70255,      0.7029,     0.70326,     0.70361,     0.70396,      0.7009,     0.70256,     0.70373,      0.7053,     0.70668,     0.70758,     0.71071,     0.71166,     0.71116,     0.71066,     0.71016,     0.70966,     0.70916,\n",
            "            0.70865,     0.70926,     0.71357,     0.71464,     0.71501,     0.71538,     0.71575,     0.71612,     0.71663,     0.71722,      0.7178,      0.7185,     0.71952,     0.72237,     0.72346,     0.72517,     0.72852,     0.72839,     0.72891,     0.72933,     0.72974,     0.73015,     0.73057,\n",
            "            0.73098,     0.73138,     0.73178,     0.73219,     0.73259,     0.73301,     0.73364,     0.73427,      0.7349,     0.73554,     0.73618,     0.73682,      0.7374,     0.73794,     0.73847,       0.739,     0.73993,     0.74121,     0.74219,     0.74313,     0.74452,     0.74554,     0.74517,\n",
            "             0.7448,     0.74442,     0.74405,     0.74368,      0.7433,     0.74293,     0.74256,     0.74218,     0.74308,     0.74637,     0.74726,     0.74815,     0.74904,     0.74992,     0.75063,     0.74941,     0.74819,     0.74703,     0.74667,     0.74631,     0.74596,      0.7456,     0.74524,\n",
            "            0.74488,     0.74452,     0.74416,      0.7438,     0.74344,     0.74386,      0.7445,     0.74513,     0.74781,     0.74853,     0.74924,     0.74995,     0.75073,      0.7515,     0.74851,     0.75049,     0.75195,     0.75345,     0.75546,     0.75745,     0.75626,     0.75506,     0.75386,\n",
            "            0.75332,     0.75282,     0.75231,     0.75181,     0.75131,      0.7508,      0.7503,     0.74767,     0.74648,     0.74688,     0.74729,     0.74769,      0.7481,      0.7485,     0.74885,      0.7492,     0.74956,     0.74991,     0.75026,     0.75061,     0.75158,     0.75305,     0.75369,\n",
            "            0.75431,     0.75493,     0.75526,     0.75451,     0.75376,     0.75301,     0.75226,     0.75157,     0.75198,     0.75238,     0.75278,     0.75319,     0.75359,     0.75425,     0.75574,     0.75659,      0.7571,     0.75761,     0.75812,     0.75871,     0.76068,     0.75937,     0.75807,\n",
            "            0.75512,     0.74951,     0.75125,     0.75043,     0.74899,     0.74747,     0.74451,     0.74235,     0.74055,     0.73887,     0.73735,     0.73582,     0.73596,     0.73657,     0.73718,     0.73778,     0.73853,      0.7393,     0.74007,      0.7406,     0.74106,     0.74151,     0.74196,\n",
            "            0.74242,     0.74284,     0.74322,      0.7436,     0.74398,     0.74436,     0.74475,     0.74519,     0.74654,      0.7483,      0.7503,       0.751,      0.7517,      0.7524,     0.75136,     0.74948,     0.74792,      0.7471,     0.74921,     0.74974,     0.75027,      0.7508,     0.75133,\n",
            "            0.75179,     0.75211,     0.75243,     0.75276,     0.75308,      0.7534,     0.75372,     0.75404,     0.75216,     0.74955,     0.74862,     0.74769,     0.74676,     0.74582,     0.74748,     0.74579,      0.7441,     0.74398,     0.74055,     0.73766,     0.73376,      0.7362,     0.73646,\n",
            "            0.73673,       0.737,     0.73727,     0.73753,      0.7378,     0.73807,     0.73834,      0.7386,     0.73327,     0.73167,     0.73006,     0.73015,     0.73054,     0.73093,     0.73131,      0.7317,     0.73208,     0.73269,     0.73427,     0.73441,     0.73336,      0.7323,     0.73125,\n",
            "            0.73069,     0.73134,       0.732,     0.73265,     0.73235,     0.73005,     0.72825,     0.72735,     0.72646,     0.72556,     0.72466,     0.72374,     0.72279,     0.72183,     0.72088,     0.71992,     0.71462,     0.71041,     0.71115,     0.71188,     0.71261,     0.71206,     0.71126,\n",
            "            0.71047,     0.70967,     0.70887,     0.70807,     0.70302,     0.70164,     0.70026,     0.69888,     0.69497,     0.69312,     0.69229,     0.69147,     0.69064,     0.68981,     0.68899,     0.68926,     0.68968,      0.6901,     0.69052,     0.69094,     0.69136,     0.69233,     0.69344,\n",
            "            0.69371,     0.69302,     0.69232,     0.69163,     0.69094,     0.69024,     0.68955,     0.68398,     0.68288,     0.68178,     0.68068,     0.67958,     0.66997,     0.66956,     0.66996,     0.67037,     0.67078,     0.67118,     0.67158,     0.67128,     0.67045,     0.66961,     0.66878,\n",
            "            0.66794,     0.66711,     0.66158,      0.6623,     0.66302,     0.66374,     0.66478,     0.66614,     0.66718,     0.66803,     0.66887,     0.66487,     0.66253,     0.66082,     0.65911,     0.65941,     0.66011,     0.66081,     0.66101,     0.65784,     0.65512,     0.65295,     0.65078,\n",
            "            0.64969,      0.6486,      0.6475,     0.64641,     0.64532,      0.6443,     0.64327,     0.64225,     0.64122,     0.64019,     0.63866,       0.637,     0.63534,      0.6317,     0.63202,     0.63233,     0.63265,     0.63296,     0.63328,     0.63359,      0.6339,     0.63429,     0.63497,\n",
            "            0.63563,      0.6363,     0.63552,     0.63202,     0.63073,     0.63018,     0.62962,     0.62907,     0.62851,     0.62796,      0.6274,     0.62685,     0.62629,     0.62573,     0.62486,     0.62377,     0.62268,     0.62159,      0.6205,      0.6192,     0.61755,      0.6159,     0.61425,\n",
            "            0.61194,     0.60956,     0.60888,     0.60999,     0.61045,     0.60825,     0.60604,     0.60568,     0.60216,     0.59477,      0.5929,     0.59102,     0.58356,     0.58291,     0.58226,     0.58161,     0.58096,     0.58031,     0.57966,     0.57901,     0.57836,     0.57771,       0.578,\n",
            "             0.5785,       0.579,      0.5795,     0.57999,     0.57912,     0.57793,     0.57674,     0.57555,     0.57435,     0.57256,     0.57042,     0.56827,     0.56605,     0.56381,     0.56156,     0.56074,     0.56002,      0.5593,     0.55859,     0.55787,     0.55715,     0.55643,     0.55571,\n",
            "            0.55512,     0.55562,     0.55613,     0.55663,     0.55713,     0.55758,     0.55784,      0.5581,     0.55836,     0.55862,     0.55888,     0.55913,     0.55939,     0.55965,      0.5599,     0.55801,     0.55483,     0.55231,     0.55022,     0.54813,     0.54657,     0.54556,     0.54454,\n",
            "            0.54352,      0.5425,     0.54147,     0.54058,     0.54107,     0.54156,     0.54205,     0.54253,     0.54301,     0.54339,     0.54378,     0.54416,     0.54455,     0.54493,     0.54531,     0.54433,     0.54252,      0.5407,     0.53888,     0.53199,     0.53148,     0.53097,     0.53046,\n",
            "            0.52994,     0.52943,     0.52892,      0.5284,     0.52789,     0.52738,     0.52686,     0.52635,     0.52583,     0.52499,     0.51867,     0.52056,     0.51923,      0.5171,     0.51497,     0.51372,     0.51317,     0.51263,     0.51208,     0.51153,     0.51099,     0.51044,     0.50989,\n",
            "            0.50935,      0.5088,     0.50825,      0.5077,     0.50715,     0.50023,     0.49731,     0.49412,      0.4926,     0.49109,     0.48957,     0.48805,     0.48696,     0.48587,     0.48478,     0.48368,     0.48259,     0.48149,     0.48139,     0.48153,      0.4758,     0.47589,     0.47598,\n",
            "            0.47607,     0.47616,     0.47624,     0.47633,     0.47642,     0.47651,      0.4766,     0.47669,     0.47677,     0.47686,     0.47695,     0.47704,     0.47712,     0.47721,      0.4773,     0.47739,     0.47747,     0.47756,     0.47765,     0.47773,     0.47782,     0.47791,     0.47799,\n",
            "             0.4776,     0.47638,     0.47515,     0.47393,      0.4727,     0.47148,       0.468,     0.46265,     0.46181,     0.46096,      0.4601,     0.45925,      0.4584,     0.45755,     0.45669,     0.45584,     0.45472,     0.45338,     0.45205,     0.45071,     0.44936,     0.44802,     0.44071,\n",
            "            0.43899,     0.43789,     0.43679,     0.43569,     0.43458,     0.43348,     0.43237,      0.4224,     0.41986,      0.4173,     0.41473,     0.41213,     0.40952,     0.40351,     0.40007,     0.40018,     0.40029,     0.40039,      0.4005,     0.40061,     0.40071,     0.40082,     0.40093,\n",
            "            0.40103,     0.40114,     0.40125,     0.40135,     0.40146,     0.40156,     0.40167,     0.40177,     0.40188,     0.40198,     0.40214,     0.40249,     0.40282,     0.40316,      0.4035,     0.40383,      0.4041,     0.40293,     0.40177,     0.40061,     0.39944,     0.39827,      0.3971,\n",
            "            0.39593,     0.39526,     0.39464,     0.39402,      0.3934,     0.39277,     0.39215,     0.39153,      0.3909,     0.39028,     0.38965,     0.38902,      0.3884,     0.38777,     0.37811,     0.36495,     0.36082,     0.35905,     0.35727,     0.35549,     0.35371,     0.35096,     0.34746,\n",
            "            0.34403,     0.34279,     0.34154,     0.34028,     0.33903,     0.33777,     0.33652,     0.33526,      0.3275,     0.32207,     0.31722,     0.31391,     0.31067,     0.30753,     0.30545,     0.30336,     0.30127,     0.29918,     0.29064,     0.28303,     0.27846,     0.27656,     0.27465,\n",
            "            0.27274,     0.27082,      0.2648,     0.25624,     0.25011,     0.23803,     0.23352,     0.22908,     0.22499,     0.22087,     0.21909,      0.2183,      0.2175,     0.21671,     0.21591,     0.21511,     0.21431,     0.21351,     0.21271,     0.21191,     0.21111,     0.21031,      0.2095,\n",
            "            0.20802,     0.20631,     0.20459,     0.20287,     0.20114,     0.19942,     0.19174,     0.18082,      0.1735,     0.16775,     0.16449,      0.1618,     0.15911,      0.1564,     0.15319,     0.14979,     0.14637,     0.13927,     0.12115,     0.11923,     0.11732,      0.1154,     0.11347,\n",
            "            0.11155,    0.098523,    0.096526,    0.094525,     0.09252,     0.09051,    0.088496,    0.086427,    0.084189,    0.081945,    0.079696,    0.077441,    0.075181,    0.072495,    0.069764,    0.067026,     0.06428,    0.062023,    0.060267,    0.058508,    0.056745,     0.05498,    0.053211,\n",
            "           0.051439,    0.048651,    0.045012,    0.041358,    0.036783,    0.026703,    0.024716,    0.023682,    0.022647,    0.021611,    0.020574,    0.019536,    0.018497,    0.017456,    0.016415,    0.015372,    0.014328,    0.013284,           0,           0,           0,           0,           0,\n",
            "                  0,           0,           0,           0,           0,           0,           0,           0,           0,           0,           0,           0,           0,           0,           0,           0,           0,           0,           0,           0,           0,           0,           0,\n",
            "                  0,           0,           0,           0,           0,           0,           0,           0,           0,           0,           0,           0,           0,           0,           0,           0,           0,           0,           0,           0,           0,           0,           0,\n",
            "                  0,           0,           0,           0,           0,           0,           0,           0,           0,           0,           0]]), 'Confidence', 'F1'], [array([          0,    0.001001,    0.002002,    0.003003,    0.004004,    0.005005,    0.006006,    0.007007,    0.008008,    0.009009,     0.01001,    0.011011,    0.012012,    0.013013,    0.014014,    0.015015,    0.016016,    0.017017,    0.018018,    0.019019,     0.02002,    0.021021,    0.022022,    0.023023,\n",
            "          0.024024,    0.025025,    0.026026,    0.027027,    0.028028,    0.029029,     0.03003,    0.031031,    0.032032,    0.033033,    0.034034,    0.035035,    0.036036,    0.037037,    0.038038,    0.039039,     0.04004,    0.041041,    0.042042,    0.043043,    0.044044,    0.045045,    0.046046,    0.047047,\n",
            "          0.048048,    0.049049,     0.05005,    0.051051,    0.052052,    0.053053,    0.054054,    0.055055,    0.056056,    0.057057,    0.058058,    0.059059,     0.06006,    0.061061,    0.062062,    0.063063,    0.064064,    0.065065,    0.066066,    0.067067,    0.068068,    0.069069,     0.07007,    0.071071,\n",
            "          0.072072,    0.073073,    0.074074,    0.075075,    0.076076,    0.077077,    0.078078,    0.079079,     0.08008,    0.081081,    0.082082,    0.083083,    0.084084,    0.085085,    0.086086,    0.087087,    0.088088,    0.089089,     0.09009,    0.091091,    0.092092,    0.093093,    0.094094,    0.095095,\n",
            "          0.096096,    0.097097,    0.098098,    0.099099,      0.1001,      0.1011,      0.1021,      0.1031,      0.1041,     0.10511,     0.10611,     0.10711,     0.10811,     0.10911,     0.11011,     0.11111,     0.11211,     0.11311,     0.11411,     0.11512,     0.11612,     0.11712,     0.11812,     0.11912,\n",
            "           0.12012,     0.12112,     0.12212,     0.12312,     0.12412,     0.12513,     0.12613,     0.12713,     0.12813,     0.12913,     0.13013,     0.13113,     0.13213,     0.13313,     0.13413,     0.13514,     0.13614,     0.13714,     0.13814,     0.13914,     0.14014,     0.14114,     0.14214,     0.14314,\n",
            "           0.14414,     0.14515,     0.14615,     0.14715,     0.14815,     0.14915,     0.15015,     0.15115,     0.15215,     0.15315,     0.15415,     0.15516,     0.15616,     0.15716,     0.15816,     0.15916,     0.16016,     0.16116,     0.16216,     0.16316,     0.16416,     0.16517,     0.16617,     0.16717,\n",
            "           0.16817,     0.16917,     0.17017,     0.17117,     0.17217,     0.17317,     0.17417,     0.17518,     0.17618,     0.17718,     0.17818,     0.17918,     0.18018,     0.18118,     0.18218,     0.18318,     0.18418,     0.18519,     0.18619,     0.18719,     0.18819,     0.18919,     0.19019,     0.19119,\n",
            "           0.19219,     0.19319,     0.19419,      0.1952,      0.1962,      0.1972,      0.1982,      0.1992,      0.2002,      0.2012,      0.2022,      0.2032,      0.2042,     0.20521,     0.20621,     0.20721,     0.20821,     0.20921,     0.21021,     0.21121,     0.21221,     0.21321,     0.21421,     0.21522,\n",
            "           0.21622,     0.21722,     0.21822,     0.21922,     0.22022,     0.22122,     0.22222,     0.22322,     0.22422,     0.22523,     0.22623,     0.22723,     0.22823,     0.22923,     0.23023,     0.23123,     0.23223,     0.23323,     0.23423,     0.23524,     0.23624,     0.23724,     0.23824,     0.23924,\n",
            "           0.24024,     0.24124,     0.24224,     0.24324,     0.24424,     0.24525,     0.24625,     0.24725,     0.24825,     0.24925,     0.25025,     0.25125,     0.25225,     0.25325,     0.25425,     0.25526,     0.25626,     0.25726,     0.25826,     0.25926,     0.26026,     0.26126,     0.26226,     0.26326,\n",
            "           0.26426,     0.26527,     0.26627,     0.26727,     0.26827,     0.26927,     0.27027,     0.27127,     0.27227,     0.27327,     0.27427,     0.27528,     0.27628,     0.27728,     0.27828,     0.27928,     0.28028,     0.28128,     0.28228,     0.28328,     0.28428,     0.28529,     0.28629,     0.28729,\n",
            "           0.28829,     0.28929,     0.29029,     0.29129,     0.29229,     0.29329,     0.29429,      0.2953,      0.2963,      0.2973,      0.2983,      0.2993,      0.3003,      0.3013,      0.3023,      0.3033,      0.3043,     0.30531,     0.30631,     0.30731,     0.30831,     0.30931,     0.31031,     0.31131,\n",
            "           0.31231,     0.31331,     0.31431,     0.31532,     0.31632,     0.31732,     0.31832,     0.31932,     0.32032,     0.32132,     0.32232,     0.32332,     0.32432,     0.32533,     0.32633,     0.32733,     0.32833,     0.32933,     0.33033,     0.33133,     0.33233,     0.33333,     0.33433,     0.33534,\n",
            "           0.33634,     0.33734,     0.33834,     0.33934,     0.34034,     0.34134,     0.34234,     0.34334,     0.34434,     0.34535,     0.34635,     0.34735,     0.34835,     0.34935,     0.35035,     0.35135,     0.35235,     0.35335,     0.35435,     0.35536,     0.35636,     0.35736,     0.35836,     0.35936,\n",
            "           0.36036,     0.36136,     0.36236,     0.36336,     0.36436,     0.36537,     0.36637,     0.36737,     0.36837,     0.36937,     0.37037,     0.37137,     0.37237,     0.37337,     0.37437,     0.37538,     0.37638,     0.37738,     0.37838,     0.37938,     0.38038,     0.38138,     0.38238,     0.38338,\n",
            "           0.38438,     0.38539,     0.38639,     0.38739,     0.38839,     0.38939,     0.39039,     0.39139,     0.39239,     0.39339,     0.39439,      0.3954,      0.3964,      0.3974,      0.3984,      0.3994,      0.4004,      0.4014,      0.4024,      0.4034,      0.4044,     0.40541,     0.40641,     0.40741,\n",
            "           0.40841,     0.40941,     0.41041,     0.41141,     0.41241,     0.41341,     0.41441,     0.41542,     0.41642,     0.41742,     0.41842,     0.41942,     0.42042,     0.42142,     0.42242,     0.42342,     0.42442,     0.42543,     0.42643,     0.42743,     0.42843,     0.42943,     0.43043,     0.43143,\n",
            "           0.43243,     0.43343,     0.43443,     0.43544,     0.43644,     0.43744,     0.43844,     0.43944,     0.44044,     0.44144,     0.44244,     0.44344,     0.44444,     0.44545,     0.44645,     0.44745,     0.44845,     0.44945,     0.45045,     0.45145,     0.45245,     0.45345,     0.45445,     0.45546,\n",
            "           0.45646,     0.45746,     0.45846,     0.45946,     0.46046,     0.46146,     0.46246,     0.46346,     0.46446,     0.46547,     0.46647,     0.46747,     0.46847,     0.46947,     0.47047,     0.47147,     0.47247,     0.47347,     0.47447,     0.47548,     0.47648,     0.47748,     0.47848,     0.47948,\n",
            "           0.48048,     0.48148,     0.48248,     0.48348,     0.48448,     0.48549,     0.48649,     0.48749,     0.48849,     0.48949,     0.49049,     0.49149,     0.49249,     0.49349,     0.49449,      0.4955,      0.4965,      0.4975,      0.4985,      0.4995,      0.5005,      0.5015,      0.5025,      0.5035,\n",
            "            0.5045,     0.50551,     0.50651,     0.50751,     0.50851,     0.50951,     0.51051,     0.51151,     0.51251,     0.51351,     0.51451,     0.51552,     0.51652,     0.51752,     0.51852,     0.51952,     0.52052,     0.52152,     0.52252,     0.52352,     0.52452,     0.52553,     0.52653,     0.52753,\n",
            "           0.52853,     0.52953,     0.53053,     0.53153,     0.53253,     0.53353,     0.53453,     0.53554,     0.53654,     0.53754,     0.53854,     0.53954,     0.54054,     0.54154,     0.54254,     0.54354,     0.54454,     0.54555,     0.54655,     0.54755,     0.54855,     0.54955,     0.55055,     0.55155,\n",
            "           0.55255,     0.55355,     0.55455,     0.55556,     0.55656,     0.55756,     0.55856,     0.55956,     0.56056,     0.56156,     0.56256,     0.56356,     0.56456,     0.56557,     0.56657,     0.56757,     0.56857,     0.56957,     0.57057,     0.57157,     0.57257,     0.57357,     0.57457,     0.57558,\n",
            "           0.57658,     0.57758,     0.57858,     0.57958,     0.58058,     0.58158,     0.58258,     0.58358,     0.58458,     0.58559,     0.58659,     0.58759,     0.58859,     0.58959,     0.59059,     0.59159,     0.59259,     0.59359,     0.59459,      0.5956,      0.5966,      0.5976,      0.5986,      0.5996,\n",
            "            0.6006,      0.6016,      0.6026,      0.6036,      0.6046,     0.60561,     0.60661,     0.60761,     0.60861,     0.60961,     0.61061,     0.61161,     0.61261,     0.61361,     0.61461,     0.61562,     0.61662,     0.61762,     0.61862,     0.61962,     0.62062,     0.62162,     0.62262,     0.62362,\n",
            "           0.62462,     0.62563,     0.62663,     0.62763,     0.62863,     0.62963,     0.63063,     0.63163,     0.63263,     0.63363,     0.63463,     0.63564,     0.63664,     0.63764,     0.63864,     0.63964,     0.64064,     0.64164,     0.64264,     0.64364,     0.64464,     0.64565,     0.64665,     0.64765,\n",
            "           0.64865,     0.64965,     0.65065,     0.65165,     0.65265,     0.65365,     0.65465,     0.65566,     0.65666,     0.65766,     0.65866,     0.65966,     0.66066,     0.66166,     0.66266,     0.66366,     0.66466,     0.66567,     0.66667,     0.66767,     0.66867,     0.66967,     0.67067,     0.67167,\n",
            "           0.67267,     0.67367,     0.67467,     0.67568,     0.67668,     0.67768,     0.67868,     0.67968,     0.68068,     0.68168,     0.68268,     0.68368,     0.68468,     0.68569,     0.68669,     0.68769,     0.68869,     0.68969,     0.69069,     0.69169,     0.69269,     0.69369,     0.69469,      0.6957,\n",
            "            0.6967,      0.6977,      0.6987,      0.6997,      0.7007,      0.7017,      0.7027,      0.7037,      0.7047,     0.70571,     0.70671,     0.70771,     0.70871,     0.70971,     0.71071,     0.71171,     0.71271,     0.71371,     0.71471,     0.71572,     0.71672,     0.71772,     0.71872,     0.71972,\n",
            "           0.72072,     0.72172,     0.72272,     0.72372,     0.72472,     0.72573,     0.72673,     0.72773,     0.72873,     0.72973,     0.73073,     0.73173,     0.73273,     0.73373,     0.73473,     0.73574,     0.73674,     0.73774,     0.73874,     0.73974,     0.74074,     0.74174,     0.74274,     0.74374,\n",
            "           0.74474,     0.74575,     0.74675,     0.74775,     0.74875,     0.74975,     0.75075,     0.75175,     0.75275,     0.75375,     0.75475,     0.75576,     0.75676,     0.75776,     0.75876,     0.75976,     0.76076,     0.76176,     0.76276,     0.76376,     0.76476,     0.76577,     0.76677,     0.76777,\n",
            "           0.76877,     0.76977,     0.77077,     0.77177,     0.77277,     0.77377,     0.77477,     0.77578,     0.77678,     0.77778,     0.77878,     0.77978,     0.78078,     0.78178,     0.78278,     0.78378,     0.78478,     0.78579,     0.78679,     0.78779,     0.78879,     0.78979,     0.79079,     0.79179,\n",
            "           0.79279,     0.79379,     0.79479,      0.7958,      0.7968,      0.7978,      0.7988,      0.7998,      0.8008,      0.8018,      0.8028,      0.8038,      0.8048,     0.80581,     0.80681,     0.80781,     0.80881,     0.80981,     0.81081,     0.81181,     0.81281,     0.81381,     0.81481,     0.81582,\n",
            "           0.81682,     0.81782,     0.81882,     0.81982,     0.82082,     0.82182,     0.82282,     0.82382,     0.82482,     0.82583,     0.82683,     0.82783,     0.82883,     0.82983,     0.83083,     0.83183,     0.83283,     0.83383,     0.83483,     0.83584,     0.83684,     0.83784,     0.83884,     0.83984,\n",
            "           0.84084,     0.84184,     0.84284,     0.84384,     0.84484,     0.84585,     0.84685,     0.84785,     0.84885,     0.84985,     0.85085,     0.85185,     0.85285,     0.85385,     0.85485,     0.85586,     0.85686,     0.85786,     0.85886,     0.85986,     0.86086,     0.86186,     0.86286,     0.86386,\n",
            "           0.86486,     0.86587,     0.86687,     0.86787,     0.86887,     0.86987,     0.87087,     0.87187,     0.87287,     0.87387,     0.87487,     0.87588,     0.87688,     0.87788,     0.87888,     0.87988,     0.88088,     0.88188,     0.88288,     0.88388,     0.88488,     0.88589,     0.88689,     0.88789,\n",
            "           0.88889,     0.88989,     0.89089,     0.89189,     0.89289,     0.89389,     0.89489,      0.8959,      0.8969,      0.8979,      0.8989,      0.8999,      0.9009,      0.9019,      0.9029,      0.9039,      0.9049,     0.90591,     0.90691,     0.90791,     0.90891,     0.90991,     0.91091,     0.91191,\n",
            "           0.91291,     0.91391,     0.91491,     0.91592,     0.91692,     0.91792,     0.91892,     0.91992,     0.92092,     0.92192,     0.92292,     0.92392,     0.92492,     0.92593,     0.92693,     0.92793,     0.92893,     0.92993,     0.93093,     0.93193,     0.93293,     0.93393,     0.93493,     0.93594,\n",
            "           0.93694,     0.93794,     0.93894,     0.93994,     0.94094,     0.94194,     0.94294,     0.94394,     0.94494,     0.94595,     0.94695,     0.94795,     0.94895,     0.94995,     0.95095,     0.95195,     0.95295,     0.95395,     0.95495,     0.95596,     0.95696,     0.95796,     0.95896,     0.95996,\n",
            "           0.96096,     0.96196,     0.96296,     0.96396,     0.96496,     0.96597,     0.96697,     0.96797,     0.96897,     0.96997,     0.97097,     0.97197,     0.97297,     0.97397,     0.97497,     0.97598,     0.97698,     0.97798,     0.97898,     0.97998,     0.98098,     0.98198,     0.98298,     0.98398,\n",
            "           0.98498,     0.98599,     0.98699,     0.98799,     0.98899,     0.98999,     0.99099,     0.99199,     0.99299,     0.99399,     0.99499,       0.996,       0.997,       0.998,       0.999,           1]), array([[      0.102,       0.102,       0.102,     0.10229,     0.10826,      0.1171,     0.12747,     0.13785,     0.14943,     0.15772,     0.16588,      0.1737,     0.18023,     0.18838,      0.1953,       0.201,     0.20569,     0.21373,     0.21883,     0.22299,     0.22872,     0.23377,      0.2364,\n",
            "            0.24041,     0.24347,     0.24826,     0.25161,     0.25505,     0.25842,     0.26156,     0.26364,     0.26675,     0.26929,     0.27502,      0.2799,     0.28439,     0.28847,     0.29172,     0.29614,     0.29983,     0.30427,     0.30758,     0.31054,     0.31206,     0.31575,     0.32144,\n",
            "            0.32453,      0.3253,     0.32868,     0.33115,     0.33442,     0.33938,     0.34242,     0.34596,     0.34679,     0.34972,     0.35523,     0.35937,     0.36318,     0.36489,     0.36884,      0.3726,     0.37467,     0.37704,     0.37959,     0.38415,     0.38744,     0.39423,     0.39725,\n",
            "            0.40035,     0.40279,     0.40481,     0.40574,     0.40869,     0.41086,     0.41332,     0.41411,     0.41838,     0.42103,     0.42485,     0.42927,     0.43192,     0.43328,     0.43553,     0.43715,     0.44248,     0.44452,     0.44502,     0.44574,     0.44731,     0.44803,     0.45014,\n",
            "            0.44929,     0.45153,     0.45329,     0.45607,      0.4592,     0.46246,     0.46323,     0.46708,     0.47055,     0.47189,     0.47259,     0.47491,     0.47696,     0.48093,     0.48291,     0.48559,     0.48716,     0.48988,     0.49089,     0.49473,     0.49686,     0.49994,     0.49949,\n",
            "            0.49896,     0.49842,     0.49847,     0.49893,     0.49938,     0.49983,     0.50036,     0.50093,     0.50151,     0.50227,      0.5032,      0.5075,     0.50863,     0.50739,     0.50913,     0.50987,     0.50967,     0.51024,     0.51082,     0.51133,     0.51173,     0.51212,     0.51251,\n",
            "            0.51291,     0.51339,     0.51396,     0.51454,     0.51534,      0.5178,      0.5206,     0.52003,     0.51947,     0.52232,     0.53193,     0.53338,     0.53812,     0.53989,     0.54055,     0.54122,      0.5435,     0.54366,     0.54571,     0.54708,     0.54791,     0.54874,      0.5484,\n",
            "            0.54799,     0.54759,     0.54719,     0.54829,     0.54997,     0.55103,     0.55237,      0.5561,     0.56231,     0.56132,     0.56255,     0.56601,      0.5682,     0.57204,     0.57373,     0.57666,       0.579,     0.57992,     0.58233,     0.58455,     0.58583,     0.58735,      0.5894,\n",
            "            0.59205,     0.59272,     0.59339,     0.59406,      0.5947,      0.5952,     0.59571,     0.59622,     0.59672,     0.59723,     0.59598,     0.59838,     0.60009,     0.60237,     0.60439,      0.6057,     0.61032,     0.61199,     0.61174,     0.61148,     0.61122,     0.61096,      0.6107,\n",
            "            0.61044,     0.61153,     0.61798,     0.61958,     0.62013,     0.62069,     0.62125,     0.62181,     0.62258,     0.62346,     0.62435,     0.62541,     0.62696,     0.63129,     0.63296,     0.63558,     0.64074,      0.6426,     0.64516,     0.64581,     0.64645,      0.6471,     0.64775,\n",
            "            0.64839,     0.64903,     0.64966,      0.6503,     0.65094,      0.6516,      0.6526,      0.6536,      0.6546,     0.65561,     0.65663,     0.65764,     0.65858,     0.65943,     0.66028,     0.66114,     0.66262,     0.66467,     0.66626,     0.66778,     0.67002,     0.67182,     0.67164,\n",
            "            0.67147,     0.67129,     0.67111,     0.67094,     0.67076,     0.67058,     0.67041,     0.67023,     0.67187,     0.67727,     0.67874,     0.68021,     0.68168,     0.68315,     0.68444,     0.68388,     0.68332,     0.68278,     0.68262,     0.68245,     0.68228,     0.68212,     0.68195,\n",
            "            0.68178,     0.68162,     0.68145,     0.68128,     0.68112,     0.68192,     0.68299,     0.68405,     0.68859,      0.6898,     0.69101,     0.69223,     0.69355,     0.69487,     0.69446,     0.69788,      0.7004,     0.70302,     0.70651,     0.71017,     0.70965,     0.70912,      0.7086,\n",
            "            0.70836,     0.70814,     0.70792,     0.70769,     0.70747,     0.70725,     0.70703,     0.70586,     0.70574,     0.70646,     0.70719,     0.70791,     0.70864,     0.70936,     0.70999,     0.71063,     0.71126,      0.7119,     0.71253,     0.71317,     0.71492,     0.71757,     0.71875,\n",
            "            0.71988,     0.72101,     0.72182,      0.7215,     0.72118,     0.72086,     0.72054,     0.72028,     0.72102,     0.72176,      0.7225,     0.72324,     0.72399,     0.72521,     0.72797,     0.72954,      0.7305,     0.73145,     0.73241,      0.7335,     0.73767,     0.73713,      0.7366,\n",
            "            0.73538,     0.73349,     0.73683,     0.73702,     0.73642,     0.73579,     0.73456,     0.73366,      0.7329,      0.7322,     0.73155,     0.73091,     0.73171,     0.73291,     0.73412,     0.73532,     0.73681,     0.73834,     0.73988,     0.74094,     0.74186,     0.74277,     0.74368,\n",
            "            0.74459,     0.74544,     0.74621,     0.74698,     0.74775,     0.74852,     0.74929,     0.75019,     0.75294,     0.75652,     0.76061,     0.76205,      0.7635,     0.76494,     0.76891,     0.76819,      0.7676,     0.76804,     0.77251,     0.77364,     0.77477,      0.7759,     0.77703,\n",
            "            0.77802,     0.77871,      0.7794,     0.78009,     0.78078,     0.78148,     0.78217,     0.78286,     0.78247,     0.78152,     0.78118,     0.78084,      0.7805,     0.78016,     0.78542,     0.78481,      0.7842,     0.78893,      0.7877,     0.78667,     0.78526,     0.79124,     0.79186,\n",
            "            0.79248,      0.7931,     0.79372,     0.79434,     0.79496,     0.79558,      0.7962,     0.79682,      0.7951,     0.79454,     0.79398,     0.79467,     0.79559,     0.79651,     0.79742,     0.79834,     0.79926,     0.80072,     0.80448,     0.80601,     0.80565,      0.8053,     0.80494,\n",
            "            0.80515,     0.80675,     0.80834,     0.80994,     0.81078,     0.81001,     0.80942,     0.80912,     0.80882,     0.80852,     0.80822,     0.80791,     0.80759,     0.80726,     0.80694,     0.80662,     0.80481,     0.80397,     0.80585,     0.80774,     0.80962,     0.80969,     0.80942,\n",
            "            0.80915,     0.80889,     0.80862,     0.80835,     0.80663,     0.80615,     0.80568,     0.80521,     0.80385,      0.8032,     0.80292,     0.80263,     0.80234,     0.80205,     0.80176,     0.80273,     0.80388,     0.80502,     0.80617,     0.80731,     0.80846,      0.8111,     0.81415,\n",
            "            0.81568,     0.81545,     0.81522,     0.81499,     0.81476,     0.81453,     0.81429,     0.81242,     0.81205,     0.81167,      0.8113,     0.81092,     0.80761,     0.80838,     0.80957,     0.81075,     0.81194,     0.81312,     0.81431,     0.81465,     0.81437,     0.81409,      0.8138,\n",
            "            0.81352,     0.81323,     0.81145,     0.81362,     0.81579,     0.81797,     0.82114,     0.82529,     0.82851,     0.83112,     0.83373,     0.83358,     0.83285,     0.83231,     0.83177,     0.83355,      0.8358,     0.83804,     0.83988,     0.83891,     0.83807,      0.8374,     0.83673,\n",
            "            0.83639,     0.83605,      0.8357,     0.83536,     0.83502,      0.8347,     0.83437,     0.83404,     0.83372,     0.83339,      0.8329,     0.83237,     0.83184,     0.83915,     0.84026,     0.84138,     0.84249,     0.84361,     0.84472,     0.84584,     0.84696,     0.84836,     0.85076,\n",
            "            0.85317,     0.85557,      0.8568,      0.8558,     0.85544,     0.85528,     0.85512,     0.85496,      0.8548,     0.85464,     0.85448,     0.85432,     0.85416,       0.854,     0.85374,     0.85342,      0.8531,     0.85279,     0.85247,     0.85208,     0.85159,     0.85111,     0.85062,\n",
            "            0.84992,     0.84921,     0.85096,     0.85532,      0.8587,     0.85806,     0.85743,     0.86694,     0.86598,     0.86392,     0.86339,     0.86286,     0.86072,     0.86053,     0.86034,     0.86015,     0.85996,     0.85977,     0.85958,     0.85939,      0.8592,     0.85901,     0.86079,\n",
            "            0.86302,     0.86525,     0.86748,     0.86971,     0.86986,     0.86953,      0.8692,     0.86887,     0.86854,     0.86804,     0.86743,     0.86683,      0.8662,     0.86555,     0.86491,     0.86467,     0.86446,     0.86425,     0.86404,     0.86383,     0.86362,     0.86341,      0.8632,\n",
            "            0.86327,     0.86572,     0.86817,     0.87062,     0.87308,     0.87528,     0.87656,     0.87785,     0.87913,     0.88042,      0.8817,     0.88299,     0.88427,     0.88556,     0.88685,     0.88682,     0.88603,     0.88539,     0.88486,     0.88432,     0.88392,     0.88366,     0.88339,\n",
            "            0.88313,     0.88286,     0.88259,     0.88259,      0.8852,     0.88782,     0.89043,     0.89304,     0.89563,     0.89774,     0.89985,     0.90196,     0.90407,     0.90618,     0.90829,     0.90885,     0.90847,     0.90809,     0.90771,     0.90622,     0.90611,       0.906,     0.90588,\n",
            "            0.90577,     0.90566,     0.90555,     0.90543,     0.90532,     0.90521,     0.90509,     0.90498,     0.90487,     0.90468,     0.90418,     0.91572,      0.9177,     0.91727,     0.91685,     0.91661,     0.91649,     0.91638,     0.91627,     0.91616,     0.91605,     0.91594,     0.91583,\n",
            "            0.91572,     0.91561,      0.9155,     0.91539,     0.91528,     0.91384,     0.92893,     0.92837,      0.9281,     0.92782,     0.92755,     0.92728,     0.92707,     0.92687,     0.92667,     0.92646,     0.92626,     0.92606,     0.93055,     0.94316,     0.94287,     0.94357,     0.94427,\n",
            "            0.94497,     0.94567,     0.94637,     0.94707,     0.94777,     0.94846,     0.94916,     0.94986,     0.95056,     0.95126,     0.95196,     0.95266,     0.95336,     0.95405,     0.95475,     0.95545,     0.95615,     0.95685,     0.95755,     0.95825,     0.95895,     0.95964,     0.96034,\n",
            "            0.96074,     0.96061,     0.96048,     0.96035,     0.96022,     0.96009,     0.95972,     0.95914,     0.95904,     0.95895,     0.95885,     0.95876,     0.95866,     0.95857,     0.95847,     0.95838,     0.95825,     0.95809,     0.95794,     0.95779,     0.95763,     0.95748,     0.95661,\n",
            "             0.9564,     0.95626,     0.95612,     0.95599,     0.95585,     0.95572,     0.95558,      0.9543,     0.95396,     0.95363,     0.95328,     0.95292,     0.95257,     0.95172,       0.952,     0.95323,     0.95445,     0.95568,     0.95691,     0.95813,     0.95936,     0.96058,     0.96181,\n",
            "            0.96304,     0.96426,     0.96549,     0.96671,     0.96794,     0.96916,     0.97039,     0.97162,     0.97284,     0.97407,     0.97597,        0.98,     0.98403,     0.98807,      0.9921,     0.99614,           1,           1,           1,           1,           1,           1,           1,\n",
            "                  1,           1,           1,           1,           1,           1,           1,           1,           1,           1,           1,           1,           1,           1,           1,           1,           1,           1,           1,           1,           1,           1,           1,\n",
            "                  1,           1,           1,           1,           1,           1,           1,           1,           1,           1,           1,           1,           1,           1,           1,           1,           1,           1,           1,           1,           1,           1,           1,\n",
            "                  1,           1,           1,           1,           1,           1,           1,           1,           1,           1,           1,           1,           1,           1,           1,           1,           1,           1,           1,           1,           1,           1,           1,\n",
            "                  1,           1,           1,           1,           1,           1,           1,           1,           1,           1,           1,           1,           1,           1,           1,           1,           1,           1,           1,           1,           1,           1,           1,\n",
            "                  1,           1,           1,           1,           1,           1,           1,           1,           1,           1,           1,           1,           1,           1,           1,           1,           1,           1,           1,           1,           1,           1,           1,\n",
            "                  1,           1,           1,           1,           1,           1,           1,           1,           1,           1,           1,           1,           1,           1,           1,           1,           1,           1,           1,           1,           1,           1,           1,\n",
            "                  1,           1,           1,           1,           1,           1,           1,           1,           1,           1,           1,           1,           1,           1,           1,           1,           1,           1,           1,           1,           1,           1,           1,\n",
            "                  1,           1,           1,           1,           1,           1,           1,           1,           1,           1,           1,           1,           1,           1,           1,           1,           1,           1,           1,           1,           1,           1,           1,\n",
            "                  1,           1,           1,           1,           1,           1,           1,           1,           1,           1,           1]]), 'Confidence', 'Precision'], [array([          0,    0.001001,    0.002002,    0.003003,    0.004004,    0.005005,    0.006006,    0.007007,    0.008008,    0.009009,     0.01001,    0.011011,    0.012012,    0.013013,    0.014014,    0.015015,    0.016016,    0.017017,    0.018018,    0.019019,     0.02002,    0.021021,    0.022022,    0.023023,\n",
            "          0.024024,    0.025025,    0.026026,    0.027027,    0.028028,    0.029029,     0.03003,    0.031031,    0.032032,    0.033033,    0.034034,    0.035035,    0.036036,    0.037037,    0.038038,    0.039039,     0.04004,    0.041041,    0.042042,    0.043043,    0.044044,    0.045045,    0.046046,    0.047047,\n",
            "          0.048048,    0.049049,     0.05005,    0.051051,    0.052052,    0.053053,    0.054054,    0.055055,    0.056056,    0.057057,    0.058058,    0.059059,     0.06006,    0.061061,    0.062062,    0.063063,    0.064064,    0.065065,    0.066066,    0.067067,    0.068068,    0.069069,     0.07007,    0.071071,\n",
            "          0.072072,    0.073073,    0.074074,    0.075075,    0.076076,    0.077077,    0.078078,    0.079079,     0.08008,    0.081081,    0.082082,    0.083083,    0.084084,    0.085085,    0.086086,    0.087087,    0.088088,    0.089089,     0.09009,    0.091091,    0.092092,    0.093093,    0.094094,    0.095095,\n",
            "          0.096096,    0.097097,    0.098098,    0.099099,      0.1001,      0.1011,      0.1021,      0.1031,      0.1041,     0.10511,     0.10611,     0.10711,     0.10811,     0.10911,     0.11011,     0.11111,     0.11211,     0.11311,     0.11411,     0.11512,     0.11612,     0.11712,     0.11812,     0.11912,\n",
            "           0.12012,     0.12112,     0.12212,     0.12312,     0.12412,     0.12513,     0.12613,     0.12713,     0.12813,     0.12913,     0.13013,     0.13113,     0.13213,     0.13313,     0.13413,     0.13514,     0.13614,     0.13714,     0.13814,     0.13914,     0.14014,     0.14114,     0.14214,     0.14314,\n",
            "           0.14414,     0.14515,     0.14615,     0.14715,     0.14815,     0.14915,     0.15015,     0.15115,     0.15215,     0.15315,     0.15415,     0.15516,     0.15616,     0.15716,     0.15816,     0.15916,     0.16016,     0.16116,     0.16216,     0.16316,     0.16416,     0.16517,     0.16617,     0.16717,\n",
            "           0.16817,     0.16917,     0.17017,     0.17117,     0.17217,     0.17317,     0.17417,     0.17518,     0.17618,     0.17718,     0.17818,     0.17918,     0.18018,     0.18118,     0.18218,     0.18318,     0.18418,     0.18519,     0.18619,     0.18719,     0.18819,     0.18919,     0.19019,     0.19119,\n",
            "           0.19219,     0.19319,     0.19419,      0.1952,      0.1962,      0.1972,      0.1982,      0.1992,      0.2002,      0.2012,      0.2022,      0.2032,      0.2042,     0.20521,     0.20621,     0.20721,     0.20821,     0.20921,     0.21021,     0.21121,     0.21221,     0.21321,     0.21421,     0.21522,\n",
            "           0.21622,     0.21722,     0.21822,     0.21922,     0.22022,     0.22122,     0.22222,     0.22322,     0.22422,     0.22523,     0.22623,     0.22723,     0.22823,     0.22923,     0.23023,     0.23123,     0.23223,     0.23323,     0.23423,     0.23524,     0.23624,     0.23724,     0.23824,     0.23924,\n",
            "           0.24024,     0.24124,     0.24224,     0.24324,     0.24424,     0.24525,     0.24625,     0.24725,     0.24825,     0.24925,     0.25025,     0.25125,     0.25225,     0.25325,     0.25425,     0.25526,     0.25626,     0.25726,     0.25826,     0.25926,     0.26026,     0.26126,     0.26226,     0.26326,\n",
            "           0.26426,     0.26527,     0.26627,     0.26727,     0.26827,     0.26927,     0.27027,     0.27127,     0.27227,     0.27327,     0.27427,     0.27528,     0.27628,     0.27728,     0.27828,     0.27928,     0.28028,     0.28128,     0.28228,     0.28328,     0.28428,     0.28529,     0.28629,     0.28729,\n",
            "           0.28829,     0.28929,     0.29029,     0.29129,     0.29229,     0.29329,     0.29429,      0.2953,      0.2963,      0.2973,      0.2983,      0.2993,      0.3003,      0.3013,      0.3023,      0.3033,      0.3043,     0.30531,     0.30631,     0.30731,     0.30831,     0.30931,     0.31031,     0.31131,\n",
            "           0.31231,     0.31331,     0.31431,     0.31532,     0.31632,     0.31732,     0.31832,     0.31932,     0.32032,     0.32132,     0.32232,     0.32332,     0.32432,     0.32533,     0.32633,     0.32733,     0.32833,     0.32933,     0.33033,     0.33133,     0.33233,     0.33333,     0.33433,     0.33534,\n",
            "           0.33634,     0.33734,     0.33834,     0.33934,     0.34034,     0.34134,     0.34234,     0.34334,     0.34434,     0.34535,     0.34635,     0.34735,     0.34835,     0.34935,     0.35035,     0.35135,     0.35235,     0.35335,     0.35435,     0.35536,     0.35636,     0.35736,     0.35836,     0.35936,\n",
            "           0.36036,     0.36136,     0.36236,     0.36336,     0.36436,     0.36537,     0.36637,     0.36737,     0.36837,     0.36937,     0.37037,     0.37137,     0.37237,     0.37337,     0.37437,     0.37538,     0.37638,     0.37738,     0.37838,     0.37938,     0.38038,     0.38138,     0.38238,     0.38338,\n",
            "           0.38438,     0.38539,     0.38639,     0.38739,     0.38839,     0.38939,     0.39039,     0.39139,     0.39239,     0.39339,     0.39439,      0.3954,      0.3964,      0.3974,      0.3984,      0.3994,      0.4004,      0.4014,      0.4024,      0.4034,      0.4044,     0.40541,     0.40641,     0.40741,\n",
            "           0.40841,     0.40941,     0.41041,     0.41141,     0.41241,     0.41341,     0.41441,     0.41542,     0.41642,     0.41742,     0.41842,     0.41942,     0.42042,     0.42142,     0.42242,     0.42342,     0.42442,     0.42543,     0.42643,     0.42743,     0.42843,     0.42943,     0.43043,     0.43143,\n",
            "           0.43243,     0.43343,     0.43443,     0.43544,     0.43644,     0.43744,     0.43844,     0.43944,     0.44044,     0.44144,     0.44244,     0.44344,     0.44444,     0.44545,     0.44645,     0.44745,     0.44845,     0.44945,     0.45045,     0.45145,     0.45245,     0.45345,     0.45445,     0.45546,\n",
            "           0.45646,     0.45746,     0.45846,     0.45946,     0.46046,     0.46146,     0.46246,     0.46346,     0.46446,     0.46547,     0.46647,     0.46747,     0.46847,     0.46947,     0.47047,     0.47147,     0.47247,     0.47347,     0.47447,     0.47548,     0.47648,     0.47748,     0.47848,     0.47948,\n",
            "           0.48048,     0.48148,     0.48248,     0.48348,     0.48448,     0.48549,     0.48649,     0.48749,     0.48849,     0.48949,     0.49049,     0.49149,     0.49249,     0.49349,     0.49449,      0.4955,      0.4965,      0.4975,      0.4985,      0.4995,      0.5005,      0.5015,      0.5025,      0.5035,\n",
            "            0.5045,     0.50551,     0.50651,     0.50751,     0.50851,     0.50951,     0.51051,     0.51151,     0.51251,     0.51351,     0.51451,     0.51552,     0.51652,     0.51752,     0.51852,     0.51952,     0.52052,     0.52152,     0.52252,     0.52352,     0.52452,     0.52553,     0.52653,     0.52753,\n",
            "           0.52853,     0.52953,     0.53053,     0.53153,     0.53253,     0.53353,     0.53453,     0.53554,     0.53654,     0.53754,     0.53854,     0.53954,     0.54054,     0.54154,     0.54254,     0.54354,     0.54454,     0.54555,     0.54655,     0.54755,     0.54855,     0.54955,     0.55055,     0.55155,\n",
            "           0.55255,     0.55355,     0.55455,     0.55556,     0.55656,     0.55756,     0.55856,     0.55956,     0.56056,     0.56156,     0.56256,     0.56356,     0.56456,     0.56557,     0.56657,     0.56757,     0.56857,     0.56957,     0.57057,     0.57157,     0.57257,     0.57357,     0.57457,     0.57558,\n",
            "           0.57658,     0.57758,     0.57858,     0.57958,     0.58058,     0.58158,     0.58258,     0.58358,     0.58458,     0.58559,     0.58659,     0.58759,     0.58859,     0.58959,     0.59059,     0.59159,     0.59259,     0.59359,     0.59459,      0.5956,      0.5966,      0.5976,      0.5986,      0.5996,\n",
            "            0.6006,      0.6016,      0.6026,      0.6036,      0.6046,     0.60561,     0.60661,     0.60761,     0.60861,     0.60961,     0.61061,     0.61161,     0.61261,     0.61361,     0.61461,     0.61562,     0.61662,     0.61762,     0.61862,     0.61962,     0.62062,     0.62162,     0.62262,     0.62362,\n",
            "           0.62462,     0.62563,     0.62663,     0.62763,     0.62863,     0.62963,     0.63063,     0.63163,     0.63263,     0.63363,     0.63463,     0.63564,     0.63664,     0.63764,     0.63864,     0.63964,     0.64064,     0.64164,     0.64264,     0.64364,     0.64464,     0.64565,     0.64665,     0.64765,\n",
            "           0.64865,     0.64965,     0.65065,     0.65165,     0.65265,     0.65365,     0.65465,     0.65566,     0.65666,     0.65766,     0.65866,     0.65966,     0.66066,     0.66166,     0.66266,     0.66366,     0.66466,     0.66567,     0.66667,     0.66767,     0.66867,     0.66967,     0.67067,     0.67167,\n",
            "           0.67267,     0.67367,     0.67467,     0.67568,     0.67668,     0.67768,     0.67868,     0.67968,     0.68068,     0.68168,     0.68268,     0.68368,     0.68468,     0.68569,     0.68669,     0.68769,     0.68869,     0.68969,     0.69069,     0.69169,     0.69269,     0.69369,     0.69469,      0.6957,\n",
            "            0.6967,      0.6977,      0.6987,      0.6997,      0.7007,      0.7017,      0.7027,      0.7037,      0.7047,     0.70571,     0.70671,     0.70771,     0.70871,     0.70971,     0.71071,     0.71171,     0.71271,     0.71371,     0.71471,     0.71572,     0.71672,     0.71772,     0.71872,     0.71972,\n",
            "           0.72072,     0.72172,     0.72272,     0.72372,     0.72472,     0.72573,     0.72673,     0.72773,     0.72873,     0.72973,     0.73073,     0.73173,     0.73273,     0.73373,     0.73473,     0.73574,     0.73674,     0.73774,     0.73874,     0.73974,     0.74074,     0.74174,     0.74274,     0.74374,\n",
            "           0.74474,     0.74575,     0.74675,     0.74775,     0.74875,     0.74975,     0.75075,     0.75175,     0.75275,     0.75375,     0.75475,     0.75576,     0.75676,     0.75776,     0.75876,     0.75976,     0.76076,     0.76176,     0.76276,     0.76376,     0.76476,     0.76577,     0.76677,     0.76777,\n",
            "           0.76877,     0.76977,     0.77077,     0.77177,     0.77277,     0.77377,     0.77477,     0.77578,     0.77678,     0.77778,     0.77878,     0.77978,     0.78078,     0.78178,     0.78278,     0.78378,     0.78478,     0.78579,     0.78679,     0.78779,     0.78879,     0.78979,     0.79079,     0.79179,\n",
            "           0.79279,     0.79379,     0.79479,      0.7958,      0.7968,      0.7978,      0.7988,      0.7998,      0.8008,      0.8018,      0.8028,      0.8038,      0.8048,     0.80581,     0.80681,     0.80781,     0.80881,     0.80981,     0.81081,     0.81181,     0.81281,     0.81381,     0.81481,     0.81582,\n",
            "           0.81682,     0.81782,     0.81882,     0.81982,     0.82082,     0.82182,     0.82282,     0.82382,     0.82482,     0.82583,     0.82683,     0.82783,     0.82883,     0.82983,     0.83083,     0.83183,     0.83283,     0.83383,     0.83483,     0.83584,     0.83684,     0.83784,     0.83884,     0.83984,\n",
            "           0.84084,     0.84184,     0.84284,     0.84384,     0.84484,     0.84585,     0.84685,     0.84785,     0.84885,     0.84985,     0.85085,     0.85185,     0.85285,     0.85385,     0.85485,     0.85586,     0.85686,     0.85786,     0.85886,     0.85986,     0.86086,     0.86186,     0.86286,     0.86386,\n",
            "           0.86486,     0.86587,     0.86687,     0.86787,     0.86887,     0.86987,     0.87087,     0.87187,     0.87287,     0.87387,     0.87487,     0.87588,     0.87688,     0.87788,     0.87888,     0.87988,     0.88088,     0.88188,     0.88288,     0.88388,     0.88488,     0.88589,     0.88689,     0.88789,\n",
            "           0.88889,     0.88989,     0.89089,     0.89189,     0.89289,     0.89389,     0.89489,      0.8959,      0.8969,      0.8979,      0.8989,      0.8999,      0.9009,      0.9019,      0.9029,      0.9039,      0.9049,     0.90591,     0.90691,     0.90791,     0.90891,     0.90991,     0.91091,     0.91191,\n",
            "           0.91291,     0.91391,     0.91491,     0.91592,     0.91692,     0.91792,     0.91892,     0.91992,     0.92092,     0.92192,     0.92292,     0.92392,     0.92492,     0.92593,     0.92693,     0.92793,     0.92893,     0.92993,     0.93093,     0.93193,     0.93293,     0.93393,     0.93493,     0.93594,\n",
            "           0.93694,     0.93794,     0.93894,     0.93994,     0.94094,     0.94194,     0.94294,     0.94394,     0.94494,     0.94595,     0.94695,     0.94795,     0.94895,     0.94995,     0.95095,     0.95195,     0.95295,     0.95395,     0.95495,     0.95596,     0.95696,     0.95796,     0.95896,     0.95996,\n",
            "           0.96096,     0.96196,     0.96296,     0.96396,     0.96496,     0.96597,     0.96697,     0.96797,     0.96897,     0.96997,     0.97097,     0.97197,     0.97297,     0.97397,     0.97497,     0.97598,     0.97698,     0.97798,     0.97898,     0.97998,     0.98098,     0.98198,     0.98298,     0.98398,\n",
            "           0.98498,     0.98599,     0.98699,     0.98799,     0.98899,     0.98999,     0.99099,     0.99199,     0.99299,     0.99399,     0.99499,       0.996,       0.997,       0.998,       0.999,           1]), array([[    0.99351,     0.99351,     0.99351,     0.99351,     0.99351,     0.98701,     0.98052,     0.98052,     0.98052,     0.98052,     0.98052,     0.98052,     0.97403,     0.97403,     0.96104,     0.96104,     0.96104,     0.96104,     0.96104,     0.96104,     0.96104,     0.96104,     0.95455,\n",
            "            0.95455,     0.95455,     0.95455,     0.95455,     0.95455,     0.94805,     0.94805,     0.94156,     0.94156,     0.94156,     0.94156,     0.94156,     0.93506,     0.93506,     0.93506,     0.93506,     0.93506,     0.93506,     0.93506,     0.93506,     0.93506,     0.93506,     0.93506,\n",
            "            0.93506,     0.93506,     0.93506,     0.93506,     0.93506,     0.93506,     0.93506,     0.93506,      0.9308,     0.92857,     0.92857,     0.92857,     0.92857,     0.92857,     0.92857,     0.92857,     0.92857,     0.92857,     0.92857,     0.92857,     0.92857,     0.92857,     0.92857,\n",
            "            0.92857,     0.92857,     0.92857,     0.92857,     0.92857,     0.92857,     0.92857,     0.92857,     0.92857,     0.92857,     0.92857,     0.92857,     0.92857,     0.92857,     0.92857,     0.92857,     0.92857,     0.92857,     0.92857,     0.92857,     0.92857,     0.92857,     0.92208,\n",
            "            0.91648,     0.91558,     0.91558,     0.90909,     0.90909,     0.90909,     0.90909,     0.90909,     0.90909,     0.90909,     0.90909,     0.90909,     0.90909,     0.90909,     0.90909,     0.90909,     0.90909,     0.90909,     0.90909,     0.90909,     0.90909,     0.90909,     0.90723,\n",
            "            0.90531,     0.90338,      0.9026,      0.9026,      0.9026,      0.9026,      0.9026,      0.9026,      0.9026,      0.9026,      0.9026,      0.9026,      0.9026,     0.89622,      0.8961,     0.89167,     0.88961,     0.88961,     0.88961,     0.88961,     0.88961,     0.88961,     0.88961,\n",
            "            0.88961,     0.88961,     0.88961,     0.88961,     0.88961,     0.88961,      0.8885,     0.88648,     0.88447,     0.88312,     0.88312,     0.88312,     0.88312,     0.88312,     0.88312,     0.88312,     0.88136,     0.87662,     0.87662,     0.87662,     0.87662,     0.87662,     0.87527,\n",
            "            0.87385,     0.87243,     0.87101,     0.87013,     0.87013,     0.87013,     0.87013,     0.87013,     0.87013,     0.86411,     0.86364,     0.86364,     0.86364,     0.86364,     0.86364,     0.86364,     0.86364,     0.86364,     0.86364,     0.85714,     0.85714,     0.85714,     0.85714,\n",
            "            0.85714,     0.85714,     0.85714,     0.85714,     0.85714,     0.85714,     0.85714,     0.85714,     0.85714,     0.85714,     0.85065,     0.85065,     0.85065,     0.85065,     0.85065,     0.85065,     0.85065,      0.8501,     0.84917,     0.84825,     0.84732,     0.84639,     0.84547,\n",
            "            0.84454,     0.84416,     0.84416,     0.84416,     0.84416,     0.84416,     0.84416,     0.84416,     0.84416,     0.84416,     0.84416,     0.84416,     0.84416,     0.84416,     0.84416,     0.84416,     0.84416,     0.84062,     0.83766,     0.83766,     0.83766,     0.83766,     0.83766,\n",
            "            0.83766,     0.83766,     0.83766,     0.83766,     0.83766,     0.83766,     0.83766,     0.83766,     0.83766,     0.83766,     0.83766,     0.83766,     0.83766,     0.83766,     0.83766,     0.83766,     0.83766,     0.83766,     0.83766,     0.83766,     0.83766,     0.83745,     0.83678,\n",
            "            0.83611,     0.83545,     0.83478,     0.83411,     0.83345,     0.83278,     0.83211,     0.83144,     0.83117,     0.83117,     0.83117,     0.83117,     0.83117,     0.83117,     0.83098,     0.82883,     0.82667,     0.82463,       0.824,     0.82337,     0.82274,      0.8221,     0.82147,\n",
            "            0.82084,     0.82021,     0.81958,     0.81895,     0.81832,     0.81818,     0.81818,     0.81818,     0.81818,     0.81818,     0.81818,     0.81818,     0.81818,     0.81818,     0.81169,     0.81169,     0.81169,     0.81169,     0.81169,     0.81148,     0.80942,     0.80736,     0.80531,\n",
            "            0.80438,     0.80352,     0.80266,     0.80179,     0.80093,     0.80007,     0.79921,     0.79474,     0.79221,     0.79221,     0.79221,     0.79221,     0.79221,     0.79221,     0.79221,     0.79221,     0.79221,     0.79221,     0.79221,     0.79221,     0.79221,     0.79221,     0.79221,\n",
            "            0.79221,     0.79221,     0.79193,     0.79068,     0.78942,     0.78816,     0.78691,     0.78571,     0.78571,     0.78571,     0.78571,     0.78571,     0.78571,     0.78571,     0.78571,     0.78571,     0.78571,     0.78571,     0.78571,     0.78571,     0.78517,       0.783,     0.78083,\n",
            "            0.77595,     0.76623,     0.76623,     0.76435,     0.76199,     0.75952,     0.75473,     0.75125,     0.74836,     0.74567,     0.74323,     0.74079,     0.74026,     0.74026,     0.74026,     0.74026,     0.74026,     0.74026,     0.74026,     0.74026,     0.74026,     0.74026,     0.74026,\n",
            "            0.74026,     0.74026,     0.74026,     0.74026,     0.74026,     0.74026,     0.74026,     0.74026,     0.74026,     0.74026,     0.74026,     0.74026,     0.74026,     0.74026,      0.7346,     0.73165,     0.72923,     0.72727,     0.72727,     0.72727,     0.72727,     0.72727,     0.72727,\n",
            "            0.72727,     0.72727,     0.72727,     0.72727,     0.72727,     0.72727,     0.72727,     0.72727,     0.72411,     0.72008,     0.71866,     0.71723,      0.7158,     0.71438,     0.71303,     0.71047,     0.70791,     0.70387,     0.69872,      0.6944,      0.6886,     0.68831,     0.68831,\n",
            "            0.68831,     0.68831,     0.68831,     0.68831,     0.68831,     0.68831,     0.68831,     0.68831,     0.68036,     0.67801,     0.67567,     0.67532,     0.67532,     0.67532,     0.67532,     0.67532,     0.67532,     0.67532,     0.67532,      0.6745,     0.67297,     0.67145,     0.66992,\n",
            "            0.66883,     0.66883,     0.66883,     0.66883,     0.66776,     0.66445,     0.66188,      0.6606,     0.65932,     0.65804,     0.65676,     0.65546,     0.65411,     0.65275,      0.6514,     0.65005,      0.6426,     0.63636,     0.63636,     0.63636,     0.63636,     0.63544,     0.63433,\n",
            "            0.63323,     0.63213,     0.63103,     0.62993,       0.623,     0.62112,     0.61924,     0.61736,     0.61207,     0.60957,     0.60846,     0.60735,     0.60624,     0.60513,     0.60403,      0.6039,      0.6039,      0.6039,      0.6039,      0.6039,      0.6039,      0.6039,      0.6039,\n",
            "            0.60347,     0.60255,     0.60163,     0.60071,     0.59979,     0.59886,     0.59794,     0.59061,     0.58917,     0.58773,     0.58629,     0.58485,     0.57241,     0.57143,     0.57143,     0.57143,     0.57143,     0.57143,     0.57143,     0.57082,     0.56976,     0.56869,     0.56763,\n",
            "            0.56656,      0.5655,     0.55844,     0.55844,     0.55844,     0.55844,     0.55844,     0.55844,     0.55844,     0.55844,     0.55844,     0.55296,     0.55004,     0.54793,     0.54581,     0.54545,     0.54545,     0.54545,     0.54496,     0.54106,     0.53774,     0.53508,     0.53245,\n",
            "            0.53113,     0.52981,     0.52849,     0.52717,     0.52586,     0.52463,      0.5234,     0.52217,     0.52094,     0.51971,     0.51788,     0.51591,     0.51394,     0.50649,     0.50649,     0.50649,     0.50649,     0.50649,     0.50649,     0.50649,     0.50649,     0.50649,     0.50649,\n",
            "            0.50649,     0.50649,     0.50508,     0.50102,     0.49952,     0.49888,     0.49824,      0.4976,     0.49696,     0.49632,     0.49568,     0.49504,      0.4944,     0.49376,     0.49275,     0.49151,     0.49026,     0.48902,     0.48778,     0.48629,     0.48442,     0.48255,     0.48068,\n",
            "            0.47808,      0.4754,     0.47403,     0.47403,     0.47355,     0.47109,     0.46864,     0.46542,     0.46155,     0.45349,     0.45146,     0.44943,     0.44142,     0.44073,     0.44004,     0.43934,     0.43865,     0.43796,     0.43727,     0.43658,     0.43589,     0.43519,     0.43506,\n",
            "            0.43506,     0.43506,     0.43506,     0.43506,     0.43405,      0.4328,     0.43154,     0.43029,     0.42903,     0.42716,     0.42492,     0.42268,     0.42038,     0.41806,     0.41574,      0.4149,     0.41416,     0.41343,     0.41269,     0.41196,     0.41122,     0.41049,     0.40975,\n",
            "            0.40909,     0.40909,     0.40909,     0.40909,     0.40909,     0.40909,     0.40909,     0.40909,     0.40909,     0.40909,     0.40909,     0.40909,     0.40909,     0.40909,     0.40909,     0.40708,     0.40387,     0.40133,     0.39924,     0.39714,     0.39559,     0.39458,     0.39357,\n",
            "            0.39256,     0.39154,     0.39053,     0.38961,     0.38961,     0.38961,     0.38961,     0.38961,     0.38961,     0.38961,     0.38961,     0.38961,     0.38961,     0.38961,     0.38961,     0.38851,     0.38673,     0.38496,     0.38319,     0.37651,     0.37602,     0.37552,     0.37503,\n",
            "            0.37454,     0.37405,     0.37355,     0.37306,     0.37257,     0.37207,     0.37158,     0.37109,      0.3706,     0.36979,     0.36364,     0.36364,     0.36203,     0.36003,     0.35803,     0.35686,     0.35635,     0.35584,     0.35533,     0.35482,     0.35431,     0.35381,      0.3533,\n",
            "            0.35279,     0.35228,     0.35177,     0.35126,     0.35075,     0.34437,     0.33954,     0.33665,     0.33528,     0.33391,     0.33255,     0.33118,      0.3302,     0.32922,     0.32825,     0.32727,     0.32629,     0.32532,     0.32468,     0.32329,     0.31818,     0.31818,     0.31818,\n",
            "            0.31818,     0.31818,     0.31818,     0.31818,     0.31818,     0.31818,     0.31818,     0.31818,     0.31818,     0.31818,     0.31818,     0.31818,     0.31818,     0.31818,     0.31818,     0.31818,     0.31818,     0.31818,     0.31818,     0.31818,     0.31818,     0.31818,     0.31818,\n",
            "            0.31779,     0.31672,     0.31566,     0.31459,     0.31352,     0.31246,     0.30945,     0.30485,     0.30413,      0.3034,     0.30267,     0.30194,     0.30122,     0.30049,     0.29976,     0.29903,     0.29809,     0.29695,     0.29582,     0.29469,     0.29356,     0.29242,     0.28631,\n",
            "            0.28488,     0.28396,     0.28305,     0.28213,     0.28122,     0.28031,     0.27939,     0.27123,     0.26916,     0.26709,     0.26501,     0.26292,     0.26082,     0.25603,     0.25325,     0.25325,     0.25325,     0.25325,     0.25325,     0.25325,     0.25325,     0.25325,     0.25325,\n",
            "            0.25325,     0.25325,     0.25325,     0.25325,     0.25325,     0.25325,     0.25325,     0.25325,     0.25325,     0.25325,     0.25325,     0.25325,     0.25325,     0.25325,     0.25325,     0.25325,     0.25321,      0.2523,     0.25139,     0.25047,     0.24956,     0.24865,     0.24774,\n",
            "            0.24683,     0.24631,     0.24583,     0.24534,     0.24486,     0.24438,      0.2439,     0.24341,     0.24293,     0.24245,     0.24197,     0.24148,       0.241,     0.24052,     0.23313,      0.2232,     0.22012,      0.2188,     0.21749,     0.21617,     0.21485,     0.21282,     0.21026,\n",
            "            0.20775,     0.20685,     0.20594,     0.20503,     0.20412,     0.20321,      0.2023,     0.20139,     0.19581,     0.19194,     0.18851,     0.18617,      0.1839,      0.1817,     0.18025,      0.1788,     0.17735,      0.1759,     0.17003,     0.16485,     0.16175,     0.16047,     0.15918,\n",
            "             0.1579,     0.15662,     0.15261,     0.14694,     0.14293,     0.13509,      0.1322,     0.12936,     0.12675,     0.12414,     0.12302,     0.12252,     0.12202,     0.12152,     0.12102,     0.12052,     0.12002,     0.11951,     0.11901,     0.11851,     0.11801,     0.11751,     0.11701,\n",
            "            0.11608,     0.11502,     0.11395,     0.11288,     0.11182,     0.11075,     0.10603,    0.099395,    0.094991,    0.091552,    0.089614,    0.088021,    0.086428,    0.084835,    0.082949,    0.080957,    0.078965,     0.07485,    0.064478,    0.063396,    0.062314,    0.061232,    0.060149,\n",
            "           0.059067,    0.051814,    0.050711,    0.049607,    0.048504,      0.0474,    0.046297,    0.045165,    0.043944,    0.042723,    0.041502,     0.04028,    0.039059,    0.037611,    0.036143,    0.034675,    0.033207,    0.032004,     0.03107,    0.030135,    0.029201,    0.028267,    0.027333,\n",
            "           0.026398,    0.024932,    0.023024,    0.021116,    0.018736,    0.013532,    0.012513,    0.011983,    0.011453,    0.010924,    0.010394,   0.0098643,   0.0093346,   0.0088049,   0.0082753,   0.0077456,   0.0072159,   0.0066862,           0,           0,           0,           0,           0,\n",
            "                  0,           0,           0,           0,           0,           0,           0,           0,           0,           0,           0,           0,           0,           0,           0,           0,           0,           0,           0,           0,           0,           0,           0,\n",
            "                  0,           0,           0,           0,           0,           0,           0,           0,           0,           0,           0,           0,           0,           0,           0,           0,           0,           0,           0,           0,           0,           0,           0,\n",
            "                  0,           0,           0,           0,           0,           0,           0,           0,           0,           0,           0]]), 'Confidence', 'Recall']]\n",
            "fitness: np.float64(0.8253855935010272)\n",
            "keys: ['metrics/precision(B)', 'metrics/recall(B)', 'metrics/mAP50(B)', 'metrics/mAP50-95(B)', 'metrics/precision(M)', 'metrics/recall(M)', 'metrics/mAP50(M)', 'metrics/mAP50-95(M)']\n",
            "maps: array([    0.73956])\n",
            "names: {0: 'tree'}\n",
            "plot: True\n",
            "results_dict: {'metrics/precision(B)': np.float64(0.7192146601716353), 'metrics/recall(B)': np.float64(0.7792207792207793), 'metrics/mAP50(B)': np.float64(0.7927063093090443), 'metrics/mAP50-95(B)': np.float64(0.38188141562038713), 'metrics/precision(M)': np.float64(0.7081387052830056), 'metrics/recall(M)': np.float64(0.8035171346915615), 'metrics/mAP50(M)': np.float64(0.8051222293963199), 'metrics/mAP50-95(M)': np.float64(0.35767718396904713), 'fitness': np.float64(0.8253855935010272)}\n",
            "save_dir: PosixPath('yolov11_tree_segmentation/exp13')\n",
            "seg: ultralytics.utils.metrics.Metric object\n",
            "speed: {'preprocess': 0.3300274000139325, 'inference': 24.392025399993145, 'loss': 0.0025518000256852247, 'postprocess': 6.306944999960251}\n",
            "task: 'segment'\n",
            "\n",
            "image 1/1 /content/Vadasan_segmentation-2/test/images/chunk_15_jpg.rf.a01fab9918ceba352e30292e52faf62e.jpg: 640x640 50 trees, 19.8ms\n",
            "Speed: 2.7ms preprocess, 19.8ms inference, 21.9ms postprocess per image at shape (1, 3, 640, 640)\n",
            "Results saved to \u001b[1myolov11_tree_segmentation/exp14\u001b[0m\n"
          ]
        }
      ],
      "source": [
        "# Evaluate the trained model\n",
        "metrics = model.val()\n",
        "print(\"Validation Metrics:\", metrics)\n",
        "\n",
        "# Run inference on a test image\n",
        "test_image = \"/content/Vadasan_segmentation-2/test/images/chunk_15_jpg.rf.a01fab9918ceba352e30292e52faf62e.jpg\"  # Update with your test image path\n",
        "results = model(test_image, save=True)"
      ]
    },
    {
      "cell_type": "code",
      "execution_count": null,
      "metadata": {
        "id": "87F-CC6MmnGS"
      },
      "outputs": [],
      "source": []
    }
  ],
  "metadata": {
    "accelerator": "GPU",
    "colab": {
      "gpuType": "T4",
      "provenance": []
    },
    "kernelspec": {
      "display_name": "Python 3",
      "name": "python3"
    },
    "language_info": {
      "name": "python"
    }
  },
  "nbformat": 4,
  "nbformat_minor": 0
}